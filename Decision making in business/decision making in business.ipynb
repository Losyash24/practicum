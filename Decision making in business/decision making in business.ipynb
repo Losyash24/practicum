{
 "cells": [
  {
   "cell_type": "markdown",
   "metadata": {},
   "source": [
    "# Принятие решений в бизнесе"
   ]
  },
  {
   "cell_type": "markdown",
   "metadata": {},
   "source": [
    "## Вступление"
   ]
  },
  {
   "cell_type": "markdown",
   "metadata": {},
   "source": [
    "### Цели и задачи проекта\n",
    "\n",
    "В роли аналитика крупного интернет-магазина необходимо проанализировать подготовленные гипотезы отделом маркетинга, запустить A/B - тесты и проанализировать результат\n",
    "\n",
    "Проект состоит из двух частей. Первая часть посвящена приоретизации гипотез, вторая - анализу A/B теста"
   ]
  },
  {
   "cell_type": "markdown",
   "metadata": {},
   "source": [
    "### План проекта\n",
    "\n",
    "1. Загрузить и изучить данные. \n",
    "2. Подготовить данные к дальнейшему анализу\n",
    "3. Применить фреймворки ICE и RICE для приоритезации гипотез\n",
    "4. Провести анализ A/B-теста"
   ]
  },
  {
   "cell_type": "markdown",
   "metadata": {},
   "source": [
    "### Описание данных\n",
    "\n",
    "В файле /datasets/hypothesis.csv 9 гипотез по увеличению выручки интернет-магазина с указанными параметрами Reach, Impact, Confidence, Effort\n",
    "\n",
    "Описание результатов A/B теста находится в файлах /datasets/orders.csv и /datasets/visitors.csv\n"
   ]
  },
  {
   "cell_type": "markdown",
   "metadata": {},
   "source": [
    "## Часть 1. Приоретизация гипотез"
   ]
  },
  {
   "cell_type": "markdown",
   "metadata": {},
   "source": [
    "### Загрузка и подготовка данных"
   ]
  },
  {
   "cell_type": "code",
   "execution_count": 1,
   "metadata": {},
   "outputs": [],
   "source": [
    "import pandas as pd\n",
    "import datetime as dt\n",
    "import numpy as np\n",
    "import matplotlib.pyplot as plt\n",
    "import scipy.stats as stats\n",
    "\n",
    "from pandas.plotting import register_matplotlib_converters\n",
    "import warnings\n",
    "# конвертеры, которые позволяют использовать типы pandas в matplotlib  \n",
    "register_matplotlib_converters()"
   ]
  },
  {
   "cell_type": "code",
   "execution_count": 2,
   "metadata": {},
   "outputs": [],
   "source": [
    "data = pd.read_csv('/datasets/hypothesis.csv', sep=',')"
   ]
  },
  {
   "cell_type": "code",
   "execution_count": 3,
   "metadata": {},
   "outputs": [
    {
     "name": "stdout",
     "output_type": "stream",
     "text": [
      "<class 'pandas.core.frame.DataFrame'>\n",
      "RangeIndex: 9 entries, 0 to 8\n",
      "Data columns (total 5 columns):\n",
      " #   Column      Non-Null Count  Dtype \n",
      "---  ------      --------------  ----- \n",
      " 0   Hypothesis  9 non-null      object\n",
      " 1   Reach       9 non-null      int64 \n",
      " 2   Impact      9 non-null      int64 \n",
      " 3   Confidence  9 non-null      int64 \n",
      " 4   Efforts     9 non-null      int64 \n",
      "dtypes: int64(4), object(1)\n",
      "memory usage: 488.0+ bytes\n"
     ]
    },
    {
     "data": {
      "text/html": [
       "<div>\n",
       "<style scoped>\n",
       "    .dataframe tbody tr th:only-of-type {\n",
       "        vertical-align: middle;\n",
       "    }\n",
       "\n",
       "    .dataframe tbody tr th {\n",
       "        vertical-align: top;\n",
       "    }\n",
       "\n",
       "    .dataframe thead th {\n",
       "        text-align: right;\n",
       "    }\n",
       "</style>\n",
       "<table border=\"1\" class=\"dataframe\">\n",
       "  <thead>\n",
       "    <tr style=\"text-align: right;\">\n",
       "      <th></th>\n",
       "      <th>Hypothesis</th>\n",
       "      <th>Reach</th>\n",
       "      <th>Impact</th>\n",
       "      <th>Confidence</th>\n",
       "      <th>Efforts</th>\n",
       "    </tr>\n",
       "  </thead>\n",
       "  <tbody>\n",
       "    <tr>\n",
       "      <th>0</th>\n",
       "      <td>Добавить два новых канала привлечения трафика, что позволит привлекать на 30% больше пользователей</td>\n",
       "      <td>3</td>\n",
       "      <td>10</td>\n",
       "      <td>8</td>\n",
       "      <td>6</td>\n",
       "    </tr>\n",
       "    <tr>\n",
       "      <th>1</th>\n",
       "      <td>Запустить собственную службу доставки, что сократит срок доставки заказов</td>\n",
       "      <td>2</td>\n",
       "      <td>5</td>\n",
       "      <td>4</td>\n",
       "      <td>10</td>\n",
       "    </tr>\n",
       "    <tr>\n",
       "      <th>2</th>\n",
       "      <td>Добавить блоки рекомендаций товаров на сайт интернет магазина, чтобы повысить конверсию и средний чек заказа</td>\n",
       "      <td>8</td>\n",
       "      <td>3</td>\n",
       "      <td>7</td>\n",
       "      <td>3</td>\n",
       "    </tr>\n",
       "    <tr>\n",
       "      <th>3</th>\n",
       "      <td>Изменить структура категорий, что увеличит конверсию, т.к. пользователи быстрее найдут нужный товар</td>\n",
       "      <td>8</td>\n",
       "      <td>3</td>\n",
       "      <td>3</td>\n",
       "      <td>8</td>\n",
       "    </tr>\n",
       "    <tr>\n",
       "      <th>4</th>\n",
       "      <td>Изменить цвет фона главной страницы, чтобы увеличить вовлеченность пользователей</td>\n",
       "      <td>3</td>\n",
       "      <td>1</td>\n",
       "      <td>1</td>\n",
       "      <td>1</td>\n",
       "    </tr>\n",
       "    <tr>\n",
       "      <th>5</th>\n",
       "      <td>Добавить страницу отзывов клиентов о магазине, что позволит увеличить количество заказов</td>\n",
       "      <td>3</td>\n",
       "      <td>2</td>\n",
       "      <td>2</td>\n",
       "      <td>3</td>\n",
       "    </tr>\n",
       "    <tr>\n",
       "      <th>6</th>\n",
       "      <td>Показать на главной странице баннеры с актуальными акциями и распродажами, чтобы увеличить конверсию</td>\n",
       "      <td>5</td>\n",
       "      <td>3</td>\n",
       "      <td>8</td>\n",
       "      <td>3</td>\n",
       "    </tr>\n",
       "    <tr>\n",
       "      <th>7</th>\n",
       "      <td>Добавить форму подписки на все основные страницы, чтобы собрать базу клиентов для email-рассылок</td>\n",
       "      <td>10</td>\n",
       "      <td>7</td>\n",
       "      <td>8</td>\n",
       "      <td>5</td>\n",
       "    </tr>\n",
       "    <tr>\n",
       "      <th>8</th>\n",
       "      <td>Запустить акцию, дающую скидку на товар в день рождения</td>\n",
       "      <td>1</td>\n",
       "      <td>9</td>\n",
       "      <td>9</td>\n",
       "      <td>5</td>\n",
       "    </tr>\n",
       "  </tbody>\n",
       "</table>\n",
       "</div>"
      ],
      "text/plain": [
       "                                                                                                     Hypothesis  \\\n",
       "0  Добавить два новых канала привлечения трафика, что позволит привлекать на 30% больше пользователей             \n",
       "1  Запустить собственную службу доставки, что сократит срок доставки заказов                                      \n",
       "2  Добавить блоки рекомендаций товаров на сайт интернет магазина, чтобы повысить конверсию и средний чек заказа   \n",
       "3  Изменить структура категорий, что увеличит конверсию, т.к. пользователи быстрее найдут нужный товар            \n",
       "4  Изменить цвет фона главной страницы, чтобы увеличить вовлеченность пользователей                               \n",
       "5  Добавить страницу отзывов клиентов о магазине, что позволит увеличить количество заказов                       \n",
       "6  Показать на главной странице баннеры с актуальными акциями и распродажами, чтобы увеличить конверсию           \n",
       "7  Добавить форму подписки на все основные страницы, чтобы собрать базу клиентов для email-рассылок               \n",
       "8  Запустить акцию, дающую скидку на товар в день рождения                                                        \n",
       "\n",
       "   Reach  Impact  Confidence  Efforts  \n",
       "0  3      10      8           6        \n",
       "1  2      5       4           10       \n",
       "2  8      3       7           3        \n",
       "3  8      3       3           8        \n",
       "4  3      1       1           1        \n",
       "5  3      2       2           3        \n",
       "6  5      3       8           3        \n",
       "7  10     7       8           5        \n",
       "8  1      9       9           5        "
      ]
     },
     "execution_count": 3,
     "metadata": {},
     "output_type": "execute_result"
    }
   ],
   "source": [
    "data.info()\n",
    "pd.set_option('display.max_colwidth', 0)\n",
    "\n",
    "data"
   ]
  },
  {
   "cell_type": "markdown",
   "metadata": {},
   "source": [
    "### Применение фреймворка ICE"
   ]
  },
  {
   "cell_type": "code",
   "execution_count": 4,
   "metadata": {},
   "outputs": [
    {
     "data": {
      "text/html": [
       "<div>\n",
       "<style scoped>\n",
       "    .dataframe tbody tr th:only-of-type {\n",
       "        vertical-align: middle;\n",
       "    }\n",
       "\n",
       "    .dataframe tbody tr th {\n",
       "        vertical-align: top;\n",
       "    }\n",
       "\n",
       "    .dataframe thead th {\n",
       "        text-align: right;\n",
       "    }\n",
       "</style>\n",
       "<table border=\"1\" class=\"dataframe\">\n",
       "  <thead>\n",
       "    <tr style=\"text-align: right;\">\n",
       "      <th></th>\n",
       "      <th>Hypothesis</th>\n",
       "      <th>ICE</th>\n",
       "    </tr>\n",
       "  </thead>\n",
       "  <tbody>\n",
       "    <tr>\n",
       "      <th>8</th>\n",
       "      <td>Запустить акцию, дающую скидку на товар в день рождения</td>\n",
       "      <td>16.200000</td>\n",
       "    </tr>\n",
       "    <tr>\n",
       "      <th>0</th>\n",
       "      <td>Добавить два новых канала привлечения трафика, что позволит привлекать на 30% больше пользователей</td>\n",
       "      <td>13.333333</td>\n",
       "    </tr>\n",
       "    <tr>\n",
       "      <th>7</th>\n",
       "      <td>Добавить форму подписки на все основные страницы, чтобы собрать базу клиентов для email-рассылок</td>\n",
       "      <td>11.200000</td>\n",
       "    </tr>\n",
       "    <tr>\n",
       "      <th>6</th>\n",
       "      <td>Показать на главной странице баннеры с актуальными акциями и распродажами, чтобы увеличить конверсию</td>\n",
       "      <td>8.000000</td>\n",
       "    </tr>\n",
       "    <tr>\n",
       "      <th>2</th>\n",
       "      <td>Добавить блоки рекомендаций товаров на сайт интернет магазина, чтобы повысить конверсию и средний чек заказа</td>\n",
       "      <td>7.000000</td>\n",
       "    </tr>\n",
       "    <tr>\n",
       "      <th>1</th>\n",
       "      <td>Запустить собственную службу доставки, что сократит срок доставки заказов</td>\n",
       "      <td>2.000000</td>\n",
       "    </tr>\n",
       "    <tr>\n",
       "      <th>5</th>\n",
       "      <td>Добавить страницу отзывов клиентов о магазине, что позволит увеличить количество заказов</td>\n",
       "      <td>1.333333</td>\n",
       "    </tr>\n",
       "    <tr>\n",
       "      <th>3</th>\n",
       "      <td>Изменить структура категорий, что увеличит конверсию, т.к. пользователи быстрее найдут нужный товар</td>\n",
       "      <td>1.125000</td>\n",
       "    </tr>\n",
       "    <tr>\n",
       "      <th>4</th>\n",
       "      <td>Изменить цвет фона главной страницы, чтобы увеличить вовлеченность пользователей</td>\n",
       "      <td>1.000000</td>\n",
       "    </tr>\n",
       "  </tbody>\n",
       "</table>\n",
       "</div>"
      ],
      "text/plain": [
       "                                                                                                     Hypothesis  \\\n",
       "8  Запустить акцию, дающую скидку на товар в день рождения                                                        \n",
       "0  Добавить два новых канала привлечения трафика, что позволит привлекать на 30% больше пользователей             \n",
       "7  Добавить форму подписки на все основные страницы, чтобы собрать базу клиентов для email-рассылок               \n",
       "6  Показать на главной странице баннеры с актуальными акциями и распродажами, чтобы увеличить конверсию           \n",
       "2  Добавить блоки рекомендаций товаров на сайт интернет магазина, чтобы повысить конверсию и средний чек заказа   \n",
       "1  Запустить собственную службу доставки, что сократит срок доставки заказов                                      \n",
       "5  Добавить страницу отзывов клиентов о магазине, что позволит увеличить количество заказов                       \n",
       "3  Изменить структура категорий, что увеличит конверсию, т.к. пользователи быстрее найдут нужный товар            \n",
       "4  Изменить цвет фона главной страницы, чтобы увеличить вовлеченность пользователей                               \n",
       "\n",
       "         ICE  \n",
       "8  16.200000  \n",
       "0  13.333333  \n",
       "7  11.200000  \n",
       "6  8.000000   \n",
       "2  7.000000   \n",
       "1  2.000000   \n",
       "5  1.333333   \n",
       "3  1.125000   \n",
       "4  1.000000   "
      ]
     },
     "execution_count": 4,
     "metadata": {},
     "output_type": "execute_result"
    }
   ],
   "source": [
    "data['ICE'] = (data['Impact']* data['Confidence'])/data['Efforts']\n",
    "data[['Hypothesis', 'ICE']].sort_values(by='ICE', ascending=False)"
   ]
  },
  {
   "cell_type": "markdown",
   "metadata": {},
   "source": [
    "### Применение фрейворка RICE"
   ]
  },
  {
   "cell_type": "code",
   "execution_count": 5,
   "metadata": {
    "scrolled": true
   },
   "outputs": [
    {
     "data": {
      "text/html": [
       "<div>\n",
       "<style scoped>\n",
       "    .dataframe tbody tr th:only-of-type {\n",
       "        vertical-align: middle;\n",
       "    }\n",
       "\n",
       "    .dataframe tbody tr th {\n",
       "        vertical-align: top;\n",
       "    }\n",
       "\n",
       "    .dataframe thead th {\n",
       "        text-align: right;\n",
       "    }\n",
       "</style>\n",
       "<table border=\"1\" class=\"dataframe\">\n",
       "  <thead>\n",
       "    <tr style=\"text-align: right;\">\n",
       "      <th></th>\n",
       "      <th>Hypothesis</th>\n",
       "      <th>RICE</th>\n",
       "    </tr>\n",
       "  </thead>\n",
       "  <tbody>\n",
       "    <tr>\n",
       "      <th>7</th>\n",
       "      <td>Добавить форму подписки на все основные страницы, чтобы собрать базу клиентов для email-рассылок</td>\n",
       "      <td>112.0</td>\n",
       "    </tr>\n",
       "    <tr>\n",
       "      <th>2</th>\n",
       "      <td>Добавить блоки рекомендаций товаров на сайт интернет магазина, чтобы повысить конверсию и средний чек заказа</td>\n",
       "      <td>56.0</td>\n",
       "    </tr>\n",
       "    <tr>\n",
       "      <th>0</th>\n",
       "      <td>Добавить два новых канала привлечения трафика, что позволит привлекать на 30% больше пользователей</td>\n",
       "      <td>40.0</td>\n",
       "    </tr>\n",
       "    <tr>\n",
       "      <th>6</th>\n",
       "      <td>Показать на главной странице баннеры с актуальными акциями и распродажами, чтобы увеличить конверсию</td>\n",
       "      <td>40.0</td>\n",
       "    </tr>\n",
       "    <tr>\n",
       "      <th>8</th>\n",
       "      <td>Запустить акцию, дающую скидку на товар в день рождения</td>\n",
       "      <td>16.2</td>\n",
       "    </tr>\n",
       "    <tr>\n",
       "      <th>3</th>\n",
       "      <td>Изменить структура категорий, что увеличит конверсию, т.к. пользователи быстрее найдут нужный товар</td>\n",
       "      <td>9.0</td>\n",
       "    </tr>\n",
       "    <tr>\n",
       "      <th>1</th>\n",
       "      <td>Запустить собственную службу доставки, что сократит срок доставки заказов</td>\n",
       "      <td>4.0</td>\n",
       "    </tr>\n",
       "    <tr>\n",
       "      <th>5</th>\n",
       "      <td>Добавить страницу отзывов клиентов о магазине, что позволит увеличить количество заказов</td>\n",
       "      <td>4.0</td>\n",
       "    </tr>\n",
       "    <tr>\n",
       "      <th>4</th>\n",
       "      <td>Изменить цвет фона главной страницы, чтобы увеличить вовлеченность пользователей</td>\n",
       "      <td>3.0</td>\n",
       "    </tr>\n",
       "  </tbody>\n",
       "</table>\n",
       "</div>"
      ],
      "text/plain": [
       "                                                                                                     Hypothesis  \\\n",
       "7  Добавить форму подписки на все основные страницы, чтобы собрать базу клиентов для email-рассылок               \n",
       "2  Добавить блоки рекомендаций товаров на сайт интернет магазина, чтобы повысить конверсию и средний чек заказа   \n",
       "0  Добавить два новых канала привлечения трафика, что позволит привлекать на 30% больше пользователей             \n",
       "6  Показать на главной странице баннеры с актуальными акциями и распродажами, чтобы увеличить конверсию           \n",
       "8  Запустить акцию, дающую скидку на товар в день рождения                                                        \n",
       "3  Изменить структура категорий, что увеличит конверсию, т.к. пользователи быстрее найдут нужный товар            \n",
       "1  Запустить собственную службу доставки, что сократит срок доставки заказов                                      \n",
       "5  Добавить страницу отзывов клиентов о магазине, что позволит увеличить количество заказов                       \n",
       "4  Изменить цвет фона главной страницы, чтобы увеличить вовлеченность пользователей                               \n",
       "\n",
       "    RICE  \n",
       "7  112.0  \n",
       "2  56.0   \n",
       "0  40.0   \n",
       "6  40.0   \n",
       "8  16.2   \n",
       "3  9.0    \n",
       "1  4.0    \n",
       "5  4.0    \n",
       "4  3.0    "
      ]
     },
     "execution_count": 5,
     "metadata": {},
     "output_type": "execute_result"
    }
   ],
   "source": [
    "data['RICE'] = (data['Reach']*data['Impact']* data['Confidence'])/data['Efforts']\n",
    "data[['Hypothesis', 'RICE']].sort_values(by='RICE', ascending=False)"
   ]
  },
  {
   "cell_type": "markdown",
   "metadata": {},
   "source": [
    "### Выводы\n",
    "\n",
    "    \n",
    "Наиболее перспективные гипотезы по ICE: \n",
    "\n",
    "- Запустить акцию, дающую скидку на товар в день рождения\n",
    "- Добавить два новых канала привлечения трафика, что позволит привлекать на 30% больше пользователей\n",
    "- Добавить форму подписки на все основные страницы, чтобы собрать базу клиентов для email-рассылок\t    \n",
    "\n",
    "По RICE с наибольшим значением в отрыв уходит гипотеза \"Добавить форму подписки на все основные страницы, чтобы собрать базу клиентов для email-рассылок\". Так получилось, потому что данная гипотеза обладает наибольшим параметром Reach(охват пользователей) среди остальных\n",
    "\n",
    "Далее идут:\n",
    " \n",
    "- Добавить блоки рекомендаций товаров на сайт интернет магазина, чтобы повысить конверсию и средний чек заказа\t\n",
    "- Добавить два новых канала привлечения трафика, что позволит привлекать на 30% больше пользователей\n",
    "- Показать на главной странице баннеры с актуальными акциями и распродажами, чтобы увеличить конверсию    \n",
    "\n",
    "\n",
    "<br></div>\n",
    "\n",
    "\n"
   ]
  },
  {
   "cell_type": "markdown",
   "metadata": {},
   "source": [
    "## Часть 2. Анализ A/B теста"
   ]
  },
  {
   "cell_type": "markdown",
   "metadata": {},
   "source": [
    "### Загрузка и подготовка данных"
   ]
  },
  {
   "cell_type": "code",
   "execution_count": 6,
   "metadata": {},
   "outputs": [],
   "source": [
    "orders = pd.read_csv('/datasets/orders.csv', sep=',')\n",
    "visitors = pd.read_csv('/datasets/visitors.csv', sep=',')"
   ]
  },
  {
   "cell_type": "code",
   "execution_count": 7,
   "metadata": {},
   "outputs": [
    {
     "name": "stdout",
     "output_type": "stream",
     "text": [
      "<class 'pandas.core.frame.DataFrame'>\n",
      "RangeIndex: 1197 entries, 0 to 1196\n",
      "Data columns (total 5 columns):\n",
      " #   Column         Non-Null Count  Dtype \n",
      "---  ------         --------------  ----- \n",
      " 0   transactionId  1197 non-null   int64 \n",
      " 1   visitorId      1197 non-null   int64 \n",
      " 2   date           1197 non-null   object\n",
      " 3   revenue        1197 non-null   int64 \n",
      " 4   group          1197 non-null   object\n",
      "dtypes: int64(3), object(2)\n",
      "memory usage: 46.9+ KB\n"
     ]
    },
    {
     "data": {
      "text/html": [
       "<div>\n",
       "<style scoped>\n",
       "    .dataframe tbody tr th:only-of-type {\n",
       "        vertical-align: middle;\n",
       "    }\n",
       "\n",
       "    .dataframe tbody tr th {\n",
       "        vertical-align: top;\n",
       "    }\n",
       "\n",
       "    .dataframe thead th {\n",
       "        text-align: right;\n",
       "    }\n",
       "</style>\n",
       "<table border=\"1\" class=\"dataframe\">\n",
       "  <thead>\n",
       "    <tr style=\"text-align: right;\">\n",
       "      <th></th>\n",
       "      <th>transactionId</th>\n",
       "      <th>visitorId</th>\n",
       "      <th>date</th>\n",
       "      <th>revenue</th>\n",
       "      <th>group</th>\n",
       "    </tr>\n",
       "  </thead>\n",
       "  <tbody>\n",
       "    <tr>\n",
       "      <th>0</th>\n",
       "      <td>3667963787</td>\n",
       "      <td>3312258926</td>\n",
       "      <td>2019-08-15</td>\n",
       "      <td>1650</td>\n",
       "      <td>B</td>\n",
       "    </tr>\n",
       "    <tr>\n",
       "      <th>1</th>\n",
       "      <td>2804400009</td>\n",
       "      <td>3642806036</td>\n",
       "      <td>2019-08-15</td>\n",
       "      <td>730</td>\n",
       "      <td>B</td>\n",
       "    </tr>\n",
       "    <tr>\n",
       "      <th>2</th>\n",
       "      <td>2961555356</td>\n",
       "      <td>4069496402</td>\n",
       "      <td>2019-08-15</td>\n",
       "      <td>400</td>\n",
       "      <td>A</td>\n",
       "    </tr>\n",
       "    <tr>\n",
       "      <th>3</th>\n",
       "      <td>3797467345</td>\n",
       "      <td>1196621759</td>\n",
       "      <td>2019-08-15</td>\n",
       "      <td>9759</td>\n",
       "      <td>B</td>\n",
       "    </tr>\n",
       "    <tr>\n",
       "      <th>4</th>\n",
       "      <td>2282983706</td>\n",
       "      <td>2322279887</td>\n",
       "      <td>2019-08-15</td>\n",
       "      <td>2308</td>\n",
       "      <td>B</td>\n",
       "    </tr>\n",
       "  </tbody>\n",
       "</table>\n",
       "</div>"
      ],
      "text/plain": [
       "   transactionId   visitorId        date  revenue group\n",
       "0  3667963787     3312258926  2019-08-15  1650     B   \n",
       "1  2804400009     3642806036  2019-08-15  730      B   \n",
       "2  2961555356     4069496402  2019-08-15  400      A   \n",
       "3  3797467345     1196621759  2019-08-15  9759     B   \n",
       "4  2282983706     2322279887  2019-08-15  2308     B   "
      ]
     },
     "execution_count": 7,
     "metadata": {},
     "output_type": "execute_result"
    }
   ],
   "source": [
    "orders.info()\n",
    "orders.head()"
   ]
  },
  {
   "cell_type": "code",
   "execution_count": 8,
   "metadata": {},
   "outputs": [
    {
     "data": {
      "text/plain": [
       "0"
      ]
     },
     "execution_count": 8,
     "metadata": {},
     "output_type": "execute_result"
    }
   ],
   "source": [
    "orders.duplicated().sum()"
   ]
  },
  {
   "cell_type": "code",
   "execution_count": 9,
   "metadata": {},
   "outputs": [
    {
     "name": "stdout",
     "output_type": "stream",
     "text": [
      "<class 'pandas.core.frame.DataFrame'>\n",
      "RangeIndex: 62 entries, 0 to 61\n",
      "Data columns (total 3 columns):\n",
      " #   Column    Non-Null Count  Dtype \n",
      "---  ------    --------------  ----- \n",
      " 0   date      62 non-null     object\n",
      " 1   group     62 non-null     object\n",
      " 2   visitors  62 non-null     int64 \n",
      "dtypes: int64(1), object(2)\n",
      "memory usage: 1.6+ KB\n"
     ]
    },
    {
     "data": {
      "text/html": [
       "<div>\n",
       "<style scoped>\n",
       "    .dataframe tbody tr th:only-of-type {\n",
       "        vertical-align: middle;\n",
       "    }\n",
       "\n",
       "    .dataframe tbody tr th {\n",
       "        vertical-align: top;\n",
       "    }\n",
       "\n",
       "    .dataframe thead th {\n",
       "        text-align: right;\n",
       "    }\n",
       "</style>\n",
       "<table border=\"1\" class=\"dataframe\">\n",
       "  <thead>\n",
       "    <tr style=\"text-align: right;\">\n",
       "      <th></th>\n",
       "      <th>date</th>\n",
       "      <th>group</th>\n",
       "      <th>visitors</th>\n",
       "    </tr>\n",
       "  </thead>\n",
       "  <tbody>\n",
       "    <tr>\n",
       "      <th>0</th>\n",
       "      <td>2019-08-01</td>\n",
       "      <td>A</td>\n",
       "      <td>719</td>\n",
       "    </tr>\n",
       "    <tr>\n",
       "      <th>1</th>\n",
       "      <td>2019-08-02</td>\n",
       "      <td>A</td>\n",
       "      <td>619</td>\n",
       "    </tr>\n",
       "    <tr>\n",
       "      <th>2</th>\n",
       "      <td>2019-08-03</td>\n",
       "      <td>A</td>\n",
       "      <td>507</td>\n",
       "    </tr>\n",
       "    <tr>\n",
       "      <th>3</th>\n",
       "      <td>2019-08-04</td>\n",
       "      <td>A</td>\n",
       "      <td>717</td>\n",
       "    </tr>\n",
       "    <tr>\n",
       "      <th>4</th>\n",
       "      <td>2019-08-05</td>\n",
       "      <td>A</td>\n",
       "      <td>756</td>\n",
       "    </tr>\n",
       "  </tbody>\n",
       "</table>\n",
       "</div>"
      ],
      "text/plain": [
       "         date group  visitors\n",
       "0  2019-08-01  A     719     \n",
       "1  2019-08-02  A     619     \n",
       "2  2019-08-03  A     507     \n",
       "3  2019-08-04  A     717     \n",
       "4  2019-08-05  A     756     "
      ]
     },
     "execution_count": 9,
     "metadata": {},
     "output_type": "execute_result"
    }
   ],
   "source": [
    "visitors.info()\n",
    "visitors.head()\n"
   ]
  },
  {
   "cell_type": "code",
   "execution_count": 10,
   "metadata": {},
   "outputs": [
    {
     "data": {
      "text/plain": [
       "0"
      ]
     },
     "execution_count": 10,
     "metadata": {},
     "output_type": "execute_result"
    }
   ],
   "source": [
    "visitors.duplicated().sum()"
   ]
  },
  {
   "cell_type": "code",
   "execution_count": 11,
   "metadata": {},
   "outputs": [],
   "source": [
    "orders['date'] = orders['date'].map(\n",
    "    lambda x: dt.datetime.strptime(x, '%Y-%m-%d')\n",
    ")\n",
    "visitors['date'] = visitors['date'].map(\n",
    "    lambda x: dt.datetime.strptime(x, '%Y-%m-%d')\n",
    ")"
   ]
  },
  {
   "cell_type": "code",
   "execution_count": 12,
   "metadata": {},
   "outputs": [
    {
     "data": {
      "text/plain": [
       "1031"
      ]
     },
     "execution_count": 12,
     "metadata": {},
     "output_type": "execute_result"
    }
   ],
   "source": [
    "orders['visitorId'].nunique()"
   ]
  },
  {
   "cell_type": "code",
   "execution_count": 13,
   "metadata": {},
   "outputs": [
    {
     "data": {
      "text/plain": [
       "visitorId    58\n",
       "group        58\n",
       "dtype: int64"
      ]
     },
     "execution_count": 13,
     "metadata": {},
     "output_type": "execute_result"
    }
   ],
   "source": [
    "both_group = orders.groupby('visitorId', as_index=False).agg({'group': 'nunique'})\n",
    "both_group.query('group==2').count()"
   ]
  },
  {
   "cell_type": "code",
   "execution_count": 14,
   "metadata": {},
   "outputs": [
    {
     "data": {
      "text/html": [
       "<div>\n",
       "<style scoped>\n",
       "    .dataframe tbody tr th:only-of-type {\n",
       "        vertical-align: middle;\n",
       "    }\n",
       "\n",
       "    .dataframe tbody tr th {\n",
       "        vertical-align: top;\n",
       "    }\n",
       "\n",
       "    .dataframe thead th {\n",
       "        text-align: right;\n",
       "    }\n",
       "</style>\n",
       "<table border=\"1\" class=\"dataframe\">\n",
       "  <thead>\n",
       "    <tr style=\"text-align: right;\">\n",
       "      <th></th>\n",
       "      <th>date</th>\n",
       "      <th>group</th>\n",
       "      <th>orders</th>\n",
       "      <th>buyers</th>\n",
       "      <th>revenue</th>\n",
       "      <th>visitors</th>\n",
       "    </tr>\n",
       "  </thead>\n",
       "  <tbody>\n",
       "    <tr>\n",
       "      <th>0</th>\n",
       "      <td>2019-08-01</td>\n",
       "      <td>A</td>\n",
       "      <td>24</td>\n",
       "      <td>20</td>\n",
       "      <td>148579</td>\n",
       "      <td>719</td>\n",
       "    </tr>\n",
       "    <tr>\n",
       "      <th>1</th>\n",
       "      <td>2019-08-01</td>\n",
       "      <td>B</td>\n",
       "      <td>21</td>\n",
       "      <td>20</td>\n",
       "      <td>101217</td>\n",
       "      <td>713</td>\n",
       "    </tr>\n",
       "    <tr>\n",
       "      <th>2</th>\n",
       "      <td>2019-08-02</td>\n",
       "      <td>A</td>\n",
       "      <td>44</td>\n",
       "      <td>38</td>\n",
       "      <td>242401</td>\n",
       "      <td>1338</td>\n",
       "    </tr>\n",
       "    <tr>\n",
       "      <th>3</th>\n",
       "      <td>2019-08-02</td>\n",
       "      <td>B</td>\n",
       "      <td>45</td>\n",
       "      <td>43</td>\n",
       "      <td>266748</td>\n",
       "      <td>1294</td>\n",
       "    </tr>\n",
       "    <tr>\n",
       "      <th>4</th>\n",
       "      <td>2019-08-03</td>\n",
       "      <td>A</td>\n",
       "      <td>68</td>\n",
       "      <td>62</td>\n",
       "      <td>354874</td>\n",
       "      <td>1845</td>\n",
       "    </tr>\n",
       "  </tbody>\n",
       "</table>\n",
       "</div>"
      ],
      "text/plain": [
       "        date group  orders  buyers  revenue  visitors\n",
       "0 2019-08-01  A     24      20      148579   719     \n",
       "1 2019-08-01  B     21      20      101217   713     \n",
       "2 2019-08-02  A     44      38      242401   1338    \n",
       "3 2019-08-02  B     45      43      266748   1294    \n",
       "4 2019-08-03  A     68      62      354874   1845    "
      ]
     },
     "execution_count": 14,
     "metadata": {},
     "output_type": "execute_result"
    }
   ],
   "source": [
    "datesGroups = orders[['date','group']].drop_duplicates() \n",
    "\n",
    "ordersAggregated = datesGroups.apply(lambda x: orders[np.logical_and(orders['date'] <= x['date'], orders['group'] == x['group'])]\\\n",
    ".agg({'date' : 'max', 'group' : 'max', 'transactionId' : 'nunique', 'visitorId' : 'nunique', 'revenue' : 'sum'}), axis=1).sort_values(by=['date','group'])\n",
    "\n",
    "visitorsAggregated = datesGroups.apply(lambda x: visitors[np.logical_and(visitors['date'] <= x['date'], visitors['group'] == x['group'])].agg({'date' : 'max', 'group' : 'max', 'visitors' : 'sum'}), axis=1).sort_values(by=['date','group'])\n",
    "\n",
    "cumulativeData = ordersAggregated.merge(visitorsAggregated, left_on=['date', 'group'], right_on=['date', 'group'])\n",
    "\n",
    "cumulativeData.columns = ['date', 'group', 'orders', 'buyers', 'revenue', 'visitors']\n",
    "\n",
    "cumulativeData.head(5)\n"
   ]
  },
  {
   "cell_type": "code",
   "execution_count": 15,
   "metadata": {},
   "outputs": [],
   "source": [
    "# датафрейм с кумулятивным количеством заказов и кумулятивной выручкой по дням в группе А\n",
    "cumulativeRevenueA = cumulativeData[cumulativeData['group']=='A'][['date','revenue', 'orders']]\n",
    "\n",
    "# датафрейм с кумулятивным количеством заказов и кумулятивной выручкой по дням в группе B\n",
    "cumulativeRevenueB = cumulativeData[cumulativeData['group']=='B'][['date','revenue', 'orders']]"
   ]
  },
  {
   "cell_type": "markdown",
   "metadata": {},
   "source": [
    "\n",
    "Были загружены датасеты с информацией о заказах и посещениях сайта. \n",
    "Приведены к типу datetime столбцы date обеих датафреймов. Дубликатов в данных не обнаружено.\n",
    "\n",
    "На основе исходных датафреймов были созданы датафреймы с кумулятивным числом заказов и выручкой по дням с разделением на группы.   \n",
    "</div>"
   ]
  },
  {
   "cell_type": "markdown",
   "metadata": {},
   "source": [
    "### График кумулятивной выручки по группам. "
   ]
  },
  {
   "cell_type": "code",
   "execution_count": 16,
   "metadata": {},
   "outputs": [
    {
     "data": {
      "text/plain": [
       "<matplotlib.legend.Legend at 0x7f4ed3bd3790>"
      ]
     },
     "execution_count": 16,
     "metadata": {},
     "output_type": "execute_result"
    },
    {
     "data": {
      "image/png": "[encoded data removed]",
      "text/plain": [
       "<Figure size 720x360 with 1 Axes>"
      ]
     },
     "metadata": {
      "needs_background": "light"
     },
     "output_type": "display_data"
    }
   ],
   "source": [
    "\n",
    "plt.figure(figsize=(10, 5))\n",
    "plt.title('Кумулятивная выручка по группам')\n",
    "plt.xlabel('Дата')\n",
    "plt.ylabel('Выручка')\n",
    "plt.xticks(rotation=45, horizontalalignment='right')\n",
    "# Строим график выручки группы А\n",
    "plt.plot(cumulativeRevenueA['date'], cumulativeRevenueA['revenue'], label='A')\n",
    "\n",
    "# Строим график выручки группы B\n",
    "plt.plot(cumulativeRevenueB['date'], cumulativeRevenueB['revenue'], label='B')\n",
    "\n",
    "plt.legend() \n",
    "\n"
   ]
  },
  {
   "cell_type": "markdown",
   "metadata": {},
   "source": [
    "### График кумулятивного среднего чека по группам"
   ]
  },
  {
   "cell_type": "code",
   "execution_count": 17,
   "metadata": {},
   "outputs": [
    {
     "data": {
      "text/plain": [
       "<matplotlib.legend.Legend at 0x7f4ed3802880>"
      ]
     },
     "execution_count": 17,
     "metadata": {},
     "output_type": "execute_result"
    },
    {
     "data": {
      "image/png": "[encoded data removed]",
      "text/plain": [
       "<Figure size 720x360 with 1 Axes>"
      ]
     },
     "metadata": {
      "needs_background": "light"
     },
     "output_type": "display_data"
    }
   ],
   "source": [
    "plt.figure(figsize=(10, 5))\n",
    "plt.title('Кумулятивный средний чек по группам')\n",
    "plt.xlabel('Дата')\n",
    "plt.ylabel('Средний чек')\n",
    "plt.xticks(rotation=45, horizontalalignment='right')\n",
    "\n",
    "plt.plot(cumulativeRevenueA['date'], cumulativeRevenueA['revenue']/cumulativeRevenueA['orders'], label='A')\n",
    "plt.plot(cumulativeRevenueB['date'], cumulativeRevenueB['revenue']/cumulativeRevenueB['orders'], label='B')\n",
    "plt.legend()"
   ]
  },
  {
   "cell_type": "markdown",
   "metadata": {},
   "source": [
    "### График относительного изменения кумулятивного среднего чека группы B к группе A"
   ]
  },
  {
   "cell_type": "code",
   "execution_count": 18,
   "metadata": {},
   "outputs": [
    {
     "data": {
      "text/plain": [
       "<matplotlib.lines.Line2D at 0x7f4ed372c3a0>"
      ]
     },
     "execution_count": 18,
     "metadata": {},
     "output_type": "execute_result"
    },
    {
     "data": {
      "image/png": "[encoded data removed]",
      "text/plain": [
       "<Figure size 720x360 with 1 Axes>"
      ]
     },
     "metadata": {
      "needs_background": "light"
     },
     "output_type": "display_data"
    }
   ],
   "source": [
    "# собираем данные в одном датафрейме\n",
    "mergedCumulativeRevenue = cumulativeRevenueA.merge(cumulativeRevenueB, left_on='date', right_on='date', how='left', suffixes=['A', 'B'])\n",
    "\n",
    "plt.figure(figsize=(10, 5))\n",
    "plt.title('Относительное изменение кумулятивного среднего чека группы В к группе А')\n",
    "plt.xlabel('Дата')\n",
    "plt.ylabel('Разница')\n",
    "plt.xticks(rotation=45, horizontalalignment='right')\n",
    "\n",
    "# cтроим отношение средних чеков\n",
    "plt.plot(mergedCumulativeRevenue['date'], (mergedCumulativeRevenue['revenueB']/mergedCumulativeRevenue['ordersB'])/(mergedCumulativeRevenue['revenueA']/mergedCumulativeRevenue['ordersA'])-1)\n",
    "\n",
    "# добавляем ось X\n",
    "plt.axhline(y=0, color='black', linestyle='--')"
   ]
  },
  {
   "cell_type": "markdown",
   "metadata": {},
   "source": [
    "### График кумулятивной конверсии по группам. "
   ]
  },
  {
   "cell_type": "code",
   "execution_count": 19,
   "metadata": {},
   "outputs": [
    {
     "data": {
      "text/plain": [
       "(18109.0, 18140.0, 0.0, 0.05)"
      ]
     },
     "execution_count": 19,
     "metadata": {},
     "output_type": "execute_result"
    },
    {
     "data": {
      "image/png": "[encoded data removed]",
      "text/plain": [
       "<Figure size 720x360 with 1 Axes>"
      ]
     },
     "metadata": {
      "needs_background": "light"
     },
     "output_type": "display_data"
    }
   ],
   "source": [
    "# считаем кумулятивную конверсию\n",
    "cumulativeData['conversion'] = cumulativeData['orders']/cumulativeData['visitors']\n",
    "\n",
    "# отделяем данные по группе A\n",
    "cumulativeDataA = cumulativeData[cumulativeData['group']=='A']\n",
    "\n",
    "# отделяем данные по группе B\n",
    "cumulativeDataB = cumulativeData[cumulativeData['group']=='B']\n",
    "\n",
    "plt.figure(figsize=(10, 5))\n",
    "plt.title('Кумулятивная конверсия по группам')\n",
    "plt.xlabel('Дата')\n",
    "plt.ylabel('Конверсия')\n",
    "plt.xticks(rotation=45, horizontalalignment='right')\n",
    "# строим графики\n",
    "plt.plot(cumulativeDataA['date'], cumulativeDataA['conversion'], label='A')\n",
    "plt.plot(cumulativeDataB['date'], cumulativeDataB['conversion'], label='B')\n",
    "plt.legend()\n",
    "\n",
    "# задаем масштаб осей\n",
    "plt.axis([dt.datetime(2019, 8, 1), dt.datetime(2019, 9, 1), 0, 0.05])\n"
   ]
  },
  {
   "cell_type": "markdown",
   "metadata": {},
   "source": [
    "### График относительного изменения кумулятивной конверсии группы B к группе A."
   ]
  },
  {
   "cell_type": "code",
   "execution_count": 20,
   "metadata": {},
   "outputs": [
    {
     "data": {
      "text/plain": [
       "(18109.0, 18140.0, -0.5, 0.5)"
      ]
     },
     "execution_count": 20,
     "metadata": {},
     "output_type": "execute_result"
    },
    {
     "data": {
      "image/png": "[encoded data removed]",
      "text/plain": [
       "<Figure size 720x360 with 1 Axes>"
      ]
     },
     "metadata": {
      "needs_background": "light"
     },
     "output_type": "display_data"
    }
   ],
   "source": [
    "mergedCumulativeConversions = cumulativeDataA[['date','conversion']].merge(cumulativeDataB[['date','conversion']], left_on='date', right_on='date', how='left', suffixes=['A', 'B'])\n",
    "\n",
    "plt.figure(figsize=(10, 5))\n",
    "plt.title('Относительное изменение кумулятивной конверсии группы В к группе А')\n",
    "plt.xlabel('Дата')\n",
    "plt.ylabel('Изменение')\n",
    "plt.xticks(rotation=45, horizontalalignment='right')\n",
    "\n",
    "plt.plot(mergedCumulativeConversions['date'], mergedCumulativeConversions['conversionB']/mergedCumulativeConversions['conversionA']-1, label=\"Относительный прирост конверсии группы B относительно группы A\")\n",
    "\n",
    "plt.axhline(y=0, color='black', linestyle='--')\n",
    "plt.axhline(y=0.1, color='grey', linestyle='--')\n",
    "plt.axis([\"2019-08-01\", '2019-09-01', -0.5, 0.5])\n"
   ]
  },
  {
   "cell_type": "markdown",
   "metadata": {},
   "source": [
    "### Точечный график количества заказов по пользователям."
   ]
  },
  {
   "cell_type": "code",
   "execution_count": 21,
   "metadata": {},
   "outputs": [
    {
     "data": {
      "text/plain": [
       "<matplotlib.collections.PathCollection at 0x7f4ec7de7670>"
      ]
     },
     "execution_count": 21,
     "metadata": {},
     "output_type": "execute_result"
    },
    {
     "data": {
      "image/png": "[encoded data removed]",
      "text/plain": [
       "<Figure size 720x360 with 1 Axes>"
      ]
     },
     "metadata": {
      "needs_background": "light"
     },
     "output_type": "display_data"
    }
   ],
   "source": [
    "ordersByUsers = (\n",
    "    orders.groupby('visitorId', as_index=False)\n",
    "    .agg({'transactionId': 'nunique'})\n",
    ")\n",
    "ordersByUsers.columns = ['visitorId', 'orders']\n",
    "\n",
    "\n",
    "x_values = pd.Series(range(0, len(ordersByUsers)))\n",
    "\n",
    "plt.figure(figsize=(10, 5))\n",
    "plt.title('Количество заказов по пользователям')\n",
    "plt.xlabel('Пользователи')\n",
    "plt.ylabel('Число заказов')\n",
    "plt.xticks(rotation=45, horizontalalignment='right')\n",
    "\n",
    "plt.scatter(x_values, ordersByUsers['orders'])"
   ]
  },
  {
   "cell_type": "markdown",
   "metadata": {},
   "source": [
    "### Расчёт 95 и 99 перцентиля количества заказов на пользователя"
   ]
  },
  {
   "cell_type": "code",
   "execution_count": 22,
   "metadata": {},
   "outputs": [
    {
     "name": "stdout",
     "output_type": "stream",
     "text": [
      "[2. 4.]\n"
     ]
    }
   ],
   "source": [
    "print(np.percentile(ordersByUsers['orders'], [95, 99])) "
   ]
  },
  {
   "cell_type": "markdown",
   "metadata": {},
   "source": [
    "### Точечный график стоимостей заказов. "
   ]
  },
  {
   "cell_type": "code",
   "execution_count": 23,
   "metadata": {},
   "outputs": [
    {
     "data": {
      "text/plain": [
       "<matplotlib.collections.PathCollection at 0x7f4ec7dca970>"
      ]
     },
     "execution_count": 23,
     "metadata": {},
     "output_type": "execute_result"
    },
    {
     "data": {
      "image/png": "[encoded data removed]",
      "text/plain": [
       "<Figure size 720x360 with 1 Axes>"
      ]
     },
     "metadata": {
      "needs_background": "light"
     },
     "output_type": "display_data"
    }
   ],
   "source": [
    "x_values = pd.Series(range(0, len(orders['revenue'])))\n",
    "\n",
    "plt.figure(figsize=(10, 5))\n",
    "plt.title('Стоимость заказов')\n",
    "plt.xlabel('Пользователи')\n",
    "plt.ylabel('Стоимость заказа')\n",
    "plt.xticks(rotation=45, horizontalalignment='right')\n",
    "plt.scatter(x_values, orders['revenue']) "
   ]
  },
  {
   "cell_type": "code",
   "execution_count": 24,
   "metadata": {},
   "outputs": [
    {
     "data": {
      "text/plain": [
       "<matplotlib.collections.PathCollection at 0x7f4ec7d322e0>"
      ]
     },
     "execution_count": 24,
     "metadata": {},
     "output_type": "execute_result"
    },
    {
     "data": {
      "image/png": "[encoded data removed]",
      "text/plain": [
       "<Figure size 720x360 with 1 Axes>"
      ]
     },
     "metadata": {
      "needs_background": "light"
     },
     "output_type": "display_data"
    }
   ],
   "source": [
    "orders_new = orders.query('revenue <28000')\n",
    "\n",
    "x_values = pd.Series(range(0, len(orders_new['revenue'])))\n",
    "\n",
    "plt.figure(figsize=(10, 5))\n",
    "plt.title('Стоимость заказов')\n",
    "plt.xlabel('Пользователи')\n",
    "plt.ylabel('Стоимость заказа')\n",
    "plt.xticks(rotation=45, horizontalalignment='right')\n",
    "plt.scatter(x_values, orders_new['revenue']) "
   ]
  },
  {
   "cell_type": "markdown",
   "metadata": {},
   "source": [
    "### Расчёт 95 и 99 перцентиля стоимости заказов."
   ]
  },
  {
   "cell_type": "code",
   "execution_count": 25,
   "metadata": {},
   "outputs": [
    {
     "name": "stdout",
     "output_type": "stream",
     "text": [
      "[28000.  58233.2]\n"
     ]
    }
   ],
   "source": [
    "print(np.percentile(orders['revenue'], [95, 99])) \n"
   ]
  },
  {
   "cell_type": "code",
   "execution_count": 26,
   "metadata": {},
   "outputs": [
    {
     "name": "stdout",
     "output_type": "stream",
     "text": [
      "[21312.4]\n"
     ]
    }
   ],
   "source": [
    "print(np.percentile(orders['revenue'], [93])) "
   ]
  },
  {
   "cell_type": "markdown",
   "metadata": {},
   "source": [
    "### Cтатистическая значимость различий в среднем количестве заказов между группами по «сырым» данным. "
   ]
  },
  {
   "cell_type": "markdown",
   "metadata": {},
   "source": [
    "\n",
    "Формулировка гипотез    \n",
    "Нулевая: Статистически значимых различий в количестве заказов между группами по сырым данным нет \n",
    "Альтернативная: Статистически значимые различия в количестве заказов между группами по сырым данным есть\n",
    "\n",
    "Уровень alpha = 0.05\n",
    "    \n",
    "Будет использоваться критерий Манна-Уитни    \n",
    "<br></div>"
   ]
  },
  {
   "cell_type": "code",
   "execution_count": 27,
   "metadata": {},
   "outputs": [
    {
     "name": "stdout",
     "output_type": "stream",
     "text": [
      "p-value принимает значение 0.01679\n",
      "Относительное различие между группами равно 0.138\n"
     ]
    }
   ],
   "source": [
    "visitorsADaily = visitors[visitors['group'] == 'A'][['date', 'visitors']]\n",
    "visitorsADaily.columns = ['date', 'visitorsPerDateA']\n",
    "\n",
    "visitorsACummulative = visitorsADaily.apply(\n",
    "    lambda x: visitorsADaily[visitorsADaily['date'] <= x['date']].agg(\n",
    "        {'date': 'max', 'visitorsPerDateA': 'sum'}\n",
    "    ),\n",
    "    axis=1,\n",
    ")\n",
    "visitorsACummulative.columns = ['date', 'visitorsCummulativeA']\n",
    "\n",
    "visitorsBDaily = visitors[visitors['group'] == 'B'][['date', 'visitors']]\n",
    "visitorsBDaily.columns = ['date', 'visitorsPerDateB']\n",
    "\n",
    "visitorsBCummulative = visitorsBDaily.apply(\n",
    "    lambda x: visitorsBDaily[visitorsBDaily['date'] <= x['date']].agg(\n",
    "        {'date': 'max', 'visitorsPerDateB': 'sum'}\n",
    "    ),\n",
    "    axis=1,\n",
    ")\n",
    "visitorsBCummulative.columns = ['date', 'visitorsCummulativeB']\n",
    "\n",
    "ordersADaily = (\n",
    "    orders[orders['group'] == 'A'][['date', 'transactionId', 'visitorId', 'revenue']]\n",
    "    .groupby('date', as_index=False)\n",
    "    .agg({'transactionId': pd.Series.nunique, 'revenue': 'sum'})\n",
    ")\n",
    "ordersADaily.columns = ['date', 'ordersPerDateA', 'revenuePerDateA']\n",
    "\n",
    "ordersACummulative = ordersADaily.apply(\n",
    "    lambda x: ordersADaily[ordersADaily['date'] <= x['date']].agg(\n",
    "        {'date': 'max', 'ordersPerDateA': 'sum', 'revenuePerDateA': 'sum'}\n",
    "    ),\n",
    "    axis=1,\n",
    ").sort_values(by=['date'])\n",
    "ordersACummulative.columns = [\n",
    "    'date',\n",
    "    'ordersCummulativeA',\n",
    "    'revenueCummulativeA',\n",
    "]\n",
    "\n",
    "ordersBDaily = (\n",
    "    orders[orders['group'] == 'B'][['date', 'transactionId', 'visitorId', 'revenue']]\n",
    "    .groupby('date', as_index=False)\n",
    "    .agg({'transactionId': pd.Series.nunique, 'revenue': 'sum'})\n",
    ")\n",
    "ordersBDaily.columns = ['date', 'ordersPerDateB', 'revenuePerDateB']\n",
    "\n",
    "ordersBCummulative = ordersBDaily.apply(\n",
    "    lambda x: ordersBDaily[ordersBDaily['date'] <= x['date']].agg(\n",
    "        {'date': 'max', 'ordersPerDateB': 'sum', 'revenuePerDateB': 'sum'}\n",
    "    ),\n",
    "    axis=1,\n",
    ").sort_values(by=['date'])\n",
    "ordersBCummulative.columns = [\n",
    "    'date',\n",
    "    'ordersCummulativeB',\n",
    "    'revenueCummulativeB',\n",
    "]\n",
    "\n",
    "\n",
    "data = (\n",
    "    ordersADaily.merge(\n",
    "        ordersBDaily, left_on='date', right_on='date', how='left'\n",
    "    )\n",
    "    .merge(ordersACummulative, left_on='date', right_on='date', how='left')\n",
    "    .merge(ordersBCummulative, left_on='date', right_on='date', how='left')\n",
    "    .merge(visitorsADaily, left_on='date', right_on='date', how='left')\n",
    "    .merge(visitorsBDaily, left_on='date', right_on='date', how='left')\n",
    "    .merge(visitorsACummulative, left_on='date', right_on='date', how='left')\n",
    "    .merge(visitorsBCummulative, left_on='date', right_on='date', how='left')\n",
    ")\n",
    "\n",
    "\n",
    "ordersByUsersA = (\n",
    "    orders[orders['group'] == 'A']\n",
    "    .groupby('visitorId', as_index=False)\n",
    "    .agg({'transactionId': pd.Series.nunique})\n",
    ")\n",
    "ordersByUsersA.columns = ['userId', 'orders']\n",
    "\n",
    "ordersByUsersB = (\n",
    "    orders[orders['group'] == 'B']\n",
    "    .groupby('visitorId', as_index=False)\n",
    "    .agg({'transactionId': pd.Series.nunique})\n",
    ")\n",
    "ordersByUsersB.columns = ['userId', 'orders']\n",
    "\n",
    "pd.Series(0, index=np.arange(data['visitorsPerDateA'].sum() - len(ordersByUsersA['orders'])), name='orders')\n",
    "\n",
    "sampleA = pd.concat(\n",
    "    [\n",
    "        ordersByUsersA['orders'],\n",
    "        pd.Series(\n",
    "            0,\n",
    "            index=np.arange(\n",
    "                data['visitorsPerDateA'].sum() - len(ordersByUsersA['orders'])\n",
    "            ),\n",
    "            name='orders',\n",
    "        ),\n",
    "    ],\n",
    "    axis=0,\n",
    ")\n",
    "\n",
    "sampleB = pd.concat(\n",
    "    [\n",
    "        ordersByUsersB['orders'],\n",
    "        pd.Series(\n",
    "            0,\n",
    "            index=np.arange(\n",
    "                data['visitorsPerDateB'].sum() - len(ordersByUsersB['orders'])\n",
    "            ),\n",
    "            name='orders',\n",
    "        ),\n",
    "    ],\n",
    "    axis=0,\n",
    ")\n",
    "\n",
    "print('p-value принимает значение '\"{0:.5f}\".format(stats.mannwhitneyu(sampleA, sampleB)[1]))\n",
    "\n",
    "print('Относительное различие между группами равно ' \"{0:.3f}\".format(sampleB.mean() / sampleA.mean() - 1))\n"
   ]
  },
  {
   "cell_type": "markdown",
   "metadata": {},
   "source": [
    "Анализ сырых данных говорит нам о том, что в среднем количестве заказов между группами есть статистически значимое различие.\n",
    "Относительный прирост среднего кол-ва заказов группы В к группе А составляет 13,8%"
   ]
  },
  {
   "cell_type": "markdown",
   "metadata": {},
   "source": [
    "### Cтатистическая значимость различий в среднем чеке заказа между группами по «сырым» данным. "
   ]
  },
  {
   "cell_type": "code",
   "execution_count": 28,
   "metadata": {},
   "outputs": [
    {
     "name": "stdout",
     "output_type": "stream",
     "text": [
      "p-value принимает значение 0.729\n",
      "Относительное различие между группами равно 0.259\n"
     ]
    }
   ],
   "source": [
    "print('p-value принимает значение ''{0:.3f}'.format(stats.mannwhitneyu(orders[orders['group']=='A']['revenue'], orders[orders['group']=='B']['revenue'])[1]))\n",
    "print('Относительное различие между группами равно ''{0:.3f}'.format(orders[orders['group']=='B']['revenue'].mean()/orders[orders['group']=='A']['revenue'].mean()-1))\n"
   ]
  },
  {
   "cell_type": "markdown",
   "metadata": {},
   "source": [
    "Статистически значимых различий в среднем чеке между группами нет. Наблюдаемое превышение среднего чека группы В на 25,9% не является значимым, получено случайно"
   ]
  },
  {
   "cell_type": "markdown",
   "metadata": {},
   "source": [
    "### Подготовка очищенных данных"
   ]
  },
  {
   "cell_type": "code",
   "execution_count": 29,
   "metadata": {},
   "outputs": [],
   "source": [
    "usersWithManyOrders = pd.concat(\n",
    "    [\n",
    "        ordersByUsersA[ordersByUsersA['orders'] > 3]['userId'],\n",
    "        ordersByUsersB[ordersByUsersB['orders'] > 3]['userId'],\n",
    "    ],\n",
    "    axis=0,\n",
    ")\n",
    "usersWithExpensiveOrders = orders[orders['revenue'] > 20000]['visitorId']\n",
    "abnormalUsers = (\n",
    "    pd.concat([usersWithManyOrders, usersWithExpensiveOrders], axis=0)\n",
    "    .drop_duplicates()\n",
    "    .sort_values()\n",
    ")\n"
   ]
  },
  {
   "cell_type": "markdown",
   "metadata": {},
   "source": [
    "### Cтатистическая значимость различий в среднем количестве заказов между группами по «очищенным» данным."
   ]
  },
  {
   "cell_type": "markdown",
   "metadata": {},
   "source": [
    "\n",
    "\n",
    "Формулировка гипотез    \n",
    "Нулевая: Статистически значимых различий в среднем количестве заказов между группами по \"очищенным\" данным нет \n",
    "    \n",
    "Альтернативная: Статистически значимые различия в среднем количестве заказов между группами по \"очищенным\" данным есть \n",
    "<br></div>"
   ]
  },
  {
   "cell_type": "code",
   "execution_count": 30,
   "metadata": {},
   "outputs": [
    {
     "name": "stdout",
     "output_type": "stream",
     "text": [
      "p-value принимает значение 0.02233\n",
      "Относительное различие между группами равно 0.153\n"
     ]
    }
   ],
   "source": [
    "sampleAFiltered = pd.concat(\n",
    "    [\n",
    "        ordersByUsersA[\n",
    "            np.logical_not(ordersByUsersA['userId'].isin(abnormalUsers))\n",
    "        ]['orders'],\n",
    "        pd.Series(\n",
    "            0,\n",
    "            index=np.arange(\n",
    "                data['visitorsPerDateA'].sum() - len(ordersByUsersA['orders'])\n",
    "            ),\n",
    "            name='orders',\n",
    "        ),\n",
    "    ],\n",
    "    axis=0,\n",
    ")\n",
    "\n",
    "sampleBFiltered = pd.concat(\n",
    "    [\n",
    "        ordersByUsersB[\n",
    "            np.logical_not(ordersByUsersB['userId'].isin(abnormalUsers))\n",
    "        ]['orders'],\n",
    "        pd.Series(\n",
    "            0,\n",
    "            index=np.arange(\n",
    "                data['visitorsPerDateB'].sum() - len(ordersByUsersB['orders'])\n",
    "            ),\n",
    "            name='orders',\n",
    "        ),\n",
    "    ],\n",
    "    axis=0,\n",
    ")\n",
    "\n",
    "print('p-value принимает значение ''{0:.5f}'.format(stats.mannwhitneyu(sampleAFiltered, sampleBFiltered)[1]))\n",
    "print('Относительное различие между группами равно ''{0:.3f}'.format(sampleBFiltered.mean()/sampleAFiltered.mean()-1))"
   ]
  },
  {
   "cell_type": "markdown",
   "metadata": {},
   "source": [
    "По очищенным данным подтверждается статистическая значимость между группами. Группа В лучше группы А по показателю среднего числа заказаов."
   ]
  },
  {
   "cell_type": "markdown",
   "metadata": {},
   "source": [
    "### Cтатистическая значимость значимость различий в среднем чеке заказа между группами по «очищенным» данным."
   ]
  },
  {
   "cell_type": "markdown",
   "metadata": {},
   "source": [
    "\n",
    "Формулировка гипотез    \n",
    "Нулевая: Статистически значимых различий в среднем чеке между группами по \"очищенным\" данным нет \n",
    "    \n",
    "Альтернативная: Статистически значимые различия в среднем чеке между группами по \"очищенным\" данным есть \n",
    "<br></div>"
   ]
  },
  {
   "cell_type": "code",
   "execution_count": 31,
   "metadata": {},
   "outputs": [
    {
     "name": "stdout",
     "output_type": "stream",
     "text": [
      "p-value принимает значение 0.928\n",
      "Относительное различие между группами равно -0.005\n"
     ]
    }
   ],
   "source": [
    "print('p-value принимает значение '\n",
    "    '{0:.3f}'.format(\n",
    "        stats.mannwhitneyu(\n",
    "            orders[\n",
    "                np.logical_and(\n",
    "                    orders['group'] == 'A',\n",
    "                    np.logical_not(orders['visitorId'].isin(abnormalUsers)),\n",
    "                )\n",
    "            ]['revenue'],\n",
    "            orders[\n",
    "                np.logical_and(\n",
    "                    orders['group'] == 'B',\n",
    "                    np.logical_not(orders['visitorId'].isin(abnormalUsers)),\n",
    "                )\n",
    "            ]['revenue'],\n",
    "        )[1]\n",
    "    )\n",
    ")\n",
    "\n",
    "print('Относительное различие между группами равно '\n",
    "    \"{0:.3f}\".format(\n",
    "        orders[\n",
    "            np.logical_and(\n",
    "                orders['group'] == 'B',\n",
    "                np.logical_not(orders['visitorId'].isin(abnormalUsers)),\n",
    "            )\n",
    "        ]['revenue'].mean()\n",
    "        / orders[\n",
    "            np.logical_and(\n",
    "                orders['group'] == 'A',\n",
    "                np.logical_not(orders['visitorId'].isin(abnormalUsers)),\n",
    "            )\n",
    "        ]['revenue'].mean()\n",
    "        - 1\n",
    "    )\n",
    ")"
   ]
  },
  {
   "cell_type": "markdown",
   "metadata": {},
   "source": [
    "Очищенные данные говорят нам о том, что статистической значимости по среднему чеку между группами нет. Средний чек группы В меньше всего на 0,5%. "
   ]
  },
  {
   "cell_type": "markdown",
   "metadata": {},
   "source": [
    "### Решение по результатам теста "
   ]
  },
  {
   "cell_type": "markdown",
   "metadata": {},
   "source": [
    "   \n",
    "- Есть статистически значимое различие по конверсии между группами как по сырым данным, так и после фильтрации аномалий.\n",
    "- Статистически значимого различия по среднему чеку между группами нет как как по сырым данным, так и после фильтрации аномалий. Средний чек для групп можно считать одинаковым\n",
    "- График различия конверсий говорит нам о том, что группа В лучше группы А на 15%\n",
    "- График различия среднего чека колеблется. Это помогло найти аномалии в данных\n",
    "    \n",
    "Исходя из обнаруженных фактов, тест можно остановить и считать его успешным. Количество заказов группы В увеличилось на 15%"
   ]
  }
 ],
 "metadata": {
  "ExecuteTimeLog": [
   {
    "duration": 527,
    "start_time": "2022-11-18T05:48:30.536Z"
   },
   {
    "duration": 34,
    "start_time": "2022-11-18T05:48:44.216Z"
   },
   {
    "duration": 27,
    "start_time": "2022-11-18T05:49:09.080Z"
   },
   {
    "duration": 47,
    "start_time": "2022-11-20T03:16:03.274Z"
   },
   {
    "duration": 405,
    "start_time": "2022-11-20T03:16:06.550Z"
   },
   {
    "duration": 68,
    "start_time": "2022-11-20T03:16:07.886Z"
   },
   {
    "duration": 771,
    "start_time": "2022-11-20T03:25:04.529Z"
   },
   {
    "duration": 10,
    "start_time": "2022-11-20T03:25:39.208Z"
   },
   {
    "duration": 3,
    "start_time": "2022-11-20T03:27:01.861Z"
   },
   {
    "duration": 4,
    "start_time": "2022-11-20T03:27:06.861Z"
   },
   {
    "duration": 761,
    "start_time": "2022-11-20T03:27:11.621Z"
   },
   {
    "duration": 15,
    "start_time": "2022-11-20T03:27:24.782Z"
   },
   {
    "duration": 11,
    "start_time": "2022-11-20T03:28:20.502Z"
   },
   {
    "duration": 9,
    "start_time": "2022-11-20T03:31:29.808Z"
   },
   {
    "duration": 155,
    "start_time": "2022-11-20T04:43:16.505Z"
   },
   {
    "duration": 11,
    "start_time": "2022-11-20T04:43:19.998Z"
   },
   {
    "duration": 11,
    "start_time": "2022-11-20T04:43:39.582Z"
   },
   {
    "duration": 14,
    "start_time": "2022-11-20T04:43:58.175Z"
   },
   {
    "duration": 17,
    "start_time": "2022-11-20T04:46:16.313Z"
   },
   {
    "duration": 17,
    "start_time": "2022-11-20T04:46:21.425Z"
   },
   {
    "duration": 10,
    "start_time": "2022-11-20T04:46:34.216Z"
   },
   {
    "duration": 14,
    "start_time": "2022-11-20T04:46:56.561Z"
   },
   {
    "duration": 17,
    "start_time": "2022-11-20T04:47:07.320Z"
   },
   {
    "duration": 15,
    "start_time": "2022-11-20T04:47:18.985Z"
   },
   {
    "duration": 436,
    "start_time": "2022-11-20T04:47:34.713Z"
   },
   {
    "duration": 75,
    "start_time": "2022-11-20T04:47:35.152Z"
   },
   {
    "duration": 23,
    "start_time": "2022-11-20T04:47:35.229Z"
   },
   {
    "duration": 18,
    "start_time": "2022-11-20T04:47:35.254Z"
   },
   {
    "duration": 22,
    "start_time": "2022-11-20T04:47:35.274Z"
   },
   {
    "duration": 23,
    "start_time": "2022-11-20T04:47:35.297Z"
   },
   {
    "duration": 24,
    "start_time": "2022-11-20T04:47:35.321Z"
   },
   {
    "duration": 355,
    "start_time": "2022-11-20T04:49:28.165Z"
   },
   {
    "duration": 73,
    "start_time": "2022-11-20T04:49:28.522Z"
   },
   {
    "duration": 23,
    "start_time": "2022-11-20T04:49:28.596Z"
   },
   {
    "duration": 18,
    "start_time": "2022-11-20T04:49:28.622Z"
   },
   {
    "duration": 28,
    "start_time": "2022-11-20T04:49:28.642Z"
   },
   {
    "duration": 263,
    "start_time": "2022-11-20T04:49:28.672Z"
   },
   {
    "duration": 0,
    "start_time": "2022-11-20T04:49:28.937Z"
   },
   {
    "duration": 0,
    "start_time": "2022-11-20T04:49:28.939Z"
   },
   {
    "duration": 387,
    "start_time": "2022-11-20T05:06:01.080Z"
   },
   {
    "duration": 76,
    "start_time": "2022-11-20T05:06:01.469Z"
   },
   {
    "duration": 25,
    "start_time": "2022-11-20T05:06:01.547Z"
   },
   {
    "duration": 28,
    "start_time": "2022-11-20T05:06:01.575Z"
   },
   {
    "duration": 31,
    "start_time": "2022-11-20T05:06:01.605Z"
   },
   {
    "duration": 30,
    "start_time": "2022-11-20T05:06:01.638Z"
   },
   {
    "duration": 28,
    "start_time": "2022-11-20T05:06:01.670Z"
   },
   {
    "duration": 19,
    "start_time": "2022-11-20T05:06:01.700Z"
   },
   {
    "duration": 497,
    "start_time": "2022-11-20T05:10:51.603Z"
   },
   {
    "duration": 29,
    "start_time": "2022-11-20T05:10:52.103Z"
   },
   {
    "duration": 25,
    "start_time": "2022-11-20T05:10:52.134Z"
   },
   {
    "duration": 21,
    "start_time": "2022-11-20T05:10:52.162Z"
   },
   {
    "duration": 13,
    "start_time": "2022-11-20T05:10:52.185Z"
   },
   {
    "duration": 64,
    "start_time": "2022-11-20T05:10:52.200Z"
   },
   {
    "duration": 22,
    "start_time": "2022-11-20T05:10:52.266Z"
   },
   {
    "duration": 28,
    "start_time": "2022-11-20T05:10:52.290Z"
   },
   {
    "duration": 15,
    "start_time": "2022-11-20T05:10:52.320Z"
   },
   {
    "duration": 97,
    "start_time": "2022-11-20T05:11:07.427Z"
   },
   {
    "duration": 6,
    "start_time": "2022-11-20T05:11:31.212Z"
   },
   {
    "duration": 30,
    "start_time": "2022-11-20T05:11:37.299Z"
   },
   {
    "duration": 168,
    "start_time": "2022-11-20T05:13:19.758Z"
   },
   {
    "duration": 324,
    "start_time": "2022-11-20T05:13:37.437Z"
   },
   {
    "duration": 265,
    "start_time": "2022-11-20T05:13:47.581Z"
   },
   {
    "duration": 322,
    "start_time": "2022-11-20T05:14:00.821Z"
   },
   {
    "duration": 7,
    "start_time": "2022-11-20T05:15:52.102Z"
   },
   {
    "duration": 8,
    "start_time": "2022-11-20T05:16:35.895Z"
   },
   {
    "duration": 808,
    "start_time": "2022-11-20T05:17:12.506Z"
   },
   {
    "duration": 28,
    "start_time": "2022-11-20T05:17:13.316Z"
   },
   {
    "duration": 20,
    "start_time": "2022-11-20T05:17:13.346Z"
   },
   {
    "duration": 25,
    "start_time": "2022-11-20T05:17:13.368Z"
   },
   {
    "duration": 24,
    "start_time": "2022-11-20T05:17:13.395Z"
   },
   {
    "duration": 56,
    "start_time": "2022-11-20T05:17:13.421Z"
   },
   {
    "duration": 16,
    "start_time": "2022-11-20T05:17:13.478Z"
   },
   {
    "duration": 19,
    "start_time": "2022-11-20T05:17:13.496Z"
   },
   {
    "duration": 27,
    "start_time": "2022-11-20T05:17:13.517Z"
   },
   {
    "duration": 288,
    "start_time": "2022-11-20T05:17:13.550Z"
   },
   {
    "duration": 6,
    "start_time": "2022-11-20T05:17:13.841Z"
   },
   {
    "duration": 273,
    "start_time": "2022-11-20T05:17:13.849Z"
   },
   {
    "duration": 188,
    "start_time": "2022-11-20T05:23:18.929Z"
   },
   {
    "duration": 353,
    "start_time": "2022-11-20T05:26:55.496Z"
   },
   {
    "duration": 217,
    "start_time": "2022-11-20T05:29:07.880Z"
   },
   {
    "duration": 196,
    "start_time": "2022-11-20T05:29:23.530Z"
   },
   {
    "duration": 170,
    "start_time": "2022-11-20T05:31:51.949Z"
   },
   {
    "duration": 171,
    "start_time": "2022-11-20T05:32:05.634Z"
   },
   {
    "duration": 206,
    "start_time": "2022-11-20T05:32:12.492Z"
   },
   {
    "duration": 331,
    "start_time": "2022-11-20T05:35:36.520Z"
   },
   {
    "duration": 258,
    "start_time": "2022-11-20T05:36:16.784Z"
   },
   {
    "duration": 342,
    "start_time": "2022-11-20T05:36:22.303Z"
   },
   {
    "duration": 308,
    "start_time": "2022-11-20T05:47:43.616Z"
   },
   {
    "duration": 262,
    "start_time": "2022-11-20T05:47:50.992Z"
   },
   {
    "duration": 281,
    "start_time": "2022-11-20T05:47:55.240Z"
   },
   {
    "duration": 78,
    "start_time": "2022-11-20T05:49:21.210Z"
   },
   {
    "duration": 11,
    "start_time": "2022-11-20T05:49:32.722Z"
   },
   {
    "duration": 197,
    "start_time": "2022-11-20T05:50:07.338Z"
   },
   {
    "duration": 107,
    "start_time": "2022-11-20T05:50:45.259Z"
   },
   {
    "duration": 130,
    "start_time": "2022-11-20T05:51:12.722Z"
   },
   {
    "duration": 120,
    "start_time": "2022-11-20T05:51:20.131Z"
   },
   {
    "duration": 5,
    "start_time": "2022-11-20T05:52:16.596Z"
   },
   {
    "duration": 5,
    "start_time": "2022-11-20T05:52:22.491Z"
   },
   {
    "duration": 4,
    "start_time": "2022-11-20T05:52:35.004Z"
   },
   {
    "duration": 884,
    "start_time": "2022-11-20T12:22:36.970Z"
   },
   {
    "duration": 83,
    "start_time": "2022-11-20T12:22:37.856Z"
   },
   {
    "duration": 21,
    "start_time": "2022-11-20T12:22:37.941Z"
   },
   {
    "duration": 12,
    "start_time": "2022-11-20T12:22:37.963Z"
   },
   {
    "duration": 19,
    "start_time": "2022-11-20T12:22:37.978Z"
   },
   {
    "duration": 135,
    "start_time": "2022-11-20T12:22:37.999Z"
   },
   {
    "duration": 18,
    "start_time": "2022-11-20T12:22:38.136Z"
   },
   {
    "duration": 17,
    "start_time": "2022-11-20T12:22:38.156Z"
   },
   {
    "duration": 27,
    "start_time": "2022-11-20T12:22:38.175Z"
   },
   {
    "duration": 310,
    "start_time": "2022-11-20T12:22:38.204Z"
   },
   {
    "duration": 7,
    "start_time": "2022-11-20T12:22:38.516Z"
   },
   {
    "duration": 329,
    "start_time": "2022-11-20T12:22:38.525Z"
   },
   {
    "duration": 203,
    "start_time": "2022-11-20T12:22:38.856Z"
   },
   {
    "duration": 358,
    "start_time": "2022-11-20T12:22:39.061Z"
   },
   {
    "duration": 255,
    "start_time": "2022-11-20T12:22:39.421Z"
   },
   {
    "duration": 313,
    "start_time": "2022-11-20T12:22:39.678Z"
   },
   {
    "duration": 140,
    "start_time": "2022-11-20T12:22:39.994Z"
   },
   {
    "duration": 5,
    "start_time": "2022-11-20T12:22:40.135Z"
   },
   {
    "duration": 1284,
    "start_time": "2022-11-20T12:24:46.266Z"
   },
   {
    "duration": 146,
    "start_time": "2022-11-20T12:25:33.591Z"
   },
   {
    "duration": 1203,
    "start_time": "2022-11-20T12:26:17.950Z"
   },
   {
    "duration": 5,
    "start_time": "2022-11-20T12:26:22.966Z"
   },
   {
    "duration": 4,
    "start_time": "2022-11-20T12:27:45.255Z"
   },
   {
    "duration": 4,
    "start_time": "2022-11-20T12:28:33.119Z"
   },
   {
    "duration": 103,
    "start_time": "2022-11-20T12:44:32.198Z"
   },
   {
    "duration": 110,
    "start_time": "2022-11-20T12:44:45.860Z"
   },
   {
    "duration": 128,
    "start_time": "2022-11-20T12:45:08.515Z"
   },
   {
    "duration": 222,
    "start_time": "2022-11-20T12:45:42.947Z"
   },
   {
    "duration": 217,
    "start_time": "2022-11-20T12:45:51.002Z"
   },
   {
    "duration": 233,
    "start_time": "2022-11-20T12:46:50.731Z"
   },
   {
    "duration": 367,
    "start_time": "2022-11-20T12:47:40.133Z"
   },
   {
    "duration": 386,
    "start_time": "2022-11-20T12:47:53.564Z"
   },
   {
    "duration": 381,
    "start_time": "2022-11-20T12:48:11.221Z"
   },
   {
    "duration": 367,
    "start_time": "2022-11-20T12:48:25.757Z"
   },
   {
    "duration": 389,
    "start_time": "2022-11-20T12:48:40.669Z"
   },
   {
    "duration": 1238,
    "start_time": "2022-11-20T12:49:06.154Z"
   },
   {
    "duration": 29,
    "start_time": "2022-11-20T12:49:07.398Z"
   },
   {
    "duration": 21,
    "start_time": "2022-11-20T12:49:07.428Z"
   },
   {
    "duration": 13,
    "start_time": "2022-11-20T12:49:07.451Z"
   },
   {
    "duration": 11,
    "start_time": "2022-11-20T12:49:07.465Z"
   },
   {
    "duration": 67,
    "start_time": "2022-11-20T12:49:07.482Z"
   },
   {
    "duration": 18,
    "start_time": "2022-11-20T12:49:07.551Z"
   },
   {
    "duration": 25,
    "start_time": "2022-11-20T12:49:07.571Z"
   },
   {
    "duration": 17,
    "start_time": "2022-11-20T12:49:07.598Z"
   },
   {
    "duration": 323,
    "start_time": "2022-11-20T12:49:07.617Z"
   },
   {
    "duration": 7,
    "start_time": "2022-11-20T12:49:07.942Z"
   },
   {
    "duration": 323,
    "start_time": "2022-11-20T12:49:07.951Z"
   },
   {
    "duration": 221,
    "start_time": "2022-11-20T12:49:08.276Z"
   },
   {
    "duration": 305,
    "start_time": "2022-11-20T12:49:08.498Z"
   },
   {
    "duration": 229,
    "start_time": "2022-11-20T12:49:08.804Z"
   },
   {
    "duration": 326,
    "start_time": "2022-11-20T12:49:09.034Z"
   },
   {
    "duration": 151,
    "start_time": "2022-11-20T12:49:09.362Z"
   },
   {
    "duration": 5,
    "start_time": "2022-11-20T12:49:09.515Z"
   },
   {
    "duration": 175,
    "start_time": "2022-11-20T12:49:09.522Z"
   },
   {
    "duration": 4,
    "start_time": "2022-11-20T12:49:09.699Z"
   },
   {
    "duration": 414,
    "start_time": "2022-11-20T12:49:09.704Z"
   },
   {
    "duration": 403,
    "start_time": "2022-11-20T12:53:38.994Z"
   },
   {
    "duration": 7,
    "start_time": "2022-11-20T12:54:23.440Z"
   },
   {
    "duration": 18,
    "start_time": "2022-11-20T12:54:51.273Z"
   },
   {
    "duration": 468,
    "start_time": "2022-11-20T12:57:08.395Z"
   },
   {
    "duration": 1375,
    "start_time": "2022-11-21T02:26:33.960Z"
   },
   {
    "duration": 70,
    "start_time": "2022-11-21T02:26:35.337Z"
   },
   {
    "duration": 24,
    "start_time": "2022-11-21T02:26:35.409Z"
   },
   {
    "duration": 13,
    "start_time": "2022-11-21T02:26:35.436Z"
   },
   {
    "duration": 11,
    "start_time": "2022-11-21T02:26:35.451Z"
   },
   {
    "duration": 128,
    "start_time": "2022-11-21T02:26:35.465Z"
   },
   {
    "duration": 18,
    "start_time": "2022-11-21T02:26:35.595Z"
   },
   {
    "duration": 22,
    "start_time": "2022-11-21T02:26:35.615Z"
   },
   {
    "duration": 19,
    "start_time": "2022-11-21T02:26:35.639Z"
   },
   {
    "duration": 314,
    "start_time": "2022-11-21T02:26:35.662Z"
   },
   {
    "duration": 7,
    "start_time": "2022-11-21T02:26:35.977Z"
   },
   {
    "duration": 315,
    "start_time": "2022-11-21T02:26:35.986Z"
   },
   {
    "duration": 220,
    "start_time": "2022-11-21T02:26:36.303Z"
   },
   {
    "duration": 368,
    "start_time": "2022-11-21T02:26:36.525Z"
   },
   {
    "duration": 211,
    "start_time": "2022-11-21T02:26:36.895Z"
   },
   {
    "duration": 351,
    "start_time": "2022-11-21T02:26:37.108Z"
   },
   {
    "duration": 147,
    "start_time": "2022-11-21T02:26:37.461Z"
   },
   {
    "duration": 5,
    "start_time": "2022-11-21T02:26:37.610Z"
   },
   {
    "duration": 149,
    "start_time": "2022-11-21T02:26:37.617Z"
   },
   {
    "duration": 6,
    "start_time": "2022-11-21T02:26:37.768Z"
   },
   {
    "duration": 426,
    "start_time": "2022-11-21T02:26:37.776Z"
   },
   {
    "duration": 13,
    "start_time": "2022-11-21T02:26:38.204Z"
   },
   {
    "duration": 1278,
    "start_time": "2022-11-21T02:27:46.871Z"
   },
   {
    "duration": 9,
    "start_time": "2022-11-21T02:28:51.497Z"
   },
   {
    "duration": 17,
    "start_time": "2022-11-21T02:29:10.528Z"
   },
   {
    "duration": 12,
    "start_time": "2022-11-21T02:29:17.800Z"
   },
   {
    "duration": 11,
    "start_time": "2022-11-21T02:29:34.496Z"
   },
   {
    "duration": 31,
    "start_time": "2022-11-21T02:30:11.953Z"
   },
   {
    "duration": 1196,
    "start_time": "2022-11-21T02:30:41.857Z"
   },
   {
    "duration": 19,
    "start_time": "2022-11-21T02:31:06.722Z"
   },
   {
    "duration": 1164,
    "start_time": "2022-11-21T02:33:39.267Z"
   },
   {
    "duration": 28,
    "start_time": "2022-11-21T02:33:40.433Z"
   },
   {
    "duration": 22,
    "start_time": "2022-11-21T02:33:40.462Z"
   },
   {
    "duration": 11,
    "start_time": "2022-11-21T02:33:40.486Z"
   },
   {
    "duration": 10,
    "start_time": "2022-11-21T02:33:40.499Z"
   },
   {
    "duration": 52,
    "start_time": "2022-11-21T02:33:40.510Z"
   },
   {
    "duration": 15,
    "start_time": "2022-11-21T02:33:40.564Z"
   },
   {
    "duration": 20,
    "start_time": "2022-11-21T02:33:40.582Z"
   },
   {
    "duration": 23,
    "start_time": "2022-11-21T02:33:40.605Z"
   },
   {
    "duration": 300,
    "start_time": "2022-11-21T02:33:40.632Z"
   },
   {
    "duration": 10,
    "start_time": "2022-11-21T02:33:40.933Z"
   },
   {
    "duration": 342,
    "start_time": "2022-11-21T02:33:40.944Z"
   },
   {
    "duration": 191,
    "start_time": "2022-11-21T02:33:41.288Z"
   },
   {
    "duration": 277,
    "start_time": "2022-11-21T02:33:41.481Z"
   },
   {
    "duration": 185,
    "start_time": "2022-11-21T02:33:41.760Z"
   },
   {
    "duration": 307,
    "start_time": "2022-11-21T02:33:41.950Z"
   },
   {
    "duration": 130,
    "start_time": "2022-11-21T02:33:42.259Z"
   },
   {
    "duration": 4,
    "start_time": "2022-11-21T02:33:42.391Z"
   },
   {
    "duration": 141,
    "start_time": "2022-11-21T02:33:42.397Z"
   },
   {
    "duration": 13,
    "start_time": "2022-11-21T02:33:42.540Z"
   },
   {
    "duration": 388,
    "start_time": "2022-11-21T02:33:42.555Z"
   },
   {
    "duration": 14,
    "start_time": "2022-11-21T02:33:42.945Z"
   },
   {
    "duration": 8,
    "start_time": "2022-11-21T02:33:42.961Z"
   },
   {
    "duration": 34,
    "start_time": "2022-11-21T02:33:42.971Z"
   },
   {
    "duration": 13,
    "start_time": "2022-11-21T02:33:43.007Z"
   },
   {
    "duration": 1099,
    "start_time": "2022-11-21T02:34:32.110Z"
   },
   {
    "duration": 27,
    "start_time": "2022-11-21T02:34:33.211Z"
   },
   {
    "duration": 19,
    "start_time": "2022-11-21T02:34:33.240Z"
   },
   {
    "duration": 11,
    "start_time": "2022-11-21T02:34:33.261Z"
   },
   {
    "duration": 13,
    "start_time": "2022-11-21T02:34:33.273Z"
   },
   {
    "duration": 52,
    "start_time": "2022-11-21T02:34:33.288Z"
   },
   {
    "duration": 16,
    "start_time": "2022-11-21T02:34:33.341Z"
   },
   {
    "duration": 15,
    "start_time": "2022-11-21T02:34:33.358Z"
   },
   {
    "duration": 13,
    "start_time": "2022-11-21T02:34:33.374Z"
   },
   {
    "duration": 306,
    "start_time": "2022-11-21T02:34:33.389Z"
   },
   {
    "duration": 6,
    "start_time": "2022-11-21T02:34:33.697Z"
   },
   {
    "duration": 265,
    "start_time": "2022-11-21T02:34:33.704Z"
   },
   {
    "duration": 185,
    "start_time": "2022-11-21T02:34:33.971Z"
   },
   {
    "duration": 302,
    "start_time": "2022-11-21T02:34:34.158Z"
   },
   {
    "duration": 199,
    "start_time": "2022-11-21T02:34:34.461Z"
   },
   {
    "duration": 298,
    "start_time": "2022-11-21T02:34:34.663Z"
   },
   {
    "duration": 126,
    "start_time": "2022-11-21T02:34:34.963Z"
   },
   {
    "duration": 5,
    "start_time": "2022-11-21T02:34:35.092Z"
   },
   {
    "duration": 154,
    "start_time": "2022-11-21T02:34:35.098Z"
   },
   {
    "duration": 5,
    "start_time": "2022-11-21T02:34:35.254Z"
   },
   {
    "duration": 395,
    "start_time": "2022-11-21T02:34:35.261Z"
   },
   {
    "duration": 13,
    "start_time": "2022-11-21T02:34:35.658Z"
   },
   {
    "duration": 9,
    "start_time": "2022-11-21T02:34:35.674Z"
   },
   {
    "duration": 32,
    "start_time": "2022-11-21T02:34:35.685Z"
   },
   {
    "duration": 42,
    "start_time": "2022-11-21T02:34:35.719Z"
   },
   {
    "duration": 1098,
    "start_time": "2022-11-21T02:38:36.597Z"
   },
   {
    "duration": 27,
    "start_time": "2022-11-21T02:38:37.697Z"
   },
   {
    "duration": 19,
    "start_time": "2022-11-21T02:38:37.726Z"
   },
   {
    "duration": 12,
    "start_time": "2022-11-21T02:38:37.747Z"
   },
   {
    "duration": 10,
    "start_time": "2022-11-21T02:38:37.761Z"
   },
   {
    "duration": 54,
    "start_time": "2022-11-21T02:38:37.773Z"
   },
   {
    "duration": 17,
    "start_time": "2022-11-21T02:38:37.828Z"
   },
   {
    "duration": 16,
    "start_time": "2022-11-21T02:38:37.846Z"
   },
   {
    "duration": 13,
    "start_time": "2022-11-21T02:38:37.864Z"
   },
   {
    "duration": 311,
    "start_time": "2022-11-21T02:38:37.880Z"
   },
   {
    "duration": 6,
    "start_time": "2022-11-21T02:38:38.193Z"
   },
   {
    "duration": 264,
    "start_time": "2022-11-21T02:38:38.200Z"
   },
   {
    "duration": 196,
    "start_time": "2022-11-21T02:38:38.466Z"
   },
   {
    "duration": 268,
    "start_time": "2022-11-21T02:38:38.664Z"
   },
   {
    "duration": 186,
    "start_time": "2022-11-21T02:38:38.934Z"
   },
   {
    "duration": 329,
    "start_time": "2022-11-21T02:38:39.123Z"
   },
   {
    "duration": 135,
    "start_time": "2022-11-21T02:38:39.454Z"
   },
   {
    "duration": 5,
    "start_time": "2022-11-21T02:38:39.592Z"
   },
   {
    "duration": 175,
    "start_time": "2022-11-21T02:38:39.599Z"
   },
   {
    "duration": 7,
    "start_time": "2022-11-21T02:38:39.776Z"
   },
   {
    "duration": 436,
    "start_time": "2022-11-21T02:38:39.784Z"
   },
   {
    "duration": 10,
    "start_time": "2022-11-21T02:38:40.222Z"
   },
   {
    "duration": 21,
    "start_time": "2022-11-21T02:38:40.234Z"
   },
   {
    "duration": 31,
    "start_time": "2022-11-21T02:38:40.256Z"
   },
   {
    "duration": 15,
    "start_time": "2022-11-21T02:38:40.288Z"
   },
   {
    "duration": 1100,
    "start_time": "2022-11-21T02:38:52.721Z"
   },
   {
    "duration": 27,
    "start_time": "2022-11-21T02:38:53.823Z"
   },
   {
    "duration": 27,
    "start_time": "2022-11-21T02:38:53.852Z"
   },
   {
    "duration": 12,
    "start_time": "2022-11-21T02:38:53.881Z"
   },
   {
    "duration": 12,
    "start_time": "2022-11-21T02:38:53.895Z"
   },
   {
    "duration": 53,
    "start_time": "2022-11-21T02:38:53.908Z"
   },
   {
    "duration": 19,
    "start_time": "2022-11-21T02:38:53.963Z"
   },
   {
    "duration": 16,
    "start_time": "2022-11-21T02:38:53.984Z"
   },
   {
    "duration": 18,
    "start_time": "2022-11-21T02:38:54.002Z"
   },
   {
    "duration": 303,
    "start_time": "2022-11-21T02:38:54.022Z"
   },
   {
    "duration": 6,
    "start_time": "2022-11-21T02:38:54.327Z"
   },
   {
    "duration": 282,
    "start_time": "2022-11-21T02:38:54.335Z"
   },
   {
    "duration": 183,
    "start_time": "2022-11-21T02:38:54.619Z"
   },
   {
    "duration": 265,
    "start_time": "2022-11-21T02:38:54.804Z"
   },
   {
    "duration": 193,
    "start_time": "2022-11-21T02:38:55.070Z"
   },
   {
    "duration": 297,
    "start_time": "2022-11-21T02:38:55.265Z"
   },
   {
    "duration": 133,
    "start_time": "2022-11-21T02:38:55.563Z"
   },
   {
    "duration": 4,
    "start_time": "2022-11-21T02:38:55.699Z"
   },
   {
    "duration": 141,
    "start_time": "2022-11-21T02:38:55.705Z"
   },
   {
    "duration": 4,
    "start_time": "2022-11-21T02:38:55.850Z"
   },
   {
    "duration": 373,
    "start_time": "2022-11-21T02:38:55.855Z"
   },
   {
    "duration": 10,
    "start_time": "2022-11-21T02:38:56.229Z"
   },
   {
    "duration": 8,
    "start_time": "2022-11-21T02:38:56.250Z"
   },
   {
    "duration": 29,
    "start_time": "2022-11-21T02:38:56.260Z"
   },
   {
    "duration": 13,
    "start_time": "2022-11-21T02:38:56.291Z"
   },
   {
    "duration": 64,
    "start_time": "2022-11-21T13:55:17.733Z"
   },
   {
    "duration": 1235,
    "start_time": "2022-11-21T13:55:28.054Z"
   },
   {
    "duration": 66,
    "start_time": "2022-11-21T13:55:29.291Z"
   },
   {
    "duration": 19,
    "start_time": "2022-11-21T13:55:29.359Z"
   },
   {
    "duration": 10,
    "start_time": "2022-11-21T13:55:29.379Z"
   },
   {
    "duration": 10,
    "start_time": "2022-11-21T13:55:29.391Z"
   },
   {
    "duration": 120,
    "start_time": "2022-11-21T13:55:29.403Z"
   },
   {
    "duration": 16,
    "start_time": "2022-11-21T13:55:29.524Z"
   },
   {
    "duration": 24,
    "start_time": "2022-11-21T13:55:29.542Z"
   },
   {
    "duration": 20,
    "start_time": "2022-11-21T13:55:29.567Z"
   },
   {
    "duration": 295,
    "start_time": "2022-11-21T13:55:29.589Z"
   },
   {
    "duration": 5,
    "start_time": "2022-11-21T13:55:29.886Z"
   },
   {
    "duration": 245,
    "start_time": "2022-11-21T13:55:29.905Z"
   },
   {
    "duration": 187,
    "start_time": "2022-11-21T13:55:30.152Z"
   },
   {
    "duration": 289,
    "start_time": "2022-11-21T13:55:30.342Z"
   },
   {
    "duration": 164,
    "start_time": "2022-11-21T13:55:30.633Z"
   },
   {
    "duration": 283,
    "start_time": "2022-11-21T13:55:30.799Z"
   },
   {
    "duration": 123,
    "start_time": "2022-11-21T13:55:31.084Z"
   },
   {
    "duration": 4,
    "start_time": "2022-11-21T13:55:31.208Z"
   },
   {
    "duration": 140,
    "start_time": "2022-11-21T13:55:31.213Z"
   },
   {
    "duration": 4,
    "start_time": "2022-11-21T13:55:31.354Z"
   },
   {
    "duration": 346,
    "start_time": "2022-11-21T13:55:31.359Z"
   },
   {
    "duration": 9,
    "start_time": "2022-11-21T13:55:31.707Z"
   },
   {
    "duration": 23,
    "start_time": "2022-11-21T13:55:31.717Z"
   },
   {
    "duration": 35,
    "start_time": "2022-11-21T13:55:31.741Z"
   },
   {
    "duration": 1462,
    "start_time": "2022-11-21T13:55:31.777Z"
   },
   {
    "duration": 0,
    "start_time": "2022-11-21T13:55:33.241Z"
   },
   {
    "duration": 27,
    "start_time": "2022-11-21T13:56:02.724Z"
   },
   {
    "duration": 14,
    "start_time": "2022-11-21T13:59:26.008Z"
   },
   {
    "duration": 1248,
    "start_time": "2022-11-22T03:04:38.934Z"
   },
   {
    "duration": 73,
    "start_time": "2022-11-22T03:04:40.184Z"
   },
   {
    "duration": 20,
    "start_time": "2022-11-22T03:04:40.258Z"
   },
   {
    "duration": 37,
    "start_time": "2022-11-22T03:04:40.279Z"
   },
   {
    "duration": 20,
    "start_time": "2022-11-22T03:04:40.318Z"
   },
   {
    "duration": 147,
    "start_time": "2022-11-22T03:04:40.339Z"
   },
   {
    "duration": 15,
    "start_time": "2022-11-22T03:04:40.488Z"
   },
   {
    "duration": 24,
    "start_time": "2022-11-22T03:04:40.505Z"
   },
   {
    "duration": 31,
    "start_time": "2022-11-22T03:04:40.531Z"
   },
   {
    "duration": 274,
    "start_time": "2022-11-22T03:04:40.564Z"
   },
   {
    "duration": 6,
    "start_time": "2022-11-22T03:04:40.839Z"
   },
   {
    "duration": 248,
    "start_time": "2022-11-22T03:04:40.847Z"
   },
   {
    "duration": 178,
    "start_time": "2022-11-22T03:04:41.097Z"
   },
   {
    "duration": 371,
    "start_time": "2022-11-22T03:04:41.277Z"
   },
   {
    "duration": 178,
    "start_time": "2022-11-22T03:04:41.649Z"
   },
   {
    "duration": 273,
    "start_time": "2022-11-22T03:04:41.829Z"
   },
   {
    "duration": 125,
    "start_time": "2022-11-22T03:04:42.104Z"
   },
   {
    "duration": 4,
    "start_time": "2022-11-22T03:04:42.230Z"
   },
   {
    "duration": 125,
    "start_time": "2022-11-22T03:04:42.236Z"
   },
   {
    "duration": 4,
    "start_time": "2022-11-22T03:04:42.362Z"
   },
   {
    "duration": 343,
    "start_time": "2022-11-22T03:04:42.368Z"
   },
   {
    "duration": 13,
    "start_time": "2022-11-22T03:04:42.713Z"
   },
   {
    "duration": 7,
    "start_time": "2022-11-22T03:04:42.728Z"
   },
   {
    "duration": 25,
    "start_time": "2022-11-22T03:04:42.737Z"
   },
   {
    "duration": 12,
    "start_time": "2022-11-22T03:04:42.764Z"
   },
   {
    "duration": 31,
    "start_time": "2022-11-22T03:04:56.962Z"
   },
   {
    "duration": 22,
    "start_time": "2022-11-22T03:05:24.147Z"
   },
   {
    "duration": 1058,
    "start_time": "2022-11-22T03:05:40.614Z"
   },
   {
    "duration": 29,
    "start_time": "2022-11-22T03:05:41.673Z"
   },
   {
    "duration": 19,
    "start_time": "2022-11-22T03:05:41.704Z"
   },
   {
    "duration": 11,
    "start_time": "2022-11-22T03:05:41.725Z"
   },
   {
    "duration": 10,
    "start_time": "2022-11-22T03:05:41.737Z"
   },
   {
    "duration": 54,
    "start_time": "2022-11-22T03:05:41.748Z"
   },
   {
    "duration": 15,
    "start_time": "2022-11-22T03:05:41.804Z"
   },
   {
    "duration": 18,
    "start_time": "2022-11-22T03:05:41.820Z"
   },
   {
    "duration": 18,
    "start_time": "2022-11-22T03:05:41.840Z"
   },
   {
    "duration": 275,
    "start_time": "2022-11-22T03:05:41.861Z"
   },
   {
    "duration": 6,
    "start_time": "2022-11-22T03:05:42.137Z"
   },
   {
    "duration": 239,
    "start_time": "2022-11-22T03:05:42.144Z"
   },
   {
    "duration": 165,
    "start_time": "2022-11-22T03:05:42.384Z"
   },
   {
    "duration": 248,
    "start_time": "2022-11-22T03:05:42.550Z"
   },
   {
    "duration": 166,
    "start_time": "2022-11-22T03:05:42.799Z"
   },
   {
    "duration": 249,
    "start_time": "2022-11-22T03:05:42.967Z"
   },
   {
    "duration": 119,
    "start_time": "2022-11-22T03:05:43.217Z"
   },
   {
    "duration": 4,
    "start_time": "2022-11-22T03:05:43.337Z"
   },
   {
    "duration": 126,
    "start_time": "2022-11-22T03:05:43.343Z"
   },
   {
    "duration": 3,
    "start_time": "2022-11-22T03:05:43.471Z"
   },
   {
    "duration": 753,
    "start_time": "2022-11-22T03:05:43.476Z"
   },
   {
    "duration": 10,
    "start_time": "2022-11-22T03:05:44.231Z"
   },
   {
    "duration": 8,
    "start_time": "2022-11-22T03:05:44.242Z"
   },
   {
    "duration": 78,
    "start_time": "2022-11-22T03:05:44.251Z"
   },
   {
    "duration": 15,
    "start_time": "2022-11-22T03:05:44.330Z"
   },
   {
    "duration": 4,
    "start_time": "2022-11-22T03:50:45.759Z"
   },
   {
    "duration": 29,
    "start_time": "2022-11-22T03:50:46.273Z"
   },
   {
    "duration": 16,
    "start_time": "2022-11-22T03:50:47.280Z"
   },
   {
    "duration": 96,
    "start_time": "2022-11-22T03:51:16.135Z"
   },
   {
    "duration": 12,
    "start_time": "2022-11-22T03:51:26.700Z"
   },
   {
    "duration": 16,
    "start_time": "2022-11-22T03:51:39.857Z"
   },
   {
    "duration": 7,
    "start_time": "2022-11-22T03:51:52.410Z"
   },
   {
    "duration": 6,
    "start_time": "2022-11-22T03:52:00.889Z"
   },
   {
    "duration": 1210,
    "start_time": "2022-11-22T03:55:44.690Z"
   },
   {
    "duration": 4,
    "start_time": "2022-11-22T03:56:05.655Z"
   },
   {
    "duration": 5,
    "start_time": "2022-11-22T03:56:13.842Z"
   },
   {
    "duration": 84,
    "start_time": "2022-11-22T03:59:09.024Z"
   },
   {
    "duration": 12,
    "start_time": "2022-11-22T03:59:20.049Z"
   },
   {
    "duration": 6,
    "start_time": "2022-11-22T03:59:56.533Z"
   },
   {
    "duration": 7,
    "start_time": "2022-11-22T04:00:01.626Z"
   },
   {
    "duration": 5,
    "start_time": "2022-11-22T04:00:06.299Z"
   },
   {
    "duration": 6,
    "start_time": "2022-11-22T04:00:07.075Z"
   },
   {
    "duration": 299,
    "start_time": "2022-11-22T04:00:07.618Z"
   },
   {
    "duration": 13,
    "start_time": "2022-11-22T04:00:40.587Z"
   },
   {
    "duration": 14,
    "start_time": "2022-11-22T04:00:57.340Z"
   },
   {
    "duration": 12,
    "start_time": "2022-11-22T04:01:07.403Z"
   },
   {
    "duration": 18,
    "start_time": "2022-11-22T04:01:29.468Z"
   },
   {
    "duration": 11,
    "start_time": "2022-11-22T04:01:36.203Z"
   },
   {
    "duration": 13,
    "start_time": "2022-11-22T04:01:53.603Z"
   },
   {
    "duration": 14,
    "start_time": "2022-11-22T04:02:07.853Z"
   },
   {
    "duration": 258,
    "start_time": "2022-11-22T04:09:56.935Z"
   },
   {
    "duration": 177,
    "start_time": "2022-11-22T04:10:43.656Z"
   },
   {
    "duration": 176,
    "start_time": "2022-11-22T04:11:06.769Z"
   },
   {
    "duration": 169,
    "start_time": "2022-11-22T04:11:49.671Z"
   },
   {
    "duration": 192,
    "start_time": "2022-11-22T04:12:36.854Z"
   },
   {
    "duration": 195,
    "start_time": "2022-11-22T04:12:46.111Z"
   },
   {
    "duration": 184,
    "start_time": "2022-11-22T04:12:52.295Z"
   },
   {
    "duration": 198,
    "start_time": "2022-11-22T04:12:58.008Z"
   },
   {
    "duration": 313,
    "start_time": "2022-11-22T04:14:51.088Z"
   },
   {
    "duration": 77,
    "start_time": "2022-11-22T04:14:59.863Z"
   },
   {
    "duration": 188,
    "start_time": "2022-11-22T04:15:05.573Z"
   },
   {
    "duration": 217,
    "start_time": "2022-11-22T04:15:11.609Z"
   },
   {
    "duration": 176,
    "start_time": "2022-11-22T04:15:15.440Z"
   },
   {
    "duration": 265,
    "start_time": "2022-11-22T04:16:46.833Z"
   },
   {
    "duration": 195,
    "start_time": "2022-11-22T04:17:01.609Z"
   },
   {
    "duration": 170,
    "start_time": "2022-11-22T04:17:07.881Z"
   },
   {
    "duration": 180,
    "start_time": "2022-11-22T04:17:15.305Z"
   },
   {
    "duration": 198,
    "start_time": "2022-11-22T04:17:24.472Z"
   },
   {
    "duration": 191,
    "start_time": "2022-11-22T04:23:56.510Z"
   },
   {
    "duration": 189,
    "start_time": "2022-11-22T04:24:26.084Z"
   },
   {
    "duration": 320,
    "start_time": "2022-11-22T04:27:54.621Z"
   },
   {
    "duration": 273,
    "start_time": "2022-11-22T04:28:20.253Z"
   },
   {
    "duration": 284,
    "start_time": "2022-11-22T04:28:40.038Z"
   },
   {
    "duration": 185,
    "start_time": "2022-11-22T04:28:59.340Z"
   },
   {
    "duration": 185,
    "start_time": "2022-11-22T04:29:17.527Z"
   },
   {
    "duration": 342,
    "start_time": "2022-11-22T04:29:33.597Z"
   },
   {
    "duration": 275,
    "start_time": "2022-11-22T04:29:46.822Z"
   },
   {
    "duration": 299,
    "start_time": "2022-11-22T04:30:16.496Z"
   },
   {
    "duration": 257,
    "start_time": "2022-11-22T04:30:53.846Z"
   },
   {
    "duration": 144,
    "start_time": "2022-11-22T04:31:37.318Z"
   },
   {
    "duration": 134,
    "start_time": "2022-11-22T04:31:53.414Z"
   },
   {
    "duration": 194,
    "start_time": "2022-11-22T04:32:14.870Z"
   },
   {
    "duration": 151,
    "start_time": "2022-11-22T04:32:55.119Z"
   },
   {
    "duration": 147,
    "start_time": "2022-11-22T04:33:04.743Z"
   },
   {
    "duration": 148,
    "start_time": "2022-11-22T04:33:21.005Z"
   },
   {
    "duration": 146,
    "start_time": "2022-11-22T04:33:38.764Z"
   },
   {
    "duration": 159,
    "start_time": "2022-11-22T04:37:35.952Z"
   },
   {
    "duration": 5,
    "start_time": "2022-11-22T04:39:03.961Z"
   },
   {
    "duration": 5,
    "start_time": "2022-11-22T04:39:10.305Z"
   },
   {
    "duration": 7,
    "start_time": "2022-11-22T04:39:27.121Z"
   },
   {
    "duration": 5,
    "start_time": "2022-11-22T04:39:32.161Z"
   },
   {
    "duration": 4,
    "start_time": "2022-11-22T04:39:36.847Z"
   },
   {
    "duration": 4,
    "start_time": "2022-11-22T04:39:40.417Z"
   },
   {
    "duration": 366,
    "start_time": "2022-11-22T04:47:20.568Z"
   },
   {
    "duration": 363,
    "start_time": "2022-11-22T04:48:50.402Z"
   },
   {
    "duration": 360,
    "start_time": "2022-11-22T04:49:17.004Z"
   },
   {
    "duration": 382,
    "start_time": "2022-11-22T04:49:21.953Z"
   },
   {
    "duration": 10,
    "start_time": "2022-11-22T04:50:35.690Z"
   },
   {
    "duration": 10,
    "start_time": "2022-11-22T04:50:47.763Z"
   },
   {
    "duration": 14,
    "start_time": "2022-11-22T04:53:13.892Z"
   },
   {
    "duration": 13,
    "start_time": "2022-11-22T04:53:21.156Z"
   },
   {
    "duration": 1051,
    "start_time": "2022-11-22T04:53:35.069Z"
   },
   {
    "duration": 29,
    "start_time": "2022-11-22T04:53:36.122Z"
   },
   {
    "duration": 18,
    "start_time": "2022-11-22T04:53:36.152Z"
   },
   {
    "duration": 14,
    "start_time": "2022-11-22T04:53:36.172Z"
   },
   {
    "duration": 20,
    "start_time": "2022-11-22T04:53:36.188Z"
   },
   {
    "duration": 69,
    "start_time": "2022-11-22T04:53:36.209Z"
   },
   {
    "duration": 16,
    "start_time": "2022-11-22T04:53:36.279Z"
   },
   {
    "duration": 23,
    "start_time": "2022-11-22T04:53:36.296Z"
   },
   {
    "duration": 33,
    "start_time": "2022-11-22T04:53:36.320Z"
   },
   {
    "duration": 11,
    "start_time": "2022-11-22T04:53:36.356Z"
   },
   {
    "duration": 26,
    "start_time": "2022-11-22T04:53:36.368Z"
   },
   {
    "duration": 17,
    "start_time": "2022-11-22T04:53:36.396Z"
   },
   {
    "duration": 27,
    "start_time": "2022-11-22T04:53:36.415Z"
   },
   {
    "duration": 262,
    "start_time": "2022-11-22T04:53:36.444Z"
   },
   {
    "duration": 5,
    "start_time": "2022-11-22T04:53:36.708Z"
   },
   {
    "duration": 265,
    "start_time": "2022-11-22T04:53:36.722Z"
   },
   {
    "duration": 200,
    "start_time": "2022-11-22T04:53:36.988Z"
   },
   {
    "duration": 336,
    "start_time": "2022-11-22T04:53:37.189Z"
   },
   {
    "duration": 199,
    "start_time": "2022-11-22T04:53:37.527Z"
   },
   {
    "duration": 296,
    "start_time": "2022-11-22T04:53:37.728Z"
   },
   {
    "duration": 138,
    "start_time": "2022-11-22T04:53:38.025Z"
   },
   {
    "duration": 4,
    "start_time": "2022-11-22T04:53:38.164Z"
   },
   {
    "duration": 158,
    "start_time": "2022-11-22T04:53:38.169Z"
   },
   {
    "duration": 150,
    "start_time": "2022-11-22T04:53:38.329Z"
   },
   {
    "duration": 5,
    "start_time": "2022-11-22T04:53:38.480Z"
   },
   {
    "duration": 26,
    "start_time": "2022-11-22T04:53:38.486Z"
   },
   {
    "duration": 418,
    "start_time": "2022-11-22T04:53:38.513Z"
   },
   {
    "duration": 10,
    "start_time": "2022-11-22T04:53:38.934Z"
   },
   {
    "duration": 30,
    "start_time": "2022-11-22T04:53:38.946Z"
   },
   {
    "duration": 29,
    "start_time": "2022-11-22T04:53:38.978Z"
   },
   {
    "duration": 13,
    "start_time": "2022-11-22T04:53:39.009Z"
   },
   {
    "duration": 1026,
    "start_time": "2022-11-23T01:30:26.544Z"
   },
   {
    "duration": 28,
    "start_time": "2022-11-23T01:30:27.572Z"
   },
   {
    "duration": 18,
    "start_time": "2022-11-23T01:30:27.602Z"
   },
   {
    "duration": 11,
    "start_time": "2022-11-23T01:30:27.623Z"
   },
   {
    "duration": 13,
    "start_time": "2022-11-23T01:30:27.635Z"
   },
   {
    "duration": 63,
    "start_time": "2022-11-23T01:30:27.649Z"
   },
   {
    "duration": 15,
    "start_time": "2022-11-23T01:30:27.713Z"
   },
   {
    "duration": 14,
    "start_time": "2022-11-23T01:30:27.729Z"
   },
   {
    "duration": 14,
    "start_time": "2022-11-23T01:30:27.744Z"
   },
   {
    "duration": 5,
    "start_time": "2022-11-23T01:30:27.760Z"
   },
   {
    "duration": 13,
    "start_time": "2022-11-23T01:30:27.766Z"
   },
   {
    "duration": 8,
    "start_time": "2022-11-23T01:30:27.781Z"
   },
   {
    "duration": 33,
    "start_time": "2022-11-23T01:30:27.790Z"
   },
   {
    "duration": 271,
    "start_time": "2022-11-23T01:30:27.824Z"
   },
   {
    "duration": 6,
    "start_time": "2022-11-23T01:30:28.097Z"
   },
   {
    "duration": 278,
    "start_time": "2022-11-23T01:30:28.105Z"
   },
   {
    "duration": 206,
    "start_time": "2022-11-23T01:30:28.385Z"
   },
   {
    "duration": 315,
    "start_time": "2022-11-23T01:30:28.593Z"
   },
   {
    "duration": 191,
    "start_time": "2022-11-23T01:30:28.915Z"
   },
   {
    "duration": 299,
    "start_time": "2022-11-23T01:30:29.108Z"
   },
   {
    "duration": 141,
    "start_time": "2022-11-23T01:30:29.409Z"
   },
   {
    "duration": 4,
    "start_time": "2022-11-23T01:30:29.552Z"
   },
   {
    "duration": 158,
    "start_time": "2022-11-23T01:30:29.558Z"
   },
   {
    "duration": 156,
    "start_time": "2022-11-23T01:30:29.718Z"
   },
   {
    "duration": 5,
    "start_time": "2022-11-23T01:30:29.875Z"
   },
   {
    "duration": 14,
    "start_time": "2022-11-23T01:30:29.881Z"
   },
   {
    "duration": 419,
    "start_time": "2022-11-23T01:30:29.896Z"
   },
   {
    "duration": 10,
    "start_time": "2022-11-23T01:30:30.318Z"
   },
   {
    "duration": 31,
    "start_time": "2022-11-23T01:30:30.329Z"
   },
   {
    "duration": 44,
    "start_time": "2022-11-23T01:30:30.361Z"
   },
   {
    "duration": 14,
    "start_time": "2022-11-23T01:30:30.406Z"
   },
   {
    "duration": 37,
    "start_time": "2022-11-23T01:57:06.254Z"
   },
   {
    "duration": 1225,
    "start_time": "2022-11-24T01:22:58.469Z"
   },
   {
    "duration": 57,
    "start_time": "2022-11-24T01:22:59.696Z"
   },
   {
    "duration": 21,
    "start_time": "2022-11-24T01:22:59.754Z"
   },
   {
    "duration": 15,
    "start_time": "2022-11-24T01:22:59.776Z"
   },
   {
    "duration": 15,
    "start_time": "2022-11-24T01:22:59.793Z"
   },
   {
    "duration": 131,
    "start_time": "2022-11-24T01:22:59.810Z"
   },
   {
    "duration": 16,
    "start_time": "2022-11-24T01:22:59.942Z"
   },
   {
    "duration": 20,
    "start_time": "2022-11-24T01:22:59.959Z"
   },
   {
    "duration": 22,
    "start_time": "2022-11-24T01:22:59.981Z"
   },
   {
    "duration": 22,
    "start_time": "2022-11-24T01:23:00.005Z"
   },
   {
    "duration": 17,
    "start_time": "2022-11-24T01:23:00.029Z"
   },
   {
    "duration": 10,
    "start_time": "2022-11-24T01:23:00.048Z"
   },
   {
    "duration": 18,
    "start_time": "2022-11-24T01:23:00.059Z"
   },
   {
    "duration": 264,
    "start_time": "2022-11-24T01:23:00.079Z"
   },
   {
    "duration": 6,
    "start_time": "2022-11-24T01:23:00.345Z"
   },
   {
    "duration": 287,
    "start_time": "2022-11-24T01:23:00.352Z"
   },
   {
    "duration": 200,
    "start_time": "2022-11-24T01:23:00.641Z"
   },
   {
    "duration": 339,
    "start_time": "2022-11-24T01:23:00.843Z"
   },
   {
    "duration": 193,
    "start_time": "2022-11-24T01:23:01.184Z"
   },
   {
    "duration": 264,
    "start_time": "2022-11-24T01:23:01.378Z"
   },
   {
    "duration": 142,
    "start_time": "2022-11-24T01:23:01.644Z"
   },
   {
    "duration": 4,
    "start_time": "2022-11-24T01:23:01.788Z"
   },
   {
    "duration": 171,
    "start_time": "2022-11-24T01:23:01.794Z"
   },
   {
    "duration": 164,
    "start_time": "2022-11-24T01:23:01.966Z"
   },
   {
    "duration": 6,
    "start_time": "2022-11-24T01:23:02.132Z"
   },
   {
    "duration": 25,
    "start_time": "2022-11-24T01:23:02.140Z"
   },
   {
    "duration": 475,
    "start_time": "2022-11-24T01:23:02.167Z"
   },
   {
    "duration": 10,
    "start_time": "2022-11-24T01:23:02.643Z"
   },
   {
    "duration": 10,
    "start_time": "2022-11-24T01:23:02.654Z"
   },
   {
    "duration": 36,
    "start_time": "2022-11-24T01:23:02.666Z"
   },
   {
    "duration": 13,
    "start_time": "2022-11-24T01:23:02.703Z"
   }
  ],
  "kernelspec": {
   "display_name": "Python 3 (ipykernel)",
   "language": "python",
   "name": "python3"
  },
  "language_info": {
   "codemirror_mode": {
    "name": "ipython",
    "version": 3
   },
   "file_extension": ".py",
   "mimetype": "text/x-python",
   "name": "python",
   "nbconvert_exporter": "python",
   "pygments_lexer": "ipython3",
   "version": "3.9.5"
  },
  "toc": {
   "base_numbering": 1,
   "nav_menu": {},
   "number_sections": true,
   "sideBar": true,
   "skip_h1_title": true,
   "title_cell": "Table of Contents",
   "title_sidebar": "Contents",
   "toc_cell": false,
   "toc_position": {
    "height": "calc(100% - 180px)",
    "left": "10px",
    "top": "150px",
    "width": "331.264px"
   },
   "toc_section_display": true,
   "toc_window_display": false
  }
 },
 "nbformat": 4,
 "nbformat_minor": 2
}
