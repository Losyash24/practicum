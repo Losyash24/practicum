{
 "cells": [
  {
   "cell_type": "markdown",
   "metadata": {},
   "source": [
    "# Анализ изменений мобильного приложения на группах пользователей"
   ]
  },
  {
   "cell_type": "markdown",
   "metadata": {},
   "source": [
    "### Цели и задачи проекта\n",
    "\n",
    "Мы работаем в стартапе, который продаёт продукты питания. Нужно разобраться, как ведут себя пользователи мобильного приложения.\n",
    "Необходимо изучить воронку продаж. Узнать, как пользователи доходят до покупки. Сколько пользователей доходит до покупки, а сколько — «застревает» на предыдущих шагах? На каких именно?\n",
    "\n",
    "После этого нужно исследовать результаты A/A/B-эксперимента. Дизайнеры захотели поменять шрифты во всём приложении, а менеджеры испугались, что пользователям будет непривычно. Договорились принять решение по результатам A/A/B-теста. Пользователей разбили на 3 группы: 2 контрольные со старыми шрифтами и одну экспериментальную — с новыми. Нужно выяснить, какой шрифт лучше.\n"
   ]
  },
  {
   "cell_type": "markdown",
   "metadata": {},
   "source": [
    "### План проекта\n",
    "\n",
    "- Шаг 1. Загрузка данных и изучение общей информации\n",
    "- Шаг 2. Подготовка данных\n",
    "- Шаг 3. Проверка данных\n",
    "- Шаг 4. Исследование воронки событий\n",
    "- Шаг 5. Анализ результатов эксперимента\n"
   ]
  },
  {
   "cell_type": "markdown",
   "metadata": {},
   "source": [
    "### Описание данных\n",
    "\n",
    "Путь к файлу: /datasets/logs_exp.csv\n",
    "\n",
    "Каждая запись в логе — это действие пользователя, или событие.\n",
    "- EventName — название события;\n",
    "- DeviceIDHash — уникальный идентификатор пользователя;\n",
    "- EventTimestamp — время события;\n",
    "- ExpId — номер эксперимента: 246 и 247 — контрольные группы, а 248 — экспериментальная.\n"
   ]
  },
  {
   "cell_type": "markdown",
   "metadata": {},
   "source": [
    "### Загрузка  и подготовка данных"
   ]
  },
  {
   "cell_type": "code",
   "execution_count": 1,
   "metadata": {},
   "outputs": [],
   "source": [
    "import pandas as pd\n",
    "import datetime as dt\n",
    "import numpy as np\n",
    "import matplotlib.pyplot as plt\n",
    "import scipy.stats as st\n",
    "import math as mth\n",
    "from plotly import graph_objects as go\n",
    "\n",
    "\n",
    "from pandas.plotting import register_matplotlib_converters\n",
    "import warnings\n",
    "# конвертеры, которые позволяют использовать типы pandas в matplotlib  \n",
    "register_matplotlib_converters()\n",
    "\n"
   ]
  },
  {
   "cell_type": "code",
   "execution_count": 2,
   "metadata": {},
   "outputs": [],
   "source": [
    "#Загружаем данные\n",
    "df = pd.read_csv('/datasets/logs_exp.csv', sep='\\t')\n",
    "df.head(10)\n",
    "#Изменение названий столбцов\n",
    "df.columns = ['event_name', 'user_id','datetimestamp','group'] "
   ]
  },
  {
   "cell_type": "code",
   "execution_count": 3,
   "metadata": {},
   "outputs": [
    {
     "name": "stdout",
     "output_type": "stream",
     "text": [
      "<class 'pandas.core.frame.DataFrame'>\n",
      "RangeIndex: 244126 entries, 0 to 244125\n",
      "Data columns (total 6 columns):\n",
      " #   Column         Non-Null Count   Dtype         \n",
      "---  ------         --------------   -----         \n",
      " 0   event_name     244126 non-null  object        \n",
      " 1   user_id        244126 non-null  int64         \n",
      " 2   datetimestamp  244126 non-null  int64         \n",
      " 3   group          244126 non-null  int64         \n",
      " 4   datetime       244126 non-null  datetime64[ns]\n",
      " 5   date           244126 non-null  object        \n",
      "dtypes: datetime64[ns](1), int64(3), object(2)\n",
      "memory usage: 11.2+ MB\n"
     ]
    },
    {
     "data": {
      "text/html": [
       "<div>\n",
       "<style scoped>\n",
       "    .dataframe tbody tr th:only-of-type {\n",
       "        vertical-align: middle;\n",
       "    }\n",
       "\n",
       "    .dataframe tbody tr th {\n",
       "        vertical-align: top;\n",
       "    }\n",
       "\n",
       "    .dataframe thead th {\n",
       "        text-align: right;\n",
       "    }\n",
       "</style>\n",
       "<table border=\"1\" class=\"dataframe\">\n",
       "  <thead>\n",
       "    <tr style=\"text-align: right;\">\n",
       "      <th></th>\n",
       "      <th>event_name</th>\n",
       "      <th>user_id</th>\n",
       "      <th>datetimestamp</th>\n",
       "      <th>group</th>\n",
       "      <th>datetime</th>\n",
       "      <th>date</th>\n",
       "    </tr>\n",
       "  </thead>\n",
       "  <tbody>\n",
       "    <tr>\n",
       "      <th>0</th>\n",
       "      <td>MainScreenAppear</td>\n",
       "      <td>4575588528974610257</td>\n",
       "      <td>1564029816</td>\n",
       "      <td>246</td>\n",
       "      <td>2019-07-25 04:43:36</td>\n",
       "      <td>2019-07-25</td>\n",
       "    </tr>\n",
       "    <tr>\n",
       "      <th>1</th>\n",
       "      <td>MainScreenAppear</td>\n",
       "      <td>7416695313311560658</td>\n",
       "      <td>1564053102</td>\n",
       "      <td>246</td>\n",
       "      <td>2019-07-25 11:11:42</td>\n",
       "      <td>2019-07-25</td>\n",
       "    </tr>\n",
       "    <tr>\n",
       "      <th>2</th>\n",
       "      <td>PaymentScreenSuccessful</td>\n",
       "      <td>3518123091307005509</td>\n",
       "      <td>1564054127</td>\n",
       "      <td>248</td>\n",
       "      <td>2019-07-25 11:28:47</td>\n",
       "      <td>2019-07-25</td>\n",
       "    </tr>\n",
       "    <tr>\n",
       "      <th>3</th>\n",
       "      <td>CartScreenAppear</td>\n",
       "      <td>3518123091307005509</td>\n",
       "      <td>1564054127</td>\n",
       "      <td>248</td>\n",
       "      <td>2019-07-25 11:28:47</td>\n",
       "      <td>2019-07-25</td>\n",
       "    </tr>\n",
       "    <tr>\n",
       "      <th>4</th>\n",
       "      <td>PaymentScreenSuccessful</td>\n",
       "      <td>6217807653094995999</td>\n",
       "      <td>1564055322</td>\n",
       "      <td>248</td>\n",
       "      <td>2019-07-25 11:48:42</td>\n",
       "      <td>2019-07-25</td>\n",
       "    </tr>\n",
       "    <tr>\n",
       "      <th>5</th>\n",
       "      <td>CartScreenAppear</td>\n",
       "      <td>6217807653094995999</td>\n",
       "      <td>1564055323</td>\n",
       "      <td>248</td>\n",
       "      <td>2019-07-25 11:48:43</td>\n",
       "      <td>2019-07-25</td>\n",
       "    </tr>\n",
       "    <tr>\n",
       "      <th>6</th>\n",
       "      <td>OffersScreenAppear</td>\n",
       "      <td>8351860793733343758</td>\n",
       "      <td>1564066242</td>\n",
       "      <td>246</td>\n",
       "      <td>2019-07-25 14:50:42</td>\n",
       "      <td>2019-07-25</td>\n",
       "    </tr>\n",
       "    <tr>\n",
       "      <th>7</th>\n",
       "      <td>MainScreenAppear</td>\n",
       "      <td>5682100281902512875</td>\n",
       "      <td>1564085677</td>\n",
       "      <td>246</td>\n",
       "      <td>2019-07-25 20:14:37</td>\n",
       "      <td>2019-07-25</td>\n",
       "    </tr>\n",
       "    <tr>\n",
       "      <th>8</th>\n",
       "      <td>MainScreenAppear</td>\n",
       "      <td>1850981295691852772</td>\n",
       "      <td>1564086702</td>\n",
       "      <td>247</td>\n",
       "      <td>2019-07-25 20:31:42</td>\n",
       "      <td>2019-07-25</td>\n",
       "    </tr>\n",
       "    <tr>\n",
       "      <th>9</th>\n",
       "      <td>MainScreenAppear</td>\n",
       "      <td>5407636962369102641</td>\n",
       "      <td>1564112112</td>\n",
       "      <td>246</td>\n",
       "      <td>2019-07-26 03:35:12</td>\n",
       "      <td>2019-07-26</td>\n",
       "    </tr>\n",
       "  </tbody>\n",
       "</table>\n",
       "</div>"
      ],
      "text/plain": [
       "                event_name              user_id  datetimestamp  group  \\\n",
       "0         MainScreenAppear  4575588528974610257     1564029816    246   \n",
       "1         MainScreenAppear  7416695313311560658     1564053102    246   \n",
       "2  PaymentScreenSuccessful  3518123091307005509     1564054127    248   \n",
       "3         CartScreenAppear  3518123091307005509     1564054127    248   \n",
       "4  PaymentScreenSuccessful  6217807653094995999     1564055322    248   \n",
       "5         CartScreenAppear  6217807653094995999     1564055323    248   \n",
       "6       OffersScreenAppear  8351860793733343758     1564066242    246   \n",
       "7         MainScreenAppear  5682100281902512875     1564085677    246   \n",
       "8         MainScreenAppear  1850981295691852772     1564086702    247   \n",
       "9         MainScreenAppear  5407636962369102641     1564112112    246   \n",
       "\n",
       "             datetime        date  \n",
       "0 2019-07-25 04:43:36  2019-07-25  \n",
       "1 2019-07-25 11:11:42  2019-07-25  \n",
       "2 2019-07-25 11:28:47  2019-07-25  \n",
       "3 2019-07-25 11:28:47  2019-07-25  \n",
       "4 2019-07-25 11:48:42  2019-07-25  \n",
       "5 2019-07-25 11:48:43  2019-07-25  \n",
       "6 2019-07-25 14:50:42  2019-07-25  \n",
       "7 2019-07-25 20:14:37  2019-07-25  \n",
       "8 2019-07-25 20:31:42  2019-07-25  \n",
       "9 2019-07-26 03:35:12  2019-07-26  "
      ]
     },
     "execution_count": 3,
     "metadata": {},
     "output_type": "execute_result"
    }
   ],
   "source": [
    "#Добавление столбцов даты и времени, столбца с датой\n",
    "df['datetime']=pd.to_datetime (df['datetimestamp'], unit='s')\n",
    "df[\"date\"] = df[\"datetime\"].dt.date\n",
    "df.info()\n",
    "df.head(10)\n"
   ]
  },
  {
   "cell_type": "code",
   "execution_count": 4,
   "metadata": {},
   "outputs": [
    {
     "data": {
      "text/plain": [
       "413"
      ]
     },
     "execution_count": 4,
     "metadata": {},
     "output_type": "execute_result"
    }
   ],
   "source": [
    "#Ищем и удаляем дубликаты\n",
    "df.duplicated().sum()\n"
   ]
  },
  {
   "cell_type": "code",
   "execution_count": 5,
   "metadata": {},
   "outputs": [
    {
     "name": "stdout",
     "output_type": "stream",
     "text": [
      "0.16917493425526162\n"
     ]
    }
   ],
   "source": [
    "print(100*df.duplicated().sum()/df['event_name'].count())"
   ]
  },
  {
   "cell_type": "markdown",
   "metadata": {},
   "source": [
    "<div class=\"alert alert-info\"> <b>Комментарий студента:</b> Доля дубликатов менее 0,2%. Величина не критичная, поэтому смело избавимся от них</div>"
   ]
  },
  {
   "cell_type": "code",
   "execution_count": 6,
   "metadata": {},
   "outputs": [],
   "source": [
    "df = df.drop_duplicates()\n"
   ]
  },
  {
   "cell_type": "markdown",
   "metadata": {},
   "source": [
    "#### Вывод по пункту\n",
    "\n",
    "Данные были загружены. Проущенные значения отсутствуют. Названия заголовков привел к читабельному виду, интуитивно более подходящие по смыслу. Были удалены дубликаты. Добавил все столбца с датой/временем и датой"
   ]
  },
  {
   "cell_type": "code",
   "execution_count": 7,
   "metadata": {},
   "outputs": [
    {
     "data": {
      "text/html": [
       "<div>\n",
       "<style scoped>\n",
       "    .dataframe tbody tr th:only-of-type {\n",
       "        vertical-align: middle;\n",
       "    }\n",
       "\n",
       "    .dataframe tbody tr th {\n",
       "        vertical-align: top;\n",
       "    }\n",
       "\n",
       "    .dataframe thead th {\n",
       "        text-align: right;\n",
       "    }\n",
       "</style>\n",
       "<table border=\"1\" class=\"dataframe\">\n",
       "  <thead>\n",
       "    <tr style=\"text-align: right;\">\n",
       "      <th></th>\n",
       "      <th>group</th>\n",
       "    </tr>\n",
       "    <tr>\n",
       "      <th>user_id</th>\n",
       "      <th></th>\n",
       "    </tr>\n",
       "  </thead>\n",
       "  <tbody>\n",
       "    <tr>\n",
       "      <th>6888746892508752</th>\n",
       "      <td>1</td>\n",
       "    </tr>\n",
       "    <tr>\n",
       "      <th>6207768971558512760</th>\n",
       "      <td>1</td>\n",
       "    </tr>\n",
       "    <tr>\n",
       "      <th>6217807653094995999</th>\n",
       "      <td>1</td>\n",
       "    </tr>\n",
       "    <tr>\n",
       "      <th>6217295124800833842</th>\n",
       "      <td>1</td>\n",
       "    </tr>\n",
       "    <tr>\n",
       "      <th>6216080220799726690</th>\n",
       "      <td>1</td>\n",
       "    </tr>\n",
       "  </tbody>\n",
       "</table>\n",
       "</div>"
      ],
      "text/plain": [
       "                     group\n",
       "user_id                   \n",
       "6888746892508752         1\n",
       "6207768971558512760      1\n",
       "6217807653094995999      1\n",
       "6217295124800833842      1\n",
       "6216080220799726690      1"
      ]
     },
     "execution_count": 7,
     "metadata": {},
     "output_type": "execute_result"
    }
   ],
   "source": [
    "df.groupby('user_id').agg({'group': 'nunique'}).sort_values(by='group',ascending=False).head()"
   ]
  },
  {
   "cell_type": "markdown",
   "metadata": {},
   "source": [
    "<div class=\"alert alert-info\"> <b>Комментарий студента:</b> Пересечений между пользователями нет. Каждый пользователь принадлежит одной группе</div>"
   ]
  },
  {
   "cell_type": "markdown",
   "metadata": {},
   "source": [
    "### Изучение и проверка данных"
   ]
  },
  {
   "cell_type": "code",
   "execution_count": 8,
   "metadata": {},
   "outputs": [
    {
     "data": {
      "text/plain": [
       "243713"
      ]
     },
     "execution_count": 8,
     "metadata": {},
     "output_type": "execute_result"
    }
   ],
   "source": [
    "df['event_name'].count()\n"
   ]
  },
  {
   "cell_type": "code",
   "execution_count": 9,
   "metadata": {},
   "outputs": [
    {
     "data": {
      "text/plain": [
       "7551"
      ]
     },
     "execution_count": 9,
     "metadata": {},
     "output_type": "execute_result"
    }
   ],
   "source": [
    "df['user_id'].nunique()"
   ]
  },
  {
   "cell_type": "code",
   "execution_count": 10,
   "metadata": {},
   "outputs": [
    {
     "data": {
      "text/plain": [
       "32.27559263673685"
      ]
     },
     "execution_count": 10,
     "metadata": {},
     "output_type": "execute_result"
    }
   ],
   "source": [
    "#Находим число событий для каждого пользователя и считаем среднее\n",
    "df_grouped = df.groupby('user_id', as_index=False).agg({'event_name': 'count'})\n",
    "df_grouped['event_name'].mean()"
   ]
  },
  {
   "cell_type": "code",
   "execution_count": 11,
   "metadata": {},
   "outputs": [
    {
     "data": {
      "text/html": [
       "<div>\n",
       "<style scoped>\n",
       "    .dataframe tbody tr th:only-of-type {\n",
       "        vertical-align: middle;\n",
       "    }\n",
       "\n",
       "    .dataframe tbody tr th {\n",
       "        vertical-align: top;\n",
       "    }\n",
       "\n",
       "    .dataframe thead th {\n",
       "        text-align: right;\n",
       "    }\n",
       "</style>\n",
       "<table border=\"1\" class=\"dataframe\">\n",
       "  <thead>\n",
       "    <tr style=\"text-align: right;\">\n",
       "      <th></th>\n",
       "      <th>user_id</th>\n",
       "      <th>event_name</th>\n",
       "    </tr>\n",
       "  </thead>\n",
       "  <tbody>\n",
       "    <tr>\n",
       "      <th>count</th>\n",
       "      <td>7.551000e+03</td>\n",
       "      <td>7551.000000</td>\n",
       "    </tr>\n",
       "    <tr>\n",
       "      <th>mean</th>\n",
       "      <td>4.677319e+18</td>\n",
       "      <td>32.275593</td>\n",
       "    </tr>\n",
       "    <tr>\n",
       "      <th>std</th>\n",
       "      <td>2.655343e+18</td>\n",
       "      <td>65.154219</td>\n",
       "    </tr>\n",
       "    <tr>\n",
       "      <th>min</th>\n",
       "      <td>6.888747e+15</td>\n",
       "      <td>1.000000</td>\n",
       "    </tr>\n",
       "    <tr>\n",
       "      <th>25%</th>\n",
       "      <td>2.397700e+18</td>\n",
       "      <td>9.000000</td>\n",
       "    </tr>\n",
       "    <tr>\n",
       "      <th>50%</th>\n",
       "      <td>4.688022e+18</td>\n",
       "      <td>20.000000</td>\n",
       "    </tr>\n",
       "    <tr>\n",
       "      <th>75%</th>\n",
       "      <td>7.007353e+18</td>\n",
       "      <td>37.000000</td>\n",
       "    </tr>\n",
       "    <tr>\n",
       "      <th>max</th>\n",
       "      <td>9.222603e+18</td>\n",
       "      <td>2307.000000</td>\n",
       "    </tr>\n",
       "  </tbody>\n",
       "</table>\n",
       "</div>"
      ],
      "text/plain": [
       "            user_id   event_name\n",
       "count  7.551000e+03  7551.000000\n",
       "mean   4.677319e+18    32.275593\n",
       "std    2.655343e+18    65.154219\n",
       "min    6.888747e+15     1.000000\n",
       "25%    2.397700e+18     9.000000\n",
       "50%    4.688022e+18    20.000000\n",
       "75%    7.007353e+18    37.000000\n",
       "max    9.222603e+18  2307.000000"
      ]
     },
     "execution_count": 11,
     "metadata": {},
     "output_type": "execute_result"
    }
   ],
   "source": [
    "df_grouped.describe()"
   ]
  },
  {
   "cell_type": "code",
   "execution_count": 12,
   "metadata": {},
   "outputs": [
    {
     "data": {
      "text/plain": [
       "datetime.date(2019, 7, 25)"
      ]
     },
     "execution_count": 12,
     "metadata": {},
     "output_type": "execute_result"
    }
   ],
   "source": [
    "df['date'].min()"
   ]
  },
  {
   "cell_type": "code",
   "execution_count": 13,
   "metadata": {},
   "outputs": [
    {
     "data": {
      "text/plain": [
       "datetime.date(2019, 8, 7)"
      ]
     },
     "execution_count": 13,
     "metadata": {},
     "output_type": "execute_result"
    }
   ],
   "source": [
    "df['date'].max()"
   ]
  },
  {
   "cell_type": "code",
   "execution_count": 14,
   "metadata": {},
   "outputs": [
    {
     "data": {
      "image/png": "[encoded data removed]",
      "text/plain": [
       "<Figure size 1440x360 with 1 Axes>"
      ]
     },
     "metadata": {
      "needs_background": "light"
     },
     "output_type": "display_data"
    }
   ],
   "source": [
    "plt.figure(figsize=(20, 5))\n",
    "plt.title('Количество событий')\n",
    "plt.xlabel('Дата')\n",
    "plt.ylabel('Число событий')\n",
    "plt.xticks(rotation=45, horizontalalignment='right')\n",
    "plt.hist(df['datetime'])\n",
    "plt.show()\n"
   ]
  },
  {
   "cell_type": "markdown",
   "metadata": {},
   "source": [
    "Гистограмма по дате и времени отражает неполноту данных за период с 25.07.2019 до 01.08.2019. Полнота в данных фиксируется с 01.08.2019"
   ]
  },
  {
   "cell_type": "code",
   "execution_count": 15,
   "metadata": {},
   "outputs": [],
   "source": [
    "# Оставляем только полные данные\n",
    "df_actual = df[(df['datetime'] > '2019-08-01')]\n"
   ]
  },
  {
   "cell_type": "code",
   "execution_count": 16,
   "metadata": {},
   "outputs": [
    {
     "data": {
      "text/plain": [
       "240887"
      ]
     },
     "execution_count": 16,
     "metadata": {},
     "output_type": "execute_result"
    }
   ],
   "source": [
    "df_actual['event_name'].count()"
   ]
  },
  {
   "cell_type": "code",
   "execution_count": 17,
   "metadata": {},
   "outputs": [
    {
     "data": {
      "text/plain": [
       "7534"
      ]
     },
     "execution_count": 17,
     "metadata": {},
     "output_type": "execute_result"
    }
   ],
   "source": [
    "df_actual['user_id'].nunique()"
   ]
  },
  {
   "cell_type": "code",
   "execution_count": 18,
   "metadata": {},
   "outputs": [
    {
     "data": {
      "text/plain": [
       "1.159560630741896"
      ]
     },
     "execution_count": 18,
     "metadata": {},
     "output_type": "execute_result"
    }
   ],
   "source": [
    "100*(1-df_actual['event_name'].count()/df['event_name'].count())"
   ]
  },
  {
   "cell_type": "code",
   "execution_count": 19,
   "metadata": {},
   "outputs": [
    {
     "data": {
      "text/plain": [
       "0.22513574361011646"
      ]
     },
     "execution_count": 19,
     "metadata": {},
     "output_type": "execute_result"
    }
   ],
   "source": [
    "100*(1-df_actual['user_id'].nunique()/df['user_id'].nunique())"
   ]
  },
  {
   "cell_type": "markdown",
   "metadata": {},
   "source": [
    "<div class=\"alert alert-info\"> <b>Комментарий студента:</b> Мы потеряли всего 0,22% пользователей и 1 % событий. Значения не существенные</div>"
   ]
  },
  {
   "cell_type": "code",
   "execution_count": 20,
   "metadata": {},
   "outputs": [
    {
     "data": {
      "text/html": [
       "<div>\n",
       "<style scoped>\n",
       "    .dataframe tbody tr th:only-of-type {\n",
       "        vertical-align: middle;\n",
       "    }\n",
       "\n",
       "    .dataframe tbody tr th {\n",
       "        vertical-align: top;\n",
       "    }\n",
       "\n",
       "    .dataframe thead th {\n",
       "        text-align: right;\n",
       "    }\n",
       "</style>\n",
       "<table border=\"1\" class=\"dataframe\">\n",
       "  <thead>\n",
       "    <tr style=\"text-align: right;\">\n",
       "      <th></th>\n",
       "      <th>group</th>\n",
       "      <th>user_id</th>\n",
       "    </tr>\n",
       "  </thead>\n",
       "  <tbody>\n",
       "    <tr>\n",
       "      <th>0</th>\n",
       "      <td>246</td>\n",
       "      <td>2484</td>\n",
       "    </tr>\n",
       "    <tr>\n",
       "      <th>1</th>\n",
       "      <td>247</td>\n",
       "      <td>2513</td>\n",
       "    </tr>\n",
       "    <tr>\n",
       "      <th>2</th>\n",
       "      <td>248</td>\n",
       "      <td>2537</td>\n",
       "    </tr>\n",
       "  </tbody>\n",
       "</table>\n",
       "</div>"
      ],
      "text/plain": [
       "   group  user_id\n",
       "0    246     2484\n",
       "1    247     2513\n",
       "2    248     2537"
      ]
     },
     "execution_count": 20,
     "metadata": {},
     "output_type": "execute_result"
    }
   ],
   "source": [
    "grouped_users = df_actual.groupby('group', as_index=False).agg({'user_id': 'nunique'})\n",
    "grouped_users"
   ]
  },
  {
   "cell_type": "markdown",
   "metadata": {},
   "source": [
    "c\n",
    "После удаления дубликатов, число событий в датафрейме составляет 243713 шт. А число уникальных пользователей 7551. \n",
    "В среднем на пользователя приходится 32,28 события.\n",
    "Период выборки с 25.07.2019 по 07.08.2019.\n",
    "\n",
    "Гистограмма по дате и времени показала неполноту данных за период с 25.07.2019 до 01.08.2019. По этой причине, в дальнейшем выборка будет рассматриваться за период с 01.08.2019 по 07.08.2019. \n",
    "Число событий за этот период составляет 240887 шт.\n",
    "Число уникальных пользователей незначительно сократилось с 7551 до 7534\n",
    "Пользователи распределены по трем группам примерно в одинаковых количествах"
   ]
  },
  {
   "cell_type": "markdown",
   "metadata": {},
   "source": [
    "### Изучение воронки событий"
   ]
  },
  {
   "cell_type": "code",
   "execution_count": 21,
   "metadata": {},
   "outputs": [
    {
     "data": {
      "text/plain": [
       "MainScreenAppear           117328\n",
       "OffersScreenAppear          46333\n",
       "CartScreenAppear            42303\n",
       "PaymentScreenSuccessful     33918\n",
       "Tutorial                     1005\n",
       "Name: event_name, dtype: int64"
      ]
     },
     "execution_count": 21,
     "metadata": {},
     "output_type": "execute_result"
    }
   ],
   "source": [
    "df_actual['event_name'].value_counts()"
   ]
  },
  {
   "cell_type": "markdown",
   "metadata": {},
   "source": [
    "Всего в датафрейме 5 типов событий. Чаще всего фиксируется событие MainScreenAppear и меньше всех встречается событие Tutorial                      "
   ]
  },
  {
   "cell_type": "code",
   "execution_count": 22,
   "metadata": {},
   "outputs": [],
   "source": [
    "event_grouped = df_actual.groupby('event_name', as_index=False).agg({'user_id': 'nunique'}).sort_values(by='user_id',ascending=False).reset_index(drop=True)\n"
   ]
  },
  {
   "cell_type": "code",
   "execution_count": 23,
   "metadata": {},
   "outputs": [
    {
     "data": {
      "text/html": [
       "<div>\n",
       "<style scoped>\n",
       "    .dataframe tbody tr th:only-of-type {\n",
       "        vertical-align: middle;\n",
       "    }\n",
       "\n",
       "    .dataframe tbody tr th {\n",
       "        vertical-align: top;\n",
       "    }\n",
       "\n",
       "    .dataframe thead th {\n",
       "        text-align: right;\n",
       "    }\n",
       "</style>\n",
       "<table border=\"1\" class=\"dataframe\">\n",
       "  <thead>\n",
       "    <tr style=\"text-align: right;\">\n",
       "      <th></th>\n",
       "      <th>event_name</th>\n",
       "      <th>cnt_user</th>\n",
       "      <th>user_rate</th>\n",
       "    </tr>\n",
       "  </thead>\n",
       "  <tbody>\n",
       "    <tr>\n",
       "      <th>0</th>\n",
       "      <td>MainScreenAppear</td>\n",
       "      <td>7419</td>\n",
       "      <td>98.47</td>\n",
       "    </tr>\n",
       "    <tr>\n",
       "      <th>1</th>\n",
       "      <td>OffersScreenAppear</td>\n",
       "      <td>4593</td>\n",
       "      <td>60.96</td>\n",
       "    </tr>\n",
       "    <tr>\n",
       "      <th>2</th>\n",
       "      <td>CartScreenAppear</td>\n",
       "      <td>3734</td>\n",
       "      <td>49.56</td>\n",
       "    </tr>\n",
       "    <tr>\n",
       "      <th>3</th>\n",
       "      <td>PaymentScreenSuccessful</td>\n",
       "      <td>3539</td>\n",
       "      <td>46.97</td>\n",
       "    </tr>\n",
       "    <tr>\n",
       "      <th>4</th>\n",
       "      <td>Tutorial</td>\n",
       "      <td>840</td>\n",
       "      <td>11.15</td>\n",
       "    </tr>\n",
       "  </tbody>\n",
       "</table>\n",
       "</div>"
      ],
      "text/plain": [
       "                event_name  cnt_user  user_rate\n",
       "0         MainScreenAppear      7419      98.47\n",
       "1       OffersScreenAppear      4593      60.96\n",
       "2         CartScreenAppear      3734      49.56\n",
       "3  PaymentScreenSuccessful      3539      46.97\n",
       "4                 Tutorial       840      11.15"
      ]
     },
     "execution_count": 23,
     "metadata": {},
     "output_type": "execute_result"
    }
   ],
   "source": [
    "event_grouped['user_rate'] = round(100*event_grouped['user_id']/df_actual['user_id'].nunique(),2)\n",
    "event_grouped.columns = ['event_name', 'cnt_user','user_rate'] \n",
    "event_grouped"
   ]
  },
  {
   "cell_type": "markdown",
   "metadata": {},
   "source": [
    "\n",
    "7419 пользователей открывали главную страницу приложения (MainScreenAppear), что составляет 98,47% от всех пользователей.\n",
    "Возможно, остальные пользователи не смогли попасть на главную страницу из-за проблем с открытием, либо проблем с сетью у пользователей\n",
    "\n",
    "Предполагаемая цепочка событий выглядит следующим образом:\n",
    "- Пользователь открывает главную страницу приложения (MainScreenAppear)\n",
    "- Открывает каталог для выбора товаров (OffersScreenAppear)\n",
    "- Переходит в корзину (CartScreenAppear)\n",
    "- Оформляет заказ, вводит данные карты(PaymentScreenSuccessful)\n",
    "\n",
    "Событие Tutorial подразумевает под собой обучение пользователей по использованию приложения. Данное событие фиксировалось  у 11,15% пользователей. Из дальнейшего анализа воронки событий его нужно исключить"
   ]
  },
  {
   "cell_type": "code",
   "execution_count": 24,
   "metadata": {},
   "outputs": [
    {
     "name": "stderr",
     "output_type": "stream",
     "text": [
      "/opt/conda/lib/python3.9/site-packages/pandas/core/indexing.py:1599: SettingWithCopyWarning: \n",
      "A value is trying to be set on a copy of a slice from a DataFrame.\n",
      "Try using .loc[row_indexer,col_indexer] = value instead\n",
      "\n",
      "See the caveats in the documentation: https://pandas.pydata.org/pandas-docs/stable/user_guide/indexing.html#returning-a-view-versus-a-copy\n",
      "  self.obj[key] = infer_fill_value(value)\n",
      "/opt/conda/lib/python3.9/site-packages/pandas/core/indexing.py:1720: SettingWithCopyWarning: \n",
      "A value is trying to be set on a copy of a slice from a DataFrame.\n",
      "Try using .loc[row_indexer,col_indexer] = value instead\n",
      "\n",
      "See the caveats in the documentation: https://pandas.pydata.org/pandas-docs/stable/user_guide/indexing.html#returning-a-view-versus-a-copy\n",
      "  self._setitem_single_column(loc, value, pi)\n"
     ]
    },
    {
     "data": {
      "text/html": [
       "<div>\n",
       "<style scoped>\n",
       "    .dataframe tbody tr th:only-of-type {\n",
       "        vertical-align: middle;\n",
       "    }\n",
       "\n",
       "    .dataframe tbody tr th {\n",
       "        vertical-align: top;\n",
       "    }\n",
       "\n",
       "    .dataframe thead th {\n",
       "        text-align: right;\n",
       "    }\n",
       "</style>\n",
       "<table border=\"1\" class=\"dataframe\">\n",
       "  <thead>\n",
       "    <tr style=\"text-align: right;\">\n",
       "      <th></th>\n",
       "      <th>event_name</th>\n",
       "      <th>cnt_user</th>\n",
       "      <th>user_rate</th>\n",
       "      <th>next_step</th>\n",
       "    </tr>\n",
       "  </thead>\n",
       "  <tbody>\n",
       "    <tr>\n",
       "      <th>0</th>\n",
       "      <td>MainScreenAppear</td>\n",
       "      <td>7419</td>\n",
       "      <td>98.47</td>\n",
       "      <td>100.00</td>\n",
       "    </tr>\n",
       "    <tr>\n",
       "      <th>1</th>\n",
       "      <td>OffersScreenAppear</td>\n",
       "      <td>4593</td>\n",
       "      <td>60.96</td>\n",
       "      <td>61.91</td>\n",
       "    </tr>\n",
       "    <tr>\n",
       "      <th>2</th>\n",
       "      <td>CartScreenAppear</td>\n",
       "      <td>3734</td>\n",
       "      <td>49.56</td>\n",
       "      <td>81.30</td>\n",
       "    </tr>\n",
       "    <tr>\n",
       "      <th>3</th>\n",
       "      <td>PaymentScreenSuccessful</td>\n",
       "      <td>3539</td>\n",
       "      <td>46.97</td>\n",
       "      <td>94.78</td>\n",
       "    </tr>\n",
       "  </tbody>\n",
       "</table>\n",
       "</div>"
      ],
      "text/plain": [
       "                event_name  cnt_user  user_rate  next_step\n",
       "0         MainScreenAppear      7419      98.47     100.00\n",
       "1       OffersScreenAppear      4593      60.96      61.91\n",
       "2         CartScreenAppear      3734      49.56      81.30\n",
       "3  PaymentScreenSuccessful      3539      46.97      94.78"
      ]
     },
     "execution_count": 24,
     "metadata": {},
     "output_type": "execute_result"
    }
   ],
   "source": [
    "event_grouped = event_grouped[event_grouped['event_name'] != 'Tutorial']\n",
    "\n",
    "for index in [1,2,3]:\n",
    "    event_grouped.loc[0, 'next_step'] = round((100 * event_grouped.loc[0, 'cnt_user']/event_grouped.loc[0, 'cnt_user']),2)\n",
    "    event_grouped.loc[index, 'next_step'] = round(100 * event_grouped.loc[index, 'cnt_user']/event_grouped.loc[index- 1, 'cnt_user'],2)\n",
    "\n",
    "event_grouped\n",
    "\n"
   ]
  },
  {
   "cell_type": "code",
   "execution_count": 25,
   "metadata": {},
   "outputs": [
    {
     "name": "stdout",
     "output_type": "stream",
     "text": [
      "47.7\n"
     ]
    }
   ],
   "source": [
    "print (round(100 * event_grouped.loc[3, 'cnt_user']/event_grouped.loc[0, 'cnt_user'],2))"
   ]
  },
  {
   "cell_type": "code",
   "execution_count": 1,
   "metadata": {},
   "outputs": [
    {
     "ename": "NameError",
     "evalue": "name 'go' is not defined",
     "output_type": "error",
     "traceback": [
      "\u001b[0;31m---------------------------------------------------------------------------\u001b[0m",
      "\u001b[0;31mNameError\u001b[0m                                 Traceback (most recent call last)",
      "\u001b[0;32m/tmp/ipykernel_31/313673004.py\u001b[0m in \u001b[0;36m<module>\u001b[0;34m\u001b[0m\n\u001b[0;32m----> 1\u001b[0;31m fig = go.Figure(go.Funnel(\n\u001b[0m\u001b[1;32m      2\u001b[0m     \u001b[0my\u001b[0m \u001b[0;34m=\u001b[0m \u001b[0mevent_grouped\u001b[0m\u001b[0;34m[\u001b[0m\u001b[0;34m'event_name'\u001b[0m\u001b[0;34m]\u001b[0m\u001b[0;34m,\u001b[0m\u001b[0;34m\u001b[0m\u001b[0;34m\u001b[0m\u001b[0m\n\u001b[1;32m      3\u001b[0m     \u001b[0mx\u001b[0m \u001b[0;34m=\u001b[0m \u001b[0mevent_grouped\u001b[0m\u001b[0;34m[\u001b[0m\u001b[0;34m'cnt_user'\u001b[0m\u001b[0;34m]\u001b[0m\u001b[0;34m,\u001b[0m\u001b[0;34m\u001b[0m\u001b[0;34m\u001b[0m\u001b[0m\n\u001b[1;32m      4\u001b[0m     \u001b[0mtextposition\u001b[0m \u001b[0;34m=\u001b[0m \u001b[0;34m\"inside\"\u001b[0m\u001b[0;34m,\u001b[0m\u001b[0;34m\u001b[0m\u001b[0;34m\u001b[0m\u001b[0m\n\u001b[1;32m      5\u001b[0m     textinfo = \"value+percent initial\")\n",
      "\u001b[0;31mNameError\u001b[0m: name 'go' is not defined"
     ]
    }
   ],
   "source": [
    "fig = go.Figure(go.Funnel(\n",
    "    y = event_grouped['event_name'],\n",
    "    x = event_grouped['cnt_user'],\n",
    "    textposition = \"inside\",\n",
    "    textinfo = \"value+percent initial\")\n",
    "    )\n",
    "\n",
    "fig.show()"
   ]
  },
  {
   "cell_type": "markdown",
   "metadata": {},
   "source": [
    "Из воронки событий видим, что больше всего пользователей теряется на втором шаге - 61,91% доходят до выбора товаров. Возможно, интерфейс приложения выглядит неудобным, либо непонятным, как перейти в каталог.\n",
    "\n",
    "До оплаты доходят 47,7% пользователей приложения"
   ]
  },
  {
   "cell_type": "markdown",
   "metadata": {},
   "source": [
    "#### Вывод по пункту\n",
    "\n",
    "В этом разделе мы посмотрели, какие события существуют, посчитали количество пользователей, совершавших эти события, построили цепочку событий, которые совершает пользователь при работе с приложением и проанализировали воронку событий. \n",
    "\n",
    "Глядя на эту воронку мы видим, что больше всего пользователей уходят от нас посмотрев на главный экран(MainScreenAppear) без перехода к каталогу товаров(OffersScreenAppear). Это может говорить о том что интерфейс основной страницы неудобен или некорректно отображается на части устройств.\n",
    "От первого события до оплаты доходит меньше половины пользователей (47.7%)"
   ]
  },
  {
   "cell_type": "markdown",
   "metadata": {},
   "source": [
    "### Изучение результатов эксперимента"
   ]
  },
  {
   "cell_type": "code",
   "execution_count": 27,
   "metadata": {},
   "outputs": [],
   "source": [
    "df_new = df_actual[df_actual['event_name'] != 'Tutorial']"
   ]
  },
  {
   "cell_type": "code",
   "execution_count": 28,
   "metadata": {},
   "outputs": [
    {
     "data": {
      "text/plain": [
       "group\n",
       "246    2483\n",
       "247    2512\n",
       "248    2535\n",
       "Name: user_id, dtype: int64"
      ]
     },
     "execution_count": 28,
     "metadata": {},
     "output_type": "execute_result"
    }
   ],
   "source": [
    "#Считаем количество пользователей в группах\n",
    "df_new.groupby('group')['user_id'].nunique()"
   ]
  },
  {
   "cell_type": "code",
   "execution_count": 29,
   "metadata": {},
   "outputs": [],
   "source": [
    "df_new_grouped = df_new.groupby(['event_name','group'], as_index=False).agg({'user_id': 'nunique'}).sort_values(by='group',ascending=False).reset_index(drop=True)"
   ]
  },
  {
   "cell_type": "markdown",
   "metadata": {},
   "source": [
    "#### Сравнение контрольных групп"
   ]
  },
  {
   "cell_type": "code",
   "execution_count": 30,
   "metadata": {},
   "outputs": [],
   "source": [
    "\n",
    "\n",
    "def z_value_old(successes,trials,alpha):\n",
    "    # пропорция успехов в первой группе:\n",
    "    p1 = successes[0]/trials[0]\n",
    "    p2 = successes[1]/trials[1]\n",
    "    # пропорция успехов в комбинированном датасете:\n",
    "    p_combined = (successes[0] + successes[1]) / (trials[0] + trials[1])\n",
    "    #разница пропорций в датасетах\n",
    "    difference = p1 - p2 \n",
    "    alpha = alpha  # критический уровень статистической значимости\n",
    "    # считаем статистику в ст.отклонениях стандартного нормального распределения\n",
    "    z_value = difference / mth.sqrt(p_combined * (1 - p_combined) * (1/trials[0] + 1/trials[1]))\n",
    "    # задаем стандартное нормальное распределение (среднее 0, ст.отклонение 1)\n",
    "    distr = st.norm(0, 1) \n",
    "    p_value = (1 - distr.cdf(abs(z_value))) * 2\n",
    "    print('p-значение: ', p_value)\n",
    "    if (p_value < alpha):\n",
    "        print(\"Отвергаем нулевую гипотезу: между долями есть значимая разница\")\n",
    "    else:\n",
    "        print(\"Не получилось отвергнуть нулевую гипотезу, нет оснований считать доли разными\")\n",
    "        "
   ]
  },
  {
   "cell_type": "code",
   "execution_count": 31,
   "metadata": {},
   "outputs": [],
   "source": [
    "group_users = df_new_grouped.pivot_table(\n",
    "        index=['event_name'], \n",
    "        columns='group', \n",
    "        values='user_id',\n",
    "        ).reset_index()\n",
    "group_users[246247] = group_users[246]+group_users[247]\n",
    "\n",
    "all_users = {\n",
    "           246: df_new[df_new['group']==246]['user_id'].nunique(),\n",
    "           247: df_new[df_new['group']==247]['user_id'].nunique(),\n",
    "           248: df_new[df_new['group']==248]['user_id'].nunique(),\n",
    "           246247: df_new[(df_new['group']==246) | (df_new['group']==247)]['user_id'].nunique()}"
   ]
  },
  {
   "cell_type": "code",
   "execution_count": 55,
   "metadata": {},
   "outputs": [],
   "source": [
    "def z_value(first_group, second_group, alpha):\n",
    "    for i in group_users.index:\n",
    "        alpha = alpha\n",
    "        p1 = group_users[first_group][i] / all_users[first_group]\n",
    "        # пропорция успехов во второй группе:\n",
    "        p2 = group_users[second_group][i] / all_users[second_group]\n",
    "        # пропорция успехов в комбинированном датасете:\n",
    "        p_combined = ((group_users[first_group][i] + group_users[second_group][i]) / \n",
    "                      (all_users[first_group] + all_users[second_group]))\n",
    "        # разница пропорций в датасетах\n",
    "        difference = p1 - p2\n",
    "        # считаем статистику в ст.отклонениях стандартного нормального распределения\n",
    "        z_value = difference / mth.sqrt(p_combined * (1 - p_combined) * \n",
    "                                        (1/all_users[first_group] + 1/all_users[second_group]))\n",
    "        # задаем стандартное нормальное распределение (среднее 0, ст.отклонение 1)\n",
    "        distr = st.norm(0, 1) \n",
    "        p_value = (1 - distr.cdf(abs(z_value))) * 2\n",
    "        print('{} p-значение: {}'.format(group_users['event_name'][i], p_value))\n",
    "        if (p_value < alpha):\n",
    "            print(\"Отвергаем нулевую гипотезу: между долями есть значимая разница\")\n",
    "        else:\n",
    "            print(\"Не получилось отвергнуть нулевую гипотезу, нет оснований считать доли разными\")\n",
    "        print('')"
   ]
  },
  {
   "cell_type": "code",
   "execution_count": 56,
   "metadata": {},
   "outputs": [
    {
     "name": "stdout",
     "output_type": "stream",
     "text": [
      "CartScreenAppear p-значение: 0.22867643757335676\n",
      "Не получилось отвергнуть нулевую гипотезу, нет оснований считать доли разными\n",
      "\n",
      "MainScreenAppear p-значение: 0.7526703436483038\n",
      "Не получилось отвергнуть нулевую гипотезу, нет оснований считать доли разными\n",
      "\n",
      "OffersScreenAppear p-значение: 0.24786096925282264\n",
      "Не получилось отвергнуть нулевую гипотезу, нет оснований считать доли разными\n",
      "\n",
      "PaymentScreenSuccessful p-значение: 0.11446627829276612\n",
      "Не получилось отвергнуть нулевую гипотезу, нет оснований считать доли разными\n",
      "\n"
     ]
    }
   ],
   "source": [
    "z_value(246,247,0.05)"
   ]
  },
  {
   "cell_type": "markdown",
   "metadata": {},
   "source": [
    "Для всех типов событий разница оказалась не значимой. Разбиение на группы работает корректно"
   ]
  },
  {
   "cell_type": "markdown",
   "metadata": {},
   "source": [
    "#### Сравнение контрольной группы 246 с новой 248 "
   ]
  },
  {
   "cell_type": "code",
   "execution_count": 60,
   "metadata": {},
   "outputs": [
    {
     "name": "stdout",
     "output_type": "stream",
     "text": [
      "CartScreenAppear p-значение: 0.08067367598823139\n",
      "Не получилось отвергнуть нулевую гипотезу, нет оснований считать доли разными\n",
      "\n",
      "MainScreenAppear p-значение: 0.3387114076159288\n",
      "Не получилось отвергнуть нулевую гипотезу, нет оснований считать доли разными\n",
      "\n",
      "OffersScreenAppear p-значение: 0.21442476639710506\n",
      "Не получилось отвергнуть нулевую гипотезу, нет оснований считать доли разными\n",
      "\n",
      "PaymentScreenSuccessful p-значение: 0.21693033984516674\n",
      "Не получилось отвергнуть нулевую гипотезу, нет оснований считать доли разными\n",
      "\n"
     ]
    }
   ],
   "source": [
    "z_value(246,248,0.05)"
   ]
  },
  {
   "cell_type": "markdown",
   "metadata": {},
   "source": [
    "Для всех типов событий разница оказалась не значимой"
   ]
  },
  {
   "cell_type": "markdown",
   "metadata": {},
   "source": [
    "#### Сравнение контрольной группы 247 с новой 248"
   ]
  },
  {
   "cell_type": "code",
   "execution_count": 58,
   "metadata": {},
   "outputs": [
    {
     "name": "stdout",
     "output_type": "stream",
     "text": [
      "CartScreenAppear p-значение: 0.5878284605111943\n",
      "Не получилось отвергнуть нулевую гипотезу, нет оснований считать доли разными\n",
      "\n",
      "MainScreenAppear p-значение: 0.5194964354051703\n",
      "Не получилось отвергнуть нулевую гипотезу, нет оснований считать доли разными\n",
      "\n",
      "OffersScreenAppear p-значение: 0.9333751305879443\n",
      "Не получилось отвергнуть нулевую гипотезу, нет оснований считать доли разными\n",
      "\n",
      "PaymentScreenSuccessful p-значение: 0.7275718682261119\n",
      "Не получилось отвергнуть нулевую гипотезу, нет оснований считать доли разными\n",
      "\n"
     ]
    }
   ],
   "source": [
    "z_value(247,248,0.05)"
   ]
  },
  {
   "cell_type": "markdown",
   "metadata": {},
   "source": [
    "Для всех типов событий разница оказалась не значимой"
   ]
  },
  {
   "cell_type": "markdown",
   "metadata": {},
   "source": [
    "#### Сравнение объединенных контрольных групп с новой"
   ]
  },
  {
   "cell_type": "code",
   "execution_count": 61,
   "metadata": {},
   "outputs": [
    {
     "name": "stdout",
     "output_type": "stream",
     "text": [
      "CartScreenAppear p-значение: 0.18683558686831558\n",
      "Не получилось отвергнуть нулевую гипотезу, нет оснований считать доли разными\n",
      "\n",
      "MainScreenAppear p-значение: 0.3486684291093256\n",
      "Не получилось отвергнуть нулевую гипотезу, нет оснований считать доли разными\n",
      "\n",
      "OffersScreenAppear p-значение: 0.44582745409482394\n",
      "Не получилось отвергнуть нулевую гипотезу, нет оснований считать доли разными\n",
      "\n",
      "PaymentScreenSuccessful p-значение: 0.6107918742187335\n",
      "Не получилось отвергнуть нулевую гипотезу, нет оснований считать доли разными\n",
      "\n"
     ]
    }
   ],
   "source": [
    "z_value(246247,248,0.05)"
   ]
  },
  {
   "cell_type": "markdown",
   "metadata": {},
   "source": [
    "Для всех типов событий разница оказалась не значимой"
   ]
  },
  {
   "cell_type": "code",
   "execution_count": 37,
   "metadata": {},
   "outputs": [
    {
     "name": "stdout",
     "output_type": "stream",
     "text": [
      "CartScreenAppear p-значение: 0.22867643757335676\n",
      "Не получилось отвергнуть нулевую гипотезу, нет оснований считать доли разными\n",
      "\n",
      "MainScreenAppear p-значение: 0.7526703436483038\n",
      "Не получилось отвергнуть нулевую гипотезу, нет оснований считать доли разными\n",
      "\n",
      "OffersScreenAppear p-значение: 0.24786096925282264\n",
      "Не получилось отвергнуть нулевую гипотезу, нет оснований считать доли разными\n",
      "\n",
      "PaymentScreenSuccessful p-значение: 0.11446627829276612\n",
      "Не получилось отвергнуть нулевую гипотезу, нет оснований считать доли разными\n",
      "\n"
     ]
    }
   ],
   "source": [
    "z_value(246,247,0.05/16)"
   ]
  },
  {
   "cell_type": "code",
   "execution_count": 38,
   "metadata": {},
   "outputs": [
    {
     "name": "stdout",
     "output_type": "stream",
     "text": [
      "CartScreenAppear p-значение: 0.08067367598823139\n",
      "Не получилось отвергнуть нулевую гипотезу, нет оснований считать доли разными\n",
      "\n",
      "MainScreenAppear p-значение: 0.3387114076159288\n",
      "Не получилось отвергнуть нулевую гипотезу, нет оснований считать доли разными\n",
      "\n",
      "OffersScreenAppear p-значение: 0.21442476639710506\n",
      "Не получилось отвергнуть нулевую гипотезу, нет оснований считать доли разными\n",
      "\n",
      "PaymentScreenSuccessful p-значение: 0.21693033984516674\n",
      "Не получилось отвергнуть нулевую гипотезу, нет оснований считать доли разными\n",
      "\n"
     ]
    }
   ],
   "source": [
    "z_value(246,248,0.05/16)"
   ]
  },
  {
   "cell_type": "code",
   "execution_count": 39,
   "metadata": {},
   "outputs": [
    {
     "name": "stdout",
     "output_type": "stream",
     "text": [
      "CartScreenAppear p-значение: 0.5878284605111943\n",
      "Не получилось отвергнуть нулевую гипотезу, нет оснований считать доли разными\n",
      "\n",
      "MainScreenAppear p-значение: 0.5194964354051703\n",
      "Не получилось отвергнуть нулевую гипотезу, нет оснований считать доли разными\n",
      "\n",
      "OffersScreenAppear p-значение: 0.9333751305879443\n",
      "Не получилось отвергнуть нулевую гипотезу, нет оснований считать доли разными\n",
      "\n",
      "PaymentScreenSuccessful p-значение: 0.7275718682261119\n",
      "Не получилось отвергнуть нулевую гипотезу, нет оснований считать доли разными\n",
      "\n"
     ]
    }
   ],
   "source": [
    "z_value(247,248,0.05/16)"
   ]
  },
  {
   "cell_type": "code",
   "execution_count": 44,
   "metadata": {},
   "outputs": [
    {
     "name": "stdout",
     "output_type": "stream",
     "text": [
      "CartScreenAppear p-значение: 0.18683558686831558\n",
      "Не получилось отвергнуть нулевую гипотезу, нет оснований считать доли разными\n",
      "\n",
      "MainScreenAppear p-значение: 0.3486684291093256\n",
      "Не получилось отвергнуть нулевую гипотезу, нет оснований считать доли разными\n",
      "\n",
      "OffersScreenAppear p-значение: 0.44582745409482394\n",
      "Не получилось отвергнуть нулевую гипотезу, нет оснований считать доли разными\n",
      "\n",
      "PaymentScreenSuccessful p-значение: 0.6107918742187335\n",
      "Не получилось отвергнуть нулевую гипотезу, нет оснований считать доли разными\n",
      "\n"
     ]
    }
   ],
   "source": [
    "z_value(246247,248,0.05/16)"
   ]
  },
  {
   "cell_type": "markdown",
   "metadata": {},
   "source": [
    "### Вывод"
   ]
  },
  {
   "cell_type": "markdown",
   "metadata": {},
   "source": [
    "Нами была проделена работа по анализу поведения пользователей в мобильном приложении.\n",
    "Мы загрузили и подготовили данные для дальнейшей работы, проверили на пустые значения, отбросили дубликаты, потеряв при этом менее 1% пользователей.\n",
    "\n",
    "Построили гистограмму, на основании которой, отбросили периоды с неполными данными.\n",
    "Затем была построена воронка событий. \n",
    "При исследовании воронки событий мы выяснили, что от первого события до оплаты доходит всего 47.7% пользователей\n",
    "98,47% от всех пользователей открывали главную страницу приложения (возможно прочие пользователи не смогли попасть на главную страницу из-за сетевых ошибок/некорректной работы приложения).\n",
    "39% пользователей не открывали каталог товаров. Необходимо разобраться с причиной\n",
    "\n",
    "Были осуществлены проверки статистических гипотез с уровнем значимости 0.05 между группами. И ни одна из них не выявила значимой разницы\n",
    "\n",
    "По результатам A/A/B-эксперимента, можно сделать вывод, что изменение шрифта не оказало эффекта на пользователей. Поэтому нельзя судить о том, какой шрифт лучше.\n",
    "\n",
    "Рекомендация заказчику: проверить работу приложения на нескольких устройств. Необходимо понять, почему много пользователей не доходят даже до открытия каталога товаров. Возможно на некоторых устройствах приложения работают некорректно, либо каталог находится в труднодоступном месте"
   ]
  }
 ],
 "metadata": {
  "ExecuteTimeLog": [
   {
    "duration": 44,
    "start_time": "2022-11-29T03:47:19.523Z"
   },
   {
    "duration": 365,
    "start_time": "2022-11-29T03:47:23.144Z"
   },
   {
    "duration": 713,
    "start_time": "2022-11-29T03:47:23.811Z"
   },
   {
    "duration": 268,
    "start_time": "2022-11-29T03:47:28.695Z"
   },
   {
    "duration": 152,
    "start_time": "2022-11-29T03:47:50.603Z"
   },
   {
    "duration": 147,
    "start_time": "2022-11-29T03:48:10.456Z"
   },
   {
    "duration": 27,
    "start_time": "2022-11-29T03:53:21.812Z"
   },
   {
    "duration": 7,
    "start_time": "2022-11-29T03:53:31.179Z"
   },
   {
    "duration": 8,
    "start_time": "2022-11-29T03:53:38.604Z"
   },
   {
    "duration": 825,
    "start_time": "2022-11-29T03:54:40.021Z"
   },
   {
    "duration": 355,
    "start_time": "2022-11-29T03:55:03.756Z"
   },
   {
    "duration": 162,
    "start_time": "2022-11-29T03:55:04.113Z"
   },
   {
    "duration": 10,
    "start_time": "2022-11-29T03:55:04.277Z"
   },
   {
    "duration": 8,
    "start_time": "2022-11-29T03:55:04.289Z"
   },
   {
    "duration": 863,
    "start_time": "2022-11-29T03:55:04.299Z"
   },
   {
    "duration": 9,
    "start_time": "2022-11-29T04:00:59.338Z"
   },
   {
    "duration": 8,
    "start_time": "2022-11-29T04:01:00.256Z"
   },
   {
    "duration": 381,
    "start_time": "2022-11-29T04:01:08.120Z"
   },
   {
    "duration": 165,
    "start_time": "2022-11-29T04:01:08.503Z"
   },
   {
    "duration": 10,
    "start_time": "2022-11-29T04:01:08.670Z"
   },
   {
    "duration": 8,
    "start_time": "2022-11-29T04:01:08.681Z"
   },
   {
    "duration": 59,
    "start_time": "2022-11-29T04:01:31.855Z"
   },
   {
    "duration": 334,
    "start_time": "2022-11-29T04:01:37.568Z"
   },
   {
    "duration": 157,
    "start_time": "2022-11-29T04:01:37.903Z"
   },
   {
    "duration": 9,
    "start_time": "2022-11-29T04:01:38.062Z"
   },
   {
    "duration": 40,
    "start_time": "2022-11-29T04:01:38.073Z"
   },
   {
    "duration": 37,
    "start_time": "2022-11-29T04:01:38.115Z"
   },
   {
    "duration": 12,
    "start_time": "2022-11-29T04:01:42.280Z"
   },
   {
    "duration": 31,
    "start_time": "2022-11-29T04:02:35.306Z"
   },
   {
    "duration": 11,
    "start_time": "2022-11-29T04:02:35.945Z"
   },
   {
    "duration": 19,
    "start_time": "2022-11-29T04:02:43.257Z"
   },
   {
    "duration": 9,
    "start_time": "2022-11-29T04:02:54.866Z"
   },
   {
    "duration": 361,
    "start_time": "2022-11-29T04:04:46.255Z"
   },
   {
    "duration": 168,
    "start_time": "2022-11-29T04:04:46.618Z"
   },
   {
    "duration": 10,
    "start_time": "2022-11-29T04:04:46.787Z"
   },
   {
    "duration": 12,
    "start_time": "2022-11-29T04:04:46.798Z"
   },
   {
    "duration": 41,
    "start_time": "2022-11-29T04:04:46.811Z"
   },
   {
    "duration": 8,
    "start_time": "2022-11-29T04:04:46.853Z"
   },
   {
    "duration": 384,
    "start_time": "2022-11-29T04:05:12.342Z"
   },
   {
    "duration": 173,
    "start_time": "2022-11-29T04:05:12.728Z"
   },
   {
    "duration": 304,
    "start_time": "2022-11-29T04:05:12.902Z"
   },
   {
    "duration": 0,
    "start_time": "2022-11-29T04:05:13.208Z"
   },
   {
    "duration": 0,
    "start_time": "2022-11-29T04:05:13.209Z"
   },
   {
    "duration": 0,
    "start_time": "2022-11-29T04:05:13.210Z"
   },
   {
    "duration": 716,
    "start_time": "2022-11-29T04:11:11.063Z"
   },
   {
    "duration": 365,
    "start_time": "2022-11-29T04:11:25.248Z"
   },
   {
    "duration": 161,
    "start_time": "2022-11-29T04:11:25.614Z"
   },
   {
    "duration": 731,
    "start_time": "2022-11-29T04:11:25.776Z"
   },
   {
    "duration": 29,
    "start_time": "2022-11-29T04:11:33.976Z"
   },
   {
    "duration": 31,
    "start_time": "2022-11-29T04:11:46.575Z"
   },
   {
    "duration": 25,
    "start_time": "2022-11-29T04:11:57.639Z"
   },
   {
    "duration": 10,
    "start_time": "2022-11-29T04:12:47.505Z"
   },
   {
    "duration": 405,
    "start_time": "2022-11-29T04:12:57.040Z"
   },
   {
    "duration": 41,
    "start_time": "2022-11-29T04:13:17.018Z"
   },
   {
    "duration": 23,
    "start_time": "2022-11-29T04:13:21.921Z"
   },
   {
    "duration": 372,
    "start_time": "2022-11-29T04:17:16.235Z"
   },
   {
    "duration": 163,
    "start_time": "2022-11-29T04:17:16.609Z"
   },
   {
    "duration": 55,
    "start_time": "2022-11-29T04:17:16.773Z"
   },
   {
    "duration": 54,
    "start_time": "2022-11-29T04:17:16.830Z"
   },
   {
    "duration": 338,
    "start_time": "2022-11-29T04:23:09.871Z"
   },
   {
    "duration": 152,
    "start_time": "2022-11-29T04:23:10.211Z"
   },
   {
    "duration": 59,
    "start_time": "2022-11-29T04:23:10.364Z"
   },
   {
    "duration": 153,
    "start_time": "2022-11-29T04:24:39.359Z"
   },
   {
    "duration": 95,
    "start_time": "2022-11-29T04:27:30.748Z"
   },
   {
    "duration": 344,
    "start_time": "2022-11-29T04:27:38.055Z"
   },
   {
    "duration": 158,
    "start_time": "2022-11-29T04:27:38.401Z"
   },
   {
    "duration": 109,
    "start_time": "2022-11-29T04:27:38.560Z"
   },
   {
    "duration": 148,
    "start_time": "2022-11-29T04:27:44.371Z"
   },
   {
    "duration": 104,
    "start_time": "2022-11-29T04:28:46.677Z"
   },
   {
    "duration": 66,
    "start_time": "2022-11-29T04:29:28.507Z"
   },
   {
    "duration": 81,
    "start_time": "2022-11-29T04:30:37.252Z"
   },
   {
    "duration": 341,
    "start_time": "2022-11-29T04:30:58.176Z"
   },
   {
    "duration": 159,
    "start_time": "2022-11-29T04:30:58.519Z"
   },
   {
    "duration": 119,
    "start_time": "2022-11-29T04:30:58.679Z"
   },
   {
    "duration": 81,
    "start_time": "2022-11-29T04:30:58.800Z"
   },
   {
    "duration": 357,
    "start_time": "2022-11-29T04:31:20.152Z"
   },
   {
    "duration": 156,
    "start_time": "2022-11-29T04:31:20.511Z"
   },
   {
    "duration": 76,
    "start_time": "2022-11-29T04:31:20.669Z"
   },
   {
    "duration": 0,
    "start_time": "2022-11-29T04:31:20.746Z"
   },
   {
    "duration": 396,
    "start_time": "2022-11-29T04:31:28.692Z"
   },
   {
    "duration": 152,
    "start_time": "2022-11-29T04:31:29.090Z"
   },
   {
    "duration": 114,
    "start_time": "2022-11-29T04:31:29.243Z"
   },
   {
    "duration": 94,
    "start_time": "2022-11-29T04:31:29.358Z"
   },
   {
    "duration": 78,
    "start_time": "2022-11-29T04:31:34.430Z"
   },
   {
    "duration": 107,
    "start_time": "2022-11-29T04:32:34.038Z"
   },
   {
    "duration": 171,
    "start_time": "2022-11-29T04:33:00.040Z"
   },
   {
    "duration": 88,
    "start_time": "2022-11-29T04:33:22.191Z"
   },
   {
    "duration": 18,
    "start_time": "2022-11-29T04:37:31.786Z"
   },
   {
    "duration": 73,
    "start_time": "2022-11-29T04:37:40.050Z"
   },
   {
    "duration": 19,
    "start_time": "2022-11-29T04:37:47.395Z"
   },
   {
    "duration": 16,
    "start_time": "2022-11-29T04:37:53.363Z"
   },
   {
    "duration": 19,
    "start_time": "2022-11-29T04:38:30.460Z"
   },
   {
    "duration": 27,
    "start_time": "2022-11-29T04:38:35.181Z"
   },
   {
    "duration": 28,
    "start_time": "2022-11-29T04:41:19.692Z"
   },
   {
    "duration": 45,
    "start_time": "2022-11-29T04:41:33.373Z"
   },
   {
    "duration": 47,
    "start_time": "2022-11-29T04:41:39.238Z"
   },
   {
    "duration": 24,
    "start_time": "2022-11-29T04:41:43.598Z"
   },
   {
    "duration": 26,
    "start_time": "2022-11-29T04:41:48.285Z"
   },
   {
    "duration": 1099,
    "start_time": "2022-11-29T04:42:26.474Z"
   },
   {
    "duration": 149,
    "start_time": "2022-11-29T04:42:27.575Z"
   },
   {
    "duration": 109,
    "start_time": "2022-11-29T04:42:27.725Z"
   },
   {
    "duration": 96,
    "start_time": "2022-11-29T04:42:27.836Z"
   },
   {
    "duration": 120,
    "start_time": "2022-11-29T04:42:27.934Z"
   },
   {
    "duration": 21,
    "start_time": "2022-11-29T04:42:28.056Z"
   },
   {
    "duration": 19,
    "start_time": "2022-11-29T04:42:32.630Z"
   },
   {
    "duration": 7,
    "start_time": "2022-11-29T04:42:37.582Z"
   },
   {
    "duration": 16,
    "start_time": "2022-11-29T04:42:41.055Z"
   },
   {
    "duration": 23,
    "start_time": "2022-11-29T04:42:50.335Z"
   },
   {
    "duration": 19,
    "start_time": "2022-11-29T04:51:18.396Z"
   },
   {
    "duration": 23,
    "start_time": "2022-11-29T04:51:24.693Z"
   },
   {
    "duration": 19,
    "start_time": "2022-11-29T04:52:06.542Z"
   },
   {
    "duration": 19,
    "start_time": "2022-11-29T04:52:19.294Z"
   },
   {
    "duration": 16,
    "start_time": "2022-11-29T04:53:26.087Z"
   },
   {
    "duration": 16,
    "start_time": "2022-11-29T04:53:35.926Z"
   },
   {
    "duration": 24,
    "start_time": "2022-11-29T04:54:57.415Z"
   },
   {
    "duration": 1012,
    "start_time": "2022-11-29T04:55:20.368Z"
   },
   {
    "duration": 160,
    "start_time": "2022-11-29T04:55:21.381Z"
   },
   {
    "duration": 118,
    "start_time": "2022-11-29T04:55:21.543Z"
   },
   {
    "duration": 102,
    "start_time": "2022-11-29T04:55:21.663Z"
   },
   {
    "duration": 117,
    "start_time": "2022-11-29T04:55:21.766Z"
   },
   {
    "duration": 21,
    "start_time": "2022-11-29T04:55:21.885Z"
   },
   {
    "duration": 22,
    "start_time": "2022-11-29T04:55:21.907Z"
   },
   {
    "duration": 19,
    "start_time": "2022-11-29T04:55:21.931Z"
   },
   {
    "duration": 16,
    "start_time": "2022-11-29T04:55:21.952Z"
   },
   {
    "duration": 22,
    "start_time": "2022-11-29T04:55:21.970Z"
   },
   {
    "duration": 21,
    "start_time": "2022-11-29T04:55:42.193Z"
   },
   {
    "duration": 21,
    "start_time": "2022-11-29T04:55:50.529Z"
   },
   {
    "duration": 978,
    "start_time": "2022-11-29T04:56:14.879Z"
   },
   {
    "duration": 157,
    "start_time": "2022-11-29T04:56:15.858Z"
   },
   {
    "duration": 106,
    "start_time": "2022-11-29T04:56:16.016Z"
   },
   {
    "duration": 98,
    "start_time": "2022-11-29T04:56:16.124Z"
   },
   {
    "duration": 115,
    "start_time": "2022-11-29T04:56:16.223Z"
   },
   {
    "duration": 26,
    "start_time": "2022-11-29T04:56:16.340Z"
   },
   {
    "duration": 14,
    "start_time": "2022-11-29T04:56:16.368Z"
   },
   {
    "duration": 38,
    "start_time": "2022-11-29T04:56:16.384Z"
   },
   {
    "duration": 15,
    "start_time": "2022-11-29T04:56:16.423Z"
   },
   {
    "duration": 18,
    "start_time": "2022-11-29T04:56:16.440Z"
   },
   {
    "duration": 50,
    "start_time": "2022-11-29T04:56:23.944Z"
   },
   {
    "duration": 988,
    "start_time": "2022-11-29T04:56:45.261Z"
   },
   {
    "duration": 157,
    "start_time": "2022-11-29T04:56:46.251Z"
   },
   {
    "duration": 109,
    "start_time": "2022-11-29T04:56:46.410Z"
   },
   {
    "duration": 87,
    "start_time": "2022-11-29T04:56:46.521Z"
   },
   {
    "duration": 113,
    "start_time": "2022-11-29T04:56:46.620Z"
   },
   {
    "duration": 43,
    "start_time": "2022-11-29T04:56:46.734Z"
   },
   {
    "duration": 8,
    "start_time": "2022-11-29T04:56:46.778Z"
   },
   {
    "duration": 37,
    "start_time": "2022-11-29T04:56:46.787Z"
   },
   {
    "duration": 17,
    "start_time": "2022-11-29T04:56:46.825Z"
   },
   {
    "duration": 20,
    "start_time": "2022-11-29T04:56:46.844Z"
   },
   {
    "duration": 114,
    "start_time": "2022-11-29T04:57:11.680Z"
   },
   {
    "duration": 1040,
    "start_time": "2022-11-29T04:57:37.220Z"
   },
   {
    "duration": 150,
    "start_time": "2022-11-29T04:57:38.262Z"
   },
   {
    "duration": 106,
    "start_time": "2022-11-29T04:57:38.413Z"
   },
   {
    "duration": 92,
    "start_time": "2022-11-29T04:57:38.521Z"
   },
   {
    "duration": 136,
    "start_time": "2022-11-29T04:57:38.614Z"
   },
   {
    "duration": 42,
    "start_time": "2022-11-29T04:57:38.752Z"
   },
   {
    "duration": 7,
    "start_time": "2022-11-29T04:57:38.796Z"
   },
   {
    "duration": 35,
    "start_time": "2022-11-29T04:57:38.804Z"
   },
   {
    "duration": 16,
    "start_time": "2022-11-29T04:57:38.840Z"
   },
   {
    "duration": 17,
    "start_time": "2022-11-29T04:57:38.857Z"
   },
   {
    "duration": 74,
    "start_time": "2022-11-29T04:58:25.722Z"
   },
   {
    "duration": 107,
    "start_time": "2022-11-29T04:58:27.536Z"
   },
   {
    "duration": 93,
    "start_time": "2022-11-29T04:58:34.345Z"
   },
   {
    "duration": 109,
    "start_time": "2022-11-29T04:59:15.355Z"
   },
   {
    "duration": 125,
    "start_time": "2022-11-29T04:59:31.819Z"
   },
   {
    "duration": 1075,
    "start_time": "2022-11-29T04:59:57.988Z"
   },
   {
    "duration": 153,
    "start_time": "2022-11-29T04:59:59.065Z"
   },
   {
    "duration": 109,
    "start_time": "2022-11-29T04:59:59.219Z"
   },
   {
    "duration": 93,
    "start_time": "2022-11-29T04:59:59.330Z"
   },
   {
    "duration": 115,
    "start_time": "2022-11-29T04:59:59.424Z"
   },
   {
    "duration": 44,
    "start_time": "2022-11-29T04:59:59.541Z"
   },
   {
    "duration": 8,
    "start_time": "2022-11-29T04:59:59.587Z"
   },
   {
    "duration": 38,
    "start_time": "2022-11-29T04:59:59.597Z"
   },
   {
    "duration": 15,
    "start_time": "2022-11-29T04:59:59.637Z"
   },
   {
    "duration": 16,
    "start_time": "2022-11-29T04:59:59.653Z"
   },
   {
    "duration": 1218,
    "start_time": "2022-11-29T13:02:18.654Z"
   },
   {
    "duration": 515,
    "start_time": "2022-11-29T13:02:19.874Z"
   },
   {
    "duration": 114,
    "start_time": "2022-11-29T13:02:20.393Z"
   },
   {
    "duration": 93,
    "start_time": "2022-11-29T13:02:20.508Z"
   },
   {
    "duration": 125,
    "start_time": "2022-11-29T13:02:20.603Z"
   },
   {
    "duration": 44,
    "start_time": "2022-11-29T13:02:20.730Z"
   },
   {
    "duration": 9,
    "start_time": "2022-11-29T13:02:20.776Z"
   },
   {
    "duration": 40,
    "start_time": "2022-11-29T13:02:20.787Z"
   },
   {
    "duration": 17,
    "start_time": "2022-11-29T13:02:20.828Z"
   },
   {
    "duration": 39,
    "start_time": "2022-11-29T13:02:20.847Z"
   },
   {
    "duration": 91,
    "start_time": "2022-11-29T13:02:45.941Z"
   },
   {
    "duration": 44,
    "start_time": "2022-11-29T13:02:48.220Z"
   },
   {
    "duration": 9,
    "start_time": "2022-11-29T13:02:49.400Z"
   },
   {
    "duration": 21,
    "start_time": "2022-11-29T13:02:57.493Z"
   },
   {
    "duration": 16,
    "start_time": "2022-11-29T13:02:58.332Z"
   },
   {
    "duration": 16,
    "start_time": "2022-11-29T13:02:59.371Z"
   },
   {
    "duration": 22,
    "start_time": "2022-11-29T13:04:14.205Z"
   },
   {
    "duration": 91,
    "start_time": "2022-11-29T13:11:53.736Z"
   },
   {
    "duration": 8,
    "start_time": "2022-11-29T13:12:00.934Z"
   },
   {
    "duration": 94,
    "start_time": "2022-11-29T13:12:08.080Z"
   },
   {
    "duration": 288,
    "start_time": "2022-11-29T13:12:26.072Z"
   },
   {
    "duration": 170,
    "start_time": "2022-11-29T13:12:42.073Z"
   },
   {
    "duration": 268,
    "start_time": "2022-11-29T13:12:53.554Z"
   },
   {
    "duration": 177,
    "start_time": "2022-11-29T13:13:02.737Z"
   },
   {
    "duration": 200,
    "start_time": "2022-11-29T13:13:28.696Z"
   },
   {
    "duration": 195,
    "start_time": "2022-11-29T13:15:04.542Z"
   },
   {
    "duration": 29,
    "start_time": "2022-11-29T13:17:16.057Z"
   },
   {
    "duration": 194,
    "start_time": "2022-11-29T13:21:15.651Z"
   },
   {
    "duration": 237,
    "start_time": "2022-11-29T13:21:27.131Z"
   },
   {
    "duration": 17,
    "start_time": "2022-11-29T13:21:48.491Z"
   },
   {
    "duration": 18,
    "start_time": "2022-11-29T13:22:05.563Z"
   },
   {
    "duration": 205,
    "start_time": "2022-11-29T13:22:05.962Z"
   },
   {
    "duration": 27,
    "start_time": "2022-11-29T13:22:42.043Z"
   },
   {
    "duration": 9,
    "start_time": "2022-11-29T13:23:00.473Z"
   },
   {
    "duration": 30,
    "start_time": "2022-11-29T13:23:19.926Z"
   },
   {
    "duration": 12,
    "start_time": "2022-11-29T13:23:27.739Z"
   },
   {
    "duration": 13,
    "start_time": "2022-11-29T13:23:39.244Z"
   },
   {
    "duration": 8,
    "start_time": "2022-11-29T13:23:39.881Z"
   },
   {
    "duration": 18,
    "start_time": "2022-11-29T13:24:33.020Z"
   },
   {
    "duration": 24,
    "start_time": "2022-11-29T13:24:42.115Z"
   },
   {
    "duration": 17,
    "start_time": "2022-11-29T13:24:49.490Z"
   },
   {
    "duration": 40,
    "start_time": "2022-11-29T13:24:55.891Z"
   },
   {
    "duration": 35,
    "start_time": "2022-11-29T13:25:13.923Z"
   },
   {
    "duration": 1044,
    "start_time": "2022-11-29T13:38:33.407Z"
   },
   {
    "duration": 165,
    "start_time": "2022-11-29T13:38:34.453Z"
   },
   {
    "duration": 113,
    "start_time": "2022-11-29T13:38:34.620Z"
   },
   {
    "duration": 106,
    "start_time": "2022-11-29T13:38:34.734Z"
   },
   {
    "duration": 116,
    "start_time": "2022-11-29T13:38:34.842Z"
   },
   {
    "duration": 14,
    "start_time": "2022-11-29T13:38:34.959Z"
   },
   {
    "duration": 21,
    "start_time": "2022-11-29T13:38:34.974Z"
   },
   {
    "duration": 46,
    "start_time": "2022-11-29T13:38:34.996Z"
   },
   {
    "duration": 27,
    "start_time": "2022-11-29T13:38:35.043Z"
   },
   {
    "duration": 64,
    "start_time": "2022-11-29T13:38:35.071Z"
   },
   {
    "duration": 291,
    "start_time": "2022-11-29T13:38:35.136Z"
   },
   {
    "duration": 15,
    "start_time": "2022-11-29T13:38:35.428Z"
   },
   {
    "duration": 46,
    "start_time": "2022-11-29T13:38:35.445Z"
   },
   {
    "duration": 37,
    "start_time": "2022-11-29T13:38:35.494Z"
   },
   {
    "duration": 31,
    "start_time": "2022-11-29T13:38:35.532Z"
   },
   {
    "duration": 59,
    "start_time": "2022-11-29T13:38:35.564Z"
   },
   {
    "duration": 1218,
    "start_time": "2022-11-30T04:17:28.866Z"
   },
   {
    "duration": 496,
    "start_time": "2022-11-30T04:17:30.086Z"
   },
   {
    "duration": 108,
    "start_time": "2022-11-30T04:17:30.584Z"
   },
   {
    "duration": 102,
    "start_time": "2022-11-30T04:17:30.698Z"
   },
   {
    "duration": 119,
    "start_time": "2022-11-30T04:17:30.802Z"
   },
   {
    "duration": 13,
    "start_time": "2022-11-30T04:17:30.923Z"
   },
   {
    "duration": 24,
    "start_time": "2022-11-30T04:17:30.938Z"
   },
   {
    "duration": 47,
    "start_time": "2022-11-30T04:17:30.964Z"
   },
   {
    "duration": 25,
    "start_time": "2022-11-30T04:17:31.013Z"
   },
   {
    "duration": 30,
    "start_time": "2022-11-30T04:17:31.040Z"
   },
   {
    "duration": 283,
    "start_time": "2022-11-30T04:17:31.072Z"
   },
   {
    "duration": 14,
    "start_time": "2022-11-30T04:17:31.356Z"
   },
   {
    "duration": 15,
    "start_time": "2022-11-30T04:17:31.371Z"
   },
   {
    "duration": 6,
    "start_time": "2022-11-30T04:17:31.397Z"
   },
   {
    "duration": 33,
    "start_time": "2022-11-30T04:17:31.405Z"
   },
   {
    "duration": 21,
    "start_time": "2022-11-30T04:17:31.440Z"
   },
   {
    "duration": 51,
    "start_time": "2022-11-30T04:21:50.553Z"
   },
   {
    "duration": 49,
    "start_time": "2022-11-30T04:25:53.364Z"
   },
   {
    "duration": 8,
    "start_time": "2022-11-30T04:29:22.941Z"
   },
   {
    "duration": 13,
    "start_time": "2022-11-30T04:29:32.361Z"
   },
   {
    "duration": 15,
    "start_time": "2022-11-30T04:29:40.801Z"
   },
   {
    "duration": 11,
    "start_time": "2022-11-30T04:29:53.146Z"
   },
   {
    "duration": 16,
    "start_time": "2022-11-30T04:29:58.258Z"
   },
   {
    "duration": 12,
    "start_time": "2022-11-30T04:30:28.834Z"
   },
   {
    "duration": 1063,
    "start_time": "2022-11-30T04:30:42.797Z"
   },
   {
    "duration": 159,
    "start_time": "2022-11-30T04:30:43.862Z"
   },
   {
    "duration": 108,
    "start_time": "2022-11-30T04:30:44.023Z"
   },
   {
    "duration": 98,
    "start_time": "2022-11-30T04:30:44.133Z"
   },
   {
    "duration": 113,
    "start_time": "2022-11-30T04:30:44.233Z"
   },
   {
    "duration": 13,
    "start_time": "2022-11-30T04:30:44.348Z"
   },
   {
    "duration": 32,
    "start_time": "2022-11-30T04:30:44.362Z"
   },
   {
    "duration": 33,
    "start_time": "2022-11-30T04:30:44.395Z"
   },
   {
    "duration": 27,
    "start_time": "2022-11-30T04:30:44.430Z"
   },
   {
    "duration": 38,
    "start_time": "2022-11-30T04:30:44.459Z"
   },
   {
    "duration": 347,
    "start_time": "2022-11-30T04:30:44.499Z"
   },
   {
    "duration": 14,
    "start_time": "2022-11-30T04:30:44.847Z"
   },
   {
    "duration": 25,
    "start_time": "2022-11-30T04:30:44.863Z"
   },
   {
    "duration": 20,
    "start_time": "2022-11-30T04:30:44.891Z"
   },
   {
    "duration": 60,
    "start_time": "2022-11-30T04:30:44.913Z"
   },
   {
    "duration": 22,
    "start_time": "2022-11-30T04:30:44.974Z"
   },
   {
    "duration": 88,
    "start_time": "2022-11-30T04:30:44.998Z"
   },
   {
    "duration": 13,
    "start_time": "2022-11-30T04:30:45.088Z"
   },
   {
    "duration": 50,
    "start_time": "2022-11-30T05:04:12.672Z"
   },
   {
    "duration": 12,
    "start_time": "2022-11-30T05:04:13.200Z"
   },
   {
    "duration": 63,
    "start_time": "2022-11-30T05:31:03.513Z"
   },
   {
    "duration": 89,
    "start_time": "2022-11-30T05:31:17.719Z"
   },
   {
    "duration": 16,
    "start_time": "2022-11-30T05:32:07.793Z"
   },
   {
    "duration": 59,
    "start_time": "2022-11-30T07:56:32.230Z"
   },
   {
    "duration": 52,
    "start_time": "2022-11-30T07:56:36.389Z"
   },
   {
    "duration": 36,
    "start_time": "2022-11-30T07:58:37.870Z"
   },
   {
    "duration": 5,
    "start_time": "2022-11-30T07:58:44.582Z"
   },
   {
    "duration": 8,
    "start_time": "2022-11-30T07:59:38.638Z"
   },
   {
    "duration": 12,
    "start_time": "2022-11-30T07:59:56.989Z"
   },
   {
    "duration": 1163,
    "start_time": "2022-11-30T08:00:30.048Z"
   },
   {
    "duration": 160,
    "start_time": "2022-11-30T08:00:31.213Z"
   },
   {
    "duration": 116,
    "start_time": "2022-11-30T08:00:31.374Z"
   },
   {
    "duration": 93,
    "start_time": "2022-11-30T08:00:31.492Z"
   },
   {
    "duration": 107,
    "start_time": "2022-11-30T08:00:31.597Z"
   },
   {
    "duration": 13,
    "start_time": "2022-11-30T08:00:31.705Z"
   },
   {
    "duration": 19,
    "start_time": "2022-11-30T08:00:31.719Z"
   },
   {
    "duration": 25,
    "start_time": "2022-11-30T08:00:31.740Z"
   },
   {
    "duration": 30,
    "start_time": "2022-11-30T08:00:31.767Z"
   },
   {
    "duration": 18,
    "start_time": "2022-11-30T08:00:31.799Z"
   },
   {
    "duration": 297,
    "start_time": "2022-11-30T08:00:31.818Z"
   },
   {
    "duration": 16,
    "start_time": "2022-11-30T08:00:32.117Z"
   },
   {
    "duration": 14,
    "start_time": "2022-11-30T08:00:32.134Z"
   },
   {
    "duration": 14,
    "start_time": "2022-11-30T08:00:32.151Z"
   },
   {
    "duration": 55,
    "start_time": "2022-11-30T08:00:32.167Z"
   },
   {
    "duration": 22,
    "start_time": "2022-11-30T08:00:32.224Z"
   },
   {
    "duration": 56,
    "start_time": "2022-11-30T08:00:32.261Z"
   },
   {
    "duration": 13,
    "start_time": "2022-11-30T08:00:32.318Z"
   },
   {
    "duration": 77,
    "start_time": "2022-11-30T08:00:32.332Z"
   },
   {
    "duration": 34,
    "start_time": "2022-11-30T08:00:32.410Z"
   },
   {
    "duration": 3,
    "start_time": "2022-11-30T08:00:32.446Z"
   },
   {
    "duration": 10,
    "start_time": "2022-11-30T08:00:32.451Z"
   },
   {
    "duration": 509,
    "start_time": "2022-11-30T08:00:32.462Z"
   },
   {
    "duration": 1034,
    "start_time": "2022-11-30T08:01:10.552Z"
   },
   {
    "duration": 153,
    "start_time": "2022-11-30T08:01:11.588Z"
   },
   {
    "duration": 115,
    "start_time": "2022-11-30T08:01:11.744Z"
   },
   {
    "duration": 103,
    "start_time": "2022-11-30T08:01:11.861Z"
   },
   {
    "duration": 105,
    "start_time": "2022-11-30T08:01:11.965Z"
   },
   {
    "duration": 12,
    "start_time": "2022-11-30T08:01:12.072Z"
   },
   {
    "duration": 18,
    "start_time": "2022-11-30T08:01:12.085Z"
   },
   {
    "duration": 19,
    "start_time": "2022-11-30T08:01:12.104Z"
   },
   {
    "duration": 15,
    "start_time": "2022-11-30T08:01:12.124Z"
   },
   {
    "duration": 17,
    "start_time": "2022-11-30T08:01:12.141Z"
   },
   {
    "duration": 355,
    "start_time": "2022-11-30T08:01:12.160Z"
   },
   {
    "duration": 15,
    "start_time": "2022-11-30T08:01:12.516Z"
   },
   {
    "duration": 11,
    "start_time": "2022-11-30T08:01:12.534Z"
   },
   {
    "duration": 10,
    "start_time": "2022-11-30T08:01:12.547Z"
   },
   {
    "duration": 50,
    "start_time": "2022-11-30T08:01:12.558Z"
   },
   {
    "duration": 22,
    "start_time": "2022-11-30T08:01:12.609Z"
   },
   {
    "duration": 48,
    "start_time": "2022-11-30T08:01:12.632Z"
   },
   {
    "duration": 23,
    "start_time": "2022-11-30T08:01:12.682Z"
   },
   {
    "duration": 57,
    "start_time": "2022-11-30T08:01:12.707Z"
   },
   {
    "duration": 49,
    "start_time": "2022-11-30T08:01:12.766Z"
   },
   {
    "duration": 4,
    "start_time": "2022-11-30T08:01:12.816Z"
   },
   {
    "duration": 8,
    "start_time": "2022-11-30T08:01:12.821Z"
   },
   {
    "duration": 555,
    "start_time": "2022-11-30T08:01:12.830Z"
   },
   {
    "duration": 1352,
    "start_time": "2022-11-30T08:02:27.678Z"
   },
   {
    "duration": 155,
    "start_time": "2022-11-30T08:02:29.031Z"
   },
   {
    "duration": 111,
    "start_time": "2022-11-30T08:02:29.187Z"
   },
   {
    "duration": 101,
    "start_time": "2022-11-30T08:02:29.300Z"
   },
   {
    "duration": 107,
    "start_time": "2022-11-30T08:02:29.403Z"
   },
   {
    "duration": 14,
    "start_time": "2022-11-30T08:02:29.512Z"
   },
   {
    "duration": 15,
    "start_time": "2022-11-30T08:02:29.528Z"
   },
   {
    "duration": 20,
    "start_time": "2022-11-30T08:02:29.544Z"
   },
   {
    "duration": 15,
    "start_time": "2022-11-30T08:02:29.565Z"
   },
   {
    "duration": 15,
    "start_time": "2022-11-30T08:02:29.597Z"
   },
   {
    "duration": 341,
    "start_time": "2022-11-30T08:02:29.614Z"
   },
   {
    "duration": 14,
    "start_time": "2022-11-30T08:02:29.957Z"
   },
   {
    "duration": 25,
    "start_time": "2022-11-30T08:02:29.973Z"
   },
   {
    "duration": 8,
    "start_time": "2022-11-30T08:02:30.000Z"
   },
   {
    "duration": 50,
    "start_time": "2022-11-30T08:02:30.009Z"
   },
   {
    "duration": 24,
    "start_time": "2022-11-30T08:02:30.061Z"
   },
   {
    "duration": 64,
    "start_time": "2022-11-30T08:02:30.097Z"
   },
   {
    "duration": 13,
    "start_time": "2022-11-30T08:02:30.162Z"
   },
   {
    "duration": 80,
    "start_time": "2022-11-30T08:02:30.176Z"
   },
   {
    "duration": 43,
    "start_time": "2022-11-30T08:02:30.258Z"
   },
   {
    "duration": 3,
    "start_time": "2022-11-30T08:02:30.303Z"
   },
   {
    "duration": 20,
    "start_time": "2022-11-30T08:02:30.308Z"
   },
   {
    "duration": 647,
    "start_time": "2022-11-30T08:02:30.330Z"
   },
   {
    "duration": 1070,
    "start_time": "2022-11-30T08:02:48.357Z"
   },
   {
    "duration": 151,
    "start_time": "2022-11-30T08:02:49.429Z"
   },
   {
    "duration": 112,
    "start_time": "2022-11-30T08:02:49.581Z"
   },
   {
    "duration": 86,
    "start_time": "2022-11-30T08:02:49.698Z"
   },
   {
    "duration": 114,
    "start_time": "2022-11-30T08:02:49.786Z"
   },
   {
    "duration": 12,
    "start_time": "2022-11-30T08:02:49.902Z"
   },
   {
    "duration": 17,
    "start_time": "2022-11-30T08:02:49.915Z"
   },
   {
    "duration": 25,
    "start_time": "2022-11-30T08:02:49.933Z"
   },
   {
    "duration": 17,
    "start_time": "2022-11-30T08:02:49.960Z"
   },
   {
    "duration": 16,
    "start_time": "2022-11-30T08:02:49.998Z"
   },
   {
    "duration": 363,
    "start_time": "2022-11-30T08:02:50.015Z"
   },
   {
    "duration": 23,
    "start_time": "2022-11-30T08:02:50.379Z"
   },
   {
    "duration": 14,
    "start_time": "2022-11-30T08:02:50.404Z"
   },
   {
    "duration": 13,
    "start_time": "2022-11-30T08:02:50.419Z"
   },
   {
    "duration": 41,
    "start_time": "2022-11-30T08:02:50.434Z"
   },
   {
    "duration": 28,
    "start_time": "2022-11-30T08:02:50.477Z"
   },
   {
    "duration": 52,
    "start_time": "2022-11-30T08:02:50.507Z"
   },
   {
    "duration": 12,
    "start_time": "2022-11-30T08:02:50.561Z"
   },
   {
    "duration": 79,
    "start_time": "2022-11-30T08:02:50.574Z"
   },
   {
    "duration": 45,
    "start_time": "2022-11-30T08:02:50.654Z"
   },
   {
    "duration": 4,
    "start_time": "2022-11-30T08:02:50.700Z"
   },
   {
    "duration": 35,
    "start_time": "2022-11-30T08:02:50.705Z"
   },
   {
    "duration": 565,
    "start_time": "2022-11-30T08:02:50.741Z"
   },
   {
    "duration": 301,
    "start_time": "2022-11-30T13:35:57.658Z"
   },
   {
    "duration": 732,
    "start_time": "2022-11-30T13:40:01.781Z"
   },
   {
    "duration": 652,
    "start_time": "2022-11-30T13:40:15.982Z"
   },
   {
    "duration": 201,
    "start_time": "2022-11-30T13:40:30.549Z"
   },
   {
    "duration": 355,
    "start_time": "2022-11-30T13:41:09.429Z"
   },
   {
    "duration": 191,
    "start_time": "2022-11-30T13:45:07.673Z"
   },
   {
    "duration": 196,
    "start_time": "2022-11-30T13:45:12.775Z"
   },
   {
    "duration": 240,
    "start_time": "2022-11-30T13:45:24.567Z"
   },
   {
    "duration": 204,
    "start_time": "2022-11-30T13:45:46.655Z"
   },
   {
    "duration": 9,
    "start_time": "2022-11-30T13:48:29.231Z"
   },
   {
    "duration": 964,
    "start_time": "2022-11-30T13:48:36.730Z"
   },
   {
    "duration": 908,
    "start_time": "2022-11-30T13:48:49.216Z"
   },
   {
    "duration": 1116,
    "start_time": "2022-11-30T13:49:03.271Z"
   },
   {
    "duration": 45,
    "start_time": "2022-11-30T13:49:33.424Z"
   },
   {
    "duration": 13,
    "start_time": "2022-11-30T13:49:41.127Z"
   },
   {
    "duration": 9,
    "start_time": "2022-11-30T13:52:41.874Z"
   },
   {
    "duration": 7,
    "start_time": "2022-11-30T13:52:48.936Z"
   },
   {
    "duration": 4,
    "start_time": "2022-11-30T13:53:15.848Z"
   },
   {
    "duration": 8,
    "start_time": "2022-11-30T13:53:28.074Z"
   },
   {
    "duration": 4,
    "start_time": "2022-11-30T13:57:26.026Z"
   },
   {
    "duration": 3,
    "start_time": "2022-11-30T13:57:41.370Z"
   },
   {
    "duration": 1014,
    "start_time": "2022-11-30T13:57:47.238Z"
   },
   {
    "duration": 163,
    "start_time": "2022-11-30T13:57:48.254Z"
   },
   {
    "duration": 107,
    "start_time": "2022-11-30T13:57:48.419Z"
   },
   {
    "duration": 98,
    "start_time": "2022-11-30T13:57:48.527Z"
   },
   {
    "duration": 115,
    "start_time": "2022-11-30T13:57:48.627Z"
   },
   {
    "duration": 12,
    "start_time": "2022-11-30T13:57:48.744Z"
   },
   {
    "duration": 20,
    "start_time": "2022-11-30T13:57:48.758Z"
   },
   {
    "duration": 31,
    "start_time": "2022-11-30T13:57:48.779Z"
   },
   {
    "duration": 19,
    "start_time": "2022-11-30T13:57:48.811Z"
   },
   {
    "duration": 20,
    "start_time": "2022-11-30T13:57:48.831Z"
   },
   {
    "duration": 303,
    "start_time": "2022-11-30T13:57:48.853Z"
   },
   {
    "duration": 16,
    "start_time": "2022-11-30T13:57:49.158Z"
   },
   {
    "duration": 29,
    "start_time": "2022-11-30T13:57:49.175Z"
   },
   {
    "duration": 17,
    "start_time": "2022-11-30T13:57:49.206Z"
   },
   {
    "duration": 46,
    "start_time": "2022-11-30T13:57:49.224Z"
   },
   {
    "duration": 26,
    "start_time": "2022-11-30T13:57:49.272Z"
   },
   {
    "duration": 74,
    "start_time": "2022-11-30T13:57:49.300Z"
   },
   {
    "duration": 13,
    "start_time": "2022-11-30T13:57:49.375Z"
   },
   {
    "duration": 6,
    "start_time": "2022-11-30T13:57:49.390Z"
   },
   {
    "duration": 14,
    "start_time": "2022-11-30T13:57:49.397Z"
   },
   {
    "duration": 4,
    "start_time": "2022-11-30T13:59:24.465Z"
   },
   {
    "duration": 5,
    "start_time": "2022-11-30T13:59:42.034Z"
   },
   {
    "duration": 5,
    "start_time": "2022-11-30T14:00:16.305Z"
   },
   {
    "duration": 14,
    "start_time": "2022-11-30T14:00:40.147Z"
   },
   {
    "duration": 13,
    "start_time": "2022-11-30T14:00:52.548Z"
   },
   {
    "duration": 49,
    "start_time": "2022-11-30T14:01:12.482Z"
   },
   {
    "duration": 13,
    "start_time": "2022-11-30T14:01:13.271Z"
   },
   {
    "duration": 3,
    "start_time": "2022-11-30T14:01:20.506Z"
   },
   {
    "duration": 5,
    "start_time": "2022-11-30T14:03:24.034Z"
   },
   {
    "duration": 4,
    "start_time": "2022-11-30T14:03:27.288Z"
   },
   {
    "duration": 5,
    "start_time": "2022-11-30T14:06:04.979Z"
   },
   {
    "duration": 120,
    "start_time": "2022-11-30T14:06:25.155Z"
   },
   {
    "duration": 4,
    "start_time": "2022-11-30T14:06:39.227Z"
   },
   {
    "duration": 4,
    "start_time": "2022-11-30T14:07:40.059Z"
   },
   {
    "duration": 6,
    "start_time": "2022-11-30T14:07:48.864Z"
   },
   {
    "duration": 4,
    "start_time": "2022-11-30T14:09:01.779Z"
   },
   {
    "duration": 15,
    "start_time": "2022-11-30T14:09:46.300Z"
   },
   {
    "duration": 4,
    "start_time": "2022-11-30T14:09:55.807Z"
   },
   {
    "duration": 4,
    "start_time": "2022-11-30T14:10:15.770Z"
   },
   {
    "duration": 4,
    "start_time": "2022-11-30T14:10:30.340Z"
   },
   {
    "duration": 10,
    "start_time": "2022-11-30T14:10:43.061Z"
   },
   {
    "duration": 9,
    "start_time": "2022-11-30T14:10:51.205Z"
   },
   {
    "duration": 4,
    "start_time": "2022-11-30T14:11:01.357Z"
   },
   {
    "duration": 5,
    "start_time": "2022-11-30T14:11:10.412Z"
   },
   {
    "duration": 11,
    "start_time": "2022-11-30T14:11:34.725Z"
   },
   {
    "duration": 5,
    "start_time": "2022-11-30T14:11:40.908Z"
   },
   {
    "duration": 4,
    "start_time": "2022-11-30T14:11:54.132Z"
   },
   {
    "duration": 4,
    "start_time": "2022-11-30T14:12:01.269Z"
   },
   {
    "duration": 4,
    "start_time": "2022-11-30T14:18:13.462Z"
   },
   {
    "duration": 10,
    "start_time": "2022-11-30T14:19:07.926Z"
   },
   {
    "duration": 5,
    "start_time": "2022-11-30T14:19:13.934Z"
   },
   {
    "duration": 5,
    "start_time": "2022-11-30T14:20:08.894Z"
   },
   {
    "duration": 9,
    "start_time": "2022-11-30T14:20:12.798Z"
   },
   {
    "duration": 4,
    "start_time": "2022-11-30T14:20:21.607Z"
   },
   {
    "duration": 4,
    "start_time": "2022-11-30T14:21:04.894Z"
   },
   {
    "duration": 4,
    "start_time": "2022-11-30T14:21:39.735Z"
   },
   {
    "duration": 4,
    "start_time": "2022-11-30T14:21:49.511Z"
   },
   {
    "duration": 4,
    "start_time": "2022-11-30T14:21:56.055Z"
   },
   {
    "duration": 2,
    "start_time": "2022-11-30T14:22:44.359Z"
   },
   {
    "duration": 3,
    "start_time": "2022-11-30T14:22:51.343Z"
   },
   {
    "duration": 9,
    "start_time": "2022-11-30T14:23:02.031Z"
   },
   {
    "duration": 3,
    "start_time": "2022-11-30T14:23:07.760Z"
   },
   {
    "duration": 4,
    "start_time": "2022-11-30T14:23:12.007Z"
   },
   {
    "duration": 4,
    "start_time": "2022-11-30T14:23:20.319Z"
   },
   {
    "duration": 4,
    "start_time": "2022-11-30T14:23:22.692Z"
   },
   {
    "duration": 2,
    "start_time": "2022-11-30T14:23:27.783Z"
   },
   {
    "duration": 4,
    "start_time": "2022-11-30T14:23:28.872Z"
   },
   {
    "duration": 4,
    "start_time": "2022-11-30T14:23:30.600Z"
   },
   {
    "duration": 3,
    "start_time": "2022-11-30T14:24:20.519Z"
   },
   {
    "duration": 4,
    "start_time": "2022-11-30T14:24:21.357Z"
   },
   {
    "duration": 1092,
    "start_time": "2022-11-30T14:24:39.302Z"
   },
   {
    "duration": 154,
    "start_time": "2022-11-30T14:24:40.397Z"
   },
   {
    "duration": 105,
    "start_time": "2022-11-30T14:24:40.553Z"
   },
   {
    "duration": 95,
    "start_time": "2022-11-30T14:24:40.660Z"
   },
   {
    "duration": 115,
    "start_time": "2022-11-30T14:24:40.757Z"
   },
   {
    "duration": 12,
    "start_time": "2022-11-30T14:24:40.874Z"
   },
   {
    "duration": 8,
    "start_time": "2022-11-30T14:24:40.897Z"
   },
   {
    "duration": 19,
    "start_time": "2022-11-30T14:24:40.907Z"
   },
   {
    "duration": 16,
    "start_time": "2022-11-30T14:24:40.927Z"
   },
   {
    "duration": 20,
    "start_time": "2022-11-30T14:24:40.944Z"
   },
   {
    "duration": 296,
    "start_time": "2022-11-30T14:24:40.966Z"
   },
   {
    "duration": 14,
    "start_time": "2022-11-30T14:24:41.264Z"
   },
   {
    "duration": 24,
    "start_time": "2022-11-30T14:24:41.280Z"
   },
   {
    "duration": 9,
    "start_time": "2022-11-30T14:24:41.306Z"
   },
   {
    "duration": 31,
    "start_time": "2022-11-30T14:24:41.317Z"
   },
   {
    "duration": 21,
    "start_time": "2022-11-30T14:24:41.349Z"
   },
   {
    "duration": 73,
    "start_time": "2022-11-30T14:24:41.371Z"
   },
   {
    "duration": 13,
    "start_time": "2022-11-30T14:24:41.445Z"
   },
   {
    "duration": 3,
    "start_time": "2022-11-30T14:24:41.459Z"
   },
   {
    "duration": 6,
    "start_time": "2022-11-30T14:24:41.463Z"
   },
   {
    "duration": 6,
    "start_time": "2022-11-30T14:24:41.471Z"
   },
   {
    "duration": 3,
    "start_time": "2022-11-30T14:25:02.063Z"
   },
   {
    "duration": 44,
    "start_time": "2022-11-30T17:15:33.107Z"
   },
   {
    "duration": 1280,
    "start_time": "2022-11-30T17:15:42.088Z"
   },
   {
    "duration": 791,
    "start_time": "2022-11-30T17:15:43.370Z"
   },
   {
    "duration": 124,
    "start_time": "2022-11-30T17:15:44.163Z"
   },
   {
    "duration": 103,
    "start_time": "2022-11-30T17:15:44.289Z"
   },
   {
    "duration": 111,
    "start_time": "2022-11-30T17:15:44.393Z"
   },
   {
    "duration": 11,
    "start_time": "2022-11-30T17:15:44.506Z"
   },
   {
    "duration": 9,
    "start_time": "2022-11-30T17:15:44.522Z"
   },
   {
    "duration": 20,
    "start_time": "2022-11-30T17:15:44.532Z"
   },
   {
    "duration": 15,
    "start_time": "2022-11-30T17:15:44.553Z"
   },
   {
    "duration": 20,
    "start_time": "2022-11-30T17:15:44.570Z"
   },
   {
    "duration": 303,
    "start_time": "2022-11-30T17:15:44.592Z"
   },
   {
    "duration": 14,
    "start_time": "2022-11-30T17:15:44.897Z"
   },
   {
    "duration": 18,
    "start_time": "2022-11-30T17:15:44.913Z"
   },
   {
    "duration": 12,
    "start_time": "2022-11-30T17:15:44.933Z"
   },
   {
    "duration": 31,
    "start_time": "2022-11-30T17:15:44.946Z"
   },
   {
    "duration": 18,
    "start_time": "2022-11-30T17:15:44.979Z"
   },
   {
    "duration": 70,
    "start_time": "2022-11-30T17:15:44.999Z"
   },
   {
    "duration": 13,
    "start_time": "2022-11-30T17:15:45.071Z"
   },
   {
    "duration": 2,
    "start_time": "2022-11-30T17:15:45.086Z"
   },
   {
    "duration": 118,
    "start_time": "2022-11-30T17:15:45.090Z"
   },
   {
    "duration": 9,
    "start_time": "2022-11-30T17:15:57.873Z"
   },
   {
    "duration": 10,
    "start_time": "2022-11-30T17:17:24.338Z"
   },
   {
    "duration": 1174,
    "start_time": "2022-11-30T17:17:31.819Z"
   },
   {
    "duration": 1257,
    "start_time": "2022-11-30T17:17:45.755Z"
   },
   {
    "duration": 13,
    "start_time": "2022-11-30T17:18:05.044Z"
   },
   {
    "duration": 1263,
    "start_time": "2022-12-01T02:54:28.948Z"
   },
   {
    "duration": 273,
    "start_time": "2022-12-01T02:54:30.215Z"
   },
   {
    "duration": 109,
    "start_time": "2022-12-01T02:54:30.490Z"
   },
   {
    "duration": 106,
    "start_time": "2022-12-01T02:54:30.601Z"
   },
   {
    "duration": 114,
    "start_time": "2022-12-01T02:54:30.709Z"
   },
   {
    "duration": 16,
    "start_time": "2022-12-01T02:54:30.825Z"
   },
   {
    "duration": 33,
    "start_time": "2022-12-01T02:54:30.842Z"
   },
   {
    "duration": 22,
    "start_time": "2022-12-01T02:54:30.876Z"
   },
   {
    "duration": 16,
    "start_time": "2022-12-01T02:54:30.900Z"
   },
   {
    "duration": 27,
    "start_time": "2022-12-01T02:54:30.918Z"
   },
   {
    "duration": 296,
    "start_time": "2022-12-01T02:54:30.947Z"
   },
   {
    "duration": 15,
    "start_time": "2022-12-01T02:54:31.246Z"
   },
   {
    "duration": 20,
    "start_time": "2022-12-01T02:54:31.262Z"
   },
   {
    "duration": 11,
    "start_time": "2022-12-01T02:54:31.286Z"
   },
   {
    "duration": 49,
    "start_time": "2022-12-01T02:54:31.298Z"
   },
   {
    "duration": 24,
    "start_time": "2022-12-01T02:54:31.349Z"
   },
   {
    "duration": 69,
    "start_time": "2022-12-01T02:54:31.375Z"
   },
   {
    "duration": 14,
    "start_time": "2022-12-01T02:54:31.446Z"
   },
   {
    "duration": 3,
    "start_time": "2022-12-01T02:54:31.462Z"
   },
   {
    "duration": 38,
    "start_time": "2022-12-01T02:54:31.467Z"
   },
   {
    "duration": 14,
    "start_time": "2022-12-01T02:55:40.733Z"
   },
   {
    "duration": 2,
    "start_time": "2022-12-01T02:55:46.548Z"
   },
   {
    "duration": 14,
    "start_time": "2022-12-01T02:55:47.852Z"
   },
   {
    "duration": 1021,
    "start_time": "2022-12-01T02:55:55.268Z"
   },
   {
    "duration": 150,
    "start_time": "2022-12-01T02:55:56.291Z"
   },
   {
    "duration": 108,
    "start_time": "2022-12-01T02:55:56.443Z"
   },
   {
    "duration": 97,
    "start_time": "2022-12-01T02:55:56.552Z"
   },
   {
    "duration": 127,
    "start_time": "2022-12-01T02:55:56.650Z"
   },
   {
    "duration": 14,
    "start_time": "2022-12-01T02:55:56.779Z"
   },
   {
    "duration": 32,
    "start_time": "2022-12-01T02:55:56.795Z"
   },
   {
    "duration": 41,
    "start_time": "2022-12-01T02:55:56.828Z"
   },
   {
    "duration": 16,
    "start_time": "2022-12-01T02:55:56.870Z"
   },
   {
    "duration": 54,
    "start_time": "2022-12-01T02:55:56.887Z"
   },
   {
    "duration": 294,
    "start_time": "2022-12-01T02:55:56.943Z"
   },
   {
    "duration": 15,
    "start_time": "2022-12-01T02:55:57.238Z"
   },
   {
    "duration": 38,
    "start_time": "2022-12-01T02:55:57.254Z"
   },
   {
    "duration": 36,
    "start_time": "2022-12-01T02:55:57.294Z"
   },
   {
    "duration": 53,
    "start_time": "2022-12-01T02:55:57.331Z"
   },
   {
    "duration": 23,
    "start_time": "2022-12-01T02:55:57.385Z"
   },
   {
    "duration": 66,
    "start_time": "2022-12-01T02:55:57.410Z"
   },
   {
    "duration": 13,
    "start_time": "2022-12-01T02:55:57.478Z"
   },
   {
    "duration": 19,
    "start_time": "2022-12-01T02:55:57.492Z"
   },
   {
    "duration": 34,
    "start_time": "2022-12-01T02:55:57.513Z"
   },
   {
    "duration": 1074,
    "start_time": "2022-12-01T02:59:48.935Z"
   },
   {
    "duration": 173,
    "start_time": "2022-12-01T02:59:50.011Z"
   },
   {
    "duration": 128,
    "start_time": "2022-12-01T02:59:50.185Z"
   },
   {
    "duration": 106,
    "start_time": "2022-12-01T02:59:50.315Z"
   },
   {
    "duration": 120,
    "start_time": "2022-12-01T02:59:50.424Z"
   },
   {
    "duration": 13,
    "start_time": "2022-12-01T02:59:50.546Z"
   },
   {
    "duration": 11,
    "start_time": "2022-12-01T02:59:50.561Z"
   },
   {
    "duration": 22,
    "start_time": "2022-12-01T02:59:50.574Z"
   },
   {
    "duration": 40,
    "start_time": "2022-12-01T02:59:50.598Z"
   },
   {
    "duration": 22,
    "start_time": "2022-12-01T02:59:50.640Z"
   },
   {
    "duration": 298,
    "start_time": "2022-12-01T02:59:50.663Z"
   },
   {
    "duration": 15,
    "start_time": "2022-12-01T02:59:50.963Z"
   },
   {
    "duration": 14,
    "start_time": "2022-12-01T02:59:50.979Z"
   },
   {
    "duration": 11,
    "start_time": "2022-12-01T02:59:50.996Z"
   },
   {
    "duration": 54,
    "start_time": "2022-12-01T02:59:51.009Z"
   },
   {
    "duration": 23,
    "start_time": "2022-12-01T02:59:51.065Z"
   },
   {
    "duration": 73,
    "start_time": "2022-12-01T02:59:51.089Z"
   },
   {
    "duration": 8,
    "start_time": "2022-12-01T02:59:51.164Z"
   },
   {
    "duration": 1167,
    "start_time": "2022-12-01T02:59:51.174Z"
   },
   {
    "duration": 724,
    "start_time": "2022-12-01T03:00:00.935Z"
   },
   {
    "duration": 1172,
    "start_time": "2022-12-01T03:00:21.231Z"
   },
   {
    "duration": 230,
    "start_time": "2022-12-01T03:00:22.406Z"
   },
   {
    "duration": 119,
    "start_time": "2022-12-01T03:00:22.637Z"
   },
   {
    "duration": 108,
    "start_time": "2022-12-01T03:00:22.758Z"
   },
   {
    "duration": 120,
    "start_time": "2022-12-01T03:00:22.869Z"
   },
   {
    "duration": 14,
    "start_time": "2022-12-01T03:00:22.990Z"
   },
   {
    "duration": 13,
    "start_time": "2022-12-01T03:00:23.005Z"
   },
   {
    "duration": 35,
    "start_time": "2022-12-01T03:00:23.020Z"
   },
   {
    "duration": 17,
    "start_time": "2022-12-01T03:00:23.057Z"
   },
   {
    "duration": 39,
    "start_time": "2022-12-01T03:00:23.076Z"
   },
   {
    "duration": 290,
    "start_time": "2022-12-01T03:00:23.117Z"
   },
   {
    "duration": 15,
    "start_time": "2022-12-01T03:00:23.409Z"
   },
   {
    "duration": 20,
    "start_time": "2022-12-01T03:00:23.425Z"
   },
   {
    "duration": 9,
    "start_time": "2022-12-01T03:00:23.448Z"
   },
   {
    "duration": 36,
    "start_time": "2022-12-01T03:00:23.459Z"
   },
   {
    "duration": 46,
    "start_time": "2022-12-01T03:00:23.497Z"
   },
   {
    "duration": 59,
    "start_time": "2022-12-01T03:00:23.545Z"
   },
   {
    "duration": 14,
    "start_time": "2022-12-01T03:00:23.606Z"
   },
   {
    "duration": 988,
    "start_time": "2022-12-01T03:00:23.636Z"
   },
   {
    "duration": 14,
    "start_time": "2022-12-01T03:00:55.054Z"
   },
   {
    "duration": 10,
    "start_time": "2022-12-01T03:01:41.630Z"
   },
   {
    "duration": 8,
    "start_time": "2022-12-01T03:01:51.367Z"
   },
   {
    "duration": 16,
    "start_time": "2022-12-01T03:01:56.668Z"
   },
   {
    "duration": 4,
    "start_time": "2022-12-01T03:01:59.325Z"
   },
   {
    "duration": 5,
    "start_time": "2022-12-01T03:02:11.638Z"
   },
   {
    "duration": 3,
    "start_time": "2022-12-01T03:02:23.421Z"
   },
   {
    "duration": 3,
    "start_time": "2022-12-01T03:02:37.486Z"
   },
   {
    "duration": 4,
    "start_time": "2022-12-01T03:02:41.913Z"
   },
   {
    "duration": 4,
    "start_time": "2022-12-01T03:02:53.195Z"
   },
   {
    "duration": 4,
    "start_time": "2022-12-01T03:02:58.041Z"
   },
   {
    "duration": 4,
    "start_time": "2022-12-01T03:03:02.491Z"
   },
   {
    "duration": 25,
    "start_time": "2022-12-01T03:21:45.514Z"
   },
   {
    "duration": 19,
    "start_time": "2022-12-01T03:21:50.236Z"
   },
   {
    "duration": 35,
    "start_time": "2022-12-01T03:24:07.740Z"
   },
   {
    "duration": 31,
    "start_time": "2022-12-01T03:24:30.536Z"
   },
   {
    "duration": 12,
    "start_time": "2022-12-01T04:05:13.739Z"
   },
   {
    "duration": 11,
    "start_time": "2022-12-01T04:08:44.895Z"
   },
   {
    "duration": 13,
    "start_time": "2022-12-01T04:08:57.944Z"
   },
   {
    "duration": 14,
    "start_time": "2022-12-01T04:09:07.807Z"
   },
   {
    "duration": 5,
    "start_time": "2022-12-01T04:09:23.231Z"
   },
   {
    "duration": 22,
    "start_time": "2022-12-01T04:09:35.469Z"
   },
   {
    "duration": 52,
    "start_time": "2022-12-01T04:09:42.703Z"
   },
   {
    "duration": 64,
    "start_time": "2022-12-01T04:11:16.745Z"
   },
   {
    "duration": 33,
    "start_time": "2022-12-01T04:11:43.239Z"
   },
   {
    "duration": 77,
    "start_time": "2022-12-01T04:12:16.800Z"
   },
   {
    "duration": 32,
    "start_time": "2022-12-01T04:12:31.640Z"
   },
   {
    "duration": 28,
    "start_time": "2022-12-01T04:12:44.362Z"
   },
   {
    "duration": 55,
    "start_time": "2022-12-01T04:26:41.988Z"
   },
   {
    "duration": 10,
    "start_time": "2022-12-01T04:27:11.645Z"
   },
   {
    "duration": 11,
    "start_time": "2022-12-01T04:27:37.806Z"
   },
   {
    "duration": 1069,
    "start_time": "2022-12-01T04:28:04.830Z"
   },
   {
    "duration": 166,
    "start_time": "2022-12-01T04:28:05.901Z"
   },
   {
    "duration": 117,
    "start_time": "2022-12-01T04:28:06.069Z"
   },
   {
    "duration": 100,
    "start_time": "2022-12-01T04:28:06.187Z"
   },
   {
    "duration": 119,
    "start_time": "2022-12-01T04:28:06.289Z"
   },
   {
    "duration": 12,
    "start_time": "2022-12-01T04:28:06.410Z"
   },
   {
    "duration": 19,
    "start_time": "2022-12-01T04:28:06.424Z"
   },
   {
    "duration": 20,
    "start_time": "2022-12-01T04:28:06.444Z"
   },
   {
    "duration": 17,
    "start_time": "2022-12-01T04:28:06.466Z"
   },
   {
    "duration": 17,
    "start_time": "2022-12-01T04:28:06.485Z"
   },
   {
    "duration": 324,
    "start_time": "2022-12-01T04:28:06.503Z"
   },
   {
    "duration": 15,
    "start_time": "2022-12-01T04:28:06.835Z"
   },
   {
    "duration": 13,
    "start_time": "2022-12-01T04:28:06.852Z"
   },
   {
    "duration": 12,
    "start_time": "2022-12-01T04:28:06.868Z"
   },
   {
    "duration": 37,
    "start_time": "2022-12-01T04:28:06.881Z"
   },
   {
    "duration": 22,
    "start_time": "2022-12-01T04:28:06.936Z"
   },
   {
    "duration": 53,
    "start_time": "2022-12-01T04:28:06.960Z"
   },
   {
    "duration": 28,
    "start_time": "2022-12-01T04:28:07.014Z"
   },
   {
    "duration": 15,
    "start_time": "2022-12-01T04:28:07.044Z"
   },
   {
    "duration": 4,
    "start_time": "2022-12-01T04:28:07.060Z"
   },
   {
    "duration": 45,
    "start_time": "2022-12-01T04:28:07.065Z"
   },
   {
    "duration": 45,
    "start_time": "2022-12-01T04:28:07.112Z"
   },
   {
    "duration": 59,
    "start_time": "2022-12-01T04:28:07.158Z"
   },
   {
    "duration": 108,
    "start_time": "2022-12-01T04:28:07.219Z"
   },
   {
    "duration": 7,
    "start_time": "2022-12-01T04:28:50.414Z"
   },
   {
    "duration": 1121,
    "start_time": "2022-12-01T04:29:07.151Z"
   },
   {
    "duration": 149,
    "start_time": "2022-12-01T04:29:08.274Z"
   },
   {
    "duration": 109,
    "start_time": "2022-12-01T04:29:08.424Z"
   },
   {
    "duration": 101,
    "start_time": "2022-12-01T04:29:08.535Z"
   },
   {
    "duration": 116,
    "start_time": "2022-12-01T04:29:08.639Z"
   },
   {
    "duration": 15,
    "start_time": "2022-12-01T04:29:08.756Z"
   },
   {
    "duration": 11,
    "start_time": "2022-12-01T04:29:08.772Z"
   },
   {
    "duration": 23,
    "start_time": "2022-12-01T04:29:08.784Z"
   },
   {
    "duration": 36,
    "start_time": "2022-12-01T04:29:08.808Z"
   },
   {
    "duration": 16,
    "start_time": "2022-12-01T04:29:08.846Z"
   },
   {
    "duration": 295,
    "start_time": "2022-12-01T04:29:08.864Z"
   },
   {
    "duration": 14,
    "start_time": "2022-12-01T04:29:09.161Z"
   },
   {
    "duration": 13,
    "start_time": "2022-12-01T04:29:09.177Z"
   },
   {
    "duration": 11,
    "start_time": "2022-12-01T04:29:09.192Z"
   },
   {
    "duration": 50,
    "start_time": "2022-12-01T04:29:09.204Z"
   },
   {
    "duration": 21,
    "start_time": "2022-12-01T04:29:09.256Z"
   },
   {
    "duration": 65,
    "start_time": "2022-12-01T04:29:09.279Z"
   },
   {
    "duration": 13,
    "start_time": "2022-12-01T04:29:09.346Z"
   },
   {
    "duration": 19,
    "start_time": "2022-12-01T04:29:09.361Z"
   },
   {
    "duration": 4,
    "start_time": "2022-12-01T04:29:09.381Z"
   },
   {
    "duration": 31,
    "start_time": "2022-12-01T04:29:09.386Z"
   },
   {
    "duration": 44,
    "start_time": "2022-12-01T04:29:09.419Z"
   },
   {
    "duration": 71,
    "start_time": "2022-12-01T04:29:09.465Z"
   },
   {
    "duration": 105,
    "start_time": "2022-12-01T04:29:09.538Z"
   },
   {
    "duration": 7,
    "start_time": "2022-12-01T04:29:15.683Z"
   },
   {
    "duration": 8,
    "start_time": "2022-12-01T04:30:10.955Z"
   },
   {
    "duration": 48,
    "start_time": "2022-12-01T04:31:19.292Z"
   },
   {
    "duration": 44,
    "start_time": "2022-12-01T04:31:31.884Z"
   },
   {
    "duration": 48,
    "start_time": "2022-12-01T04:31:58.173Z"
   },
   {
    "duration": 52,
    "start_time": "2022-12-01T04:34:54.563Z"
   },
   {
    "duration": 5,
    "start_time": "2022-12-01T04:36:27.080Z"
   },
   {
    "duration": 10,
    "start_time": "2022-12-01T04:36:42.582Z"
   },
   {
    "duration": 5,
    "start_time": "2022-12-01T04:38:09.184Z"
   },
   {
    "duration": 5,
    "start_time": "2022-12-01T04:38:26.254Z"
   },
   {
    "duration": 51,
    "start_time": "2022-12-01T04:38:44.342Z"
   },
   {
    "duration": 49,
    "start_time": "2022-12-01T04:38:56.959Z"
   },
   {
    "duration": 8,
    "start_time": "2022-12-01T04:39:02.382Z"
   },
   {
    "duration": 7,
    "start_time": "2022-12-01T04:41:46.392Z"
   },
   {
    "duration": 7,
    "start_time": "2022-12-01T04:41:54.793Z"
   },
   {
    "duration": 8,
    "start_time": "2022-12-01T04:42:06.247Z"
   },
   {
    "duration": 9,
    "start_time": "2022-12-01T04:42:19.048Z"
   },
   {
    "duration": 12,
    "start_time": "2022-12-01T04:43:26.736Z"
   },
   {
    "duration": 12,
    "start_time": "2022-12-01T04:58:19.567Z"
   },
   {
    "duration": 6,
    "start_time": "2022-12-01T05:00:32.110Z"
   },
   {
    "duration": 6,
    "start_time": "2022-12-01T05:01:04.873Z"
   },
   {
    "duration": 4,
    "start_time": "2022-12-01T05:01:37.806Z"
   },
   {
    "duration": 1170,
    "start_time": "2022-12-01T05:04:05.036Z"
   },
   {
    "duration": 164,
    "start_time": "2022-12-01T05:04:06.208Z"
   },
   {
    "duration": 122,
    "start_time": "2022-12-01T05:04:06.374Z"
   },
   {
    "duration": 114,
    "start_time": "2022-12-01T05:04:06.497Z"
   },
   {
    "duration": 137,
    "start_time": "2022-12-01T05:04:06.613Z"
   },
   {
    "duration": 16,
    "start_time": "2022-12-01T05:04:06.752Z"
   },
   {
    "duration": 26,
    "start_time": "2022-12-01T05:04:06.769Z"
   },
   {
    "duration": 53,
    "start_time": "2022-12-01T05:04:06.797Z"
   },
   {
    "duration": 21,
    "start_time": "2022-12-01T05:04:06.851Z"
   },
   {
    "duration": 39,
    "start_time": "2022-12-01T05:04:06.873Z"
   },
   {
    "duration": 315,
    "start_time": "2022-12-01T05:04:06.914Z"
   },
   {
    "duration": 19,
    "start_time": "2022-12-01T05:04:07.230Z"
   },
   {
    "duration": 19,
    "start_time": "2022-12-01T05:04:07.251Z"
   },
   {
    "duration": 40,
    "start_time": "2022-12-01T05:04:07.273Z"
   },
   {
    "duration": 48,
    "start_time": "2022-12-01T05:04:07.315Z"
   },
   {
    "duration": 24,
    "start_time": "2022-12-01T05:04:07.365Z"
   },
   {
    "duration": 71,
    "start_time": "2022-12-01T05:04:07.391Z"
   },
   {
    "duration": 14,
    "start_time": "2022-12-01T05:04:07.463Z"
   },
   {
    "duration": 59,
    "start_time": "2022-12-01T05:04:07.479Z"
   },
   {
    "duration": 11,
    "start_time": "2022-12-01T05:04:07.540Z"
   },
   {
    "duration": 45,
    "start_time": "2022-12-01T05:04:07.552Z"
   },
   {
    "duration": 65,
    "start_time": "2022-12-01T05:04:07.599Z"
   },
   {
    "duration": 62,
    "start_time": "2022-12-01T05:04:07.665Z"
   },
   {
    "duration": 115,
    "start_time": "2022-12-01T05:04:07.729Z"
   },
   {
    "duration": 0,
    "start_time": "2022-12-01T05:04:07.846Z"
   },
   {
    "duration": 0,
    "start_time": "2022-12-01T05:04:07.847Z"
   },
   {
    "duration": 0,
    "start_time": "2022-12-01T05:04:07.849Z"
   },
   {
    "duration": 8,
    "start_time": "2022-12-01T05:04:34.047Z"
   },
   {
    "duration": 6,
    "start_time": "2022-12-01T05:04:43.535Z"
   },
   {
    "duration": 7,
    "start_time": "2022-12-01T05:04:46.722Z"
   },
   {
    "duration": 5,
    "start_time": "2022-12-01T05:04:47.208Z"
   },
   {
    "duration": 7,
    "start_time": "2022-12-01T05:06:07.483Z"
   },
   {
    "duration": 5,
    "start_time": "2022-12-01T05:06:25.745Z"
   },
   {
    "duration": 6,
    "start_time": "2022-12-01T05:06:49.028Z"
   },
   {
    "duration": 6,
    "start_time": "2022-12-01T05:09:57.522Z"
   },
   {
    "duration": 7,
    "start_time": "2022-12-01T05:10:08.032Z"
   },
   {
    "duration": 6,
    "start_time": "2022-12-01T05:10:10.736Z"
   },
   {
    "duration": 6,
    "start_time": "2022-12-01T05:10:11.312Z"
   },
   {
    "duration": 7,
    "start_time": "2022-12-01T05:10:12.177Z"
   },
   {
    "duration": 5,
    "start_time": "2022-12-01T05:13:01.969Z"
   },
   {
    "duration": 5,
    "start_time": "2022-12-01T05:13:02.898Z"
   },
   {
    "duration": 5,
    "start_time": "2022-12-01T05:13:03.347Z"
   },
   {
    "duration": 6,
    "start_time": "2022-12-01T05:13:28.756Z"
   },
   {
    "duration": 5,
    "start_time": "2022-12-01T05:14:07.898Z"
   },
   {
    "duration": 5,
    "start_time": "2022-12-01T05:14:08.505Z"
   },
   {
    "duration": 6,
    "start_time": "2022-12-01T05:14:09.098Z"
   },
   {
    "duration": 5,
    "start_time": "2022-12-01T05:14:09.675Z"
   },
   {
    "duration": 24,
    "start_time": "2022-12-01T05:25:16.445Z"
   },
   {
    "duration": 19,
    "start_time": "2022-12-01T05:25:26.877Z"
   },
   {
    "duration": 13,
    "start_time": "2022-12-01T05:25:36.189Z"
   },
   {
    "duration": 14,
    "start_time": "2022-12-01T05:25:42.246Z"
   },
   {
    "duration": 69,
    "start_time": "2022-12-01T05:25:57.760Z"
   },
   {
    "duration": 52,
    "start_time": "2022-12-01T05:27:25.998Z"
   },
   {
    "duration": 62,
    "start_time": "2022-12-01T05:27:31.141Z"
   },
   {
    "duration": 66,
    "start_time": "2022-12-01T05:27:50.735Z"
   },
   {
    "duration": 6,
    "start_time": "2022-12-01T05:27:58.445Z"
   },
   {
    "duration": 70,
    "start_time": "2022-12-01T05:28:38.464Z"
   },
   {
    "duration": 7,
    "start_time": "2022-12-01T05:28:39.006Z"
   },
   {
    "duration": 10,
    "start_time": "2022-12-01T05:29:16.151Z"
   },
   {
    "duration": 6,
    "start_time": "2022-12-01T05:29:35.421Z"
   },
   {
    "duration": 13,
    "start_time": "2022-12-01T05:29:42.576Z"
   },
   {
    "duration": 14,
    "start_time": "2022-12-01T05:30:02.168Z"
   },
   {
    "duration": 6,
    "start_time": "2022-12-01T05:32:24.831Z"
   },
   {
    "duration": 5,
    "start_time": "2022-12-01T05:32:25.894Z"
   },
   {
    "duration": 5,
    "start_time": "2022-12-01T05:32:26.545Z"
   },
   {
    "duration": 6,
    "start_time": "2022-12-01T05:32:27.017Z"
   },
   {
    "duration": 1109,
    "start_time": "2022-12-01T09:40:04.348Z"
   },
   {
    "duration": 145,
    "start_time": "2022-12-01T09:40:05.459Z"
   },
   {
    "duration": 100,
    "start_time": "2022-12-01T09:40:05.606Z"
   },
   {
    "duration": 88,
    "start_time": "2022-12-01T09:40:05.712Z"
   },
   {
    "duration": 114,
    "start_time": "2022-12-01T09:40:05.803Z"
   },
   {
    "duration": 10,
    "start_time": "2022-12-01T09:40:05.919Z"
   },
   {
    "duration": 11,
    "start_time": "2022-12-01T09:40:05.930Z"
   },
   {
    "duration": 21,
    "start_time": "2022-12-01T09:40:05.943Z"
   },
   {
    "duration": 13,
    "start_time": "2022-12-01T09:40:05.966Z"
   },
   {
    "duration": 36,
    "start_time": "2022-12-01T09:40:05.981Z"
   },
   {
    "duration": 280,
    "start_time": "2022-12-01T09:40:06.018Z"
   },
   {
    "duration": 22,
    "start_time": "2022-12-01T09:40:06.300Z"
   },
   {
    "duration": 11,
    "start_time": "2022-12-01T09:40:06.324Z"
   },
   {
    "duration": 9,
    "start_time": "2022-12-01T09:40:06.339Z"
   },
   {
    "duration": 34,
    "start_time": "2022-12-01T09:40:06.350Z"
   },
   {
    "duration": 43,
    "start_time": "2022-12-01T09:40:06.386Z"
   },
   {
    "duration": 50,
    "start_time": "2022-12-01T09:40:06.431Z"
   },
   {
    "duration": 30,
    "start_time": "2022-12-01T09:40:06.483Z"
   },
   {
    "duration": 16,
    "start_time": "2022-12-01T09:40:06.515Z"
   },
   {
    "duration": 4,
    "start_time": "2022-12-01T09:40:06.533Z"
   },
   {
    "duration": 25,
    "start_time": "2022-12-01T09:40:06.539Z"
   },
   {
    "duration": 62,
    "start_time": "2022-12-01T09:40:06.566Z"
   },
   {
    "duration": 55,
    "start_time": "2022-12-01T09:40:06.629Z"
   },
   {
    "duration": 7,
    "start_time": "2022-12-01T09:40:06.686Z"
   },
   {
    "duration": 22,
    "start_time": "2022-12-01T09:40:06.694Z"
   },
   {
    "duration": 7,
    "start_time": "2022-12-01T09:40:06.717Z"
   },
   {
    "duration": 8,
    "start_time": "2022-12-01T09:40:06.725Z"
   },
   {
    "duration": 7,
    "start_time": "2022-12-01T09:40:06.734Z"
   },
   {
    "duration": 11,
    "start_time": "2022-12-01T09:40:06.743Z"
   },
   {
    "duration": 13,
    "start_time": "2022-12-01T09:40:06.756Z"
   },
   {
    "duration": 16,
    "start_time": "2022-12-01T09:40:06.771Z"
   },
   {
    "duration": 7,
    "start_time": "2022-12-01T09:40:06.789Z"
   },
   {
    "duration": 17,
    "start_time": "2022-12-01T09:40:06.797Z"
   },
   {
    "duration": 10,
    "start_time": "2022-12-01T09:40:06.816Z"
   },
   {
    "duration": 10,
    "start_time": "2022-12-01T09:40:06.827Z"
   },
   {
    "duration": 95,
    "start_time": "2022-12-01T09:40:06.839Z"
   },
   {
    "duration": 12,
    "start_time": "2022-12-01T09:40:06.937Z"
   },
   {
    "duration": 20,
    "start_time": "2022-12-01T09:40:06.952Z"
   },
   {
    "duration": 8,
    "start_time": "2022-12-01T09:40:06.974Z"
   },
   {
    "duration": 7,
    "start_time": "2022-12-01T09:40:06.984Z"
   },
   {
    "duration": 20,
    "start_time": "2022-12-01T09:40:06.995Z"
   },
   {
    "duration": 1075,
    "start_time": "2022-12-01T10:49:39.768Z"
   },
   {
    "duration": 147,
    "start_time": "2022-12-01T10:49:40.844Z"
   },
   {
    "duration": 106,
    "start_time": "2022-12-01T10:49:40.993Z"
   },
   {
    "duration": 98,
    "start_time": "2022-12-01T10:49:41.101Z"
   },
   {
    "duration": 113,
    "start_time": "2022-12-01T10:49:41.200Z"
   },
   {
    "duration": 11,
    "start_time": "2022-12-01T10:49:41.314Z"
   },
   {
    "duration": 25,
    "start_time": "2022-12-01T10:49:41.328Z"
   },
   {
    "duration": 36,
    "start_time": "2022-12-01T10:49:41.355Z"
   },
   {
    "duration": 14,
    "start_time": "2022-12-01T10:49:41.393Z"
   },
   {
    "duration": 34,
    "start_time": "2022-12-01T10:49:41.409Z"
   },
   {
    "duration": 264,
    "start_time": "2022-12-01T10:49:41.445Z"
   },
   {
    "duration": 15,
    "start_time": "2022-12-01T10:49:41.710Z"
   },
   {
    "duration": 10,
    "start_time": "2022-12-01T10:49:41.726Z"
   },
   {
    "duration": 9,
    "start_time": "2022-12-01T10:49:41.738Z"
   },
   {
    "duration": 32,
    "start_time": "2022-12-01T10:49:41.749Z"
   },
   {
    "duration": 41,
    "start_time": "2022-12-01T10:49:41.783Z"
   },
   {
    "duration": 53,
    "start_time": "2022-12-01T10:49:41.826Z"
   },
   {
    "duration": 15,
    "start_time": "2022-12-01T10:49:41.881Z"
   },
   {
    "duration": 16,
    "start_time": "2022-12-01T10:49:41.913Z"
   },
   {
    "duration": 3,
    "start_time": "2022-12-01T10:49:41.931Z"
   },
   {
    "duration": 30,
    "start_time": "2022-12-01T10:49:41.936Z"
   },
   {
    "duration": 58,
    "start_time": "2022-12-01T10:49:41.967Z"
   },
   {
    "duration": 58,
    "start_time": "2022-12-01T10:49:42.026Z"
   },
   {
    "duration": 7,
    "start_time": "2022-12-01T10:49:42.086Z"
   },
   {
    "duration": 19,
    "start_time": "2022-12-01T10:49:42.095Z"
   },
   {
    "duration": 8,
    "start_time": "2022-12-01T10:49:42.115Z"
   },
   {
    "duration": 6,
    "start_time": "2022-12-01T10:49:42.125Z"
   },
   {
    "duration": 5,
    "start_time": "2022-12-01T10:49:42.134Z"
   },
   {
    "duration": 8,
    "start_time": "2022-12-01T10:49:42.141Z"
   },
   {
    "duration": 6,
    "start_time": "2022-12-01T10:49:42.150Z"
   },
   {
    "duration": 7,
    "start_time": "2022-12-01T10:49:42.158Z"
   },
   {
    "duration": 5,
    "start_time": "2022-12-01T10:49:42.166Z"
   },
   {
    "duration": 44,
    "start_time": "2022-12-01T10:49:42.173Z"
   },
   {
    "duration": 6,
    "start_time": "2022-12-01T10:49:42.219Z"
   },
   {
    "duration": 5,
    "start_time": "2022-12-01T10:49:42.227Z"
   },
   {
    "duration": 88,
    "start_time": "2022-12-01T10:49:42.233Z"
   },
   {
    "duration": 9,
    "start_time": "2022-12-01T10:49:42.322Z"
   },
   {
    "duration": 6,
    "start_time": "2022-12-01T10:49:42.333Z"
   },
   {
    "duration": 6,
    "start_time": "2022-12-01T10:49:42.341Z"
   },
   {
    "duration": 9,
    "start_time": "2022-12-01T10:49:42.348Z"
   },
   {
    "duration": 7,
    "start_time": "2022-12-01T10:49:42.359Z"
   },
   {
    "duration": 52,
    "start_time": "2022-12-01T13:05:51.249Z"
   },
   {
    "duration": 1419,
    "start_time": "2022-12-01T13:05:57.705Z"
   },
   {
    "duration": 276,
    "start_time": "2022-12-01T13:05:59.126Z"
   },
   {
    "duration": 118,
    "start_time": "2022-12-01T13:05:59.403Z"
   },
   {
    "duration": 114,
    "start_time": "2022-12-01T13:05:59.523Z"
   },
   {
    "duration": 120,
    "start_time": "2022-12-01T13:05:59.640Z"
   },
   {
    "duration": 12,
    "start_time": "2022-12-01T13:05:59.762Z"
   },
   {
    "duration": 26,
    "start_time": "2022-12-01T13:05:59.775Z"
   },
   {
    "duration": 28,
    "start_time": "2022-12-01T13:05:59.803Z"
   },
   {
    "duration": 21,
    "start_time": "2022-12-01T13:05:59.833Z"
   },
   {
    "duration": 31,
    "start_time": "2022-12-01T13:05:59.856Z"
   },
   {
    "duration": 350,
    "start_time": "2022-12-01T13:05:59.889Z"
   },
   {
    "duration": 16,
    "start_time": "2022-12-01T13:06:00.241Z"
   },
   {
    "duration": 52,
    "start_time": "2022-12-01T13:06:00.259Z"
   },
   {
    "duration": 33,
    "start_time": "2022-12-01T13:06:00.314Z"
   },
   {
    "duration": 60,
    "start_time": "2022-12-01T13:06:00.350Z"
   },
   {
    "duration": 21,
    "start_time": "2022-12-01T13:06:00.412Z"
   },
   {
    "duration": 96,
    "start_time": "2022-12-01T13:06:00.435Z"
   },
   {
    "duration": 14,
    "start_time": "2022-12-01T13:06:00.533Z"
   },
   {
    "duration": 40,
    "start_time": "2022-12-01T13:06:00.549Z"
   },
   {
    "duration": 27,
    "start_time": "2022-12-01T13:06:00.591Z"
   },
   {
    "duration": 52,
    "start_time": "2022-12-01T13:06:00.619Z"
   },
   {
    "duration": 55,
    "start_time": "2022-12-01T13:06:00.673Z"
   },
   {
    "duration": 63,
    "start_time": "2022-12-01T13:06:00.730Z"
   },
   {
    "duration": 20,
    "start_time": "2022-12-01T13:06:00.795Z"
   },
   {
    "duration": 41,
    "start_time": "2022-12-01T13:06:00.817Z"
   },
   {
    "duration": 38,
    "start_time": "2022-12-01T13:06:00.860Z"
   },
   {
    "duration": 39,
    "start_time": "2022-12-01T13:06:00.900Z"
   },
   {
    "duration": 43,
    "start_time": "2022-12-01T13:06:00.941Z"
   },
   {
    "duration": 68,
    "start_time": "2022-12-01T13:06:00.986Z"
   },
   {
    "duration": 41,
    "start_time": "2022-12-01T13:06:01.056Z"
   },
   {
    "duration": 18,
    "start_time": "2022-12-01T13:06:01.099Z"
   },
   {
    "duration": 14,
    "start_time": "2022-12-01T13:06:01.120Z"
   },
   {
    "duration": 23,
    "start_time": "2022-12-01T13:06:01.137Z"
   },
   {
    "duration": 23,
    "start_time": "2022-12-01T13:06:01.161Z"
   },
   {
    "duration": 15,
    "start_time": "2022-12-01T13:06:01.185Z"
   },
   {
    "duration": 83,
    "start_time": "2022-12-01T13:06:01.201Z"
   },
   {
    "duration": 10,
    "start_time": "2022-12-01T13:06:01.286Z"
   },
   {
    "duration": 30,
    "start_time": "2022-12-01T13:06:01.298Z"
   },
   {
    "duration": 34,
    "start_time": "2022-12-01T13:06:01.331Z"
   },
   {
    "duration": 29,
    "start_time": "2022-12-01T13:06:01.367Z"
   },
   {
    "duration": 13,
    "start_time": "2022-12-01T13:06:01.400Z"
   },
   {
    "duration": 1218,
    "start_time": "2022-12-01T13:26:33.282Z"
   },
   {
    "duration": 161,
    "start_time": "2022-12-01T13:26:34.502Z"
   },
   {
    "duration": 118,
    "start_time": "2022-12-01T13:26:34.665Z"
   },
   {
    "duration": 130,
    "start_time": "2022-12-01T13:26:34.784Z"
   },
   {
    "duration": 128,
    "start_time": "2022-12-01T13:26:34.916Z"
   },
   {
    "duration": 12,
    "start_time": "2022-12-01T13:26:35.046Z"
   },
   {
    "duration": 13,
    "start_time": "2022-12-01T13:26:35.059Z"
   },
   {
    "duration": 39,
    "start_time": "2022-12-01T13:26:35.074Z"
   },
   {
    "duration": 16,
    "start_time": "2022-12-01T13:26:35.114Z"
   },
   {
    "duration": 18,
    "start_time": "2022-12-01T13:26:35.131Z"
   },
   {
    "duration": 316,
    "start_time": "2022-12-01T13:26:35.151Z"
   },
   {
    "duration": 17,
    "start_time": "2022-12-01T13:26:35.469Z"
   },
   {
    "duration": 25,
    "start_time": "2022-12-01T13:26:35.488Z"
   },
   {
    "duration": 8,
    "start_time": "2022-12-01T13:26:35.516Z"
   },
   {
    "duration": 37,
    "start_time": "2022-12-01T13:26:35.526Z"
   },
   {
    "duration": 21,
    "start_time": "2022-12-01T13:26:35.565Z"
   },
   {
    "duration": 57,
    "start_time": "2022-12-01T13:26:35.612Z"
   },
   {
    "duration": 16,
    "start_time": "2022-12-01T13:26:35.671Z"
   },
   {
    "duration": 30,
    "start_time": "2022-12-01T13:26:35.689Z"
   },
   {
    "duration": 4,
    "start_time": "2022-12-01T13:26:35.721Z"
   },
   {
    "duration": 36,
    "start_time": "2022-12-01T13:26:35.726Z"
   },
   {
    "duration": 58,
    "start_time": "2022-12-01T13:26:35.764Z"
   },
   {
    "duration": 68,
    "start_time": "2022-12-01T13:26:35.824Z"
   },
   {
    "duration": 21,
    "start_time": "2022-12-01T13:26:35.893Z"
   },
   {
    "duration": 14,
    "start_time": "2022-12-01T13:26:35.916Z"
   },
   {
    "duration": 6,
    "start_time": "2022-12-01T13:26:35.932Z"
   },
   {
    "duration": 12,
    "start_time": "2022-12-01T13:26:35.940Z"
   },
   {
    "duration": 9,
    "start_time": "2022-12-01T13:26:35.953Z"
   },
   {
    "duration": 8,
    "start_time": "2022-12-01T13:26:35.964Z"
   },
   {
    "duration": 7,
    "start_time": "2022-12-01T13:26:35.974Z"
   },
   {
    "duration": 29,
    "start_time": "2022-12-01T13:26:35.983Z"
   },
   {
    "duration": 17,
    "start_time": "2022-12-01T13:26:36.014Z"
   },
   {
    "duration": 9,
    "start_time": "2022-12-01T13:26:36.033Z"
   },
   {
    "duration": 17,
    "start_time": "2022-12-01T13:26:36.044Z"
   },
   {
    "duration": 6,
    "start_time": "2022-12-01T13:26:36.063Z"
   },
   {
    "duration": 91,
    "start_time": "2022-12-01T13:26:36.070Z"
   },
   {
    "duration": 10,
    "start_time": "2022-12-01T13:26:36.163Z"
   },
   {
    "duration": 16,
    "start_time": "2022-12-01T13:26:36.175Z"
   },
   {
    "duration": 23,
    "start_time": "2022-12-01T13:26:36.193Z"
   },
   {
    "duration": 6,
    "start_time": "2022-12-01T13:26:36.217Z"
   },
   {
    "duration": 6,
    "start_time": "2022-12-01T13:26:36.227Z"
   },
   {
    "duration": 24,
    "start_time": "2022-12-01T13:27:35.436Z"
   },
   {
    "duration": 11,
    "start_time": "2022-12-01T13:27:41.934Z"
   },
   {
    "duration": 95,
    "start_time": "2022-12-01T13:28:02.734Z"
   },
   {
    "duration": 99,
    "start_time": "2022-12-01T13:28:08.732Z"
   },
   {
    "duration": 91,
    "start_time": "2022-12-01T13:28:33.863Z"
   },
   {
    "duration": 1222,
    "start_time": "2022-12-01T13:28:48.593Z"
   },
   {
    "duration": 169,
    "start_time": "2022-12-01T13:28:49.817Z"
   },
   {
    "duration": 120,
    "start_time": "2022-12-01T13:28:49.988Z"
   },
   {
    "duration": 120,
    "start_time": "2022-12-01T13:28:50.113Z"
   },
   {
    "duration": 109,
    "start_time": "2022-12-01T13:28:50.235Z"
   },
   {
    "duration": 126,
    "start_time": "2022-12-01T13:28:50.346Z"
   },
   {
    "duration": 12,
    "start_time": "2022-12-01T13:28:50.474Z"
   },
   {
    "duration": 13,
    "start_time": "2022-12-01T13:28:50.488Z"
   },
   {
    "duration": 21,
    "start_time": "2022-12-01T13:28:50.511Z"
   },
   {
    "duration": 16,
    "start_time": "2022-12-01T13:28:50.535Z"
   },
   {
    "duration": 19,
    "start_time": "2022-12-01T13:28:50.552Z"
   },
   {
    "duration": 339,
    "start_time": "2022-12-01T13:28:50.573Z"
   },
   {
    "duration": 17,
    "start_time": "2022-12-01T13:28:50.914Z"
   },
   {
    "duration": 13,
    "start_time": "2022-12-01T13:28:50.933Z"
   },
   {
    "duration": 10,
    "start_time": "2022-12-01T13:28:50.948Z"
   },
   {
    "duration": 63,
    "start_time": "2022-12-01T13:28:50.960Z"
   },
   {
    "duration": 22,
    "start_time": "2022-12-01T13:28:51.025Z"
   },
   {
    "duration": 70,
    "start_time": "2022-12-01T13:28:51.049Z"
   },
   {
    "duration": 16,
    "start_time": "2022-12-01T13:28:51.121Z"
   },
   {
    "duration": 17,
    "start_time": "2022-12-01T13:28:51.139Z"
   },
   {
    "duration": 5,
    "start_time": "2022-12-01T13:28:51.158Z"
   },
   {
    "duration": 57,
    "start_time": "2022-12-01T13:28:51.165Z"
   },
   {
    "duration": 36,
    "start_time": "2022-12-01T13:28:51.224Z"
   },
   {
    "duration": 168,
    "start_time": "2022-12-01T13:28:51.262Z"
   },
   {
    "duration": 8,
    "start_time": "2022-12-01T13:28:51.432Z"
   },
   {
    "duration": 12,
    "start_time": "2022-12-01T13:28:51.442Z"
   },
   {
    "duration": 60,
    "start_time": "2022-12-01T13:28:51.456Z"
   },
   {
    "duration": 11,
    "start_time": "2022-12-01T13:28:51.521Z"
   },
   {
    "duration": 9,
    "start_time": "2022-12-01T13:28:51.533Z"
   },
   {
    "duration": 13,
    "start_time": "2022-12-01T13:28:51.544Z"
   },
   {
    "duration": 56,
    "start_time": "2022-12-01T13:28:51.559Z"
   },
   {
    "duration": 7,
    "start_time": "2022-12-01T13:28:51.618Z"
   },
   {
    "duration": 16,
    "start_time": "2022-12-01T13:28:51.627Z"
   },
   {
    "duration": 8,
    "start_time": "2022-12-01T13:28:51.645Z"
   },
   {
    "duration": 7,
    "start_time": "2022-12-01T13:28:51.655Z"
   },
   {
    "duration": 8,
    "start_time": "2022-12-01T13:28:51.713Z"
   },
   {
    "duration": 189,
    "start_time": "2022-12-01T13:28:51.723Z"
   },
   {
    "duration": 9,
    "start_time": "2022-12-01T13:28:51.914Z"
   },
   {
    "duration": 8,
    "start_time": "2022-12-01T13:28:51.925Z"
   },
   {
    "duration": 6,
    "start_time": "2022-12-01T13:28:51.935Z"
   },
   {
    "duration": 7,
    "start_time": "2022-12-01T13:28:51.942Z"
   },
   {
    "duration": 7,
    "start_time": "2022-12-01T13:28:51.951Z"
   },
   {
    "duration": 17,
    "start_time": "2022-12-01T13:33:23.115Z"
   },
   {
    "duration": 100,
    "start_time": "2022-12-01T13:34:18.783Z"
   },
   {
    "duration": 1230,
    "start_time": "2022-12-01T13:34:53.583Z"
   },
   {
    "duration": 176,
    "start_time": "2022-12-01T13:34:54.815Z"
   },
   {
    "duration": 124,
    "start_time": "2022-12-01T13:34:54.993Z"
   },
   {
    "duration": 118,
    "start_time": "2022-12-01T13:34:55.119Z"
   },
   {
    "duration": 112,
    "start_time": "2022-12-01T13:34:55.239Z"
   },
   {
    "duration": 133,
    "start_time": "2022-12-01T13:34:55.353Z"
   },
   {
    "duration": 47,
    "start_time": "2022-12-01T13:34:55.488Z"
   },
   {
    "duration": 12,
    "start_time": "2022-12-01T13:34:55.537Z"
   },
   {
    "duration": 10,
    "start_time": "2022-12-01T13:34:55.551Z"
   },
   {
    "duration": 24,
    "start_time": "2022-12-01T13:34:55.563Z"
   },
   {
    "duration": 37,
    "start_time": "2022-12-01T13:34:55.589Z"
   },
   {
    "duration": 18,
    "start_time": "2022-12-01T13:34:55.628Z"
   },
   {
    "duration": 333,
    "start_time": "2022-12-01T13:34:55.648Z"
   },
   {
    "duration": 27,
    "start_time": "2022-12-01T13:34:55.985Z"
   },
   {
    "duration": 13,
    "start_time": "2022-12-01T13:34:56.014Z"
   },
   {
    "duration": 12,
    "start_time": "2022-12-01T13:34:56.029Z"
   },
   {
    "duration": 40,
    "start_time": "2022-12-01T13:34:56.043Z"
   },
   {
    "duration": 45,
    "start_time": "2022-12-01T13:34:56.086Z"
   },
   {
    "duration": 62,
    "start_time": "2022-12-01T13:34:56.133Z"
   },
   {
    "duration": 15,
    "start_time": "2022-12-01T13:34:56.213Z"
   },
   {
    "duration": 17,
    "start_time": "2022-12-01T13:34:56.230Z"
   },
   {
    "duration": 5,
    "start_time": "2022-12-01T13:34:56.250Z"
   },
   {
    "duration": 57,
    "start_time": "2022-12-01T13:34:56.257Z"
   },
   {
    "duration": 38,
    "start_time": "2022-12-01T13:34:56.316Z"
   },
   {
    "duration": 82,
    "start_time": "2022-12-01T13:34:56.356Z"
   },
   {
    "duration": 8,
    "start_time": "2022-12-01T13:34:56.440Z"
   },
   {
    "duration": 10,
    "start_time": "2022-12-01T13:34:56.449Z"
   },
   {
    "duration": 7,
    "start_time": "2022-12-01T13:34:56.461Z"
   },
   {
    "duration": 8,
    "start_time": "2022-12-01T13:34:56.470Z"
   },
   {
    "duration": 34,
    "start_time": "2022-12-01T13:34:56.480Z"
   },
   {
    "duration": 55,
    "start_time": "2022-12-01T13:34:56.516Z"
   },
   {
    "duration": 21,
    "start_time": "2022-12-01T13:34:56.573Z"
   },
   {
    "duration": 14,
    "start_time": "2022-12-01T13:34:56.596Z"
   },
   {
    "duration": 24,
    "start_time": "2022-12-01T13:34:56.612Z"
   },
   {
    "duration": 12,
    "start_time": "2022-12-01T13:34:56.638Z"
   },
   {
    "duration": 13,
    "start_time": "2022-12-01T13:34:56.652Z"
   },
   {
    "duration": 12,
    "start_time": "2022-12-01T13:34:56.667Z"
   },
   {
    "duration": 94,
    "start_time": "2022-12-01T13:34:56.682Z"
   },
   {
    "duration": 14,
    "start_time": "2022-12-01T13:34:56.778Z"
   },
   {
    "duration": 21,
    "start_time": "2022-12-01T13:34:56.795Z"
   },
   {
    "duration": 13,
    "start_time": "2022-12-01T13:34:56.820Z"
   },
   {
    "duration": 12,
    "start_time": "2022-12-01T13:34:56.836Z"
   },
   {
    "duration": 8,
    "start_time": "2022-12-01T13:34:56.850Z"
   },
   {
    "duration": 47,
    "start_time": "2022-12-01T13:35:36.242Z"
   },
   {
    "duration": 43,
    "start_time": "2022-12-01T13:35:48.909Z"
   },
   {
    "duration": 47,
    "start_time": "2022-12-01T13:36:01.137Z"
   },
   {
    "duration": 47,
    "start_time": "2022-12-01T13:36:08.248Z"
   },
   {
    "duration": 36,
    "start_time": "2022-12-01T13:49:22.813Z"
   },
   {
    "duration": 17,
    "start_time": "2022-12-01T13:50:22.701Z"
   },
   {
    "duration": 240,
    "start_time": "2022-12-01T13:50:50.877Z"
   },
   {
    "duration": 1384,
    "start_time": "2022-12-01T14:09:05.057Z"
   },
   {
    "duration": 339,
    "start_time": "2022-12-01T14:09:06.444Z"
   },
   {
    "duration": 122,
    "start_time": "2022-12-01T14:09:06.785Z"
   },
   {
    "duration": 116,
    "start_time": "2022-12-01T14:09:06.911Z"
   },
   {
    "duration": 110,
    "start_time": "2022-12-01T14:09:07.029Z"
   },
   {
    "duration": 135,
    "start_time": "2022-12-01T14:09:07.141Z"
   },
   {
    "duration": 61,
    "start_time": "2022-12-01T14:09:07.278Z"
   },
   {
    "duration": 13,
    "start_time": "2022-12-01T14:09:07.342Z"
   },
   {
    "duration": 23,
    "start_time": "2022-12-01T14:09:07.356Z"
   },
   {
    "duration": 30,
    "start_time": "2022-12-01T14:09:07.383Z"
   },
   {
    "duration": 317,
    "start_time": "2022-12-01T14:09:07.415Z"
   },
   {
    "duration": 17,
    "start_time": "2022-12-01T14:09:07.734Z"
   },
   {
    "duration": 22,
    "start_time": "2022-12-01T14:09:07.753Z"
   },
   {
    "duration": 335,
    "start_time": "2022-12-01T14:09:07.777Z"
   },
   {
    "duration": 16,
    "start_time": "2022-12-01T14:09:08.114Z"
   },
   {
    "duration": 12,
    "start_time": "2022-12-01T14:09:08.132Z"
   },
   {
    "duration": 11,
    "start_time": "2022-12-01T14:09:08.145Z"
   },
   {
    "duration": 71,
    "start_time": "2022-12-01T14:09:08.158Z"
   },
   {
    "duration": 159,
    "start_time": "2022-12-01T14:09:08.231Z"
   },
   {
    "duration": 58,
    "start_time": "2022-12-01T14:09:08.391Z"
   },
   {
    "duration": 15,
    "start_time": "2022-12-01T14:09:08.451Z"
   },
   {
    "duration": 17,
    "start_time": "2022-12-01T14:09:08.467Z"
   },
   {
    "duration": 3,
    "start_time": "2022-12-01T14:09:08.486Z"
   },
   {
    "duration": 29,
    "start_time": "2022-12-01T14:09:08.513Z"
   },
   {
    "duration": 36,
    "start_time": "2022-12-01T14:09:08.543Z"
   },
   {
    "duration": 85,
    "start_time": "2022-12-01T14:09:08.581Z"
   },
   {
    "duration": 8,
    "start_time": "2022-12-01T14:09:08.667Z"
   },
   {
    "duration": 12,
    "start_time": "2022-12-01T14:09:08.679Z"
   },
   {
    "duration": 21,
    "start_time": "2022-12-01T14:09:08.693Z"
   },
   {
    "duration": 18,
    "start_time": "2022-12-01T14:09:08.716Z"
   },
   {
    "duration": 11,
    "start_time": "2022-12-01T14:09:08.736Z"
   },
   {
    "duration": 8,
    "start_time": "2022-12-01T14:09:08.749Z"
   },
   {
    "duration": 7,
    "start_time": "2022-12-01T14:09:08.759Z"
   },
   {
    "duration": 8,
    "start_time": "2022-12-01T14:09:08.767Z"
   },
   {
    "duration": 8,
    "start_time": "2022-12-01T14:09:08.777Z"
   },
   {
    "duration": 26,
    "start_time": "2022-12-01T14:09:08.786Z"
   },
   {
    "duration": 21,
    "start_time": "2022-12-01T14:09:08.814Z"
   },
   {
    "duration": 9,
    "start_time": "2022-12-01T14:09:08.836Z"
   },
   {
    "duration": 83,
    "start_time": "2022-12-01T14:09:08.847Z"
   },
   {
    "duration": 11,
    "start_time": "2022-12-01T14:09:08.932Z"
   },
   {
    "duration": 8,
    "start_time": "2022-12-01T14:09:08.945Z"
   },
   {
    "duration": 6,
    "start_time": "2022-12-01T14:09:08.955Z"
   },
   {
    "duration": 8,
    "start_time": "2022-12-01T14:09:08.964Z"
   },
   {
    "duration": 38,
    "start_time": "2022-12-01T14:09:08.974Z"
   },
   {
    "duration": 19,
    "start_time": "2022-12-01T14:09:38.426Z"
   },
   {
    "duration": 20,
    "start_time": "2022-12-01T14:11:32.523Z"
   },
   {
    "duration": 21,
    "start_time": "2022-12-01T14:11:39.134Z"
   },
   {
    "duration": 30,
    "start_time": "2022-12-01T14:11:47.490Z"
   },
   {
    "duration": 39,
    "start_time": "2022-12-01T14:11:54.313Z"
   },
   {
    "duration": 14,
    "start_time": "2022-12-01T14:12:17.268Z"
   },
   {
    "duration": 12,
    "start_time": "2022-12-01T14:12:25.418Z"
   },
   {
    "duration": 43,
    "start_time": "2022-12-02T03:29:19.217Z"
   },
   {
    "duration": 1233,
    "start_time": "2022-12-02T03:29:26.449Z"
   },
   {
    "duration": 847,
    "start_time": "2022-12-02T03:29:27.683Z"
   },
   {
    "duration": 105,
    "start_time": "2022-12-02T03:29:28.531Z"
   },
   {
    "duration": 97,
    "start_time": "2022-12-02T03:29:28.638Z"
   },
   {
    "duration": 102,
    "start_time": "2022-12-02T03:29:28.737Z"
   },
   {
    "duration": 125,
    "start_time": "2022-12-02T03:29:28.840Z"
   },
   {
    "duration": 48,
    "start_time": "2022-12-02T03:29:28.967Z"
   },
   {
    "duration": 12,
    "start_time": "2022-12-02T03:29:29.016Z"
   },
   {
    "duration": 11,
    "start_time": "2022-12-02T03:29:29.029Z"
   },
   {
    "duration": 40,
    "start_time": "2022-12-02T03:29:29.043Z"
   },
   {
    "duration": 16,
    "start_time": "2022-12-02T03:29:29.085Z"
   },
   {
    "duration": 14,
    "start_time": "2022-12-02T03:29:29.103Z"
   },
   {
    "duration": 17,
    "start_time": "2022-12-02T03:29:29.119Z"
   },
   {
    "duration": 308,
    "start_time": "2022-12-02T03:29:29.138Z"
   },
   {
    "duration": 15,
    "start_time": "2022-12-02T03:29:29.448Z"
   },
   {
    "duration": 18,
    "start_time": "2022-12-02T03:29:29.464Z"
   },
   {
    "duration": 13,
    "start_time": "2022-12-02T03:29:29.484Z"
   },
   {
    "duration": 18,
    "start_time": "2022-12-02T03:29:29.499Z"
   },
   {
    "duration": 11,
    "start_time": "2022-12-02T03:29:29.518Z"
   },
   {
    "duration": 63,
    "start_time": "2022-12-02T03:29:29.530Z"
   },
   {
    "duration": 21,
    "start_time": "2022-12-02T03:29:29.595Z"
   },
   {
    "duration": 68,
    "start_time": "2022-12-02T03:29:29.617Z"
   },
   {
    "duration": 14,
    "start_time": "2022-12-02T03:29:29.687Z"
   },
   {
    "duration": 16,
    "start_time": "2022-12-02T03:29:29.702Z"
   },
   {
    "duration": 4,
    "start_time": "2022-12-02T03:29:29.719Z"
   },
   {
    "duration": 180,
    "start_time": "2022-12-02T03:29:29.724Z"
   },
   {
    "duration": 26,
    "start_time": "2022-12-02T03:29:29.907Z"
   },
   {
    "duration": 68,
    "start_time": "2022-12-02T03:29:29.937Z"
   },
   {
    "duration": 105,
    "start_time": "2022-12-02T03:29:30.006Z"
   },
   {
    "duration": 8,
    "start_time": "2022-12-02T03:29:30.113Z"
   },
   {
    "duration": 53,
    "start_time": "2022-12-02T03:29:30.122Z"
   },
   {
    "duration": 16,
    "start_time": "2022-12-02T03:29:30.177Z"
   },
   {
    "duration": 21,
    "start_time": "2022-12-02T03:29:30.195Z"
   },
   {
    "duration": 22,
    "start_time": "2022-12-02T03:29:30.218Z"
   },
   {
    "duration": 34,
    "start_time": "2022-12-02T03:29:30.242Z"
   },
   {
    "duration": 44,
    "start_time": "2022-12-02T03:29:30.278Z"
   },
   {
    "duration": 13,
    "start_time": "2022-12-02T03:29:30.324Z"
   },
   {
    "duration": 30,
    "start_time": "2022-12-02T03:29:30.339Z"
   },
   {
    "duration": 32,
    "start_time": "2022-12-02T03:29:30.371Z"
   },
   {
    "duration": 21,
    "start_time": "2022-12-02T03:29:30.405Z"
   },
   {
    "duration": 23,
    "start_time": "2022-12-02T03:29:30.427Z"
   },
   {
    "duration": 73,
    "start_time": "2022-12-02T03:29:30.452Z"
   },
   {
    "duration": 10,
    "start_time": "2022-12-02T03:29:30.527Z"
   },
   {
    "duration": 26,
    "start_time": "2022-12-02T03:29:30.538Z"
   },
   {
    "duration": 23,
    "start_time": "2022-12-02T03:29:30.566Z"
   },
   {
    "duration": 23,
    "start_time": "2022-12-02T03:29:30.591Z"
   },
   {
    "duration": 24,
    "start_time": "2022-12-02T03:29:30.616Z"
   },
   {
    "duration": 8,
    "start_time": "2022-12-02T03:30:01.726Z"
   },
   {
    "duration": 9,
    "start_time": "2022-12-02T03:31:37.356Z"
   },
   {
    "duration": 72,
    "start_time": "2022-12-02T03:33:08.132Z"
   },
   {
    "duration": 69,
    "start_time": "2022-12-02T03:33:12.457Z"
   },
   {
    "duration": 74,
    "start_time": "2022-12-02T03:33:18.258Z"
   },
   {
    "duration": 7,
    "start_time": "2022-12-02T03:33:24.898Z"
   },
   {
    "duration": 42,
    "start_time": "2022-12-02T03:34:01.996Z"
   },
   {
    "duration": 74,
    "start_time": "2022-12-02T03:34:28.483Z"
   },
   {
    "duration": 8,
    "start_time": "2022-12-02T03:35:00.804Z"
   },
   {
    "duration": 1090,
    "start_time": "2022-12-02T03:35:54.846Z"
   },
   {
    "duration": 143,
    "start_time": "2022-12-02T03:35:55.938Z"
   },
   {
    "duration": 103,
    "start_time": "2022-12-02T03:35:56.083Z"
   },
   {
    "duration": 94,
    "start_time": "2022-12-02T03:35:56.188Z"
   },
   {
    "duration": 96,
    "start_time": "2022-12-02T03:35:56.283Z"
   },
   {
    "duration": 113,
    "start_time": "2022-12-02T03:35:56.381Z"
   },
   {
    "duration": 37,
    "start_time": "2022-12-02T03:35:56.496Z"
   },
   {
    "duration": 11,
    "start_time": "2022-12-02T03:35:56.535Z"
   },
   {
    "duration": 8,
    "start_time": "2022-12-02T03:35:56.547Z"
   },
   {
    "duration": 18,
    "start_time": "2022-12-02T03:35:56.577Z"
   },
   {
    "duration": 15,
    "start_time": "2022-12-02T03:35:56.596Z"
   },
   {
    "duration": 15,
    "start_time": "2022-12-02T03:35:56.612Z"
   },
   {
    "duration": 16,
    "start_time": "2022-12-02T03:35:56.628Z"
   },
   {
    "duration": 297,
    "start_time": "2022-12-02T03:35:56.645Z"
   },
   {
    "duration": 15,
    "start_time": "2022-12-02T03:35:56.944Z"
   },
   {
    "duration": 22,
    "start_time": "2022-12-02T03:35:56.960Z"
   },
   {
    "duration": 10,
    "start_time": "2022-12-02T03:35:56.984Z"
   },
   {
    "duration": 19,
    "start_time": "2022-12-02T03:35:56.996Z"
   },
   {
    "duration": 11,
    "start_time": "2022-12-02T03:35:57.016Z"
   },
   {
    "duration": 64,
    "start_time": "2022-12-02T03:35:57.029Z"
   },
   {
    "duration": 21,
    "start_time": "2022-12-02T03:35:57.094Z"
   },
   {
    "duration": 62,
    "start_time": "2022-12-02T03:35:57.117Z"
   },
   {
    "duration": 15,
    "start_time": "2022-12-02T03:35:57.181Z"
   },
   {
    "duration": 16,
    "start_time": "2022-12-02T03:35:57.198Z"
   },
   {
    "duration": 4,
    "start_time": "2022-12-02T03:35:57.216Z"
   },
   {
    "duration": 190,
    "start_time": "2022-12-02T03:35:57.222Z"
   },
   {
    "duration": 18,
    "start_time": "2022-12-02T03:35:57.414Z"
   },
   {
    "duration": 45,
    "start_time": "2022-12-02T03:35:57.436Z"
   },
   {
    "duration": 33,
    "start_time": "2022-12-02T03:35:57.483Z"
   },
   {
    "duration": 102,
    "start_time": "2022-12-02T03:35:57.517Z"
   },
   {
    "duration": 8,
    "start_time": "2022-12-02T03:35:57.620Z"
   },
   {
    "duration": 12,
    "start_time": "2022-12-02T03:35:57.629Z"
   },
   {
    "duration": 7,
    "start_time": "2022-12-02T03:35:57.642Z"
   },
   {
    "duration": 28,
    "start_time": "2022-12-02T03:35:57.651Z"
   },
   {
    "duration": 10,
    "start_time": "2022-12-02T03:35:57.680Z"
   },
   {
    "duration": 8,
    "start_time": "2022-12-02T03:35:57.692Z"
   },
   {
    "duration": 9,
    "start_time": "2022-12-02T03:35:57.702Z"
   },
   {
    "duration": 6,
    "start_time": "2022-12-02T03:35:57.712Z"
   },
   {
    "duration": 8,
    "start_time": "2022-12-02T03:35:57.720Z"
   },
   {
    "duration": 8,
    "start_time": "2022-12-02T03:35:57.730Z"
   },
   {
    "duration": 8,
    "start_time": "2022-12-02T03:35:57.739Z"
   },
   {
    "duration": 29,
    "start_time": "2022-12-02T03:35:57.749Z"
   },
   {
    "duration": 64,
    "start_time": "2022-12-02T03:35:57.780Z"
   },
   {
    "duration": 9,
    "start_time": "2022-12-02T03:35:57.845Z"
   },
   {
    "duration": 23,
    "start_time": "2022-12-02T03:35:57.856Z"
   },
   {
    "duration": 5,
    "start_time": "2022-12-02T03:35:57.880Z"
   },
   {
    "duration": 8,
    "start_time": "2022-12-02T03:35:57.886Z"
   },
   {
    "duration": 9,
    "start_time": "2022-12-02T03:35:57.895Z"
   },
   {
    "duration": 125,
    "start_time": "2022-12-02T04:01:44.899Z"
   },
   {
    "duration": 14,
    "start_time": "2022-12-02T04:02:04.034Z"
   },
   {
    "duration": 14,
    "start_time": "2022-12-02T04:42:30.313Z"
   },
   {
    "duration": 15,
    "start_time": "2022-12-02T04:54:53.331Z"
   },
   {
    "duration": 57,
    "start_time": "2022-12-02T04:55:37.965Z"
   },
   {
    "duration": 6,
    "start_time": "2022-12-02T04:55:41.251Z"
   },
   {
    "duration": 11,
    "start_time": "2022-12-02T04:55:50.979Z"
   },
   {
    "duration": 7,
    "start_time": "2022-12-02T04:56:00.962Z"
   },
   {
    "duration": 66,
    "start_time": "2022-12-02T04:56:33.658Z"
   },
   {
    "duration": 7,
    "start_time": "2022-12-02T04:56:34.472Z"
   },
   {
    "duration": 71,
    "start_time": "2022-12-02T04:57:11.868Z"
   },
   {
    "duration": 14,
    "start_time": "2022-12-02T04:57:12.501Z"
   },
   {
    "duration": 61,
    "start_time": "2022-12-02T04:57:45.997Z"
   },
   {
    "duration": 7,
    "start_time": "2022-12-02T04:57:46.668Z"
   },
   {
    "duration": 67,
    "start_time": "2022-12-02T04:58:38.949Z"
   },
   {
    "duration": 7,
    "start_time": "2022-12-02T04:58:39.507Z"
   },
   {
    "duration": 7,
    "start_time": "2022-12-02T04:59:58.095Z"
   },
   {
    "duration": 74,
    "start_time": "2022-12-02T05:00:06.772Z"
   },
   {
    "duration": 6,
    "start_time": "2022-12-02T05:00:23.659Z"
   },
   {
    "duration": 6,
    "start_time": "2022-12-02T05:00:31.181Z"
   },
   {
    "duration": 11,
    "start_time": "2022-12-02T05:00:42.923Z"
   },
   {
    "duration": 1155,
    "start_time": "2022-12-02T05:00:50.393Z"
   },
   {
    "duration": 148,
    "start_time": "2022-12-02T05:00:51.551Z"
   },
   {
    "duration": 114,
    "start_time": "2022-12-02T05:00:51.701Z"
   },
   {
    "duration": 111,
    "start_time": "2022-12-02T05:00:51.817Z"
   },
   {
    "duration": 109,
    "start_time": "2022-12-02T05:00:51.931Z"
   },
   {
    "duration": 119,
    "start_time": "2022-12-02T05:00:52.042Z"
   },
   {
    "duration": 55,
    "start_time": "2022-12-02T05:00:52.163Z"
   },
   {
    "duration": 11,
    "start_time": "2022-12-02T05:00:52.220Z"
   },
   {
    "duration": 11,
    "start_time": "2022-12-02T05:00:52.233Z"
   },
   {
    "duration": 54,
    "start_time": "2022-12-02T05:00:52.246Z"
   },
   {
    "duration": 23,
    "start_time": "2022-12-02T05:00:52.302Z"
   },
   {
    "duration": 25,
    "start_time": "2022-12-02T05:00:52.327Z"
   },
   {
    "duration": 46,
    "start_time": "2022-12-02T05:00:52.353Z"
   },
   {
    "duration": 322,
    "start_time": "2022-12-02T05:00:52.403Z"
   },
   {
    "duration": 15,
    "start_time": "2022-12-02T05:00:52.728Z"
   },
   {
    "duration": 12,
    "start_time": "2022-12-02T05:00:52.745Z"
   },
   {
    "duration": 37,
    "start_time": "2022-12-02T05:00:52.759Z"
   },
   {
    "duration": 31,
    "start_time": "2022-12-02T05:00:52.798Z"
   },
   {
    "duration": 13,
    "start_time": "2022-12-02T05:00:52.831Z"
   },
   {
    "duration": 60,
    "start_time": "2022-12-02T05:00:52.846Z"
   },
   {
    "duration": 48,
    "start_time": "2022-12-02T05:00:52.908Z"
   },
   {
    "duration": 77,
    "start_time": "2022-12-02T05:00:52.959Z"
   },
   {
    "duration": 19,
    "start_time": "2022-12-02T05:00:53.038Z"
   },
   {
    "duration": 34,
    "start_time": "2022-12-02T05:00:53.059Z"
   },
   {
    "duration": 9,
    "start_time": "2022-12-02T05:00:53.095Z"
   },
   {
    "duration": 202,
    "start_time": "2022-12-02T05:00:53.106Z"
   },
   {
    "duration": 26,
    "start_time": "2022-12-02T05:00:53.311Z"
   },
   {
    "duration": 66,
    "start_time": "2022-12-02T05:00:53.339Z"
   },
   {
    "duration": 111,
    "start_time": "2022-12-02T05:00:53.407Z"
   },
   {
    "duration": 8,
    "start_time": "2022-12-02T05:00:53.520Z"
   },
   {
    "duration": 15,
    "start_time": "2022-12-02T05:00:53.529Z"
   },
   {
    "duration": 34,
    "start_time": "2022-12-02T05:00:53.546Z"
   },
   {
    "duration": 9,
    "start_time": "2022-12-02T05:00:53.582Z"
   },
   {
    "duration": 10,
    "start_time": "2022-12-02T05:00:53.593Z"
   },
   {
    "duration": 10,
    "start_time": "2022-12-02T05:00:53.605Z"
   },
   {
    "duration": 26,
    "start_time": "2022-12-02T05:00:53.617Z"
   },
   {
    "duration": 8,
    "start_time": "2022-12-02T05:00:53.645Z"
   },
   {
    "duration": 26,
    "start_time": "2022-12-02T05:00:53.655Z"
   },
   {
    "duration": 11,
    "start_time": "2022-12-02T05:00:53.683Z"
   },
   {
    "duration": 15,
    "start_time": "2022-12-02T05:00:53.696Z"
   },
   {
    "duration": 17,
    "start_time": "2022-12-02T05:00:53.716Z"
   },
   {
    "duration": 102,
    "start_time": "2022-12-02T05:00:53.735Z"
   },
   {
    "duration": 10,
    "start_time": "2022-12-02T05:00:53.839Z"
   },
   {
    "duration": 22,
    "start_time": "2022-12-02T05:00:53.851Z"
   },
   {
    "duration": 38,
    "start_time": "2022-12-02T05:00:53.875Z"
   },
   {
    "duration": 38,
    "start_time": "2022-12-02T05:00:53.915Z"
   },
   {
    "duration": 39,
    "start_time": "2022-12-02T05:00:53.955Z"
   },
   {
    "duration": 144,
    "start_time": "2022-12-02T05:00:53.997Z"
   },
   {
    "duration": 0,
    "start_time": "2022-12-02T05:00:54.142Z"
   },
   {
    "duration": 0,
    "start_time": "2022-12-02T05:00:54.144Z"
   },
   {
    "duration": 88,
    "start_time": "2022-12-02T05:01:02.180Z"
   },
   {
    "duration": 8,
    "start_time": "2022-12-02T05:01:02.796Z"
   },
   {
    "duration": 19,
    "start_time": "2022-12-02T05:02:16.617Z"
   },
   {
    "duration": 10,
    "start_time": "2022-12-02T05:02:20.038Z"
   },
   {
    "duration": 24,
    "start_time": "2022-12-02T05:02:34.566Z"
   },
   {
    "duration": 13,
    "start_time": "2022-12-02T05:02:35.900Z"
   },
   {
    "duration": 22,
    "start_time": "2022-12-02T05:02:51.429Z"
   },
   {
    "duration": 8,
    "start_time": "2022-12-02T05:02:52.117Z"
   },
   {
    "duration": 18,
    "start_time": "2022-12-02T05:03:04.755Z"
   },
   {
    "duration": 11,
    "start_time": "2022-12-02T05:03:05.677Z"
   },
   {
    "duration": 15,
    "start_time": "2022-12-02T05:03:21.650Z"
   },
   {
    "duration": 10,
    "start_time": "2022-12-02T05:03:22.235Z"
   },
   {
    "duration": 14,
    "start_time": "2022-12-02T05:03:45.054Z"
   },
   {
    "duration": 8,
    "start_time": "2022-12-02T05:03:45.677Z"
   },
   {
    "duration": 16,
    "start_time": "2022-12-02T05:04:07.423Z"
   },
   {
    "duration": 6,
    "start_time": "2022-12-02T05:04:08.046Z"
   },
   {
    "duration": 18,
    "start_time": "2022-12-02T05:04:22.861Z"
   },
   {
    "duration": 7,
    "start_time": "2022-12-02T05:04:23.630Z"
   },
   {
    "duration": 1118,
    "start_time": "2022-12-02T05:04:35.125Z"
   },
   {
    "duration": 158,
    "start_time": "2022-12-02T05:04:36.246Z"
   },
   {
    "duration": 119,
    "start_time": "2022-12-02T05:04:36.406Z"
   },
   {
    "duration": 111,
    "start_time": "2022-12-02T05:04:36.527Z"
   },
   {
    "duration": 98,
    "start_time": "2022-12-02T05:04:36.640Z"
   },
   {
    "duration": 121,
    "start_time": "2022-12-02T05:04:36.739Z"
   },
   {
    "duration": 47,
    "start_time": "2022-12-02T05:04:36.862Z"
   },
   {
    "duration": 11,
    "start_time": "2022-12-02T05:04:36.910Z"
   },
   {
    "duration": 28,
    "start_time": "2022-12-02T05:04:36.923Z"
   },
   {
    "duration": 39,
    "start_time": "2022-12-02T05:04:36.955Z"
   },
   {
    "duration": 15,
    "start_time": "2022-12-02T05:04:36.996Z"
   },
   {
    "duration": 36,
    "start_time": "2022-12-02T05:04:37.013Z"
   },
   {
    "duration": 15,
    "start_time": "2022-12-02T05:04:37.052Z"
   },
   {
    "duration": 307,
    "start_time": "2022-12-02T05:04:37.078Z"
   },
   {
    "duration": 18,
    "start_time": "2022-12-02T05:04:37.388Z"
   },
   {
    "duration": 31,
    "start_time": "2022-12-02T05:04:37.408Z"
   },
   {
    "duration": 24,
    "start_time": "2022-12-02T05:04:37.441Z"
   },
   {
    "duration": 42,
    "start_time": "2022-12-02T05:04:37.467Z"
   },
   {
    "duration": 47,
    "start_time": "2022-12-02T05:04:37.511Z"
   },
   {
    "duration": 70,
    "start_time": "2022-12-02T05:04:37.560Z"
   },
   {
    "duration": 20,
    "start_time": "2022-12-02T05:04:37.631Z"
   },
   {
    "duration": 76,
    "start_time": "2022-12-02T05:04:37.652Z"
   },
   {
    "duration": 14,
    "start_time": "2022-12-02T05:04:37.730Z"
   },
   {
    "duration": 31,
    "start_time": "2022-12-02T05:04:37.746Z"
   },
   {
    "duration": 17,
    "start_time": "2022-12-02T05:04:37.779Z"
   },
   {
    "duration": 175,
    "start_time": "2022-12-02T05:04:37.799Z"
   },
   {
    "duration": 35,
    "start_time": "2022-12-02T05:04:37.976Z"
   },
   {
    "duration": 95,
    "start_time": "2022-12-02T05:04:38.015Z"
   },
   {
    "duration": 81,
    "start_time": "2022-12-02T05:04:38.112Z"
   },
   {
    "duration": 7,
    "start_time": "2022-12-02T05:04:38.195Z"
   },
   {
    "duration": 45,
    "start_time": "2022-12-02T05:04:38.204Z"
   },
   {
    "duration": 48,
    "start_time": "2022-12-02T05:04:38.251Z"
   },
   {
    "duration": 22,
    "start_time": "2022-12-02T05:04:38.301Z"
   },
   {
    "duration": 34,
    "start_time": "2022-12-02T05:04:38.325Z"
   },
   {
    "duration": 37,
    "start_time": "2022-12-02T05:04:38.361Z"
   },
   {
    "duration": 8,
    "start_time": "2022-12-02T05:04:38.399Z"
   },
   {
    "duration": 9,
    "start_time": "2022-12-02T05:04:38.409Z"
   },
   {
    "duration": 17,
    "start_time": "2022-12-02T05:04:38.420Z"
   },
   {
    "duration": 17,
    "start_time": "2022-12-02T05:04:38.439Z"
   },
   {
    "duration": 13,
    "start_time": "2022-12-02T05:04:38.458Z"
   },
   {
    "duration": 8,
    "start_time": "2022-12-02T05:04:38.473Z"
   },
   {
    "duration": 73,
    "start_time": "2022-12-02T05:04:38.483Z"
   },
   {
    "duration": 22,
    "start_time": "2022-12-02T05:04:38.558Z"
   },
   {
    "duration": 7,
    "start_time": "2022-12-02T05:04:38.582Z"
   },
   {
    "duration": 8,
    "start_time": "2022-12-02T05:04:38.591Z"
   },
   {
    "duration": 12,
    "start_time": "2022-12-02T05:04:38.602Z"
   },
   {
    "duration": 9,
    "start_time": "2022-12-02T05:04:38.617Z"
   },
   {
    "duration": 131,
    "start_time": "2022-12-02T05:04:38.628Z"
   },
   {
    "duration": 0,
    "start_time": "2022-12-02T05:04:38.761Z"
   },
   {
    "duration": 0,
    "start_time": "2022-12-02T05:04:38.762Z"
   },
   {
    "duration": 0,
    "start_time": "2022-12-02T05:04:38.778Z"
   },
   {
    "duration": 0,
    "start_time": "2022-12-02T05:04:38.779Z"
   },
   {
    "duration": 74,
    "start_time": "2022-12-02T05:04:47.570Z"
   },
   {
    "duration": 7,
    "start_time": "2022-12-02T05:04:48.172Z"
   },
   {
    "duration": 16,
    "start_time": "2022-12-02T05:04:49.329Z"
   },
   {
    "duration": 9,
    "start_time": "2022-12-02T05:04:50.076Z"
   },
   {
    "duration": 92,
    "start_time": "2022-12-02T05:05:08.868Z"
   },
   {
    "duration": 12,
    "start_time": "2022-12-02T05:05:09.580Z"
   },
   {
    "duration": 14,
    "start_time": "2022-12-02T05:05:18.253Z"
   },
   {
    "duration": 9,
    "start_time": "2022-12-02T05:05:18.964Z"
   },
   {
    "duration": 14,
    "start_time": "2022-12-02T05:05:30.337Z"
   },
   {
    "duration": 72,
    "start_time": "2022-12-02T05:08:06.510Z"
   },
   {
    "duration": 25,
    "start_time": "2022-12-02T05:08:11.357Z"
   },
   {
    "duration": 24,
    "start_time": "2022-12-02T05:08:19.737Z"
   },
   {
    "duration": 12,
    "start_time": "2022-12-02T05:08:26.813Z"
   },
   {
    "duration": 11,
    "start_time": "2022-12-02T05:09:22.302Z"
   },
   {
    "duration": 11,
    "start_time": "2022-12-02T05:09:23.004Z"
   },
   {
    "duration": 20,
    "start_time": "2022-12-02T05:09:30.694Z"
   },
   {
    "duration": 9,
    "start_time": "2022-12-02T05:09:31.397Z"
   },
   {
    "duration": 11,
    "start_time": "2022-12-02T05:10:39.430Z"
   },
   {
    "duration": 18,
    "start_time": "2022-12-02T05:10:47.878Z"
   },
   {
    "duration": 7,
    "start_time": "2022-12-02T05:10:48.886Z"
   },
   {
    "duration": 1161,
    "start_time": "2022-12-02T05:11:28.357Z"
   },
   {
    "duration": 3,
    "start_time": "2022-12-02T05:11:41.678Z"
   },
   {
    "duration": 8,
    "start_time": "2022-12-02T05:11:47.310Z"
   },
   {
    "duration": 5,
    "start_time": "2022-12-02T05:11:55.318Z"
   },
   {
    "duration": 10,
    "start_time": "2022-12-02T05:11:56.125Z"
   },
   {
    "duration": 1148,
    "start_time": "2022-12-02T05:12:02.802Z"
   },
   {
    "duration": 212,
    "start_time": "2022-12-02T05:12:03.953Z"
   },
   {
    "duration": 123,
    "start_time": "2022-12-02T05:12:04.167Z"
   },
   {
    "duration": 134,
    "start_time": "2022-12-02T05:12:04.293Z"
   },
   {
    "duration": 113,
    "start_time": "2022-12-02T05:12:04.429Z"
   },
   {
    "duration": 127,
    "start_time": "2022-12-02T05:12:04.544Z"
   },
   {
    "duration": 45,
    "start_time": "2022-12-02T05:12:04.673Z"
   },
   {
    "duration": 12,
    "start_time": "2022-12-02T05:12:04.720Z"
   },
   {
    "duration": 13,
    "start_time": "2022-12-02T05:12:04.734Z"
   },
   {
    "duration": 53,
    "start_time": "2022-12-02T05:12:04.750Z"
   },
   {
    "duration": 15,
    "start_time": "2022-12-02T05:12:04.805Z"
   },
   {
    "duration": 16,
    "start_time": "2022-12-02T05:12:04.822Z"
   },
   {
    "duration": 40,
    "start_time": "2022-12-02T05:12:04.839Z"
   },
   {
    "duration": 317,
    "start_time": "2022-12-02T05:12:04.880Z"
   },
   {
    "duration": 16,
    "start_time": "2022-12-02T05:12:05.198Z"
   },
   {
    "duration": 12,
    "start_time": "2022-12-02T05:12:05.216Z"
   },
   {
    "duration": 19,
    "start_time": "2022-12-02T05:12:05.230Z"
   },
   {
    "duration": 36,
    "start_time": "2022-12-02T05:12:05.251Z"
   },
   {
    "duration": 15,
    "start_time": "2022-12-02T05:12:05.289Z"
   },
   {
    "duration": 48,
    "start_time": "2022-12-02T05:12:05.305Z"
   },
   {
    "duration": 52,
    "start_time": "2022-12-02T05:12:05.355Z"
   },
   {
    "duration": 55,
    "start_time": "2022-12-02T05:12:05.409Z"
   },
   {
    "duration": 21,
    "start_time": "2022-12-02T05:12:05.466Z"
   },
   {
    "duration": 16,
    "start_time": "2022-12-02T05:12:05.488Z"
   },
   {
    "duration": 4,
    "start_time": "2022-12-02T05:12:05.505Z"
   },
   {
    "duration": 182,
    "start_time": "2022-12-02T05:12:05.511Z"
   },
   {
    "duration": 28,
    "start_time": "2022-12-02T05:12:05.695Z"
   },
   {
    "duration": 95,
    "start_time": "2022-12-02T05:12:05.727Z"
   },
   {
    "duration": 95,
    "start_time": "2022-12-02T05:12:05.825Z"
   },
   {
    "duration": 11,
    "start_time": "2022-12-02T05:12:05.922Z"
   },
   {
    "duration": 10,
    "start_time": "2022-12-02T05:12:05.935Z"
   },
   {
    "duration": 33,
    "start_time": "2022-12-02T05:12:05.948Z"
   },
   {
    "duration": 17,
    "start_time": "2022-12-02T05:12:05.983Z"
   },
   {
    "duration": 7,
    "start_time": "2022-12-02T05:12:06.002Z"
   },
   {
    "duration": 10,
    "start_time": "2022-12-02T05:12:06.012Z"
   },
   {
    "duration": 10,
    "start_time": "2022-12-02T05:12:06.024Z"
   },
   {
    "duration": 9,
    "start_time": "2022-12-02T05:12:06.036Z"
   },
   {
    "duration": 11,
    "start_time": "2022-12-02T05:12:06.047Z"
   },
   {
    "duration": 19,
    "start_time": "2022-12-02T05:12:06.060Z"
   },
   {
    "duration": 11,
    "start_time": "2022-12-02T05:12:06.081Z"
   },
   {
    "duration": 9,
    "start_time": "2022-12-02T05:12:06.094Z"
   },
   {
    "duration": 84,
    "start_time": "2022-12-02T05:12:06.105Z"
   },
   {
    "duration": 9,
    "start_time": "2022-12-02T05:12:06.190Z"
   },
   {
    "duration": 10,
    "start_time": "2022-12-02T05:12:06.201Z"
   },
   {
    "duration": 10,
    "start_time": "2022-12-02T05:12:06.213Z"
   },
   {
    "duration": 12,
    "start_time": "2022-12-02T05:12:06.226Z"
   },
   {
    "duration": 16,
    "start_time": "2022-12-02T05:12:06.240Z"
   },
   {
    "duration": 80,
    "start_time": "2022-12-02T05:12:06.258Z"
   },
   {
    "duration": 8,
    "start_time": "2022-12-02T05:12:06.340Z"
   },
   {
    "duration": 35,
    "start_time": "2022-12-02T05:12:06.350Z"
   },
   {
    "duration": 9,
    "start_time": "2022-12-02T05:12:06.387Z"
   },
   {
    "duration": 13,
    "start_time": "2022-12-02T05:12:06.398Z"
   },
   {
    "duration": 13,
    "start_time": "2022-12-02T05:12:06.413Z"
   },
   {
    "duration": 9,
    "start_time": "2022-12-02T05:13:25.157Z"
   },
   {
    "duration": 8,
    "start_time": "2022-12-02T05:13:35.936Z"
   },
   {
    "duration": 12,
    "start_time": "2022-12-02T05:13:46.098Z"
   },
   {
    "duration": 10,
    "start_time": "2022-12-02T05:14:05.752Z"
   },
   {
    "duration": 5,
    "start_time": "2022-12-02T05:19:01.049Z"
   },
   {
    "duration": 107,
    "start_time": "2022-12-02T05:19:33.600Z"
   },
   {
    "duration": 6,
    "start_time": "2022-12-02T05:19:42.112Z"
   },
   {
    "duration": 14,
    "start_time": "2022-12-02T05:19:42.896Z"
   },
   {
    "duration": 5,
    "start_time": "2022-12-02T05:20:15.801Z"
   },
   {
    "duration": 14,
    "start_time": "2022-12-02T05:20:16.491Z"
   },
   {
    "duration": 10,
    "start_time": "2022-12-02T05:20:25.287Z"
   },
   {
    "duration": 13,
    "start_time": "2022-12-02T05:20:26.158Z"
   },
   {
    "duration": 47,
    "start_time": "2022-12-02T05:21:12.753Z"
   },
   {
    "duration": 10,
    "start_time": "2022-12-02T05:21:15.976Z"
   },
   {
    "duration": 10,
    "start_time": "2022-12-02T05:21:16.800Z"
   },
   {
    "duration": 10,
    "start_time": "2022-12-02T05:24:08.314Z"
   },
   {
    "duration": 2,
    "start_time": "2022-12-02T05:24:28.018Z"
   },
   {
    "duration": 5,
    "start_time": "2022-12-02T05:24:33.399Z"
   },
   {
    "duration": 3,
    "start_time": "2022-12-02T05:24:40.838Z"
   },
   {
    "duration": 6,
    "start_time": "2022-12-02T05:24:42.075Z"
   },
   {
    "duration": 3,
    "start_time": "2022-12-02T05:24:49.169Z"
   },
   {
    "duration": 4,
    "start_time": "2022-12-02T05:24:49.865Z"
   },
   {
    "duration": 39,
    "start_time": "2022-12-02T05:25:51.131Z"
   },
   {
    "duration": 6,
    "start_time": "2022-12-02T05:25:52.339Z"
   },
   {
    "duration": 3,
    "start_time": "2022-12-02T05:25:53.617Z"
   },
   {
    "duration": 5,
    "start_time": "2022-12-02T05:25:54.508Z"
   },
   {
    "duration": 4,
    "start_time": "2022-12-02T05:26:07.012Z"
   },
   {
    "duration": 39,
    "start_time": "2022-12-02T05:26:59.298Z"
   },
   {
    "duration": 5,
    "start_time": "2022-12-02T05:26:59.827Z"
   },
   {
    "duration": 2,
    "start_time": "2022-12-02T05:27:00.427Z"
   },
   {
    "duration": 5,
    "start_time": "2022-12-02T05:27:01.714Z"
   },
   {
    "duration": 6,
    "start_time": "2022-12-02T05:27:02.381Z"
   },
   {
    "duration": 87,
    "start_time": "2022-12-02T05:27:43.142Z"
   },
   {
    "duration": 73,
    "start_time": "2022-12-02T05:27:48.706Z"
   },
   {
    "duration": 8,
    "start_time": "2022-12-02T05:27:53.732Z"
   },
   {
    "duration": 5,
    "start_time": "2022-12-02T05:28:47.450Z"
   },
   {
    "duration": 5,
    "start_time": "2022-12-02T05:28:55.457Z"
   },
   {
    "duration": 1080,
    "start_time": "2022-12-02T05:29:06.513Z"
   },
   {
    "duration": 148,
    "start_time": "2022-12-02T05:29:07.596Z"
   },
   {
    "duration": 112,
    "start_time": "2022-12-02T05:29:07.746Z"
   },
   {
    "duration": 106,
    "start_time": "2022-12-02T05:29:07.859Z"
   },
   {
    "duration": 113,
    "start_time": "2022-12-02T05:29:07.967Z"
   },
   {
    "duration": 124,
    "start_time": "2022-12-02T05:29:08.084Z"
   },
   {
    "duration": 43,
    "start_time": "2022-12-02T05:29:08.210Z"
   },
   {
    "duration": 36,
    "start_time": "2022-12-02T05:29:08.254Z"
   },
   {
    "duration": 8,
    "start_time": "2022-12-02T05:29:08.292Z"
   },
   {
    "duration": 24,
    "start_time": "2022-12-02T05:29:08.302Z"
   },
   {
    "duration": 16,
    "start_time": "2022-12-02T05:29:08.328Z"
   },
   {
    "duration": 48,
    "start_time": "2022-12-02T05:29:08.346Z"
   },
   {
    "duration": 15,
    "start_time": "2022-12-02T05:29:08.396Z"
   },
   {
    "duration": 313,
    "start_time": "2022-12-02T05:29:08.415Z"
   },
   {
    "duration": 16,
    "start_time": "2022-12-02T05:29:08.729Z"
   },
   {
    "duration": 12,
    "start_time": "2022-12-02T05:29:08.747Z"
   },
   {
    "duration": 19,
    "start_time": "2022-12-02T05:29:08.778Z"
   },
   {
    "duration": 20,
    "start_time": "2022-12-02T05:29:08.799Z"
   },
   {
    "duration": 16,
    "start_time": "2022-12-02T05:29:08.821Z"
   },
   {
    "duration": 60,
    "start_time": "2022-12-02T05:29:08.839Z"
   },
   {
    "duration": 22,
    "start_time": "2022-12-02T05:29:08.900Z"
   },
   {
    "duration": 77,
    "start_time": "2022-12-02T05:29:08.924Z"
   },
   {
    "duration": 15,
    "start_time": "2022-12-02T05:29:09.003Z"
   },
   {
    "duration": 20,
    "start_time": "2022-12-02T05:29:09.020Z"
   },
   {
    "duration": 7,
    "start_time": "2022-12-02T05:29:09.041Z"
   },
   {
    "duration": 207,
    "start_time": "2022-12-02T05:29:09.050Z"
   },
   {
    "duration": 28,
    "start_time": "2022-12-02T05:29:09.259Z"
   },
   {
    "duration": 52,
    "start_time": "2022-12-02T05:29:09.289Z"
   },
   {
    "duration": 82,
    "start_time": "2022-12-02T05:29:09.381Z"
   },
   {
    "duration": 30,
    "start_time": "2022-12-02T05:29:09.465Z"
   },
   {
    "duration": 25,
    "start_time": "2022-12-02T05:29:09.497Z"
   },
   {
    "duration": 11,
    "start_time": "2022-12-02T05:29:09.524Z"
   },
   {
    "duration": 10,
    "start_time": "2022-12-02T05:29:09.537Z"
   },
   {
    "duration": 8,
    "start_time": "2022-12-02T05:29:09.550Z"
   },
   {
    "duration": 11,
    "start_time": "2022-12-02T05:29:09.560Z"
   },
   {
    "duration": 13,
    "start_time": "2022-12-02T05:29:09.572Z"
   },
   {
    "duration": 14,
    "start_time": "2022-12-02T05:29:09.588Z"
   },
   {
    "duration": 13,
    "start_time": "2022-12-02T05:29:09.604Z"
   },
   {
    "duration": 7,
    "start_time": "2022-12-02T05:29:09.620Z"
   },
   {
    "duration": 7,
    "start_time": "2022-12-02T05:29:09.629Z"
   },
   {
    "duration": 7,
    "start_time": "2022-12-02T05:29:09.641Z"
   },
   {
    "duration": 81,
    "start_time": "2022-12-02T05:29:09.649Z"
   },
   {
    "duration": 10,
    "start_time": "2022-12-02T05:29:09.732Z"
   },
   {
    "duration": 7,
    "start_time": "2022-12-02T05:29:09.743Z"
   },
   {
    "duration": 34,
    "start_time": "2022-12-02T05:29:09.752Z"
   },
   {
    "duration": 7,
    "start_time": "2022-12-02T05:29:09.791Z"
   },
   {
    "duration": 10,
    "start_time": "2022-12-02T05:29:09.800Z"
   },
   {
    "duration": 75,
    "start_time": "2022-12-02T05:29:09.812Z"
   },
   {
    "duration": 10,
    "start_time": "2022-12-02T05:29:09.890Z"
   },
   {
    "duration": 19,
    "start_time": "2022-12-02T05:29:09.902Z"
   },
   {
    "duration": 6,
    "start_time": "2022-12-02T05:29:09.923Z"
   },
   {
    "duration": 12,
    "start_time": "2022-12-02T05:29:09.931Z"
   },
   {
    "duration": 68,
    "start_time": "2022-12-02T05:29:09.945Z"
   },
   {
    "duration": 5,
    "start_time": "2022-12-02T05:29:10.015Z"
   },
   {
    "duration": 25,
    "start_time": "2022-12-02T05:29:10.022Z"
   },
   {
    "duration": 14,
    "start_time": "2022-12-02T05:29:10.049Z"
   },
   {
    "duration": 13,
    "start_time": "2022-12-02T05:29:10.065Z"
   },
   {
    "duration": 38,
    "start_time": "2022-12-02T05:29:10.079Z"
   },
   {
    "duration": 18,
    "start_time": "2022-12-02T05:32:24.444Z"
   },
   {
    "duration": 10,
    "start_time": "2022-12-02T05:32:33.875Z"
   },
   {
    "duration": 10,
    "start_time": "2022-12-02T05:32:46.443Z"
   },
   {
    "duration": 41,
    "start_time": "2022-12-02T05:32:49.210Z"
   },
   {
    "duration": 6,
    "start_time": "2022-12-02T05:32:50.020Z"
   },
   {
    "duration": 11,
    "start_time": "2022-12-02T05:33:11.941Z"
   },
   {
    "duration": 8,
    "start_time": "2022-12-02T05:33:38.767Z"
   },
   {
    "duration": 46,
    "start_time": "2022-12-02T05:33:54.245Z"
   },
   {
    "duration": 5,
    "start_time": "2022-12-02T05:33:55.421Z"
   },
   {
    "duration": 7,
    "start_time": "2022-12-02T05:34:19.925Z"
   },
   {
    "duration": 9,
    "start_time": "2022-12-02T05:34:20.797Z"
   },
   {
    "duration": 71,
    "start_time": "2022-12-02T05:35:05.278Z"
   },
   {
    "duration": 5,
    "start_time": "2022-12-02T05:37:07.402Z"
   },
   {
    "duration": 1132,
    "start_time": "2022-12-02T05:39:04.473Z"
   },
   {
    "duration": 163,
    "start_time": "2022-12-02T05:39:05.608Z"
   },
   {
    "duration": 117,
    "start_time": "2022-12-02T05:39:05.772Z"
   },
   {
    "duration": 113,
    "start_time": "2022-12-02T05:39:05.890Z"
   },
   {
    "duration": 110,
    "start_time": "2022-12-02T05:39:06.005Z"
   },
   {
    "duration": 125,
    "start_time": "2022-12-02T05:39:06.117Z"
   },
   {
    "duration": 47,
    "start_time": "2022-12-02T05:39:06.244Z"
   },
   {
    "duration": 17,
    "start_time": "2022-12-02T05:39:06.293Z"
   },
   {
    "duration": 10,
    "start_time": "2022-12-02T05:39:06.312Z"
   },
   {
    "duration": 28,
    "start_time": "2022-12-02T05:39:06.324Z"
   },
   {
    "duration": 17,
    "start_time": "2022-12-02T05:39:06.379Z"
   },
   {
    "duration": 18,
    "start_time": "2022-12-02T05:39:06.398Z"
   },
   {
    "duration": 15,
    "start_time": "2022-12-02T05:39:06.418Z"
   },
   {
    "duration": 322,
    "start_time": "2022-12-02T05:39:06.436Z"
   },
   {
    "duration": 27,
    "start_time": "2022-12-02T05:39:06.760Z"
   },
   {
    "duration": 14,
    "start_time": "2022-12-02T05:39:06.789Z"
   },
   {
    "duration": 13,
    "start_time": "2022-12-02T05:39:06.805Z"
   },
   {
    "duration": 20,
    "start_time": "2022-12-02T05:39:06.820Z"
   },
   {
    "duration": 47,
    "start_time": "2022-12-02T05:39:06.842Z"
   },
   {
    "duration": 49,
    "start_time": "2022-12-02T05:39:06.891Z"
   },
   {
    "duration": 39,
    "start_time": "2022-12-02T05:39:06.942Z"
   },
   {
    "duration": 61,
    "start_time": "2022-12-02T05:39:06.987Z"
   },
   {
    "duration": 31,
    "start_time": "2022-12-02T05:39:07.050Z"
   },
   {
    "duration": 37,
    "start_time": "2022-12-02T05:39:07.084Z"
   },
   {
    "duration": 10,
    "start_time": "2022-12-02T05:39:07.123Z"
   },
   {
    "duration": 162,
    "start_time": "2022-12-02T05:39:07.135Z"
   },
   {
    "duration": 27,
    "start_time": "2022-12-02T05:39:07.299Z"
   },
   {
    "duration": 74,
    "start_time": "2022-12-02T05:39:07.328Z"
   },
   {
    "duration": 112,
    "start_time": "2022-12-02T05:39:07.404Z"
   },
   {
    "duration": 5,
    "start_time": "2022-12-02T05:39:07.518Z"
   },
   {
    "duration": 73,
    "start_time": "2022-12-02T05:39:07.525Z"
   },
   {
    "duration": 5,
    "start_time": "2022-12-02T05:39:07.600Z"
   },
   {
    "duration": 78,
    "start_time": "2022-12-02T05:39:07.607Z"
   },
   {
    "duration": 8,
    "start_time": "2022-12-02T05:39:07.688Z"
   },
   {
    "duration": 18,
    "start_time": "2022-12-02T05:39:07.698Z"
   },
   {
    "duration": 12,
    "start_time": "2022-12-02T05:39:07.718Z"
   },
   {
    "duration": 120,
    "start_time": "2022-12-02T05:39:07.732Z"
   },
   {
    "duration": 6,
    "start_time": "2022-12-02T05:40:20.590Z"
   },
   {
    "duration": 60,
    "start_time": "2022-12-02T05:40:24.022Z"
   },
   {
    "duration": 5,
    "start_time": "2022-12-02T05:40:25.076Z"
   },
   {
    "duration": 11,
    "start_time": "2022-12-02T05:40:42.693Z"
   },
   {
    "duration": 9,
    "start_time": "2022-12-02T05:41:40.629Z"
   },
   {
    "duration": 10,
    "start_time": "2022-12-02T05:42:03.318Z"
   },
   {
    "duration": 18,
    "start_time": "2022-12-02T05:42:21.797Z"
   },
   {
    "duration": 13,
    "start_time": "2022-12-02T05:42:40.077Z"
   },
   {
    "duration": 1190,
    "start_time": "2022-12-02T05:43:34.567Z"
   },
   {
    "duration": 151,
    "start_time": "2022-12-02T05:43:35.760Z"
   },
   {
    "duration": 122,
    "start_time": "2022-12-02T05:43:35.913Z"
   },
   {
    "duration": 107,
    "start_time": "2022-12-02T05:43:36.037Z"
   },
   {
    "duration": 102,
    "start_time": "2022-12-02T05:43:36.146Z"
   },
   {
    "duration": 124,
    "start_time": "2022-12-02T05:43:36.249Z"
   },
   {
    "duration": 44,
    "start_time": "2022-12-02T05:43:36.375Z"
   },
   {
    "duration": 12,
    "start_time": "2022-12-02T05:43:36.421Z"
   },
   {
    "duration": 11,
    "start_time": "2022-12-02T05:43:36.435Z"
   },
   {
    "duration": 50,
    "start_time": "2022-12-02T05:43:36.449Z"
   },
   {
    "duration": 18,
    "start_time": "2022-12-02T05:43:36.501Z"
   },
   {
    "duration": 15,
    "start_time": "2022-12-02T05:43:36.520Z"
   },
   {
    "duration": 17,
    "start_time": "2022-12-02T05:43:36.536Z"
   },
   {
    "duration": 299,
    "start_time": "2022-12-02T05:43:36.554Z"
   },
   {
    "duration": 23,
    "start_time": "2022-12-02T05:43:36.855Z"
   },
   {
    "duration": 10,
    "start_time": "2022-12-02T05:43:36.880Z"
   },
   {
    "duration": 13,
    "start_time": "2022-12-02T05:43:36.892Z"
   },
   {
    "duration": 17,
    "start_time": "2022-12-02T05:43:36.906Z"
   },
   {
    "duration": 12,
    "start_time": "2022-12-02T05:43:36.925Z"
   },
   {
    "duration": 63,
    "start_time": "2022-12-02T05:43:36.939Z"
   },
   {
    "duration": 18,
    "start_time": "2022-12-02T05:43:37.004Z"
   },
   {
    "duration": 56,
    "start_time": "2022-12-02T05:43:37.024Z"
   },
   {
    "duration": 14,
    "start_time": "2022-12-02T05:43:37.082Z"
   },
   {
    "duration": 14,
    "start_time": "2022-12-02T05:43:37.098Z"
   },
   {
    "duration": 4,
    "start_time": "2022-12-02T05:43:37.114Z"
   },
   {
    "duration": 171,
    "start_time": "2022-12-02T05:43:37.119Z"
   },
   {
    "duration": 27,
    "start_time": "2022-12-02T05:43:37.293Z"
   },
   {
    "duration": 76,
    "start_time": "2022-12-02T05:43:37.324Z"
   },
   {
    "duration": 86,
    "start_time": "2022-12-02T05:43:37.402Z"
   },
   {
    "duration": 5,
    "start_time": "2022-12-02T05:43:37.489Z"
   },
   {
    "duration": 63,
    "start_time": "2022-12-02T05:43:37.496Z"
   },
   {
    "duration": 5,
    "start_time": "2022-12-02T05:43:37.561Z"
   },
   {
    "duration": 9,
    "start_time": "2022-12-02T05:43:37.577Z"
   },
   {
    "duration": 10,
    "start_time": "2022-12-02T05:43:37.587Z"
   },
   {
    "duration": 8,
    "start_time": "2022-12-02T05:43:37.599Z"
   },
   {
    "duration": 128,
    "start_time": "2022-12-02T05:43:37.608Z"
   },
   {
    "duration": 1085,
    "start_time": "2022-12-02T05:43:58.089Z"
   },
   {
    "duration": 150,
    "start_time": "2022-12-02T05:43:59.177Z"
   },
   {
    "duration": 109,
    "start_time": "2022-12-02T05:43:59.329Z"
   },
   {
    "duration": 113,
    "start_time": "2022-12-02T05:43:59.440Z"
   },
   {
    "duration": 107,
    "start_time": "2022-12-02T05:43:59.556Z"
   },
   {
    "duration": 127,
    "start_time": "2022-12-02T05:43:59.665Z"
   },
   {
    "duration": 44,
    "start_time": "2022-12-02T05:43:59.794Z"
   },
   {
    "duration": 11,
    "start_time": "2022-12-02T05:43:59.840Z"
   },
   {
    "duration": 28,
    "start_time": "2022-12-02T05:43:59.853Z"
   },
   {
    "duration": 20,
    "start_time": "2022-12-02T05:43:59.883Z"
   },
   {
    "duration": 17,
    "start_time": "2022-12-02T05:43:59.904Z"
   },
   {
    "duration": 17,
    "start_time": "2022-12-02T05:43:59.923Z"
   },
   {
    "duration": 51,
    "start_time": "2022-12-02T05:43:59.942Z"
   },
   {
    "duration": 299,
    "start_time": "2022-12-02T05:43:59.997Z"
   },
   {
    "duration": 16,
    "start_time": "2022-12-02T05:44:00.297Z"
   },
   {
    "duration": 14,
    "start_time": "2022-12-02T05:44:00.315Z"
   },
   {
    "duration": 33,
    "start_time": "2022-12-02T05:44:00.331Z"
   },
   {
    "duration": 27,
    "start_time": "2022-12-02T05:44:00.366Z"
   },
   {
    "duration": 20,
    "start_time": "2022-12-02T05:44:00.395Z"
   },
   {
    "duration": 46,
    "start_time": "2022-12-02T05:44:00.417Z"
   },
   {
    "duration": 23,
    "start_time": "2022-12-02T05:44:00.465Z"
   },
   {
    "duration": 90,
    "start_time": "2022-12-02T05:44:00.490Z"
   },
   {
    "duration": 15,
    "start_time": "2022-12-02T05:44:00.581Z"
   },
   {
    "duration": 16,
    "start_time": "2022-12-02T05:44:00.598Z"
   },
   {
    "duration": 23,
    "start_time": "2022-12-02T05:44:00.616Z"
   },
   {
    "duration": 197,
    "start_time": "2022-12-02T05:44:00.641Z"
   },
   {
    "duration": 27,
    "start_time": "2022-12-02T05:44:00.840Z"
   },
   {
    "duration": 33,
    "start_time": "2022-12-02T05:44:00.878Z"
   },
   {
    "duration": 105,
    "start_time": "2022-12-02T05:44:00.913Z"
   },
   {
    "duration": 4,
    "start_time": "2022-12-02T05:44:01.020Z"
   },
   {
    "duration": 61,
    "start_time": "2022-12-02T05:44:01.026Z"
   },
   {
    "duration": 5,
    "start_time": "2022-12-02T05:44:01.089Z"
   },
   {
    "duration": 16,
    "start_time": "2022-12-02T05:44:01.096Z"
   },
   {
    "duration": 13,
    "start_time": "2022-12-02T05:44:01.113Z"
   },
   {
    "duration": 12,
    "start_time": "2022-12-02T05:44:01.127Z"
   },
   {
    "duration": 22,
    "start_time": "2022-12-02T05:44:01.140Z"
   },
   {
    "duration": 1153,
    "start_time": "2022-12-02T07:52:23.679Z"
   },
   {
    "duration": 156,
    "start_time": "2022-12-02T07:52:24.833Z"
   },
   {
    "duration": 118,
    "start_time": "2022-12-02T07:52:24.991Z"
   },
   {
    "duration": 110,
    "start_time": "2022-12-02T07:52:25.111Z"
   },
   {
    "duration": 99,
    "start_time": "2022-12-02T07:52:25.222Z"
   },
   {
    "duration": 113,
    "start_time": "2022-12-02T07:52:25.322Z"
   },
   {
    "duration": 41,
    "start_time": "2022-12-02T07:52:25.437Z"
   },
   {
    "duration": 24,
    "start_time": "2022-12-02T07:52:25.480Z"
   },
   {
    "duration": 17,
    "start_time": "2022-12-02T07:52:25.505Z"
   },
   {
    "duration": 22,
    "start_time": "2022-12-02T07:52:25.525Z"
   },
   {
    "duration": 16,
    "start_time": "2022-12-02T07:52:25.549Z"
   },
   {
    "duration": 31,
    "start_time": "2022-12-02T07:52:25.567Z"
   },
   {
    "duration": 14,
    "start_time": "2022-12-02T07:52:25.600Z"
   },
   {
    "duration": 317,
    "start_time": "2022-12-02T07:52:25.616Z"
   },
   {
    "duration": 17,
    "start_time": "2022-12-02T07:52:25.935Z"
   },
   {
    "duration": 21,
    "start_time": "2022-12-02T07:52:25.955Z"
   },
   {
    "duration": 36,
    "start_time": "2022-12-02T07:52:25.978Z"
   },
   {
    "duration": 28,
    "start_time": "2022-12-02T07:52:26.016Z"
   },
   {
    "duration": 21,
    "start_time": "2022-12-02T07:52:26.046Z"
   },
   {
    "duration": 60,
    "start_time": "2022-12-02T07:52:26.069Z"
   },
   {
    "duration": 26,
    "start_time": "2022-12-02T07:52:26.131Z"
   },
   {
    "duration": 70,
    "start_time": "2022-12-02T07:52:26.159Z"
   },
   {
    "duration": 14,
    "start_time": "2022-12-02T07:52:26.230Z"
   },
   {
    "duration": 15,
    "start_time": "2022-12-02T07:52:26.245Z"
   },
   {
    "duration": 4,
    "start_time": "2022-12-02T07:52:26.261Z"
   },
   {
    "duration": 196,
    "start_time": "2022-12-02T07:52:26.266Z"
   },
   {
    "duration": 42,
    "start_time": "2022-12-02T07:52:26.464Z"
   },
   {
    "duration": 87,
    "start_time": "2022-12-02T07:52:26.510Z"
   },
   {
    "duration": 60,
    "start_time": "2022-12-02T07:52:26.599Z"
   },
   {
    "duration": 4,
    "start_time": "2022-12-02T07:52:26.661Z"
   },
   {
    "duration": 74,
    "start_time": "2022-12-02T07:52:26.667Z"
   },
   {
    "duration": 5,
    "start_time": "2022-12-02T07:52:26.743Z"
   },
   {
    "duration": 17,
    "start_time": "2022-12-02T07:52:26.750Z"
   },
   {
    "duration": 9,
    "start_time": "2022-12-02T07:52:26.769Z"
   },
   {
    "duration": 21,
    "start_time": "2022-12-02T07:52:26.780Z"
   },
   {
    "duration": 8,
    "start_time": "2022-12-02T07:52:26.803Z"
   },
   {
    "duration": 56,
    "start_time": "2022-12-02T14:57:07.106Z"
   },
   {
    "duration": 41,
    "start_time": "2022-12-02T15:33:23.951Z"
   },
   {
    "duration": 1262,
    "start_time": "2022-12-02T15:33:29.821Z"
   },
   {
    "duration": 251,
    "start_time": "2022-12-02T15:33:31.085Z"
   },
   {
    "duration": 109,
    "start_time": "2022-12-02T15:33:31.337Z"
   },
   {
    "duration": 93,
    "start_time": "2022-12-02T15:33:31.447Z"
   },
   {
    "duration": 91,
    "start_time": "2022-12-02T15:33:31.542Z"
   },
   {
    "duration": 109,
    "start_time": "2022-12-02T15:33:31.634Z"
   },
   {
    "duration": 37,
    "start_time": "2022-12-02T15:33:31.745Z"
   },
   {
    "duration": 16,
    "start_time": "2022-12-02T15:33:31.783Z"
   },
   {
    "duration": 11,
    "start_time": "2022-12-02T15:33:31.800Z"
   },
   {
    "duration": 18,
    "start_time": "2022-12-02T15:33:31.814Z"
   },
   {
    "duration": 14,
    "start_time": "2022-12-02T15:33:31.834Z"
   },
   {
    "duration": 15,
    "start_time": "2022-12-02T15:33:31.849Z"
   },
   {
    "duration": 23,
    "start_time": "2022-12-02T15:33:31.898Z"
   },
   {
    "duration": 261,
    "start_time": "2022-12-02T15:33:31.923Z"
   },
   {
    "duration": 17,
    "start_time": "2022-12-02T15:33:32.186Z"
   },
   {
    "duration": 12,
    "start_time": "2022-12-02T15:33:32.205Z"
   },
   {
    "duration": 17,
    "start_time": "2022-12-02T15:33:32.219Z"
   },
   {
    "duration": 22,
    "start_time": "2022-12-02T15:33:32.238Z"
   },
   {
    "duration": 20,
    "start_time": "2022-12-02T15:33:32.261Z"
   },
   {
    "duration": 33,
    "start_time": "2022-12-02T15:33:32.296Z"
   },
   {
    "duration": 21,
    "start_time": "2022-12-02T15:33:32.330Z"
   },
   {
    "duration": 64,
    "start_time": "2022-12-02T15:33:32.353Z"
   },
   {
    "duration": 12,
    "start_time": "2022-12-02T15:33:32.418Z"
   },
   {
    "duration": 13,
    "start_time": "2022-12-02T15:33:32.432Z"
   },
   {
    "duration": 3,
    "start_time": "2022-12-02T15:33:32.447Z"
   },
   {
    "duration": 196,
    "start_time": "2022-12-02T15:33:32.451Z"
   },
   {
    "duration": 24,
    "start_time": "2022-12-02T15:33:32.649Z"
   },
   {
    "duration": 42,
    "start_time": "2022-12-02T15:33:32.676Z"
   },
   {
    "duration": 99,
    "start_time": "2022-12-02T15:33:32.720Z"
   },
   {
    "duration": 6,
    "start_time": "2022-12-02T15:33:32.821Z"
   },
   {
    "duration": 46,
    "start_time": "2022-12-02T15:33:32.829Z"
   },
   {
    "duration": 5,
    "start_time": "2022-12-02T15:33:32.877Z"
   },
   {
    "duration": 8,
    "start_time": "2022-12-02T15:33:32.897Z"
   },
   {
    "duration": 14,
    "start_time": "2022-12-02T15:33:32.906Z"
   },
   {
    "duration": 10,
    "start_time": "2022-12-02T15:33:32.921Z"
   },
   {
    "duration": 7,
    "start_time": "2022-12-02T15:33:32.933Z"
   },
   {
    "duration": 12,
    "start_time": "2022-12-02T15:33:32.941Z"
   },
   {
    "duration": 10,
    "start_time": "2022-12-02T15:34:25.506Z"
   },
   {
    "duration": 8,
    "start_time": "2022-12-02T15:34:27.872Z"
   },
   {
    "duration": 9,
    "start_time": "2022-12-02T15:34:31.003Z"
   },
   {
    "duration": 10,
    "start_time": "2022-12-02T15:34:44.979Z"
   },
   {
    "duration": 10,
    "start_time": "2022-12-02T15:34:52.787Z"
   },
   {
    "duration": 7,
    "start_time": "2022-12-02T15:34:57.011Z"
   },
   {
    "duration": 7,
    "start_time": "2022-12-02T15:35:02.882Z"
   },
   {
    "duration": 8,
    "start_time": "2022-12-02T15:38:25.437Z"
   },
   {
    "duration": 8,
    "start_time": "2022-12-02T15:38:31.279Z"
   },
   {
    "duration": 5,
    "start_time": "2022-12-02T15:38:35.517Z"
   },
   {
    "duration": 8,
    "start_time": "2022-12-02T15:38:36.158Z"
   },
   {
    "duration": 5,
    "start_time": "2022-12-02T15:38:50.381Z"
   },
   {
    "duration": 8,
    "start_time": "2022-12-02T15:38:51.598Z"
   },
   {
    "duration": 5,
    "start_time": "2022-12-02T15:39:07.079Z"
   },
   {
    "duration": 8,
    "start_time": "2022-12-02T15:39:07.983Z"
   },
   {
    "duration": 5,
    "start_time": "2022-12-02T15:39:29.023Z"
   },
   {
    "duration": 8,
    "start_time": "2022-12-02T15:39:29.846Z"
   },
   {
    "duration": 5,
    "start_time": "2022-12-02T15:39:34.807Z"
   },
   {
    "duration": 8,
    "start_time": "2022-12-02T15:39:35.502Z"
   },
   {
    "duration": 9,
    "start_time": "2022-12-02T15:40:45.591Z"
   },
   {
    "duration": 8,
    "start_time": "2022-12-02T15:40:47.463Z"
   },
   {
    "duration": 7,
    "start_time": "2022-12-02T15:40:48.943Z"
   },
   {
    "duration": 7,
    "start_time": "2022-12-02T15:41:04.863Z"
   },
   {
    "duration": 8,
    "start_time": "2022-12-02T15:41:22.127Z"
   },
   {
    "duration": 44,
    "start_time": "2022-12-06T12:30:24.014Z"
   }
  ],
  "kernelspec": {
   "display_name": "Python 3 (ipykernel)",
   "language": "python",
   "name": "python3"
  },
  "language_info": {
   "codemirror_mode": {
    "name": "ipython",
    "version": 3
   },
   "file_extension": ".py",
   "mimetype": "text/x-python",
   "name": "python",
   "nbconvert_exporter": "python",
   "pygments_lexer": "ipython3",
   "version": "3.9.5"
  },
  "toc": {
   "base_numbering": 1,
   "nav_menu": {},
   "number_sections": true,
   "sideBar": true,
   "skip_h1_title": true,
   "title_cell": "Table of Contents",
   "title_sidebar": "Contents",
   "toc_cell": false,
   "toc_position": {
    "height": "calc(100% - 180px)",
    "left": "10px",
    "top": "150px",
    "width": "331.264px"
   },
   "toc_section_display": true,
   "toc_window_display": false
  }
 },
 "nbformat": 4,
 "nbformat_minor": 2
}
