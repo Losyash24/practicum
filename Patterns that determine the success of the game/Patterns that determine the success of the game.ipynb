{
 "cells": [
  {
   "cell_type": "markdown",
   "metadata": {
    "toc": true
   },
   "source": [
    "<h1>Содержание<span class=\"tocSkip\"></span></h1>\n",
    "<div class=\"toc\"><ul class=\"toc-item\"><li><span><a href=\"#Описание-проекта\" data-toc-modified-id=\"Описание-проекта-1\"><span class=\"toc-item-num\">1&nbsp;&nbsp;</span>Описание проекта</a></span></li><li><span><a href=\"#Импорт-данных-и-изучение-общей-информации\" data-toc-modified-id=\"Импорт-данных-и-изучение-общей-информации-2\"><span class=\"toc-item-num\">2&nbsp;&nbsp;</span>Импорт данных и изучение общей информации</a></span></li><li><span><a href=\"#Подготовка-данных-для-анализа\" data-toc-modified-id=\"Подготовка-данных-для-анализа-3\"><span class=\"toc-item-num\">3&nbsp;&nbsp;</span>Подготовка данных для анализа</a></span><ul class=\"toc-item\"><li><span><a href=\"#Замена-названий-столбцов\" data-toc-modified-id=\"Замена-названий-столбцов-3.1\"><span class=\"toc-item-num\">3.1&nbsp;&nbsp;</span>Замена названий столбцов</a></span></li><li><span><a href=\"#Обработка-пропусков,-изменение-типов-данных\" data-toc-modified-id=\"Обработка-пропусков,-изменение-типов-данных-3.2\"><span class=\"toc-item-num\">3.2&nbsp;&nbsp;</span>Обработка пропусков, изменение типов данных</a></span></li><li><span><a href=\"#Подсчёт-суммарного-количества-продаж\" data-toc-modified-id=\"Подсчёт-суммарного-количества-продаж-3.3\"><span class=\"toc-item-num\">3.3&nbsp;&nbsp;</span>Подсчёт суммарного количества продаж</a></span></li></ul></li><li><span><a href=\"#Исследовательский-анализ-данных\" data-toc-modified-id=\"Исследовательский-анализ-данных-4\"><span class=\"toc-item-num\">4&nbsp;&nbsp;</span>Исследовательский анализ данных</a></span><ul class=\"toc-item\"><li><span><a href=\"#Анализ-выпуска-игр-за-все-периоды\" data-toc-modified-id=\"Анализ-выпуска-игр-за-все-периоды-4.1\"><span class=\"toc-item-num\">4.1&nbsp;&nbsp;</span>Анализ выпуска игр за все периоды</a></span></li><li><span><a href=\"#Распределение-продаж-по-годам-для-ТОП-6-платформ\" data-toc-modified-id=\"Распределение-продаж-по-годам-для-ТОП-6-платформ-4.2\"><span class=\"toc-item-num\">4.2&nbsp;&nbsp;</span>Распределение продаж по годам для ТОП-6 платформ</a></span></li><li><span><a href=\"#Срез-данных-по-актуальному-периоду\" data-toc-modified-id=\"Срез-данных-по-актуальному-периоду-4.3\"><span class=\"toc-item-num\">4.3&nbsp;&nbsp;</span>Срез данных по актуальному периоду</a></span></li><li><span><a href=\"#Выбор-потенциально-прибыльных-платформ\" data-toc-modified-id=\"Выбор-потенциально-прибыльных-платформ-4.4\"><span class=\"toc-item-num\">4.4&nbsp;&nbsp;</span>Выбор потенциально прибыльных платформ</a></span></li><li><span><a href=\"#Диаграммы-размаха\" data-toc-modified-id=\"Диаграммы-размаха-4.5\"><span class=\"toc-item-num\">4.5&nbsp;&nbsp;</span>Диаграммы размаха</a></span></li><li><span><a href=\"#Диаграммы-рассеяния-и-корреляции\" data-toc-modified-id=\"Диаграммы-рассеяния-и-корреляции-4.6\"><span class=\"toc-item-num\">4.6&nbsp;&nbsp;</span>Диаграммы рассеяния и корреляции</a></span></li><li><span><a href=\"#Распределение-игр-по-жанрам\" data-toc-modified-id=\"Распределение-игр-по-жанрам-4.7\"><span class=\"toc-item-num\">4.7&nbsp;&nbsp;</span>Распределение игр по жанрам</a></span></li></ul></li><li><span><a href=\"#Составление-портрета-пользователя-в-каждом-регионе\" data-toc-modified-id=\"Составление-портрета-пользователя-в-каждом-регионе-5\"><span class=\"toc-item-num\">5&nbsp;&nbsp;</span>Составление портрета пользователя в каждом регионе</a></span><ul class=\"toc-item\"><li><span><a href=\"#ТОП-5-платформ\" data-toc-modified-id=\"ТОП-5-платформ-5.1\"><span class=\"toc-item-num\">5.1&nbsp;&nbsp;</span>ТОП-5 платформ</a></span></li><li><span><a href=\"#ТОП-5-жанров\" data-toc-modified-id=\"ТОП-5-жанров-5.2\"><span class=\"toc-item-num\">5.2&nbsp;&nbsp;</span>ТОП-5 жанров</a></span></li><li><span><a href=\"#Влияние-рейтинга-ESRB\" data-toc-modified-id=\"Влияние-рейтинга-ESRB-5.3\"><span class=\"toc-item-num\">5.3&nbsp;&nbsp;</span>Влияние рейтинга ESRB</a></span></li></ul></li><li><span><a href=\"#Проверка-гипотез\" data-toc-modified-id=\"Проверка-гипотез-6\"><span class=\"toc-item-num\">6&nbsp;&nbsp;</span>Проверка гипотез</a></span></li><li><span><a href=\"#Общий-вывод\" data-toc-modified-id=\"Общий-вывод-7\"><span class=\"toc-item-num\">7&nbsp;&nbsp;</span>Общий вывод</a></span></li></ul></div>"
   ]
  },
  {
   "cell_type": "markdown",
   "metadata": {},
   "source": [
    "# Закономерности, определяющие успешность игры\n",
    "\n",
    "## Описание проекта\n",
    "\n",
    "Предстоит рассмотреть кейс для интернет-магазина, который продаёт по всему миру компьютерные игры. Из открытых источников доступны исторические данные о продажах игр, оценки пользователей и экспертов, жанры и платформы (например, Xbox или PlayStation). Нужно выявить определяющие успешность игры закономерности. Это позволит сделать ставку на потенциально популярный продукт и спланировать рекламные кампании.\n",
    "Доступны данные до 2016 года. Представим, что сейчас декабрь 2016 г., и планируется кампания на 2017-й. Нужно отработать принцип работы с данными. \n",
    "В наборе данных попадается аббревиатура ESRB (Entertainment Software Rating Board) — это ассоциация, определяющая возрастной рейтинг компьютерных игр. ESRB оценивает игровой контент и присваивает ему подходящую возрастную категорию, например, «Для взрослых», «Для детей младшего возраста» или «Для подростков».\n",
    "\n",
    "\n",
    "## Импорт данных и изучение общей информации"
   ]
  },
  {
   "cell_type": "code",
   "execution_count": 1,
   "metadata": {
    "scrolled": true
   },
   "outputs": [],
   "source": [
    "import pandas as pd\n",
    "import seaborn as sns\n",
    "import matplotlib.pyplot as plt\n",
    "from scipy import stats as st"
   ]
  },
  {
   "cell_type": "code",
   "execution_count": 2,
   "metadata": {},
   "outputs": [
    {
     "name": "stdout",
     "output_type": "stream",
     "text": [
      "<class 'pandas.core.frame.DataFrame'>\n",
      "RangeIndex: 16715 entries, 0 to 16714\n",
      "Data columns (total 11 columns):\n",
      " #   Column           Non-Null Count  Dtype  \n",
      "---  ------           --------------  -----  \n",
      " 0   Name             16713 non-null  object \n",
      " 1   Platform         16715 non-null  object \n",
      " 2   Year_of_Release  16446 non-null  float64\n",
      " 3   Genre            16713 non-null  object \n",
      " 4   NA_sales         16715 non-null  float64\n",
      " 5   EU_sales         16715 non-null  float64\n",
      " 6   JP_sales         16715 non-null  float64\n",
      " 7   Other_sales      16715 non-null  float64\n",
      " 8   Critic_Score     8137 non-null   float64\n",
      " 9   User_Score       10014 non-null  object \n",
      " 10  Rating           9949 non-null   object \n",
      "dtypes: float64(6), object(5)\n",
      "memory usage: 1.4+ MB\n"
     ]
    },
    {
     "data": {
      "text/html": [
       "<div>\n",
       "<style scoped>\n",
       "    .dataframe tbody tr th:only-of-type {\n",
       "        vertical-align: middle;\n",
       "    }\n",
       "\n",
       "    .dataframe tbody tr th {\n",
       "        vertical-align: top;\n",
       "    }\n",
       "\n",
       "    .dataframe thead th {\n",
       "        text-align: right;\n",
       "    }\n",
       "</style>\n",
       "<table border=\"1\" class=\"dataframe\">\n",
       "  <thead>\n",
       "    <tr style=\"text-align: right;\">\n",
       "      <th></th>\n",
       "      <th>Name</th>\n",
       "      <th>Platform</th>\n",
       "      <th>Year_of_Release</th>\n",
       "      <th>Genre</th>\n",
       "      <th>NA_sales</th>\n",
       "      <th>EU_sales</th>\n",
       "      <th>JP_sales</th>\n",
       "      <th>Other_sales</th>\n",
       "      <th>Critic_Score</th>\n",
       "      <th>User_Score</th>\n",
       "      <th>Rating</th>\n",
       "    </tr>\n",
       "  </thead>\n",
       "  <tbody>\n",
       "    <tr>\n",
       "      <th>0</th>\n",
       "      <td>Wii Sports</td>\n",
       "      <td>Wii</td>\n",
       "      <td>2006.0</td>\n",
       "      <td>Sports</td>\n",
       "      <td>41.36</td>\n",
       "      <td>28.96</td>\n",
       "      <td>3.77</td>\n",
       "      <td>8.45</td>\n",
       "      <td>76.0</td>\n",
       "      <td>8</td>\n",
       "      <td>E</td>\n",
       "    </tr>\n",
       "    <tr>\n",
       "      <th>1</th>\n",
       "      <td>Super Mario Bros.</td>\n",
       "      <td>NES</td>\n",
       "      <td>1985.0</td>\n",
       "      <td>Platform</td>\n",
       "      <td>29.08</td>\n",
       "      <td>3.58</td>\n",
       "      <td>6.81</td>\n",
       "      <td>0.77</td>\n",
       "      <td>NaN</td>\n",
       "      <td>NaN</td>\n",
       "      <td>NaN</td>\n",
       "    </tr>\n",
       "    <tr>\n",
       "      <th>2</th>\n",
       "      <td>Mario Kart Wii</td>\n",
       "      <td>Wii</td>\n",
       "      <td>2008.0</td>\n",
       "      <td>Racing</td>\n",
       "      <td>15.68</td>\n",
       "      <td>12.76</td>\n",
       "      <td>3.79</td>\n",
       "      <td>3.29</td>\n",
       "      <td>82.0</td>\n",
       "      <td>8.3</td>\n",
       "      <td>E</td>\n",
       "    </tr>\n",
       "    <tr>\n",
       "      <th>3</th>\n",
       "      <td>Wii Sports Resort</td>\n",
       "      <td>Wii</td>\n",
       "      <td>2009.0</td>\n",
       "      <td>Sports</td>\n",
       "      <td>15.61</td>\n",
       "      <td>10.93</td>\n",
       "      <td>3.28</td>\n",
       "      <td>2.95</td>\n",
       "      <td>80.0</td>\n",
       "      <td>8</td>\n",
       "      <td>E</td>\n",
       "    </tr>\n",
       "    <tr>\n",
       "      <th>4</th>\n",
       "      <td>Pokemon Red/Pokemon Blue</td>\n",
       "      <td>GB</td>\n",
       "      <td>1996.0</td>\n",
       "      <td>Role-Playing</td>\n",
       "      <td>11.27</td>\n",
       "      <td>8.89</td>\n",
       "      <td>10.22</td>\n",
       "      <td>1.00</td>\n",
       "      <td>NaN</td>\n",
       "      <td>NaN</td>\n",
       "      <td>NaN</td>\n",
       "    </tr>\n",
       "  </tbody>\n",
       "</table>\n",
       "</div>"
      ],
      "text/plain": [
       "                       Name Platform  Year_of_Release         Genre  NA_sales  \\\n",
       "0                Wii Sports      Wii           2006.0        Sports     41.36   \n",
       "1         Super Mario Bros.      NES           1985.0      Platform     29.08   \n",
       "2            Mario Kart Wii      Wii           2008.0        Racing     15.68   \n",
       "3         Wii Sports Resort      Wii           2009.0        Sports     15.61   \n",
       "4  Pokemon Red/Pokemon Blue       GB           1996.0  Role-Playing     11.27   \n",
       "\n",
       "   EU_sales  JP_sales  Other_sales  Critic_Score User_Score Rating  \n",
       "0     28.96      3.77         8.45          76.0          8      E  \n",
       "1      3.58      6.81         0.77           NaN        NaN    NaN  \n",
       "2     12.76      3.79         3.29          82.0        8.3      E  \n",
       "3     10.93      3.28         2.95          80.0          8      E  \n",
       "4      8.89     10.22         1.00           NaN        NaN    NaN  "
      ]
     },
     "execution_count": 2,
     "metadata": {},
     "output_type": "execute_result"
    }
   ],
   "source": [
    "df = pd.read_csv('/datasets/games.csv')\n",
    "df.info()\n",
    "df.head()"
   ]
  },
  {
   "cell_type": "markdown",
   "metadata": {},
   "source": [
    "## Подготовка данных для анализа\n",
    "\n",
    "### Замена названий столбцов"
   ]
  },
  {
   "cell_type": "code",
   "execution_count": 3,
   "metadata": {},
   "outputs": [],
   "source": [
    "df.columns = df.columns.str.lower()"
   ]
  },
  {
   "cell_type": "markdown",
   "metadata": {},
   "source": [
    "### Обработка пропусков, изменение типов данных"
   ]
  },
  {
   "cell_type": "code",
   "execution_count": 4,
   "metadata": {},
   "outputs": [],
   "source": [
    "#Удаляем пропуски ввиду их малого количества\n",
    "df = df.dropna(subset = ['name','year_of_release','genre']) \n",
    "\n",
    "#Изменяю типы значений\n",
    "df['year_of_release'] = df['year_of_release'].astype('int64')\n",
    "df['user_score'] = df['user_score'].replace('tbd','NaN').astype('float64')"
   ]
  },
  {
   "cell_type": "code",
   "execution_count": 5,
   "metadata": {},
   "outputs": [
    {
     "data": {
      "text/plain": [
       "0"
      ]
     },
     "execution_count": 5,
     "metadata": {},
     "output_type": "execute_result"
    }
   ],
   "source": [
    "df.duplicated().sum()"
   ]
  },
  {
   "cell_type": "code",
   "execution_count": 6,
   "metadata": {},
   "outputs": [
    {
     "data": {
      "text/plain": [
       "array(['Wii', 'NES', 'GB', 'DS', 'X360', 'PS3', 'PS2', 'SNES', 'GBA',\n",
       "       'PS4', '3DS', 'N64', 'PS', 'XB', 'PC', '2600', 'PSP', 'XOne',\n",
       "       'WiiU', 'GC', 'GEN', 'DC', 'PSV', 'SAT', 'SCD', 'WS', 'NG', 'TG16',\n",
       "       '3DO', 'GG', 'PCFX'], dtype=object)"
      ]
     },
     "execution_count": 6,
     "metadata": {},
     "output_type": "execute_result"
    }
   ],
   "source": [
    "df['platform'].unique()"
   ]
  },
  {
   "cell_type": "code",
   "execution_count": 7,
   "metadata": {},
   "outputs": [],
   "source": [
    "df['rating'].unique()\n",
    "df['rating'].value_counts()\n",
    "df['rating'] = df['rating'].replace('K-A','E')\n",
    "df['rating'] = df['rating'].fillna('RP')\n"
   ]
  },
  {
   "cell_type": "markdown",
   "metadata": {},
   "source": [
    "### Подсчёт суммарного количества продаж"
   ]
  },
  {
   "cell_type": "code",
   "execution_count": 8,
   "metadata": {},
   "outputs": [
    {
     "data": {
      "text/html": [
       "<div>\n",
       "<style scoped>\n",
       "    .dataframe tbody tr th:only-of-type {\n",
       "        vertical-align: middle;\n",
       "    }\n",
       "\n",
       "    .dataframe tbody tr th {\n",
       "        vertical-align: top;\n",
       "    }\n",
       "\n",
       "    .dataframe thead th {\n",
       "        text-align: right;\n",
       "    }\n",
       "</style>\n",
       "<table border=\"1\" class=\"dataframe\">\n",
       "  <thead>\n",
       "    <tr style=\"text-align: right;\">\n",
       "      <th></th>\n",
       "      <th>name</th>\n",
       "      <th>platform</th>\n",
       "      <th>year_of_release</th>\n",
       "      <th>genre</th>\n",
       "      <th>na_sales</th>\n",
       "      <th>eu_sales</th>\n",
       "      <th>jp_sales</th>\n",
       "      <th>other_sales</th>\n",
       "      <th>critic_score</th>\n",
       "      <th>user_score</th>\n",
       "      <th>rating</th>\n",
       "      <th>all_sales</th>\n",
       "    </tr>\n",
       "  </thead>\n",
       "  <tbody>\n",
       "    <tr>\n",
       "      <th>0</th>\n",
       "      <td>Wii Sports</td>\n",
       "      <td>Wii</td>\n",
       "      <td>2006</td>\n",
       "      <td>Sports</td>\n",
       "      <td>41.36</td>\n",
       "      <td>28.96</td>\n",
       "      <td>3.77</td>\n",
       "      <td>8.45</td>\n",
       "      <td>76.0</td>\n",
       "      <td>8.0</td>\n",
       "      <td>E</td>\n",
       "      <td>82.54</td>\n",
       "    </tr>\n",
       "    <tr>\n",
       "      <th>1</th>\n",
       "      <td>Super Mario Bros.</td>\n",
       "      <td>NES</td>\n",
       "      <td>1985</td>\n",
       "      <td>Platform</td>\n",
       "      <td>29.08</td>\n",
       "      <td>3.58</td>\n",
       "      <td>6.81</td>\n",
       "      <td>0.77</td>\n",
       "      <td>NaN</td>\n",
       "      <td>NaN</td>\n",
       "      <td>RP</td>\n",
       "      <td>40.24</td>\n",
       "    </tr>\n",
       "    <tr>\n",
       "      <th>2</th>\n",
       "      <td>Mario Kart Wii</td>\n",
       "      <td>Wii</td>\n",
       "      <td>2008</td>\n",
       "      <td>Racing</td>\n",
       "      <td>15.68</td>\n",
       "      <td>12.76</td>\n",
       "      <td>3.79</td>\n",
       "      <td>3.29</td>\n",
       "      <td>82.0</td>\n",
       "      <td>8.3</td>\n",
       "      <td>E</td>\n",
       "      <td>35.52</td>\n",
       "    </tr>\n",
       "    <tr>\n",
       "      <th>3</th>\n",
       "      <td>Wii Sports Resort</td>\n",
       "      <td>Wii</td>\n",
       "      <td>2009</td>\n",
       "      <td>Sports</td>\n",
       "      <td>15.61</td>\n",
       "      <td>10.93</td>\n",
       "      <td>3.28</td>\n",
       "      <td>2.95</td>\n",
       "      <td>80.0</td>\n",
       "      <td>8.0</td>\n",
       "      <td>E</td>\n",
       "      <td>32.77</td>\n",
       "    </tr>\n",
       "    <tr>\n",
       "      <th>4</th>\n",
       "      <td>Pokemon Red/Pokemon Blue</td>\n",
       "      <td>GB</td>\n",
       "      <td>1996</td>\n",
       "      <td>Role-Playing</td>\n",
       "      <td>11.27</td>\n",
       "      <td>8.89</td>\n",
       "      <td>10.22</td>\n",
       "      <td>1.00</td>\n",
       "      <td>NaN</td>\n",
       "      <td>NaN</td>\n",
       "      <td>RP</td>\n",
       "      <td>31.38</td>\n",
       "    </tr>\n",
       "  </tbody>\n",
       "</table>\n",
       "</div>"
      ],
      "text/plain": [
       "                       name platform  year_of_release         genre  na_sales  \\\n",
       "0                Wii Sports      Wii             2006        Sports     41.36   \n",
       "1         Super Mario Bros.      NES             1985      Platform     29.08   \n",
       "2            Mario Kart Wii      Wii             2008        Racing     15.68   \n",
       "3         Wii Sports Resort      Wii             2009        Sports     15.61   \n",
       "4  Pokemon Red/Pokemon Blue       GB             1996  Role-Playing     11.27   \n",
       "\n",
       "   eu_sales  jp_sales  other_sales  critic_score  user_score rating  all_sales  \n",
       "0     28.96      3.77         8.45          76.0         8.0      E      82.54  \n",
       "1      3.58      6.81         0.77           NaN         NaN     RP      40.24  \n",
       "2     12.76      3.79         3.29          82.0         8.3      E      35.52  \n",
       "3     10.93      3.28         2.95          80.0         8.0      E      32.77  \n",
       "4      8.89     10.22         1.00           NaN         NaN     RP      31.38  "
      ]
     },
     "execution_count": 8,
     "metadata": {},
     "output_type": "execute_result"
    }
   ],
   "source": [
    "df['all_sales'] = df['na_sales']+df['eu_sales']+df['jp_sales']+df['other_sales']\n",
    "df.head()"
   ]
  },
  {
   "cell_type": "markdown",
   "metadata": {},
   "source": [
    "\n",
    "Этап подготовки данных завершен. Были приведены к нижнему регистру названия столбцов. Изменены типы значений для года выхода игры и для пользовательской оценки.\n",
    "В столбцах 'name','year_of_release','genre' было незначительное количество пропусков, поэтому решил удалить данные, содержащие пропуски в этих колонках.\n",
    "\n",
    "Пропуски в столбцах critic_score,user_score и rating не стал обрабатывать, т.к. заполнить пропуски в этих столбцах корректно не предоставляется возможным. Причинами появления данных пропусков могут быть:1) Ранний год выхода игры. Речь идет о старых играх, в момент выхода которых не существовало ESRB, не проводилась пользовательская оценка и оценка критиков. 2) Также можно предположить, что часть игр попросту не оценивали, либо в открытых источниках, откуда брались данные не нашлось информации о данных атрибутах\n",
    "\n",
    "Абрревиатуру tbd, заменил на NaN. Т.к. достоверно не известно, какую оценку поставят пользователи, было решено заменять абрревиатуру на NaN для возможности присвоения типа данных float столбцу user_score\n",
    "\n",
    "В отдельный столбец были записаны продажи во всех регионах\n",
    "</div>\n",
    "\n",
    "\n"
   ]
  },
  {
   "cell_type": "markdown",
   "metadata": {},
   "source": [
    "## Исследовательский анализ данных\n",
    "\n",
    "### Анализ выпуска игр за все периоды"
   ]
  },
  {
   "cell_type": "code",
   "execution_count": 9,
   "metadata": {},
   "outputs": [
    {
     "data": {
      "image/png": "[encoded data removed]",
      "text/plain": [
       "<Figure size 720x360 with 1 Axes>"
      ]
     },
     "metadata": {
      "needs_background": "light"
     },
     "output_type": "display_data"
    }
   ],
   "source": [
    "\n",
    "\n",
    "(\n",
    "    df.pivot_table(index='year_of_release', values='all_sales', aggfunc='sum')\n",
    "    .plot(figsize=(10, 5), title = 'Динамика продаж игр за весь период',xlabel='Год релиза', ylabel='Сумма продаж')\n",
    ")    \n",
    "plt.show()\n"
   ]
  },
  {
   "cell_type": "markdown",
   "metadata": {},
   "source": [
    "### Распределение продаж по годам для ТОП-6 платформ"
   ]
  },
  {
   "cell_type": "code",
   "execution_count": 10,
   "metadata": {},
   "outputs": [
    {
     "data": {
      "text/html": [
       "<div>\n",
       "<style scoped>\n",
       "    .dataframe tbody tr th:only-of-type {\n",
       "        vertical-align: middle;\n",
       "    }\n",
       "\n",
       "    .dataframe tbody tr th {\n",
       "        vertical-align: top;\n",
       "    }\n",
       "\n",
       "    .dataframe thead th {\n",
       "        text-align: right;\n",
       "    }\n",
       "</style>\n",
       "<table border=\"1\" class=\"dataframe\">\n",
       "  <thead>\n",
       "    <tr style=\"text-align: right;\">\n",
       "      <th></th>\n",
       "      <th>all_sales</th>\n",
       "    </tr>\n",
       "    <tr>\n",
       "      <th>platform</th>\n",
       "      <th></th>\n",
       "    </tr>\n",
       "  </thead>\n",
       "  <tbody>\n",
       "    <tr>\n",
       "      <th>PS2</th>\n",
       "      <td>1233.56</td>\n",
       "    </tr>\n",
       "    <tr>\n",
       "      <th>X360</th>\n",
       "      <td>961.24</td>\n",
       "    </tr>\n",
       "    <tr>\n",
       "      <th>PS3</th>\n",
       "      <td>931.34</td>\n",
       "    </tr>\n",
       "    <tr>\n",
       "      <th>Wii</th>\n",
       "      <td>891.18</td>\n",
       "    </tr>\n",
       "    <tr>\n",
       "      <th>DS</th>\n",
       "      <td>802.78</td>\n",
       "    </tr>\n",
       "    <tr>\n",
       "      <th>PS</th>\n",
       "      <td>727.58</td>\n",
       "    </tr>\n",
       "  </tbody>\n",
       "</table>\n",
       "</div>"
      ],
      "text/plain": [
       "          all_sales\n",
       "platform           \n",
       "PS2         1233.56\n",
       "X360         961.24\n",
       "PS3          931.34\n",
       "Wii          891.18\n",
       "DS           802.78\n",
       "PS           727.58"
      ]
     },
     "execution_count": 10,
     "metadata": {},
     "output_type": "execute_result"
    }
   ],
   "source": [
    "df.pivot_table(index=('platform'), values='all_sales', aggfunc='sum').sort_values(by='all_sales', ascending = False).head(6)\n",
    "\n"
   ]
  },
  {
   "cell_type": "code",
   "execution_count": 11,
   "metadata": {},
   "outputs": [
    {
     "data": {
      "image/png": "[encoded data removed]",
      "text/plain": [
       "<Figure size 720x432 with 1 Axes>"
      ]
     },
     "metadata": {
      "needs_background": "light"
     },
     "output_type": "display_data"
    },
    {
     "data": {
      "image/png": "[encoded data removed]",
      "text/plain": [
       "<Figure size 720x432 with 1 Axes>"
      ]
     },
     "metadata": {
      "needs_background": "light"
     },
     "output_type": "display_data"
    },
    {
     "data": {
      "image/png": "[encoded data removed]",
      "text/plain": [
       "<Figure size 720x432 with 1 Axes>"
      ]
     },
     "metadata": {
      "needs_background": "light"
     },
     "output_type": "display_data"
    }
   ],
   "source": [
    "(df\n",
    "    .query('platform == \"PS2\"')\n",
    "    .pivot_table(index='year_of_release', values='all_sales',aggfunc='sum')\n",
    "    .plot(grid=True, figsize=(10, 6), title = 'Продажи игр на PS2',xlabel='Год релиза', ylabel='Сумма продаж')\n",
    ")\n",
    "plt.show()\n",
    "(df\n",
    "    .query('platform == \"X360\"')\n",
    "    .pivot_table(index='year_of_release', values='all_sales',aggfunc='sum')\n",
    "    .plot(grid=True, figsize=(10, 6), title = 'Продажи игр на X360',xlabel='Год релиза', ylabel='Сумма продаж')\n",
    ")\n",
    "plt.show()\n",
    "(df\n",
    "    .query('platform == \"PS3\"')\n",
    "    .pivot_table(index='year_of_release', values='all_sales',aggfunc='sum')\n",
    "    .plot(grid=True, figsize=(10, 6), title = 'Продажи игр на PS3',xlabel='Год релиза', ylabel='Сумма продаж')\n",
    ")\n",
    "plt.show()\n"
   ]
  },
  {
   "cell_type": "code",
   "execution_count": 12,
   "metadata": {},
   "outputs": [
    {
     "data": {
      "image/png": "[encoded data removed]",
      "text/plain": [
       "<Figure size 720x432 with 1 Axes>"
      ]
     },
     "metadata": {
      "needs_background": "light"
     },
     "output_type": "display_data"
    },
    {
     "data": {
      "image/png": "[encoded data removed]",
      "text/plain": [
       "<Figure size 720x432 with 1 Axes>"
      ]
     },
     "metadata": {
      "needs_background": "light"
     },
     "output_type": "display_data"
    },
    {
     "data": {
      "image/png": "[encoded data removed]",
      "text/plain": [
       "<Figure size 720x432 with 1 Axes>"
      ]
     },
     "metadata": {
      "needs_background": "light"
     },
     "output_type": "display_data"
    }
   ],
   "source": [
    "(df\n",
    "    .query('platform == \"Wii\"')\n",
    "    .pivot_table(index='year_of_release', values='all_sales',aggfunc='sum')\n",
    "    .plot(grid=True, figsize=(10, 6), title = 'Продажи игр на Wii',xlabel='Год релиза', ylabel='Сумма продаж')\n",
    ")\n",
    "plt.show()\n",
    "(df\n",
    "    .query('platform == \"DS\"')\n",
    "    .pivot_table(index='year_of_release', values='all_sales',aggfunc='sum')\n",
    "    .plot(grid=True, figsize=(10, 6), title = 'Продажи игр на DS',xlabel='Год релиза', ylabel='Сумма продаж')\n",
    ")\n",
    "plt.show()\n",
    "(df\n",
    "    .query('platform == \"PS\"')\n",
    "    .pivot_table(index='year_of_release', values='all_sales',aggfunc='sum')\n",
    "    .plot(grid=True, figsize=(10, 6), title = 'Продажи игр на PS',xlabel='Год релиза', ylabel='Сумма продаж')\n",
    ")\n",
    "plt.show()"
   ]
  },
  {
   "cell_type": "markdown",
   "metadata": {},
   "source": [
    "    \n",
    "Оценил динамику продаж игр для ТОП-6 платформ(по числу продаж). По графикам можно сделать вывод, что в среднем платформа живет 10 лет. А самые топовые платформы по продажам в нашем случае не актуальны, т.к. либо уже не существуют, либо динамика продаж существенно упала\n",
    "</div>"
   ]
  },
  {
   "cell_type": "markdown",
   "metadata": {},
   "source": [
    "### Срез данных по актуальному периоду"
   ]
  },
  {
   "cell_type": "code",
   "execution_count": 13,
   "metadata": {},
   "outputs": [
    {
     "data": {
      "text/html": [
       "<div>\n",
       "<style scoped>\n",
       "    .dataframe tbody tr th:only-of-type {\n",
       "        vertical-align: middle;\n",
       "    }\n",
       "\n",
       "    .dataframe tbody tr th {\n",
       "        vertical-align: top;\n",
       "    }\n",
       "\n",
       "    .dataframe thead th {\n",
       "        text-align: right;\n",
       "    }\n",
       "</style>\n",
       "<table border=\"1\" class=\"dataframe\">\n",
       "  <thead>\n",
       "    <tr style=\"text-align: right;\">\n",
       "      <th></th>\n",
       "      <th></th>\n",
       "      <th>all_sales</th>\n",
       "    </tr>\n",
       "    <tr>\n",
       "      <th>year_of_release</th>\n",
       "      <th>platform</th>\n",
       "      <th></th>\n",
       "    </tr>\n",
       "  </thead>\n",
       "  <tbody>\n",
       "    <tr>\n",
       "      <th rowspan=\"11\" valign=\"top\">2013</th>\n",
       "      <th>3DS</th>\n",
       "      <td>56.57</td>\n",
       "    </tr>\n",
       "    <tr>\n",
       "      <th>DS</th>\n",
       "      <td>1.54</td>\n",
       "    </tr>\n",
       "    <tr>\n",
       "      <th>PC</th>\n",
       "      <td>12.38</td>\n",
       "    </tr>\n",
       "    <tr>\n",
       "      <th>PS3</th>\n",
       "      <td>113.25</td>\n",
       "    </tr>\n",
       "    <tr>\n",
       "      <th>PS4</th>\n",
       "      <td>25.99</td>\n",
       "    </tr>\n",
       "    <tr>\n",
       "      <th>PSP</th>\n",
       "      <td>3.14</td>\n",
       "    </tr>\n",
       "    <tr>\n",
       "      <th>PSV</th>\n",
       "      <td>10.59</td>\n",
       "    </tr>\n",
       "    <tr>\n",
       "      <th>Wii</th>\n",
       "      <td>8.59</td>\n",
       "    </tr>\n",
       "    <tr>\n",
       "      <th>WiiU</th>\n",
       "      <td>21.65</td>\n",
       "    </tr>\n",
       "    <tr>\n",
       "      <th>X360</th>\n",
       "      <td>88.58</td>\n",
       "    </tr>\n",
       "    <tr>\n",
       "      <th>XOne</th>\n",
       "      <td>18.96</td>\n",
       "    </tr>\n",
       "    <tr>\n",
       "      <th rowspan=\"10\" valign=\"top\">2014</th>\n",
       "      <th>3DS</th>\n",
       "      <td>43.76</td>\n",
       "    </tr>\n",
       "    <tr>\n",
       "      <th>PC</th>\n",
       "      <td>13.28</td>\n",
       "    </tr>\n",
       "    <tr>\n",
       "      <th>PS3</th>\n",
       "      <td>47.76</td>\n",
       "    </tr>\n",
       "    <tr>\n",
       "      <th>PS4</th>\n",
       "      <td>100.00</td>\n",
       "    </tr>\n",
       "    <tr>\n",
       "      <th>PSP</th>\n",
       "      <td>0.24</td>\n",
       "    </tr>\n",
       "    <tr>\n",
       "      <th>PSV</th>\n",
       "      <td>11.90</td>\n",
       "    </tr>\n",
       "    <tr>\n",
       "      <th>Wii</th>\n",
       "      <td>3.75</td>\n",
       "    </tr>\n",
       "    <tr>\n",
       "      <th>WiiU</th>\n",
       "      <td>22.03</td>\n",
       "    </tr>\n",
       "    <tr>\n",
       "      <th>X360</th>\n",
       "      <td>34.74</td>\n",
       "    </tr>\n",
       "    <tr>\n",
       "      <th>XOne</th>\n",
       "      <td>54.07</td>\n",
       "    </tr>\n",
       "    <tr>\n",
       "      <th rowspan=\"10\" valign=\"top\">2015</th>\n",
       "      <th>3DS</th>\n",
       "      <td>27.78</td>\n",
       "    </tr>\n",
       "    <tr>\n",
       "      <th>PC</th>\n",
       "      <td>8.52</td>\n",
       "    </tr>\n",
       "    <tr>\n",
       "      <th>PS3</th>\n",
       "      <td>16.82</td>\n",
       "    </tr>\n",
       "    <tr>\n",
       "      <th>PS4</th>\n",
       "      <td>118.90</td>\n",
       "    </tr>\n",
       "    <tr>\n",
       "      <th>PSP</th>\n",
       "      <td>0.12</td>\n",
       "    </tr>\n",
       "    <tr>\n",
       "      <th>PSV</th>\n",
       "      <td>6.25</td>\n",
       "    </tr>\n",
       "    <tr>\n",
       "      <th>Wii</th>\n",
       "      <td>1.14</td>\n",
       "    </tr>\n",
       "    <tr>\n",
       "      <th>WiiU</th>\n",
       "      <td>16.35</td>\n",
       "    </tr>\n",
       "    <tr>\n",
       "      <th>X360</th>\n",
       "      <td>11.96</td>\n",
       "    </tr>\n",
       "    <tr>\n",
       "      <th>XOne</th>\n",
       "      <td>60.14</td>\n",
       "    </tr>\n",
       "    <tr>\n",
       "      <th rowspan=\"9\" valign=\"top\">2016</th>\n",
       "      <th>3DS</th>\n",
       "      <td>15.14</td>\n",
       "    </tr>\n",
       "    <tr>\n",
       "      <th>PC</th>\n",
       "      <td>5.25</td>\n",
       "    </tr>\n",
       "    <tr>\n",
       "      <th>PS3</th>\n",
       "      <td>3.60</td>\n",
       "    </tr>\n",
       "    <tr>\n",
       "      <th>PS4</th>\n",
       "      <td>69.25</td>\n",
       "    </tr>\n",
       "    <tr>\n",
       "      <th>PSV</th>\n",
       "      <td>4.25</td>\n",
       "    </tr>\n",
       "    <tr>\n",
       "      <th>Wii</th>\n",
       "      <td>0.18</td>\n",
       "    </tr>\n",
       "    <tr>\n",
       "      <th>WiiU</th>\n",
       "      <td>4.60</td>\n",
       "    </tr>\n",
       "    <tr>\n",
       "      <th>X360</th>\n",
       "      <td>1.52</td>\n",
       "    </tr>\n",
       "    <tr>\n",
       "      <th>XOne</th>\n",
       "      <td>26.15</td>\n",
       "    </tr>\n",
       "  </tbody>\n",
       "</table>\n",
       "</div>"
      ],
      "text/plain": [
       "                          all_sales\n",
       "year_of_release platform           \n",
       "2013            3DS           56.57\n",
       "                DS             1.54\n",
       "                PC            12.38\n",
       "                PS3          113.25\n",
       "                PS4           25.99\n",
       "                PSP            3.14\n",
       "                PSV           10.59\n",
       "                Wii            8.59\n",
       "                WiiU          21.65\n",
       "                X360          88.58\n",
       "                XOne          18.96\n",
       "2014            3DS           43.76\n",
       "                PC            13.28\n",
       "                PS3           47.76\n",
       "                PS4          100.00\n",
       "                PSP            0.24\n",
       "                PSV           11.90\n",
       "                Wii            3.75\n",
       "                WiiU          22.03\n",
       "                X360          34.74\n",
       "                XOne          54.07\n",
       "2015            3DS           27.78\n",
       "                PC             8.52\n",
       "                PS3           16.82\n",
       "                PS4          118.90\n",
       "                PSP            0.12\n",
       "                PSV            6.25\n",
       "                Wii            1.14\n",
       "                WiiU          16.35\n",
       "                X360          11.96\n",
       "                XOne          60.14\n",
       "2016            3DS           15.14\n",
       "                PC             5.25\n",
       "                PS3            3.60\n",
       "                PS4           69.25\n",
       "                PSV            4.25\n",
       "                Wii            0.18\n",
       "                WiiU           4.60\n",
       "                X360           1.52\n",
       "                XOne          26.15"
      ]
     },
     "execution_count": 13,
     "metadata": {},
     "output_type": "execute_result"
    }
   ],
   "source": [
    "df_actual = df.query('year_of_release in (2016, 2015, 2014, 2013)')\n",
    "df_actual.pivot_table(index=('year_of_release','platform'), values='all_sales',aggfunc='sum')"
   ]
  },
  {
   "cell_type": "markdown",
   "metadata": {},
   "source": [
    "### Выбор потенциально прибыльных платформ"
   ]
  },
  {
   "cell_type": "code",
   "execution_count": 14,
   "metadata": {},
   "outputs": [
    {
     "data": {
      "image/png": "[encoded data removed]",
      "text/plain": [
       "<Figure size 720x432 with 1 Axes>"
      ]
     },
     "metadata": {
      "needs_background": "light"
     },
     "output_type": "display_data"
    }
   ],
   "source": [
    "(df_actual\n",
    "    .query('platform == \"3DS\"')\n",
    "    .pivot_table(index='year_of_release', values='all_sales',aggfunc='sum')\n",
    "    .plot(figsize=(10, 6),ylim=(0,60), title = 'Продажи игр на 3DS',xlabel='Год релиза', ylabel='Сумма продаж')\n",
    ")\n",
    "plt.show()"
   ]
  },
  {
   "cell_type": "code",
   "execution_count": 15,
   "metadata": {},
   "outputs": [
    {
     "data": {
      "image/png": "[encoded data removed]",
      "text/plain": [
       "<Figure size 720x432 with 1 Axes>"
      ]
     },
     "metadata": {
      "needs_background": "light"
     },
     "output_type": "display_data"
    }
   ],
   "source": [
    "(df_actual\n",
    "    .query('platform == \"PC\"')\n",
    "    .pivot_table(index='year_of_release', values='all_sales',aggfunc='sum')\n",
    "    .plot(figsize=(10, 6),ylim=(0,20), title = 'Продажи игр на PC',xlabel='Год релиза', ylabel='Сумма продаж')\n",
    ")\n",
    "plt.show()"
   ]
  },
  {
   "cell_type": "code",
   "execution_count": 16,
   "metadata": {},
   "outputs": [
    {
     "data": {
      "image/png": "[encoded data removed]",
      "text/plain": [
       "<Figure size 720x432 with 1 Axes>"
      ]
     },
     "metadata": {
      "needs_background": "light"
     },
     "output_type": "display_data"
    }
   ],
   "source": [
    "(df_actual\n",
    "    .query('platform == \"PS3\"')\n",
    "    .pivot_table(index='year_of_release', values='all_sales',aggfunc='sum')\n",
    "    .plot(figsize=(10, 6), title = 'Продажи игр на PS3',xlabel='Год релиза', ylabel='Сумма продаж')\n",
    ")\n",
    "plt.show()"
   ]
  },
  {
   "cell_type": "code",
   "execution_count": 17,
   "metadata": {},
   "outputs": [
    {
     "data": {
      "image/png": "[encoded data removed]",
      "text/plain": [
       "<Figure size 720x432 with 1 Axes>"
      ]
     },
     "metadata": {
      "needs_background": "light"
     },
     "output_type": "display_data"
    }
   ],
   "source": [
    "(df_actual\n",
    "    .query('platform == \"PS4\"')\n",
    "    .pivot_table(index='year_of_release', values='all_sales',aggfunc='sum')\n",
    "    .plot(figsize=(10, 6),ylim=(0,150), title = 'Продажи игр на PS4',xlabel='Год релиза', ylabel='Сумма продаж')\n",
    ")\n",
    "plt.show()"
   ]
  },
  {
   "cell_type": "code",
   "execution_count": 18,
   "metadata": {},
   "outputs": [
    {
     "data": {
      "image/png": "[encoded data removed]",
      "text/plain": [
       "<Figure size 720x432 with 1 Axes>"
      ]
     },
     "metadata": {
      "needs_background": "light"
     },
     "output_type": "display_data"
    }
   ],
   "source": [
    "(df_actual\n",
    "    .query('platform == \"PSP\"')\n",
    "    .pivot_table(index='year_of_release', values='all_sales',aggfunc='sum')\n",
    "    .plot(figsize=(10, 6),ylim=(0,5), title = 'Продажи игр на PSP',xlabel='Год релиза', ylabel='Сумма продаж')\n",
    ")\n",
    "plt.show()"
   ]
  },
  {
   "cell_type": "code",
   "execution_count": 19,
   "metadata": {},
   "outputs": [
    {
     "data": {
      "image/png": "[encoded data removed]",
      "text/plain": [
       "<Figure size 720x432 with 1 Axes>"
      ]
     },
     "metadata": {
      "needs_background": "light"
     },
     "output_type": "display_data"
    }
   ],
   "source": [
    "(df_actual\n",
    "    .query('platform == \"PSV\"')\n",
    "    .pivot_table(index='year_of_release', values='all_sales',aggfunc='sum')\n",
    "    .plot(figsize=(10, 6),ylim=(0,15), title = 'Продажи игр на PSV',xlabel='Год релиза', ylabel='Сумма продаж')\n",
    ")\n",
    "plt.show()"
   ]
  },
  {
   "cell_type": "code",
   "execution_count": 20,
   "metadata": {},
   "outputs": [
    {
     "data": {
      "image/png": "[encoded data removed]",
      "text/plain": [
       "<Figure size 720x432 with 1 Axes>"
      ]
     },
     "metadata": {
      "needs_background": "light"
     },
     "output_type": "display_data"
    }
   ],
   "source": [
    "(df_actual\n",
    "    .query('platform == \"Wii\"')\n",
    "    .pivot_table(index='year_of_release', values='all_sales',aggfunc='sum')\n",
    "    .plot(figsize=(10, 6),ylim=(0,10), title = 'Продажи игр на Wii',xlabel='Год релиза', ylabel='Сумма продаж')\n",
    ")\n",
    "plt.show()"
   ]
  },
  {
   "cell_type": "code",
   "execution_count": 21,
   "metadata": {},
   "outputs": [
    {
     "data": {
      "image/png": "[encoded data removed]",
      "text/plain": [
       "<Figure size 720x432 with 1 Axes>"
      ]
     },
     "metadata": {
      "needs_background": "light"
     },
     "output_type": "display_data"
    }
   ],
   "source": [
    "(df_actual\n",
    "    .query('platform == \"WiiU\"')\n",
    "    .pivot_table(index='year_of_release', values='all_sales',aggfunc='sum')\n",
    "    .plot(figsize=(10, 6),ylim=(0,25), title = 'Продажи игр на WiiU',xlabel='Год релиза', ylabel='Сумма продаж')\n",
    ")\n",
    "plt.show()"
   ]
  },
  {
   "cell_type": "code",
   "execution_count": 22,
   "metadata": {},
   "outputs": [
    {
     "data": {
      "image/png": "[encoded data removed]",
      "text/plain": [
       "<Figure size 720x432 with 1 Axes>"
      ]
     },
     "metadata": {
      "needs_background": "light"
     },
     "output_type": "display_data"
    }
   ],
   "source": [
    "(df_actual\n",
    "    .query('platform == \"X360\"')\n",
    "    .pivot_table(index='year_of_release', values='all_sales',aggfunc='sum')\n",
    "    .plot(figsize=(10, 6),ylim=(0,100), title = 'Продажи игр на X360',xlabel='Год релиза', ylabel='Сумма продаж')\n",
    ")\n",
    "plt.show()"
   ]
  },
  {
   "cell_type": "code",
   "execution_count": 23,
   "metadata": {},
   "outputs": [
    {
     "data": {
      "image/png": "[encoded data removed]",
      "text/plain": [
       "<Figure size 720x432 with 1 Axes>"
      ]
     },
     "metadata": {
      "needs_background": "light"
     },
     "output_type": "display_data"
    }
   ],
   "source": [
    "(df_actual\n",
    "    .query('platform == \"XOne\"')\n",
    "    .pivot_table(index='year_of_release', values='all_sales',aggfunc='sum')\n",
    "    .plot(figsize=(10, 6),ylim=(0,100), title = 'Продажи игр на XOne',xlabel='Год релиза', ylabel='Сумма продаж')\n",
    ")\n",
    "plt.show()"
   ]
  },
  {
   "cell_type": "markdown",
   "metadata": {},
   "source": [
    "\n",
    "    \n",
    "Платформы PS3 и X360, ещё в 2013-м приносившие наибольшие продажи, идут на спад в связи с выходом новых платформ XOne и PS4.\n",
    "По ним наблюдается рост продаж и их можно рассматривать в качестве потенциально прибыльных. \n",
    "    \n",
    "Также стоит обратить внимание на платформы, стабильно приносящие доход: PC, 3DS, WiiU    \n",
    "\n"
   ]
  },
  {
   "cell_type": "markdown",
   "metadata": {},
   "source": [
    "### Диаграммы размаха"
   ]
  },
  {
   "cell_type": "code",
   "execution_count": 24,
   "metadata": {},
   "outputs": [
    {
     "data": {
      "text/plain": [
       "<AxesSubplot:xlabel='all_sales', ylabel='platform'>"
      ]
     },
     "execution_count": 24,
     "metadata": {},
     "output_type": "execute_result"
    },
    {
     "data": {
      "image/png": "[encoded data removed]",
      "text/plain": [
       "<Figure size 432x288 with 1 Axes>"
      ]
     },
     "metadata": {
      "needs_background": "light"
     },
     "output_type": "display_data"
    }
   ],
   "source": [
    "sns.boxplot(y=\"platform\", x=\"all_sales\", data=df_actual[df_actual.platform == '3DS'] )\n"
   ]
  },
  {
   "cell_type": "code",
   "execution_count": 25,
   "metadata": {},
   "outputs": [
    {
     "data": {
      "text/plain": [
       "<AxesSubplot:xlabel='all_sales', ylabel='platform'>"
      ]
     },
     "execution_count": 25,
     "metadata": {},
     "output_type": "execute_result"
    },
    {
     "data": {
      "image/png": "[encoded data removed]",
      "text/plain": [
       "<Figure size 432x288 with 1 Axes>"
      ]
     },
     "metadata": {
      "needs_background": "light"
     },
     "output_type": "display_data"
    }
   ],
   "source": [
    "sns.boxplot(y=\"platform\", x=\"all_sales\", data=df_actual[df_actual.platform == 'PC'] )\n"
   ]
  },
  {
   "cell_type": "code",
   "execution_count": 26,
   "metadata": {},
   "outputs": [
    {
     "data": {
      "text/plain": [
       "<AxesSubplot:xlabel='all_sales', ylabel='platform'>"
      ]
     },
     "execution_count": 26,
     "metadata": {},
     "output_type": "execute_result"
    },
    {
     "data": {
      "image/png": "[encoded data removed]",
      "text/plain": [
       "<Figure size 432x288 with 1 Axes>"
      ]
     },
     "metadata": {
      "needs_background": "light"
     },
     "output_type": "display_data"
    }
   ],
   "source": [
    "sns.boxplot(y=\"platform\", x=\"all_sales\", data=df_actual[df_actual.platform == 'WiiU'] )\n"
   ]
  },
  {
   "cell_type": "code",
   "execution_count": 27,
   "metadata": {},
   "outputs": [
    {
     "data": {
      "text/plain": [
       "<AxesSubplot:xlabel='all_sales', ylabel='platform'>"
      ]
     },
     "execution_count": 27,
     "metadata": {},
     "output_type": "execute_result"
    },
    {
     "data": {
      "image/png": "[encoded data removed]",
      "text/plain": [
       "<Figure size 432x288 with 1 Axes>"
      ]
     },
     "metadata": {
      "needs_background": "light"
     },
     "output_type": "display_data"
    }
   ],
   "source": [
    "sns.boxplot(y=\"platform\", x=\"all_sales\", data=df_actual[df_actual.platform == 'PS3'] )\n"
   ]
  },
  {
   "cell_type": "code",
   "execution_count": 28,
   "metadata": {},
   "outputs": [
    {
     "data": {
      "text/plain": [
       "<AxesSubplot:xlabel='all_sales', ylabel='platform'>"
      ]
     },
     "execution_count": 28,
     "metadata": {},
     "output_type": "execute_result"
    },
    {
     "data": {
      "image/png": "[encoded data removed]",
      "text/plain": [
       "<Figure size 432x288 with 1 Axes>"
      ]
     },
     "metadata": {
      "needs_background": "light"
     },
     "output_type": "display_data"
    }
   ],
   "source": [
    "sns.boxplot(y=\"platform\", x=\"all_sales\", data=df_actual[df_actual.platform == 'X360'] )\n"
   ]
  },
  {
   "cell_type": "code",
   "execution_count": 29,
   "metadata": {},
   "outputs": [
    {
     "data": {
      "text/plain": [
       "<AxesSubplot:xlabel='all_sales', ylabel='platform'>"
      ]
     },
     "execution_count": 29,
     "metadata": {},
     "output_type": "execute_result"
    },
    {
     "data": {
      "image/png": "[encoded data removed]",
      "text/plain": [
       "<Figure size 432x288 with 1 Axes>"
      ]
     },
     "metadata": {
      "needs_background": "light"
     },
     "output_type": "display_data"
    }
   ],
   "source": [
    "sns.boxplot(y=\"platform\", x=\"all_sales\", data=df_actual[df_actual.platform == 'PS4'] )\n"
   ]
  },
  {
   "cell_type": "code",
   "execution_count": 30,
   "metadata": {},
   "outputs": [
    {
     "data": {
      "text/plain": [
       "<AxesSubplot:xlabel='all_sales', ylabel='platform'>"
      ]
     },
     "execution_count": 30,
     "metadata": {},
     "output_type": "execute_result"
    },
    {
     "data": {
      "image/png": "[encoded data removed]",
      "text/plain": [
       "<Figure size 432x288 with 1 Axes>"
      ]
     },
     "metadata": {
      "needs_background": "light"
     },
     "output_type": "display_data"
    }
   ],
   "source": [
    "sns.boxplot(y=\"platform\", x=\"all_sales\", data=df_actual[df_actual.platform == 'XOne'] )\n"
   ]
  },
  {
   "cell_type": "markdown",
   "metadata": {},
   "source": [
    "\n",
    "    \n",
    "На платформах 3DS, PS3 и PS4 очень много значений за пределами \"усов\", что может говорить об отдельных играх, которые продаются значительно дороже, основной массы игр на этих платформах\n",
    "\n"
   ]
  },
  {
   "cell_type": "code",
   "execution_count": 31,
   "metadata": {},
   "outputs": [
    {
     "data": {
      "text/plain": [
       "<AxesSubplot:xlabel='all_sales', ylabel='platform'>"
      ]
     },
     "execution_count": 31,
     "metadata": {},
     "output_type": "execute_result"
    },
    {
     "data": {
      "image/png": "[encoded data removed]",
      "text/plain": [
       "<Figure size 1080x1080 with 1 Axes>"
      ]
     },
     "metadata": {
      "needs_background": "light"
     },
     "output_type": "display_data"
    }
   ],
   "source": [
    "plt.figure(figsize=(15,15))\n",
    "sns.boxplot(y=\"platform\", x=\"all_sales\", data=df_actual )\n"
   ]
  },
  {
   "cell_type": "code",
   "execution_count": 32,
   "metadata": {},
   "outputs": [
    {
     "data": {
      "text/plain": [
       "<AxesSubplot:xlabel='all_sales', ylabel='platform'>"
      ]
     },
     "execution_count": 32,
     "metadata": {},
     "output_type": "execute_result"
    },
    {
     "data": {
      "image/png": "[encoded data removed]",
      "text/plain": [
       "<Figure size 1080x1080 with 1 Axes>"
      ]
     },
     "metadata": {
      "needs_background": "light"
     },
     "output_type": "display_data"
    }
   ],
   "source": [
    "plt.figure(figsize=(15,15))\n",
    "plt.xlim(0,5)\n",
    "sns.boxplot(y=\"platform\", x=\"all_sales\", data=df_actual)\n"
   ]
  },
  {
   "cell_type": "markdown",
   "metadata": {},
   "source": [
    "### Диаграммы рассеяния и корреляции"
   ]
  },
  {
   "cell_type": "code",
   "execution_count": 33,
   "metadata": {},
   "outputs": [
    {
     "name": "stdout",
     "output_type": "stream",
     "text": [
      "Корреляция оценок критиков и продаж равна: 0.40656790206178095\n",
      "Корреляция оценок пользователей и продаж равна: -0.031957110204556376\n"
     ]
    },
    {
     "data": {
      "image/png": "[encoded data removed]",
      "text/plain": [
       "<Figure size 432x288 with 1 Axes>"
      ]
     },
     "metadata": {
      "needs_background": "light"
     },
     "output_type": "display_data"
    },
    {
     "data": {
      "image/png": "[encoded data removed]",
      "text/plain": [
       "<Figure size 432x288 with 1 Axes>"
      ]
     },
     "metadata": {
      "needs_background": "light"
     },
     "output_type": "display_data"
    }
   ],
   "source": [
    "df_actual.query('platform == \"PS4\"').plot(x='critic_score',y='all_sales',kind='scatter',grid=True, title = 'PS4')\n",
    "df_actual.query('platform == \"PS4\"').plot(x='user_score',y='all_sales',kind='scatter',grid=True, title = 'PS4')\n",
    "\n",
    "ps4 = df_actual.query('platform == \"PS4\"')\n",
    "print('Корреляция оценок критиков и продаж равна:', ps4['critic_score'].corr(ps4['all_sales']))\n",
    "print('Корреляция оценок пользователей и продаж равна:',ps4['user_score'].corr(ps4['all_sales']))"
   ]
  },
  {
   "cell_type": "code",
   "execution_count": 34,
   "metadata": {},
   "outputs": [
    {
     "name": "stdout",
     "output_type": "stream",
     "text": [
      "Корреляция оценок критиков и продаж равна: 0.3503445460228664\n",
      "Корреляция оценок пользователей и продаж равна: -0.011742185147181342\n"
     ]
    },
    {
     "data": {
      "image/png": "[encoded data removed]",
      "text/plain": [
       "<Figure size 432x288 with 1 Axes>"
      ]
     },
     "metadata": {
      "needs_background": "light"
     },
     "output_type": "display_data"
    },
    {
     "data": {
      "image/png": "[encoded data removed]",
      "text/plain": [
       "<Figure size 432x288 with 1 Axes>"
      ]
     },
     "metadata": {
      "needs_background": "light"
     },
     "output_type": "display_data"
    }
   ],
   "source": [
    "df_actual.query('platform == \"X360\"').plot(x='critic_score',y='all_sales',kind='scatter',grid=True, title = 'X_360')\n",
    "df_actual.query('platform == \"X360\"').plot(x='user_score',y='all_sales',kind='scatter',grid=True, title = 'X_360')\n",
    "\n",
    "x360 = df_actual.query('platform == \"X360\"')\n",
    "print('Корреляция оценок критиков и продаж равна:', x360['critic_score'].corr(x360['all_sales']))\n",
    "print('Корреляция оценок пользователей и продаж равна:',x360['user_score'].corr(x360['all_sales']))"
   ]
  },
  {
   "cell_type": "code",
   "execution_count": 35,
   "metadata": {},
   "outputs": [
    {
     "name": "stdout",
     "output_type": "stream",
     "text": [
      "Корреляция оценок критиков и продаж равна: 0.4169983280084017\n",
      "Корреляция оценок пользователей и продаж равна: -0.06892505328279414\n"
     ]
    },
    {
     "data": {
      "image/png": "[encoded data removed]",
      "text/plain": [
       "<Figure size 432x288 with 1 Axes>"
      ]
     },
     "metadata": {
      "needs_background": "light"
     },
     "output_type": "display_data"
    },
    {
     "data": {
      "image/png": "[encoded data removed]",
      "text/plain": [
       "<Figure size 432x288 with 1 Axes>"
      ]
     },
     "metadata": {
      "needs_background": "light"
     },
     "output_type": "display_data"
    }
   ],
   "source": [
    "df_actual.query('platform == \"XOne\"').plot(x='critic_score',y='all_sales',kind='scatter',grid=True, title = 'X_One')\n",
    "df_actual.query('platform == \"XOne\"').plot(x='user_score',y='all_sales',kind='scatter',grid=True, title = 'X_One')\n",
    "\n",
    "x_one = df_actual.query('platform == \"XOne\"')\n",
    "print('Корреляция оценок критиков и продаж равна:', x_one['critic_score'].corr(x_one['all_sales']))\n",
    "print('Корреляция оценок пользователей и продаж равна:',x_one['user_score'].corr(x_one['all_sales']))"
   ]
  },
  {
   "cell_type": "code",
   "execution_count": 36,
   "metadata": {},
   "outputs": [
    {
     "name": "stdout",
     "output_type": "stream",
     "text": [
      "Корреляция оценок критиков и продаж равна: 0.3764149065423912\n",
      "Корреляция оценок пользователей и продаж равна: 0.4193304819266187\n"
     ]
    },
    {
     "data": {
      "image/png": "[encoded data removed]",
      "text/plain": [
       "<Figure size 432x288 with 1 Axes>"
      ]
     },
     "metadata": {
      "needs_background": "light"
     },
     "output_type": "display_data"
    },
    {
     "data": {
      "image/png": "[encoded data removed]",
      "text/plain": [
       "<Figure size 432x288 with 1 Axes>"
      ]
     },
     "metadata": {
      "needs_background": "light"
     },
     "output_type": "display_data"
    }
   ],
   "source": [
    "df_actual.query('platform == \"WiiU\"').plot(x='critic_score',y='all_sales',kind='scatter',grid=True, title = 'WiiU')\n",
    "df_actual.query('platform == \"WiiU\"').plot(x='user_score',y='all_sales',kind='scatter',grid=True, title = 'WiiU')\n",
    "\n",
    "wiiu = df_actual.query('platform == \"WiiU\"')\n",
    "print('Корреляция оценок критиков и продаж равна:', wiiu['critic_score'].corr(wiiu['all_sales']))\n",
    "print('Корреляция оценок пользователей и продаж равна:',wiiu['user_score'].corr(wiiu['all_sales']))"
   ]
  },
  {
   "cell_type": "code",
   "execution_count": 37,
   "metadata": {},
   "outputs": [
    {
     "name": "stdout",
     "output_type": "stream",
     "text": [
      "Корреляция оценок критиков и продаж равна: 0.3342853393371919\n",
      "Корреляция оценок пользователей и продаж равна: 0.0023944027357566925\n"
     ]
    },
    {
     "data": {
      "image/png": "[encoded data removed]",
      "text/plain": [
       "<Figure size 432x288 with 1 Axes>"
      ]
     },
     "metadata": {
      "needs_background": "light"
     },
     "output_type": "display_data"
    },
    {
     "data": {
      "image/png": "[encoded data removed]",
      "text/plain": [
       "<Figure size 432x288 with 1 Axes>"
      ]
     },
     "metadata": {
      "needs_background": "light"
     },
     "output_type": "display_data"
    }
   ],
   "source": [
    "df_actual.query('platform == \"PS3\"').plot(x='critic_score',y='all_sales',kind='scatter',grid=True, title = 'PS3')\n",
    "df_actual.query('platform == \"PS3\"').plot(x='user_score',y='all_sales',kind='scatter',grid=True, title = 'PS3')\n",
    "\n",
    "ps3 = df_actual.query('platform == \"PS3\"')\n",
    "print('Корреляция оценок критиков и продаж равна:', ps3['critic_score'].corr(ps3['all_sales']))\n",
    "print('Корреляция оценок пользователей и продаж равна:',ps3['user_score'].corr(ps3['all_sales']))"
   ]
  },
  {
   "cell_type": "markdown",
   "metadata": {},
   "source": [
    "    \n",
    "По диаграммам рассения видно, что большинство продаваемых игр оцениваются критиками от 50 до 90 баллов. \n",
    "Для пользователей оценка составляет от 5 до 9.\n",
    "\n",
    "Коэффициент корреляции показывает, что между пользовательскими оценками и продажами зависимости практически нет. Она близка к 0. Между оценками критикой и продажами зависимость также незначительная\n"
   ]
  },
  {
   "cell_type": "markdown",
   "metadata": {},
   "source": [
    "\n",
    "Взял в анализ ТОП-5 платформ. По корреляциям можно сделать вывод, что между продажами и оценками критиков корреляция слабая.\n",
    "А вот для пользовательских оценок и продаж она очень слабая(кроме платформы WiiU), и её не стоит принимать в расчет.\n",
    "    "
   ]
  },
  {
   "cell_type": "markdown",
   "metadata": {},
   "source": [
    "### Распределение игр по жанрам"
   ]
  },
  {
   "cell_type": "code",
   "execution_count": 38,
   "metadata": {},
   "outputs": [
    {
     "data": {
      "text/html": [
       "<div>\n",
       "<style scoped>\n",
       "    .dataframe tbody tr th:only-of-type {\n",
       "        vertical-align: middle;\n",
       "    }\n",
       "\n",
       "    .dataframe tbody tr th {\n",
       "        vertical-align: top;\n",
       "    }\n",
       "\n",
       "    .dataframe thead th {\n",
       "        text-align: right;\n",
       "    }\n",
       "</style>\n",
       "<table border=\"1\" class=\"dataframe\">\n",
       "  <thead>\n",
       "    <tr style=\"text-align: right;\">\n",
       "      <th></th>\n",
       "      <th>all_sales</th>\n",
       "    </tr>\n",
       "    <tr>\n",
       "      <th>genre</th>\n",
       "      <th></th>\n",
       "    </tr>\n",
       "  </thead>\n",
       "  <tbody>\n",
       "    <tr>\n",
       "      <th>Adventure</th>\n",
       "      <td>0.096490</td>\n",
       "    </tr>\n",
       "    <tr>\n",
       "      <th>Strategy</th>\n",
       "      <td>0.180000</td>\n",
       "    </tr>\n",
       "    <tr>\n",
       "      <th>Puzzle</th>\n",
       "      <td>0.186471</td>\n",
       "    </tr>\n",
       "    <tr>\n",
       "      <th>Simulation</th>\n",
       "      <td>0.350968</td>\n",
       "    </tr>\n",
       "    <tr>\n",
       "      <th>Misc</th>\n",
       "      <td>0.405290</td>\n",
       "    </tr>\n",
       "    <tr>\n",
       "      <th>Action</th>\n",
       "      <td>0.420196</td>\n",
       "    </tr>\n",
       "    <tr>\n",
       "      <th>Fighting</th>\n",
       "      <td>0.441375</td>\n",
       "    </tr>\n",
       "    <tr>\n",
       "      <th>Racing</th>\n",
       "      <td>0.469294</td>\n",
       "    </tr>\n",
       "    <tr>\n",
       "      <th>Role-Playing</th>\n",
       "      <td>0.499623</td>\n",
       "    </tr>\n",
       "    <tr>\n",
       "      <th>Platform</th>\n",
       "      <td>0.576081</td>\n",
       "    </tr>\n",
       "    <tr>\n",
       "      <th>Sports</th>\n",
       "      <td>0.703972</td>\n",
       "    </tr>\n",
       "    <tr>\n",
       "      <th>Shooter</th>\n",
       "      <td>1.245882</td>\n",
       "    </tr>\n",
       "  </tbody>\n",
       "</table>\n",
       "</div>"
      ],
      "text/plain": [
       "              all_sales\n",
       "genre                  \n",
       "Adventure      0.096490\n",
       "Strategy       0.180000\n",
       "Puzzle         0.186471\n",
       "Simulation     0.350968\n",
       "Misc           0.405290\n",
       "Action         0.420196\n",
       "Fighting       0.441375\n",
       "Racing         0.469294\n",
       "Role-Playing   0.499623\n",
       "Platform       0.576081\n",
       "Sports         0.703972\n",
       "Shooter        1.245882"
      ]
     },
     "execution_count": 38,
     "metadata": {},
     "output_type": "execute_result"
    }
   ],
   "source": [
    "df_actual.pivot_table(index='genre', values='all_sales',aggfunc='mean').sort_values(by = 'all_sales')"
   ]
  },
  {
   "cell_type": "markdown",
   "metadata": {},
   "source": [
    "\n",
    "    \n",
    "Наибольший объем продаж приходится на жанр Action. На втором месте шутеры. Третье разделяю РПГ и спортивные жанры\n"
   ]
  },
  {
   "cell_type": "markdown",
   "metadata": {},
   "source": [
    "## Составление портрета пользователя в каждом регионе\n",
    "\n",
    "### ТОП-5 платформ"
   ]
  },
  {
   "cell_type": "code",
   "execution_count": 39,
   "metadata": {},
   "outputs": [
    {
     "data": {
      "text/html": [
       "<div>\n",
       "<style scoped>\n",
       "    .dataframe tbody tr th:only-of-type {\n",
       "        vertical-align: middle;\n",
       "    }\n",
       "\n",
       "    .dataframe tbody tr th {\n",
       "        vertical-align: top;\n",
       "    }\n",
       "\n",
       "    .dataframe thead th {\n",
       "        text-align: right;\n",
       "    }\n",
       "</style>\n",
       "<table border=\"1\" class=\"dataframe\">\n",
       "  <thead>\n",
       "    <tr style=\"text-align: right;\">\n",
       "      <th></th>\n",
       "      <th>na_sales</th>\n",
       "    </tr>\n",
       "    <tr>\n",
       "      <th>platform</th>\n",
       "      <th></th>\n",
       "    </tr>\n",
       "  </thead>\n",
       "  <tbody>\n",
       "    <tr>\n",
       "      <th>PS4</th>\n",
       "      <td>108.74</td>\n",
       "    </tr>\n",
       "    <tr>\n",
       "      <th>XOne</th>\n",
       "      <td>93.12</td>\n",
       "    </tr>\n",
       "    <tr>\n",
       "      <th>X360</th>\n",
       "      <td>81.66</td>\n",
       "    </tr>\n",
       "    <tr>\n",
       "      <th>PS3</th>\n",
       "      <td>63.50</td>\n",
       "    </tr>\n",
       "    <tr>\n",
       "      <th>3DS</th>\n",
       "      <td>38.20</td>\n",
       "    </tr>\n",
       "  </tbody>\n",
       "</table>\n",
       "</div>"
      ],
      "text/plain": [
       "          na_sales\n",
       "platform          \n",
       "PS4         108.74\n",
       "XOne         93.12\n",
       "X360         81.66\n",
       "PS3          63.50\n",
       "3DS          38.20"
      ]
     },
     "execution_count": 39,
     "metadata": {},
     "output_type": "execute_result"
    }
   ],
   "source": [
    "df_actual.pivot_table(index='platform', values='na_sales',aggfunc='sum').sort_values(by = 'na_sales', ascending = False).head()"
   ]
  },
  {
   "cell_type": "code",
   "execution_count": 40,
   "metadata": {},
   "outputs": [
    {
     "data": {
      "text/html": [
       "<div>\n",
       "<style scoped>\n",
       "    .dataframe tbody tr th:only-of-type {\n",
       "        vertical-align: middle;\n",
       "    }\n",
       "\n",
       "    .dataframe tbody tr th {\n",
       "        vertical-align: top;\n",
       "    }\n",
       "\n",
       "    .dataframe thead th {\n",
       "        text-align: right;\n",
       "    }\n",
       "</style>\n",
       "<table border=\"1\" class=\"dataframe\">\n",
       "  <thead>\n",
       "    <tr style=\"text-align: right;\">\n",
       "      <th></th>\n",
       "      <th>eu_sales</th>\n",
       "    </tr>\n",
       "    <tr>\n",
       "      <th>platform</th>\n",
       "      <th></th>\n",
       "    </tr>\n",
       "  </thead>\n",
       "  <tbody>\n",
       "    <tr>\n",
       "      <th>PS4</th>\n",
       "      <td>141.09</td>\n",
       "    </tr>\n",
       "    <tr>\n",
       "      <th>PS3</th>\n",
       "      <td>67.81</td>\n",
       "    </tr>\n",
       "    <tr>\n",
       "      <th>XOne</th>\n",
       "      <td>51.59</td>\n",
       "    </tr>\n",
       "    <tr>\n",
       "      <th>X360</th>\n",
       "      <td>42.52</td>\n",
       "    </tr>\n",
       "    <tr>\n",
       "      <th>3DS</th>\n",
       "      <td>30.96</td>\n",
       "    </tr>\n",
       "  </tbody>\n",
       "</table>\n",
       "</div>"
      ],
      "text/plain": [
       "          eu_sales\n",
       "platform          \n",
       "PS4         141.09\n",
       "PS3          67.81\n",
       "XOne         51.59\n",
       "X360         42.52\n",
       "3DS          30.96"
      ]
     },
     "execution_count": 40,
     "metadata": {},
     "output_type": "execute_result"
    }
   ],
   "source": [
    "df_actual.pivot_table(index='platform', values='eu_sales',aggfunc='sum').sort_values(by = 'eu_sales', ascending = False).head()"
   ]
  },
  {
   "cell_type": "code",
   "execution_count": 41,
   "metadata": {},
   "outputs": [
    {
     "data": {
      "text/html": [
       "<div>\n",
       "<style scoped>\n",
       "    .dataframe tbody tr th:only-of-type {\n",
       "        vertical-align: middle;\n",
       "    }\n",
       "\n",
       "    .dataframe tbody tr th {\n",
       "        vertical-align: top;\n",
       "    }\n",
       "\n",
       "    .dataframe thead th {\n",
       "        text-align: right;\n",
       "    }\n",
       "</style>\n",
       "<table border=\"1\" class=\"dataframe\">\n",
       "  <thead>\n",
       "    <tr style=\"text-align: right;\">\n",
       "      <th></th>\n",
       "      <th>jp_sales</th>\n",
       "    </tr>\n",
       "    <tr>\n",
       "      <th>platform</th>\n",
       "      <th></th>\n",
       "    </tr>\n",
       "  </thead>\n",
       "  <tbody>\n",
       "    <tr>\n",
       "      <th>3DS</th>\n",
       "      <td>67.81</td>\n",
       "    </tr>\n",
       "    <tr>\n",
       "      <th>PS3</th>\n",
       "      <td>23.35</td>\n",
       "    </tr>\n",
       "    <tr>\n",
       "      <th>PSV</th>\n",
       "      <td>18.59</td>\n",
       "    </tr>\n",
       "    <tr>\n",
       "      <th>PS4</th>\n",
       "      <td>15.96</td>\n",
       "    </tr>\n",
       "    <tr>\n",
       "      <th>WiiU</th>\n",
       "      <td>10.88</td>\n",
       "    </tr>\n",
       "  </tbody>\n",
       "</table>\n",
       "</div>"
      ],
      "text/plain": [
       "          jp_sales\n",
       "platform          \n",
       "3DS          67.81\n",
       "PS3          23.35\n",
       "PSV          18.59\n",
       "PS4          15.96\n",
       "WiiU         10.88"
      ]
     },
     "execution_count": 41,
     "metadata": {},
     "output_type": "execute_result"
    }
   ],
   "source": [
    "df_actual.pivot_table(index='platform', values='jp_sales',aggfunc='sum').sort_values(by = 'jp_sales', ascending = False).head()"
   ]
  },
  {
   "cell_type": "markdown",
   "metadata": {},
   "source": [
    "    \n",
    "На рынке США равномерно распределены 3 лидирующие платформы(PS4, Xone и X360). Их доля продаж идентична. Меньше всего продаж приходится на 3DS\n",
    "\n",
    "На европейском рынке с отрывом лидируют продажи для PS4. Второе место занимает PS3, Продажи для XOne и Xbox 360 одинаковы между собой. На 3DS меньше всех остальных из топ-5 приходятся продажи\n",
    "    \n",
    "Японский рынок сильно отличается от США и Европы. Первое место по доле продаж здесь с отрывом у 3DS. Такие платформы как XOne и X360 не попали в ТОП-5. \n"
   ]
  },
  {
   "cell_type": "markdown",
   "metadata": {},
   "source": [
    "### ТОП-5 жанров"
   ]
  },
  {
   "cell_type": "code",
   "execution_count": 42,
   "metadata": {},
   "outputs": [
    {
     "data": {
      "text/html": [
       "<div>\n",
       "<style scoped>\n",
       "    .dataframe tbody tr th:only-of-type {\n",
       "        vertical-align: middle;\n",
       "    }\n",
       "\n",
       "    .dataframe tbody tr th {\n",
       "        vertical-align: top;\n",
       "    }\n",
       "\n",
       "    .dataframe thead th {\n",
       "        text-align: right;\n",
       "    }\n",
       "</style>\n",
       "<table border=\"1\" class=\"dataframe\">\n",
       "  <thead>\n",
       "    <tr style=\"text-align: right;\">\n",
       "      <th></th>\n",
       "      <th>na_sales</th>\n",
       "    </tr>\n",
       "    <tr>\n",
       "      <th>genre</th>\n",
       "      <th></th>\n",
       "    </tr>\n",
       "  </thead>\n",
       "  <tbody>\n",
       "    <tr>\n",
       "      <th>Action</th>\n",
       "      <td>126.05</td>\n",
       "    </tr>\n",
       "    <tr>\n",
       "      <th>Shooter</th>\n",
       "      <td>109.74</td>\n",
       "    </tr>\n",
       "    <tr>\n",
       "      <th>Sports</th>\n",
       "      <td>65.27</td>\n",
       "    </tr>\n",
       "    <tr>\n",
       "      <th>Role-Playing</th>\n",
       "      <td>46.40</td>\n",
       "    </tr>\n",
       "    <tr>\n",
       "      <th>Misc</th>\n",
       "      <td>27.49</td>\n",
       "    </tr>\n",
       "  </tbody>\n",
       "</table>\n",
       "</div>"
      ],
      "text/plain": [
       "              na_sales\n",
       "genre                 \n",
       "Action          126.05\n",
       "Shooter         109.74\n",
       "Sports           65.27\n",
       "Role-Playing     46.40\n",
       "Misc             27.49"
      ]
     },
     "execution_count": 42,
     "metadata": {},
     "output_type": "execute_result"
    }
   ],
   "source": [
    "df_actual.pivot_table(index='genre', values='na_sales',aggfunc='sum').sort_values(by = 'na_sales', ascending = False).head()"
   ]
  },
  {
   "cell_type": "code",
   "execution_count": 43,
   "metadata": {},
   "outputs": [
    {
     "data": {
      "text/html": [
       "<div>\n",
       "<style scoped>\n",
       "    .dataframe tbody tr th:only-of-type {\n",
       "        vertical-align: middle;\n",
       "    }\n",
       "\n",
       "    .dataframe tbody tr th {\n",
       "        vertical-align: top;\n",
       "    }\n",
       "\n",
       "    .dataframe thead th {\n",
       "        text-align: right;\n",
       "    }\n",
       "</style>\n",
       "<table border=\"1\" class=\"dataframe\">\n",
       "  <thead>\n",
       "    <tr style=\"text-align: right;\">\n",
       "      <th></th>\n",
       "      <th>eu_sales</th>\n",
       "    </tr>\n",
       "    <tr>\n",
       "      <th>genre</th>\n",
       "      <th></th>\n",
       "    </tr>\n",
       "  </thead>\n",
       "  <tbody>\n",
       "    <tr>\n",
       "      <th>Action</th>\n",
       "      <td>118.13</td>\n",
       "    </tr>\n",
       "    <tr>\n",
       "      <th>Shooter</th>\n",
       "      <td>87.86</td>\n",
       "    </tr>\n",
       "    <tr>\n",
       "      <th>Sports</th>\n",
       "      <td>60.52</td>\n",
       "    </tr>\n",
       "    <tr>\n",
       "      <th>Role-Playing</th>\n",
       "      <td>36.97</td>\n",
       "    </tr>\n",
       "    <tr>\n",
       "      <th>Racing</th>\n",
       "      <td>20.19</td>\n",
       "    </tr>\n",
       "  </tbody>\n",
       "</table>\n",
       "</div>"
      ],
      "text/plain": [
       "              eu_sales\n",
       "genre                 \n",
       "Action          118.13\n",
       "Shooter          87.86\n",
       "Sports           60.52\n",
       "Role-Playing     36.97\n",
       "Racing           20.19"
      ]
     },
     "execution_count": 43,
     "metadata": {},
     "output_type": "execute_result"
    }
   ],
   "source": [
    "df_actual.pivot_table(index='genre', values='eu_sales',aggfunc='sum').sort_values(by = 'eu_sales', ascending = False).head()"
   ]
  },
  {
   "cell_type": "code",
   "execution_count": 44,
   "metadata": {},
   "outputs": [
    {
     "data": {
      "text/html": [
       "<div>\n",
       "<style scoped>\n",
       "    .dataframe tbody tr th:only-of-type {\n",
       "        vertical-align: middle;\n",
       "    }\n",
       "\n",
       "    .dataframe tbody tr th {\n",
       "        vertical-align: top;\n",
       "    }\n",
       "\n",
       "    .dataframe thead th {\n",
       "        text-align: right;\n",
       "    }\n",
       "</style>\n",
       "<table border=\"1\" class=\"dataframe\">\n",
       "  <thead>\n",
       "    <tr style=\"text-align: right;\">\n",
       "      <th></th>\n",
       "      <th>jp_sales</th>\n",
       "    </tr>\n",
       "    <tr>\n",
       "      <th>genre</th>\n",
       "      <th></th>\n",
       "    </tr>\n",
       "  </thead>\n",
       "  <tbody>\n",
       "    <tr>\n",
       "      <th>Role-Playing</th>\n",
       "      <td>51.04</td>\n",
       "    </tr>\n",
       "    <tr>\n",
       "      <th>Action</th>\n",
       "      <td>40.49</td>\n",
       "    </tr>\n",
       "    <tr>\n",
       "      <th>Misc</th>\n",
       "      <td>9.20</td>\n",
       "    </tr>\n",
       "    <tr>\n",
       "      <th>Fighting</th>\n",
       "      <td>7.65</td>\n",
       "    </tr>\n",
       "    <tr>\n",
       "      <th>Shooter</th>\n",
       "      <td>6.61</td>\n",
       "    </tr>\n",
       "  </tbody>\n",
       "</table>\n",
       "</div>"
      ],
      "text/plain": [
       "              jp_sales\n",
       "genre                 \n",
       "Role-Playing     51.04\n",
       "Action           40.49\n",
       "Misc              9.20\n",
       "Fighting          7.65\n",
       "Shooter           6.61"
      ]
     },
     "execution_count": 44,
     "metadata": {},
     "output_type": "execute_result"
    }
   ],
   "source": [
    "df_actual.pivot_table(index='genre', values='jp_sales',aggfunc='sum').sort_values(by = 'jp_sales', ascending = False).head()"
   ]
  },
  {
   "cell_type": "markdown",
   "metadata": {},
   "source": [
    "\n",
    "ТОП-5 жанров по продажам одинаковый для США и Европы. В Японии же дела обстоят иначе. На первое место выходят ролевые игры. Также в ТОП-5 попали жанры Misc и файтинг. А шутеры замыкают топ-5 по продажам\n",
    "    "
   ]
  },
  {
   "cell_type": "markdown",
   "metadata": {},
   "source": [
    "### Влияние рейтинга ESRB"
   ]
  },
  {
   "cell_type": "code",
   "execution_count": 45,
   "metadata": {},
   "outputs": [
    {
     "data": {
      "text/html": [
       "<div>\n",
       "<style scoped>\n",
       "    .dataframe tbody tr th:only-of-type {\n",
       "        vertical-align: middle;\n",
       "    }\n",
       "\n",
       "    .dataframe tbody tr th {\n",
       "        vertical-align: top;\n",
       "    }\n",
       "\n",
       "    .dataframe thead th {\n",
       "        text-align: right;\n",
       "    }\n",
       "</style>\n",
       "<table border=\"1\" class=\"dataframe\">\n",
       "  <thead>\n",
       "    <tr style=\"text-align: right;\">\n",
       "      <th></th>\n",
       "      <th>jp_sales</th>\n",
       "    </tr>\n",
       "    <tr>\n",
       "      <th>rating</th>\n",
       "      <th></th>\n",
       "    </tr>\n",
       "  </thead>\n",
       "  <tbody>\n",
       "    <tr>\n",
       "      <th>RP</th>\n",
       "      <td>85.05</td>\n",
       "    </tr>\n",
       "    <tr>\n",
       "      <th>T</th>\n",
       "      <td>20.59</td>\n",
       "    </tr>\n",
       "    <tr>\n",
       "      <th>E</th>\n",
       "      <td>15.14</td>\n",
       "    </tr>\n",
       "    <tr>\n",
       "      <th>M</th>\n",
       "      <td>14.11</td>\n",
       "    </tr>\n",
       "    <tr>\n",
       "      <th>E10+</th>\n",
       "      <td>5.89</td>\n",
       "    </tr>\n",
       "  </tbody>\n",
       "</table>\n",
       "</div>"
      ],
      "text/plain": [
       "        jp_sales\n",
       "rating          \n",
       "RP         85.05\n",
       "T          20.59\n",
       "E          15.14\n",
       "M          14.11\n",
       "E10+        5.89"
      ]
     },
     "execution_count": 45,
     "metadata": {},
     "output_type": "execute_result"
    }
   ],
   "source": [
    "df_actual.pivot_table(index='rating', values='jp_sales',aggfunc='sum').sort_values(by = 'jp_sales', ascending = False)"
   ]
  },
  {
   "cell_type": "code",
   "execution_count": 46,
   "metadata": {},
   "outputs": [
    {
     "data": {
      "text/html": [
       "<div>\n",
       "<style scoped>\n",
       "    .dataframe tbody tr th:only-of-type {\n",
       "        vertical-align: middle;\n",
       "    }\n",
       "\n",
       "    .dataframe tbody tr th {\n",
       "        vertical-align: top;\n",
       "    }\n",
       "\n",
       "    .dataframe thead th {\n",
       "        text-align: right;\n",
       "    }\n",
       "</style>\n",
       "<table border=\"1\" class=\"dataframe\">\n",
       "  <thead>\n",
       "    <tr style=\"text-align: right;\">\n",
       "      <th></th>\n",
       "      <th>eu_sales</th>\n",
       "    </tr>\n",
       "    <tr>\n",
       "      <th>rating</th>\n",
       "      <th></th>\n",
       "    </tr>\n",
       "  </thead>\n",
       "  <tbody>\n",
       "    <tr>\n",
       "      <th>M</th>\n",
       "      <td>145.32</td>\n",
       "    </tr>\n",
       "    <tr>\n",
       "      <th>E</th>\n",
       "      <td>83.36</td>\n",
       "    </tr>\n",
       "    <tr>\n",
       "      <th>RP</th>\n",
       "      <td>78.91</td>\n",
       "    </tr>\n",
       "    <tr>\n",
       "      <th>E10+</th>\n",
       "      <td>42.69</td>\n",
       "    </tr>\n",
       "    <tr>\n",
       "      <th>T</th>\n",
       "      <td>41.95</td>\n",
       "    </tr>\n",
       "  </tbody>\n",
       "</table>\n",
       "</div>"
      ],
      "text/plain": [
       "        eu_sales\n",
       "rating          \n",
       "M         145.32\n",
       "E          83.36\n",
       "RP         78.91\n",
       "E10+       42.69\n",
       "T          41.95"
      ]
     },
     "execution_count": 46,
     "metadata": {},
     "output_type": "execute_result"
    }
   ],
   "source": [
    "df_actual.pivot_table(index='rating', values='eu_sales',aggfunc='sum').sort_values(by = 'eu_sales', ascending = False)"
   ]
  },
  {
   "cell_type": "code",
   "execution_count": 47,
   "metadata": {},
   "outputs": [
    {
     "data": {
      "text/html": [
       "<div>\n",
       "<style scoped>\n",
       "    .dataframe tbody tr th:only-of-type {\n",
       "        vertical-align: middle;\n",
       "    }\n",
       "\n",
       "    .dataframe tbody tr th {\n",
       "        vertical-align: top;\n",
       "    }\n",
       "\n",
       "    .dataframe thead th {\n",
       "        text-align: right;\n",
       "    }\n",
       "</style>\n",
       "<table border=\"1\" class=\"dataframe\">\n",
       "  <thead>\n",
       "    <tr style=\"text-align: right;\">\n",
       "      <th></th>\n",
       "      <th>na_sales</th>\n",
       "    </tr>\n",
       "    <tr>\n",
       "      <th>rating</th>\n",
       "      <th></th>\n",
       "    </tr>\n",
       "  </thead>\n",
       "  <tbody>\n",
       "    <tr>\n",
       "      <th>M</th>\n",
       "      <td>165.21</td>\n",
       "    </tr>\n",
       "    <tr>\n",
       "      <th>RP</th>\n",
       "      <td>89.42</td>\n",
       "    </tr>\n",
       "    <tr>\n",
       "      <th>E</th>\n",
       "      <td>79.05</td>\n",
       "    </tr>\n",
       "    <tr>\n",
       "      <th>E10+</th>\n",
       "      <td>54.24</td>\n",
       "    </tr>\n",
       "    <tr>\n",
       "      <th>T</th>\n",
       "      <td>49.79</td>\n",
       "    </tr>\n",
       "  </tbody>\n",
       "</table>\n",
       "</div>"
      ],
      "text/plain": [
       "        na_sales\n",
       "rating          \n",
       "M         165.21\n",
       "RP         89.42\n",
       "E          79.05\n",
       "E10+       54.24\n",
       "T          49.79"
      ]
     },
     "execution_count": 47,
     "metadata": {},
     "output_type": "execute_result"
    }
   ],
   "source": [
    "df_actual.pivot_table(index='rating', values='na_sales',aggfunc='sum').sort_values(by = 'na_sales', ascending = False)"
   ]
  },
  {
   "cell_type": "markdown",
   "metadata": {},
   "source": [
    "\n",
    "\n",
    "По рейтингу ESRB ситуация сопоставима с жанрами. Для США и Европы почти половину доли продаж приходится на игры с ретийнгом М.\n",
    "В то время как на Японском рынке доли распределены более равномерно"
   ]
  },
  {
   "cell_type": "markdown",
   "metadata": {},
   "source": [
    "\n",
    "\n",
    "Не знал, что pivot устраняет пустые значения. Заполнил пустоты значением RP. Или здесь можно было заполнить E...\n",
    "Если честно, здесь мне непонятно, почему появились пропуски в рейтинге. Игру либо не оценивали, либо не нашлось данных в открытых источниках.\n",
    "    \n",
    "В целом, можно сделать вывод что продажи игр по рейтингу в США и Европе совпадают. Т.е. ТОП рейтингов для этих рынков одинаков.\n",
    "Игроки этих рынков предпочитаю игры для взрослых...\n",
    "В то время как в Японии наоборот на первое место выходят игры для подростков\n",
    "    "
   ]
  },
  {
   "cell_type": "markdown",
   "metadata": {},
   "source": [
    "## Проверка гипотез"
   ]
  },
  {
   "cell_type": "code",
   "execution_count": 48,
   "metadata": {},
   "outputs": [
    {
     "name": "stdout",
     "output_type": "stream",
     "text": [
      "34\n",
      "65\n"
     ]
    }
   ],
   "source": [
    "#подготовка выборок для анализа p-value\n",
    "df_actual.query('platform == \"PC\"')\n",
    "pc = df_actual.query('platform == \"PC\"')\n",
    "pc = pc['user_score']\n",
    "x_one = df_actual.query('platform == \"XOne\"')\n",
    "x_one = x_one['user_score']\n",
    "print(pc.isna().sum())\n",
    "print(x_one.isna().sum())\n",
    "pc = pc.dropna()\n",
    "x_one = x_one.dropna()\n",
    "\n",
    "alpha = .05"
   ]
  },
  {
   "cell_type": "code",
   "execution_count": 49,
   "metadata": {},
   "outputs": [
    {
     "name": "stdout",
     "output_type": "stream",
     "text": [
      "p-значение: 0.14759594013430463\n",
      "Не получилось отвергнуть нулевую гипотезу\n"
     ]
    }
   ],
   "source": [
    "results = st.ttest_ind(\n",
    "    pc, \n",
    "    x_one, equal_var = False)\n",
    "\n",
    "print('p-значение:', results.pvalue)\n",
    "\n",
    "if results.pvalue < alpha:\n",
    "    print(\"Отвергаем нулевую гипотезу\")\n",
    "else:\n",
    "    print(\"Не получилось отвергнуть нулевую гипотезу\")"
   ]
  },
  {
   "cell_type": "markdown",
   "metadata": {},
   "source": [
    "\n",
    "\n",
    "Нулевая гипотеза звучит так: средний пользовательский рейтинг игр на платформе xbox равен среднему пользовательскому рейтингу платформы pc. \n",
    "Альтернативная гипотеза звучит так: средний пользовательский рейтинг игр на платформе xbox не равен среднему пользовательскому рейтингу платформы pc.     \n",
    "\n",
    "В нашем случае, мы сравниваем две генеральные совокупности. Из-за пустых значений, количество данных в выборке различается.\n",
    "Поэтому в подсчете теста методом st.ttest_ind, указал параметр equal_var = False\n",
    "Полученное значение p-value больше параметра alpha. Следовательно, нулевую гипотезу не получилось отвергнуть\n",
    "   "
   ]
  },
  {
   "cell_type": "code",
   "execution_count": 50,
   "metadata": {},
   "outputs": [
    {
     "name": "stdout",
     "output_type": "stream",
     "text": [
      "377\n",
      "54\n"
     ]
    }
   ],
   "source": [
    "#подготовка выборок для анализа p-value\n",
    "action = df_actual.query('genre == \"Action\"')\n",
    "action = action['user_score']\n",
    "sports = df_actual.query('genre == \"Sports\"')\n",
    "sports = sports['user_score']\n",
    "print(action.isna().sum())\n",
    "print(sports.isna().sum())\n",
    "\n",
    "\n"
   ]
  },
  {
   "cell_type": "code",
   "execution_count": 51,
   "metadata": {},
   "outputs": [
    {
     "name": "stdout",
     "output_type": "stream",
     "text": [
      "p-значение: 1.4460039700704315e-20\n",
      "Отвергаем нулевую гипотезу\n"
     ]
    }
   ],
   "source": [
    "action = action.dropna()\n",
    "sports = sports.dropna()\n",
    "alpha = .05\n",
    "results = st.ttest_ind(\n",
    "    action, \n",
    "    sports, equal_var = False)\n",
    "\n",
    "print('p-значение:', results.pvalue)\n",
    "\n",
    "if results.pvalue < alpha:\n",
    "    print(\"Отвергаем нулевую гипотезу\")\n",
    "else:\n",
    "    print(\"Не получилось отвергнуть нулевую гипотезу\")"
   ]
  },
  {
   "cell_type": "markdown",
   "metadata": {},
   "source": [
    "\n",
    "\n",
    "Нулевая гипотеза звучит так: средний пользовательский рейтинг игр жанра Action равен среднему рейтингу жанра Sports.\n",
    "Альтернативная гипотеза звучит так: средний пользовательский рейтинг игр жанра Action отличается от среднего рейтинга жанра Sports.  \n",
    "    \n",
    "Тест аналогичен предыдущему. p-value > alpha, поэтому нулевую гипотезу отвергаем\n",
    "    "
   ]
  },
  {
   "cell_type": "markdown",
   "metadata": {},
   "source": [
    "## Общий вывод"
   ]
  },
  {
   "cell_type": "markdown",
   "metadata": {},
   "source": [
    "Была проделана работа по исследованию продаваемости игр.\n",
    "Обработаны пропуски в данных, типы данных приведены к необходимым для исследования.\n",
    "\n",
    "По результату исследования за весь период, было принято решение формировать план продаж, исходя из выборки за последние 4 года.\n",
    "Средний срок актуальности платформы составляет около 10 лет, последние 4 года позволяют определить актуальные платформы.\n",
    "\n",
    "Проведен анализ зависимости продаж от пользовательских оценок и оценок критиков, который показал, что оценки пользователей не влияют на продажи, а между оценками критиков и продажами зависимость хоть и больше, но также слабая.\n",
    "\n",
    "Японский рынок продаж кардинально отличается от европейского и США. В нем преобладают платформы и жанры игр, отличные от США и Европы. \n",
    "\n",
    "Для открытия интернет-магазина необходимо ориентироваться на европейский рынок. Лучше всего продаются игры на платформах PS4, PS3, Xone, X360 и 3DS.\n",
    "\n",
    "По жанрам наибольшие продажи приносят игры экшн, шутеры, спортивные и ролевые игры. \n",
    "Рейтинг M является самым продаваемым на европейском рынке. \n",
    "\n",
    "    \n",
    "    \n"
   ]
  }
 ],
 "metadata": {
  "ExecuteTimeLog": [
   {
    "duration": 540,
    "start_time": "2022-09-20T04:00:14.086Z"
   },
   {
    "duration": 124,
    "start_time": "2022-09-20T04:03:48.768Z"
   },
   {
    "duration": 431,
    "start_time": "2022-09-20T04:04:25.692Z"
   },
   {
    "duration": 68,
    "start_time": "2022-09-20T04:04:55.388Z"
   },
   {
    "duration": 74,
    "start_time": "2022-09-20T04:06:44.807Z"
   },
   {
    "duration": 68,
    "start_time": "2022-09-20T04:07:00.462Z"
   },
   {
    "duration": 58,
    "start_time": "2022-09-20T04:07:07.934Z"
   },
   {
    "duration": 64,
    "start_time": "2022-09-20T04:07:16.253Z"
   },
   {
    "duration": 83,
    "start_time": "2022-09-20T04:07:30.695Z"
   },
   {
    "duration": 67,
    "start_time": "2022-09-20T04:07:45.856Z"
   },
   {
    "duration": 70,
    "start_time": "2022-09-20T04:07:52.695Z"
   },
   {
    "duration": 12,
    "start_time": "2022-09-20T04:09:21.121Z"
   },
   {
    "duration": 8,
    "start_time": "2022-09-20T04:44:41.664Z"
   },
   {
    "duration": 13,
    "start_time": "2022-09-20T04:44:51.346Z"
   },
   {
    "duration": 56,
    "start_time": "2022-09-20T04:51:13.077Z"
   },
   {
    "duration": 24,
    "start_time": "2022-09-20T04:53:19.025Z"
   },
   {
    "duration": 19,
    "start_time": "2022-09-20T04:54:04.026Z"
   },
   {
    "duration": 18,
    "start_time": "2022-09-20T04:54:09.093Z"
   },
   {
    "duration": 11,
    "start_time": "2022-09-20T04:54:38.254Z"
   },
   {
    "duration": 21,
    "start_time": "2022-09-20T04:54:47.224Z"
   },
   {
    "duration": 33,
    "start_time": "2022-09-20T04:55:58.167Z"
   },
   {
    "duration": 20,
    "start_time": "2022-09-20T04:58:39.408Z"
   },
   {
    "duration": 13,
    "start_time": "2022-09-20T04:58:45.270Z"
   },
   {
    "duration": 523,
    "start_time": "2022-09-20T04:59:08.996Z"
   },
   {
    "duration": 24,
    "start_time": "2022-09-20T04:59:09.520Z"
   },
   {
    "duration": 87,
    "start_time": "2022-09-20T04:59:09.545Z"
   },
   {
    "duration": 14,
    "start_time": "2022-09-20T04:59:28.133Z"
   },
   {
    "duration": 13,
    "start_time": "2022-09-20T04:59:38.389Z"
   },
   {
    "duration": 13,
    "start_time": "2022-09-20T04:59:50.476Z"
   },
   {
    "duration": 13,
    "start_time": "2022-09-20T05:00:00.853Z"
   },
   {
    "duration": 425,
    "start_time": "2022-09-20T05:00:15.170Z"
   },
   {
    "duration": 26,
    "start_time": "2022-09-20T05:00:15.597Z"
   },
   {
    "duration": 42,
    "start_time": "2022-09-20T05:00:15.628Z"
   },
   {
    "duration": 22,
    "start_time": "2022-09-20T05:02:58.972Z"
   },
   {
    "duration": 27,
    "start_time": "2022-09-20T05:04:37.754Z"
   },
   {
    "duration": 16,
    "start_time": "2022-09-20T05:05:40.160Z"
   },
   {
    "duration": 11,
    "start_time": "2022-09-20T05:32:39.271Z"
   },
   {
    "duration": 16,
    "start_time": "2022-09-20T05:33:37.232Z"
   },
   {
    "duration": 126,
    "start_time": "2022-09-20T05:34:24.408Z"
   },
   {
    "duration": 16,
    "start_time": "2022-09-20T05:53:30.883Z"
   },
   {
    "duration": 13,
    "start_time": "2022-09-20T05:53:45.937Z"
   },
   {
    "duration": 11,
    "start_time": "2022-09-20T05:54:07.434Z"
   },
   {
    "duration": 19,
    "start_time": "2022-09-20T05:54:15.053Z"
   },
   {
    "duration": 22,
    "start_time": "2022-09-20T05:54:34.986Z"
   },
   {
    "duration": 18,
    "start_time": "2022-09-20T05:54:52.266Z"
   },
   {
    "duration": 1912,
    "start_time": "2022-09-20T05:55:30.786Z"
   },
   {
    "duration": 1145,
    "start_time": "2022-09-20T05:55:48.642Z"
   },
   {
    "duration": 239,
    "start_time": "2022-09-20T05:56:38.403Z"
   },
   {
    "duration": 265,
    "start_time": "2022-09-20T06:00:58.064Z"
   },
   {
    "duration": 221,
    "start_time": "2022-09-20T06:01:07.566Z"
   },
   {
    "duration": 8,
    "start_time": "2022-09-20T06:01:27.757Z"
   },
   {
    "duration": 19,
    "start_time": "2022-09-20T06:01:34.268Z"
   },
   {
    "duration": 10,
    "start_time": "2022-09-20T06:02:27.197Z"
   },
   {
    "duration": 10,
    "start_time": "2022-09-20T06:02:41.868Z"
   },
   {
    "duration": 18,
    "start_time": "2022-09-20T06:02:57.436Z"
   },
   {
    "duration": 427,
    "start_time": "2022-09-20T06:03:13.578Z"
   },
   {
    "duration": 32,
    "start_time": "2022-09-20T06:03:14.007Z"
   },
   {
    "duration": 22,
    "start_time": "2022-09-20T06:03:14.041Z"
   },
   {
    "duration": 10,
    "start_time": "2022-09-20T06:05:43.656Z"
   },
   {
    "duration": 48,
    "start_time": "2022-09-21T03:46:01.750Z"
   },
   {
    "duration": 509,
    "start_time": "2022-09-21T03:46:09.223Z"
   },
   {
    "duration": 22,
    "start_time": "2022-09-21T03:46:09.734Z"
   },
   {
    "duration": 14,
    "start_time": "2022-09-21T03:46:09.758Z"
   },
   {
    "duration": 15,
    "start_time": "2022-09-21T03:46:09.774Z"
   },
   {
    "duration": 4,
    "start_time": "2022-09-21T03:47:01.205Z"
   },
   {
    "duration": 5,
    "start_time": "2022-09-21T03:50:02.270Z"
   },
   {
    "duration": 4,
    "start_time": "2022-09-21T03:54:03.066Z"
   },
   {
    "duration": 5,
    "start_time": "2022-09-21T03:54:09.706Z"
   },
   {
    "duration": 6,
    "start_time": "2022-09-21T04:35:33.751Z"
   },
   {
    "duration": 17,
    "start_time": "2022-09-21T04:35:43.772Z"
   },
   {
    "duration": 926,
    "start_time": "2022-09-21T05:11:18.035Z"
   },
   {
    "duration": 335,
    "start_time": "2022-09-21T05:11:37.164Z"
   },
   {
    "duration": 403,
    "start_time": "2022-09-21T05:14:25.390Z"
   },
   {
    "duration": 528,
    "start_time": "2022-09-21T05:14:38.733Z"
   },
   {
    "duration": 341,
    "start_time": "2022-09-21T05:14:54.956Z"
   },
   {
    "duration": 324,
    "start_time": "2022-09-21T05:15:01.389Z"
   },
   {
    "duration": 347,
    "start_time": "2022-09-21T05:15:21.492Z"
   },
   {
    "duration": 354,
    "start_time": "2022-09-21T05:15:31.093Z"
   },
   {
    "duration": 1501,
    "start_time": "2022-09-21T05:16:49.685Z"
   },
   {
    "duration": 653,
    "start_time": "2022-09-21T05:17:05.773Z"
   },
   {
    "duration": 257,
    "start_time": "2022-09-21T05:17:16.949Z"
   },
   {
    "duration": 175,
    "start_time": "2022-09-21T05:23:45.558Z"
   },
   {
    "duration": 189,
    "start_time": "2022-09-21T05:24:11.775Z"
   },
   {
    "duration": 194,
    "start_time": "2022-09-21T05:26:28.408Z"
   },
   {
    "duration": 170,
    "start_time": "2022-09-21T05:26:37.616Z"
   },
   {
    "duration": 172,
    "start_time": "2022-09-21T05:26:44.287Z"
   },
   {
    "duration": 16,
    "start_time": "2022-09-21T05:29:16.880Z"
   },
   {
    "duration": 180,
    "start_time": "2022-09-21T05:30:14.415Z"
   },
   {
    "duration": 191,
    "start_time": "2022-09-21T05:30:39.601Z"
   },
   {
    "duration": 168,
    "start_time": "2022-09-21T05:30:46.665Z"
   },
   {
    "duration": 52,
    "start_time": "2022-09-21T05:42:33.457Z"
   },
   {
    "duration": 27,
    "start_time": "2022-09-21T05:42:41.711Z"
   },
   {
    "duration": 196,
    "start_time": "2022-09-21T05:43:10.291Z"
   },
   {
    "duration": 231,
    "start_time": "2022-09-21T05:43:24.007Z"
   },
   {
    "duration": 18,
    "start_time": "2022-09-21T05:43:40.497Z"
   },
   {
    "duration": 291,
    "start_time": "2022-09-21T05:43:47.179Z"
   },
   {
    "duration": 3865,
    "start_time": "2022-09-21T05:43:56.376Z"
   },
   {
    "duration": 748,
    "start_time": "2022-09-21T05:53:17.254Z"
   },
   {
    "duration": 229,
    "start_time": "2022-09-21T05:53:29.893Z"
   },
   {
    "duration": 227,
    "start_time": "2022-09-21T05:53:48.445Z"
   },
   {
    "duration": 23,
    "start_time": "2022-09-21T05:59:21.143Z"
   },
   {
    "duration": 16,
    "start_time": "2022-09-21T05:59:45.902Z"
   },
   {
    "duration": 17,
    "start_time": "2022-09-21T06:02:07.408Z"
   },
   {
    "duration": 17,
    "start_time": "2022-09-21T06:02:20.251Z"
   },
   {
    "duration": 16,
    "start_time": "2022-09-21T06:02:31.049Z"
   },
   {
    "duration": 172,
    "start_time": "2022-09-21T06:02:36.272Z"
   },
   {
    "duration": 16,
    "start_time": "2022-09-21T06:02:39.480Z"
   },
   {
    "duration": 16,
    "start_time": "2022-09-21T06:02:46.705Z"
   },
   {
    "duration": 31,
    "start_time": "2022-09-21T06:04:09.058Z"
   },
   {
    "duration": 41,
    "start_time": "2022-09-21T06:04:47.905Z"
   },
   {
    "duration": 32,
    "start_time": "2022-09-21T06:04:59.121Z"
   },
   {
    "duration": 655,
    "start_time": "2022-09-21T06:05:04.713Z"
   },
   {
    "duration": 372,
    "start_time": "2022-09-21T06:05:18.424Z"
   },
   {
    "duration": 388,
    "start_time": "2022-09-21T06:05:36.305Z"
   },
   {
    "duration": 272,
    "start_time": "2022-09-21T06:05:47.809Z"
   },
   {
    "duration": 147,
    "start_time": "2022-09-21T06:14:07.369Z"
   },
   {
    "duration": 146,
    "start_time": "2022-09-21T06:14:52.210Z"
   },
   {
    "duration": 526,
    "start_time": "2022-09-21T06:14:59.745Z"
   },
   {
    "duration": 217,
    "start_time": "2022-09-21T06:16:41.633Z"
   },
   {
    "duration": 209,
    "start_time": "2022-09-21T06:16:51.698Z"
   },
   {
    "duration": 337,
    "start_time": "2022-09-21T06:17:08.457Z"
   },
   {
    "duration": 330,
    "start_time": "2022-09-21T06:17:18.610Z"
   },
   {
    "duration": 331,
    "start_time": "2022-09-21T06:17:29.281Z"
   },
   {
    "duration": 975,
    "start_time": "2022-09-21T06:18:27.008Z"
   },
   {
    "duration": 588,
    "start_time": "2022-09-21T06:19:08.571Z"
   },
   {
    "duration": 646,
    "start_time": "2022-09-21T06:19:14.370Z"
   },
   {
    "duration": 538,
    "start_time": "2022-09-21T14:19:24.454Z"
   },
   {
    "duration": 20,
    "start_time": "2022-09-21T14:19:24.994Z"
   },
   {
    "duration": 14,
    "start_time": "2022-09-21T14:19:25.016Z"
   },
   {
    "duration": 22,
    "start_time": "2022-09-21T14:19:25.031Z"
   },
   {
    "duration": 5,
    "start_time": "2022-09-21T14:19:25.056Z"
   },
   {
    "duration": 9,
    "start_time": "2022-09-21T14:19:25.062Z"
   },
   {
    "duration": 22,
    "start_time": "2022-09-21T14:19:25.073Z"
   },
   {
    "duration": 663,
    "start_time": "2022-09-21T14:19:25.097Z"
   },
   {
    "duration": 17,
    "start_time": "2022-09-21T14:19:25.762Z"
   },
   {
    "duration": 549,
    "start_time": "2022-09-21T14:19:25.780Z"
   },
   {
    "duration": 600,
    "start_time": "2022-09-21T14:19:26.331Z"
   },
   {
    "duration": 11,
    "start_time": "2022-09-21T14:19:26.933Z"
   },
   {
    "duration": 34,
    "start_time": "2022-09-21T14:20:05.712Z"
   },
   {
    "duration": 5,
    "start_time": "2022-09-21T14:20:21.012Z"
   },
   {
    "duration": 15,
    "start_time": "2022-09-21T14:32:28.585Z"
   },
   {
    "duration": 25,
    "start_time": "2022-09-21T14:33:06.149Z"
   },
   {
    "duration": 146,
    "start_time": "2022-09-21T14:33:49.057Z"
   },
   {
    "duration": 154,
    "start_time": "2022-09-21T14:34:01.865Z"
   },
   {
    "duration": 19,
    "start_time": "2022-09-21T14:34:12.669Z"
   },
   {
    "duration": 46,
    "start_time": "2022-09-22T04:45:08.331Z"
   },
   {
    "duration": 481,
    "start_time": "2022-09-22T04:45:13.905Z"
   },
   {
    "duration": 19,
    "start_time": "2022-09-22T04:45:14.388Z"
   },
   {
    "duration": 21,
    "start_time": "2022-09-22T04:45:14.409Z"
   },
   {
    "duration": 37,
    "start_time": "2022-09-22T04:45:14.433Z"
   },
   {
    "duration": 19,
    "start_time": "2022-09-22T04:45:14.472Z"
   },
   {
    "duration": 24,
    "start_time": "2022-09-22T04:45:14.493Z"
   },
   {
    "duration": 45,
    "start_time": "2022-09-22T04:45:14.518Z"
   },
   {
    "duration": 548,
    "start_time": "2022-09-22T04:45:14.565Z"
   },
   {
    "duration": 16,
    "start_time": "2022-09-22T04:45:15.115Z"
   },
   {
    "duration": 563,
    "start_time": "2022-09-22T04:45:15.133Z"
   },
   {
    "duration": 542,
    "start_time": "2022-09-22T04:45:15.697Z"
   },
   {
    "duration": 20,
    "start_time": "2022-09-22T04:45:16.240Z"
   },
   {
    "duration": 221,
    "start_time": "2022-09-22T04:45:16.261Z"
   },
   {
    "duration": 191,
    "start_time": "2022-09-22T04:45:51.988Z"
   },
   {
    "duration": 129,
    "start_time": "2022-09-22T04:46:09.832Z"
   },
   {
    "duration": 203,
    "start_time": "2022-09-22T04:46:15.069Z"
   },
   {
    "duration": 170,
    "start_time": "2022-09-22T04:52:56.000Z"
   },
   {
    "duration": 10,
    "start_time": "2022-09-22T04:54:24.406Z"
   },
   {
    "duration": 439,
    "start_time": "2022-09-22T04:54:31.114Z"
   },
   {
    "duration": 18,
    "start_time": "2022-09-22T04:54:31.555Z"
   },
   {
    "duration": 13,
    "start_time": "2022-09-22T04:54:31.575Z"
   },
   {
    "duration": 14,
    "start_time": "2022-09-22T04:54:31.590Z"
   },
   {
    "duration": 5,
    "start_time": "2022-09-22T04:54:31.605Z"
   },
   {
    "duration": 6,
    "start_time": "2022-09-22T04:54:31.611Z"
   },
   {
    "duration": 17,
    "start_time": "2022-09-22T04:54:31.619Z"
   },
   {
    "duration": 399,
    "start_time": "2022-09-22T04:54:31.638Z"
   },
   {
    "duration": 16,
    "start_time": "2022-09-22T04:54:32.039Z"
   },
   {
    "duration": 466,
    "start_time": "2022-09-22T04:54:32.057Z"
   },
   {
    "duration": 456,
    "start_time": "2022-09-22T04:54:32.525Z"
   },
   {
    "duration": 23,
    "start_time": "2022-09-22T04:54:32.983Z"
   },
   {
    "duration": 242,
    "start_time": "2022-09-22T04:54:33.008Z"
   },
   {
    "duration": 11,
    "start_time": "2022-09-22T04:54:59.440Z"
   },
   {
    "duration": 429,
    "start_time": "2022-09-22T04:55:14.606Z"
   },
   {
    "duration": 20,
    "start_time": "2022-09-22T04:55:15.037Z"
   },
   {
    "duration": 13,
    "start_time": "2022-09-22T04:55:15.059Z"
   },
   {
    "duration": 14,
    "start_time": "2022-09-22T04:55:15.074Z"
   },
   {
    "duration": 4,
    "start_time": "2022-09-22T04:55:15.089Z"
   },
   {
    "duration": 7,
    "start_time": "2022-09-22T04:55:15.094Z"
   },
   {
    "duration": 19,
    "start_time": "2022-09-22T04:55:15.102Z"
   },
   {
    "duration": 410,
    "start_time": "2022-09-22T04:55:15.122Z"
   },
   {
    "duration": 17,
    "start_time": "2022-09-22T04:55:15.533Z"
   },
   {
    "duration": 496,
    "start_time": "2022-09-22T04:55:15.552Z"
   },
   {
    "duration": 454,
    "start_time": "2022-09-22T04:55:16.050Z"
   },
   {
    "duration": 18,
    "start_time": "2022-09-22T04:55:16.506Z"
   },
   {
    "duration": 232,
    "start_time": "2022-09-22T04:55:16.526Z"
   },
   {
    "duration": 150,
    "start_time": "2022-09-22T04:55:49.532Z"
   },
   {
    "duration": 163,
    "start_time": "2022-09-22T04:55:57.738Z"
   },
   {
    "duration": 173,
    "start_time": "2022-09-22T05:04:21.789Z"
   },
   {
    "duration": 180,
    "start_time": "2022-09-22T05:04:51.262Z"
   },
   {
    "duration": 202,
    "start_time": "2022-09-22T05:05:05.292Z"
   },
   {
    "duration": 193,
    "start_time": "2022-09-22T05:05:25.336Z"
   },
   {
    "duration": 174,
    "start_time": "2022-09-22T05:05:47.391Z"
   },
   {
    "duration": 178,
    "start_time": "2022-09-22T05:06:04.359Z"
   },
   {
    "duration": 184,
    "start_time": "2022-09-22T05:06:29.975Z"
   },
   {
    "duration": 198,
    "start_time": "2022-09-22T05:07:19.464Z"
   },
   {
    "duration": 227,
    "start_time": "2022-09-22T05:07:32.696Z"
   },
   {
    "duration": 464,
    "start_time": "2022-09-22T05:07:50.539Z"
   },
   {
    "duration": 20,
    "start_time": "2022-09-22T05:07:51.005Z"
   },
   {
    "duration": 14,
    "start_time": "2022-09-22T05:07:51.026Z"
   },
   {
    "duration": 14,
    "start_time": "2022-09-22T05:07:51.041Z"
   },
   {
    "duration": 5,
    "start_time": "2022-09-22T05:07:51.056Z"
   },
   {
    "duration": 25,
    "start_time": "2022-09-22T05:07:51.062Z"
   },
   {
    "duration": 17,
    "start_time": "2022-09-22T05:07:51.089Z"
   },
   {
    "duration": 409,
    "start_time": "2022-09-22T05:07:51.108Z"
   },
   {
    "duration": 16,
    "start_time": "2022-09-22T05:07:51.519Z"
   },
   {
    "duration": 482,
    "start_time": "2022-09-22T05:07:51.537Z"
   },
   {
    "duration": 478,
    "start_time": "2022-09-22T05:07:52.021Z"
   },
   {
    "duration": 19,
    "start_time": "2022-09-22T05:07:52.501Z"
   },
   {
    "duration": 210,
    "start_time": "2022-09-22T05:07:52.521Z"
   },
   {
    "duration": 180,
    "start_time": "2022-09-22T05:07:52.733Z"
   },
   {
    "duration": 174,
    "start_time": "2022-09-22T05:07:52.914Z"
   },
   {
    "duration": 159,
    "start_time": "2022-09-22T05:07:53.090Z"
   },
   {
    "duration": 184,
    "start_time": "2022-09-22T05:07:53.251Z"
   },
   {
    "duration": 181,
    "start_time": "2022-09-22T05:07:53.437Z"
   },
   {
    "duration": 167,
    "start_time": "2022-09-22T05:07:53.620Z"
   },
   {
    "duration": 161,
    "start_time": "2022-09-22T05:07:53.789Z"
   },
   {
    "duration": 164,
    "start_time": "2022-09-22T05:07:53.951Z"
   },
   {
    "duration": 162,
    "start_time": "2022-09-22T05:07:54.117Z"
   },
   {
    "duration": 27,
    "start_time": "2022-09-22T05:08:56.160Z"
   },
   {
    "duration": 173,
    "start_time": "2022-09-22T05:09:38.690Z"
   },
   {
    "duration": 269,
    "start_time": "2022-09-22T05:09:45.142Z"
   },
   {
    "duration": 166,
    "start_time": "2022-09-22T05:09:58.135Z"
   },
   {
    "duration": 214,
    "start_time": "2022-09-22T05:10:15.414Z"
   },
   {
    "duration": 169,
    "start_time": "2022-09-22T05:10:22.683Z"
   },
   {
    "duration": 168,
    "start_time": "2022-09-22T05:10:31.271Z"
   },
   {
    "duration": 192,
    "start_time": "2022-09-22T05:10:46.472Z"
   },
   {
    "duration": 165,
    "start_time": "2022-09-22T05:11:03.602Z"
   },
   {
    "duration": 175,
    "start_time": "2022-09-22T05:11:08.664Z"
   },
   {
    "duration": 183,
    "start_time": "2022-09-22T05:11:21.432Z"
   },
   {
    "duration": 170,
    "start_time": "2022-09-22T05:11:32.730Z"
   },
   {
    "duration": 170,
    "start_time": "2022-09-22T05:11:49.032Z"
   },
   {
    "duration": 154,
    "start_time": "2022-09-22T05:11:59.720Z"
   },
   {
    "duration": 236,
    "start_time": "2022-09-22T05:12:21.610Z"
   },
   {
    "duration": 165,
    "start_time": "2022-09-22T05:12:33.656Z"
   },
   {
    "duration": 219,
    "start_time": "2022-09-22T05:31:03.905Z"
   },
   {
    "duration": 126,
    "start_time": "2022-09-22T05:31:09.364Z"
   },
   {
    "duration": 223,
    "start_time": "2022-09-22T05:31:27.322Z"
   },
   {
    "duration": 10,
    "start_time": "2022-09-22T05:31:50.226Z"
   },
   {
    "duration": 45,
    "start_time": "2022-09-22T05:40:56.427Z"
   },
   {
    "duration": 173,
    "start_time": "2022-09-22T05:41:09.915Z"
   },
   {
    "duration": 207,
    "start_time": "2022-09-22T05:42:57.643Z"
   },
   {
    "duration": 1207,
    "start_time": "2022-09-22T05:49:47.845Z"
   },
   {
    "duration": 15,
    "start_time": "2022-09-22T05:49:49.055Z"
   },
   {
    "duration": 43,
    "start_time": "2022-09-22T05:49:49.071Z"
   },
   {
    "duration": 14,
    "start_time": "2022-09-22T05:49:49.116Z"
   },
   {
    "duration": 4,
    "start_time": "2022-09-22T05:49:49.131Z"
   },
   {
    "duration": 7,
    "start_time": "2022-09-22T05:49:49.136Z"
   },
   {
    "duration": 19,
    "start_time": "2022-09-22T05:49:49.144Z"
   },
   {
    "duration": 190,
    "start_time": "2022-09-22T05:49:49.165Z"
   },
   {
    "duration": 31,
    "start_time": "2022-09-22T05:49:49.356Z"
   },
   {
    "duration": 518,
    "start_time": "2022-09-22T05:49:49.394Z"
   },
   {
    "duration": 520,
    "start_time": "2022-09-22T05:49:49.913Z"
   },
   {
    "duration": 19,
    "start_time": "2022-09-22T05:49:50.435Z"
   },
   {
    "duration": 186,
    "start_time": "2022-09-22T05:49:50.455Z"
   },
   {
    "duration": 193,
    "start_time": "2022-09-22T05:49:50.643Z"
   },
   {
    "duration": 188,
    "start_time": "2022-09-22T05:49:50.838Z"
   },
   {
    "duration": 195,
    "start_time": "2022-09-22T05:49:51.028Z"
   },
   {
    "duration": 263,
    "start_time": "2022-09-22T05:49:51.225Z"
   },
   {
    "duration": 182,
    "start_time": "2022-09-22T05:49:51.492Z"
   },
   {
    "duration": 180,
    "start_time": "2022-09-22T05:49:51.677Z"
   },
   {
    "duration": 187,
    "start_time": "2022-09-22T05:49:51.858Z"
   },
   {
    "duration": 186,
    "start_time": "2022-09-22T05:49:52.046Z"
   },
   {
    "duration": 181,
    "start_time": "2022-09-22T05:49:52.233Z"
   },
   {
    "duration": 130,
    "start_time": "2022-09-22T05:49:52.416Z"
   },
   {
    "duration": 13,
    "start_time": "2022-09-22T05:50:23.641Z"
   },
   {
    "duration": 33,
    "start_time": "2022-09-22T05:50:34.875Z"
   },
   {
    "duration": 168,
    "start_time": "2022-09-22T05:50:47.746Z"
   },
   {
    "duration": 6,
    "start_time": "2022-09-22T05:51:30.858Z"
   },
   {
    "duration": 6,
    "start_time": "2022-09-22T05:51:38.730Z"
   },
   {
    "duration": 6,
    "start_time": "2022-09-22T05:53:30.809Z"
   },
   {
    "duration": 250,
    "start_time": "2022-09-22T05:53:52.101Z"
   },
   {
    "duration": 240,
    "start_time": "2022-09-22T05:54:50.842Z"
   },
   {
    "duration": 344,
    "start_time": "2022-09-22T05:54:57.003Z"
   },
   {
    "duration": 162,
    "start_time": "2022-09-22T05:55:11.147Z"
   },
   {
    "duration": 254,
    "start_time": "2022-09-22T05:55:23.514Z"
   },
   {
    "duration": 121,
    "start_time": "2022-09-22T05:57:14.635Z"
   },
   {
    "duration": 135,
    "start_time": "2022-09-22T05:58:45.790Z"
   },
   {
    "duration": 118,
    "start_time": "2022-09-22T05:58:57.798Z"
   },
   {
    "duration": 141,
    "start_time": "2022-09-22T05:59:16.756Z"
   },
   {
    "duration": 115,
    "start_time": "2022-09-22T05:59:38.006Z"
   },
   {
    "duration": 3,
    "start_time": "2022-09-22T06:01:40.052Z"
   },
   {
    "duration": 18,
    "start_time": "2022-09-22T06:01:47.206Z"
   },
   {
    "duration": 239,
    "start_time": "2022-09-22T06:02:05.505Z"
   },
   {
    "duration": 10,
    "start_time": "2022-09-22T06:02:33.412Z"
   },
   {
    "duration": 16,
    "start_time": "2022-09-22T06:02:41.648Z"
   },
   {
    "duration": 24,
    "start_time": "2022-09-22T06:02:51.380Z"
   },
   {
    "duration": 114,
    "start_time": "2022-09-22T06:03:04.228Z"
   },
   {
    "duration": 109,
    "start_time": "2022-09-22T06:05:59.260Z"
   },
   {
    "duration": 121,
    "start_time": "2022-09-22T06:06:05.572Z"
   },
   {
    "duration": 238,
    "start_time": "2022-09-22T06:06:15.709Z"
   },
   {
    "duration": 67,
    "start_time": "2022-09-22T06:08:54.080Z"
   },
   {
    "duration": 224,
    "start_time": "2022-09-22T06:09:01.925Z"
   },
   {
    "duration": 16,
    "start_time": "2022-09-22T06:09:27.651Z"
   },
   {
    "duration": 236,
    "start_time": "2022-09-22T06:09:39.613Z"
   },
   {
    "duration": 89,
    "start_time": "2022-09-22T06:10:26.501Z"
   },
   {
    "duration": 99,
    "start_time": "2022-09-22T06:10:31.557Z"
   },
   {
    "duration": 96,
    "start_time": "2022-09-22T06:10:42.593Z"
   },
   {
    "duration": 233,
    "start_time": "2022-09-22T06:11:05.261Z"
   },
   {
    "duration": 129,
    "start_time": "2022-09-22T06:11:15.392Z"
   },
   {
    "duration": 112,
    "start_time": "2022-09-22T06:11:46.141Z"
   },
   {
    "duration": 111,
    "start_time": "2022-09-22T06:13:17.950Z"
   },
   {
    "duration": 115,
    "start_time": "2022-09-22T06:13:37.676Z"
   },
   {
    "duration": 120,
    "start_time": "2022-09-22T06:13:50.534Z"
   },
   {
    "duration": 1219,
    "start_time": "2022-09-22T06:14:50.853Z"
   },
   {
    "duration": 21,
    "start_time": "2022-09-22T06:14:52.074Z"
   },
   {
    "duration": 16,
    "start_time": "2022-09-22T06:14:52.097Z"
   },
   {
    "duration": 14,
    "start_time": "2022-09-22T06:14:52.114Z"
   },
   {
    "duration": 6,
    "start_time": "2022-09-22T06:14:52.129Z"
   },
   {
    "duration": 7,
    "start_time": "2022-09-22T06:14:52.136Z"
   },
   {
    "duration": 44,
    "start_time": "2022-09-22T06:14:52.145Z"
   },
   {
    "duration": 171,
    "start_time": "2022-09-22T06:14:52.191Z"
   },
   {
    "duration": 25,
    "start_time": "2022-09-22T06:14:52.364Z"
   },
   {
    "duration": 498,
    "start_time": "2022-09-22T06:14:52.390Z"
   },
   {
    "duration": 464,
    "start_time": "2022-09-22T06:14:52.889Z"
   },
   {
    "duration": 30,
    "start_time": "2022-09-22T06:14:53.356Z"
   },
   {
    "duration": 163,
    "start_time": "2022-09-22T06:14:53.388Z"
   },
   {
    "duration": 186,
    "start_time": "2022-09-22T06:14:53.554Z"
   },
   {
    "duration": 175,
    "start_time": "2022-09-22T06:14:53.741Z"
   },
   {
    "duration": 205,
    "start_time": "2022-09-22T06:14:53.918Z"
   },
   {
    "duration": 250,
    "start_time": "2022-09-22T06:14:54.125Z"
   },
   {
    "duration": 185,
    "start_time": "2022-09-22T06:14:54.376Z"
   },
   {
    "duration": 171,
    "start_time": "2022-09-22T06:14:54.563Z"
   },
   {
    "duration": 171,
    "start_time": "2022-09-22T06:14:54.735Z"
   },
   {
    "duration": 175,
    "start_time": "2022-09-22T06:14:54.908Z"
   },
   {
    "duration": 189,
    "start_time": "2022-09-22T06:14:55.090Z"
   },
   {
    "duration": 144,
    "start_time": "2022-09-22T06:14:55.280Z"
   },
   {
    "duration": 135,
    "start_time": "2022-09-22T06:14:55.426Z"
   },
   {
    "duration": 124,
    "start_time": "2022-09-22T06:14:55.563Z"
   },
   {
    "duration": 98,
    "start_time": "2022-09-22T06:14:55.692Z"
   },
   {
    "duration": 124,
    "start_time": "2022-09-22T06:14:55.791Z"
   },
   {
    "duration": 118,
    "start_time": "2022-09-22T06:14:55.916Z"
   },
   {
    "duration": 119,
    "start_time": "2022-09-22T06:14:56.036Z"
   },
   {
    "duration": 1417,
    "start_time": "2022-09-23T04:39:48.441Z"
   },
   {
    "duration": 17,
    "start_time": "2022-09-23T04:39:49.860Z"
   },
   {
    "duration": 13,
    "start_time": "2022-09-23T04:39:49.879Z"
   },
   {
    "duration": 13,
    "start_time": "2022-09-23T04:39:49.894Z"
   },
   {
    "duration": 5,
    "start_time": "2022-09-23T04:39:49.909Z"
   },
   {
    "duration": 6,
    "start_time": "2022-09-23T04:39:49.915Z"
   },
   {
    "duration": 18,
    "start_time": "2022-09-23T04:39:49.954Z"
   },
   {
    "duration": 193,
    "start_time": "2022-09-23T04:39:49.973Z"
   },
   {
    "duration": 16,
    "start_time": "2022-09-23T04:39:50.167Z"
   },
   {
    "duration": 484,
    "start_time": "2022-09-23T04:39:50.185Z"
   },
   {
    "duration": 465,
    "start_time": "2022-09-23T04:39:50.671Z"
   },
   {
    "duration": 26,
    "start_time": "2022-09-23T04:39:51.138Z"
   },
   {
    "duration": 178,
    "start_time": "2022-09-23T04:39:51.166Z"
   },
   {
    "duration": 232,
    "start_time": "2022-09-23T04:39:51.353Z"
   },
   {
    "duration": 202,
    "start_time": "2022-09-23T04:39:51.587Z"
   },
   {
    "duration": 184,
    "start_time": "2022-09-23T04:39:51.791Z"
   },
   {
    "duration": 262,
    "start_time": "2022-09-23T04:39:51.977Z"
   },
   {
    "duration": 191,
    "start_time": "2022-09-23T04:39:52.241Z"
   },
   {
    "duration": 181,
    "start_time": "2022-09-23T04:39:52.434Z"
   },
   {
    "duration": 183,
    "start_time": "2022-09-23T04:39:52.617Z"
   },
   {
    "duration": 172,
    "start_time": "2022-09-23T04:39:52.802Z"
   },
   {
    "duration": 170,
    "start_time": "2022-09-23T04:39:52.975Z"
   },
   {
    "duration": 110,
    "start_time": "2022-09-23T04:39:53.147Z"
   },
   {
    "duration": 116,
    "start_time": "2022-09-23T04:39:53.259Z"
   },
   {
    "duration": 120,
    "start_time": "2022-09-23T04:39:53.377Z"
   },
   {
    "duration": 109,
    "start_time": "2022-09-23T04:39:53.499Z"
   },
   {
    "duration": 115,
    "start_time": "2022-09-23T04:39:53.610Z"
   },
   {
    "duration": 127,
    "start_time": "2022-09-23T04:39:53.727Z"
   },
   {
    "duration": 120,
    "start_time": "2022-09-23T04:39:53.856Z"
   },
   {
    "duration": 126,
    "start_time": "2022-09-23T04:39:53.977Z"
   },
   {
    "duration": 227,
    "start_time": "2022-09-23T04:40:47.745Z"
   },
   {
    "duration": 155,
    "start_time": "2022-09-23T04:41:21.225Z"
   },
   {
    "duration": 139,
    "start_time": "2022-09-23T04:42:48.709Z"
   },
   {
    "duration": 119,
    "start_time": "2022-09-23T04:42:56.090Z"
   },
   {
    "duration": 125,
    "start_time": "2022-09-23T04:43:19.401Z"
   },
   {
    "duration": 162,
    "start_time": "2022-09-23T04:43:33.936Z"
   },
   {
    "duration": 156,
    "start_time": "2022-09-23T04:44:01.154Z"
   },
   {
    "duration": 153,
    "start_time": "2022-09-23T04:44:07.241Z"
   },
   {
    "duration": 4,
    "start_time": "2022-09-23T04:46:43.923Z"
   },
   {
    "duration": 6,
    "start_time": "2022-09-23T04:46:49.451Z"
   },
   {
    "duration": 7,
    "start_time": "2022-09-23T04:47:06.675Z"
   },
   {
    "duration": 6,
    "start_time": "2022-09-23T04:47:17.450Z"
   },
   {
    "duration": 6,
    "start_time": "2022-09-23T04:47:21.026Z"
   },
   {
    "duration": 194,
    "start_time": "2022-09-23T05:07:10.712Z"
   },
   {
    "duration": 181,
    "start_time": "2022-09-23T05:07:40.487Z"
   },
   {
    "duration": 14,
    "start_time": "2022-09-23T05:09:22.824Z"
   },
   {
    "duration": 15,
    "start_time": "2022-09-23T05:09:33.030Z"
   },
   {
    "duration": 168,
    "start_time": "2022-09-23T05:24:38.741Z"
   },
   {
    "duration": 313,
    "start_time": "2022-09-23T05:25:29.798Z"
   },
   {
    "duration": 175,
    "start_time": "2022-09-23T05:25:40.569Z"
   },
   {
    "duration": 168,
    "start_time": "2022-09-23T05:25:56.601Z"
   },
   {
    "duration": 251,
    "start_time": "2022-09-23T05:26:13.482Z"
   },
   {
    "duration": 217,
    "start_time": "2022-09-23T05:26:27.953Z"
   },
   {
    "duration": 15,
    "start_time": "2022-09-23T05:26:52.545Z"
   },
   {
    "duration": 15,
    "start_time": "2022-09-23T05:27:18.401Z"
   },
   {
    "duration": 7,
    "start_time": "2022-09-23T05:40:37.254Z"
   },
   {
    "duration": 114,
    "start_time": "2022-09-23T05:41:10.856Z"
   },
   {
    "duration": 10,
    "start_time": "2022-09-23T05:41:24.087Z"
   },
   {
    "duration": 25,
    "start_time": "2022-09-23T05:42:08.990Z"
   },
   {
    "duration": 15,
    "start_time": "2022-09-23T05:42:19.968Z"
   },
   {
    "duration": 19,
    "start_time": "2022-09-23T05:42:34.607Z"
   },
   {
    "duration": 16,
    "start_time": "2022-09-23T05:42:44.767Z"
   },
   {
    "duration": 16,
    "start_time": "2022-09-23T05:43:46.088Z"
   },
   {
    "duration": 25,
    "start_time": "2022-09-23T05:43:56.927Z"
   },
   {
    "duration": 132,
    "start_time": "2022-09-23T05:44:03.159Z"
   },
   {
    "duration": 19,
    "start_time": "2022-09-23T05:44:25.305Z"
   },
   {
    "duration": 16,
    "start_time": "2022-09-23T05:44:58.375Z"
   },
   {
    "duration": 21,
    "start_time": "2022-09-23T05:45:03.376Z"
   },
   {
    "duration": 14,
    "start_time": "2022-09-23T05:45:09.144Z"
   },
   {
    "duration": 14,
    "start_time": "2022-09-23T06:24:36.828Z"
   },
   {
    "duration": 20,
    "start_time": "2022-09-23T06:24:51.666Z"
   },
   {
    "duration": 16,
    "start_time": "2022-09-23T06:25:01.128Z"
   },
   {
    "duration": 141,
    "start_time": "2022-09-23T06:28:24.154Z"
   },
   {
    "duration": 137,
    "start_time": "2022-09-23T06:28:51.044Z"
   },
   {
    "duration": 20,
    "start_time": "2022-09-23T06:29:41.476Z"
   },
   {
    "duration": 432,
    "start_time": "2022-09-23T06:29:57.905Z"
   },
   {
    "duration": 15,
    "start_time": "2022-09-23T06:31:08.035Z"
   },
   {
    "duration": 14,
    "start_time": "2022-09-23T06:31:15.335Z"
   },
   {
    "duration": 18,
    "start_time": "2022-09-23T06:31:24.043Z"
   },
   {
    "duration": 15,
    "start_time": "2022-09-23T06:31:29.570Z"
   },
   {
    "duration": 14,
    "start_time": "2022-09-23T06:31:43.883Z"
   },
   {
    "duration": 26,
    "start_time": "2022-09-23T06:56:29.263Z"
   },
   {
    "duration": 15,
    "start_time": "2022-09-23T06:57:06.708Z"
   },
   {
    "duration": 10,
    "start_time": "2022-09-23T06:57:10.681Z"
   },
   {
    "duration": 14,
    "start_time": "2022-09-23T06:57:38.426Z"
   },
   {
    "duration": 8,
    "start_time": "2022-09-23T06:57:45.794Z"
   },
   {
    "duration": 1267,
    "start_time": "2022-09-23T06:58:26.963Z"
   },
   {
    "duration": 20,
    "start_time": "2022-09-23T06:58:28.233Z"
   },
   {
    "duration": 17,
    "start_time": "2022-09-23T06:58:28.255Z"
   },
   {
    "duration": 16,
    "start_time": "2022-09-23T06:58:28.274Z"
   },
   {
    "duration": 5,
    "start_time": "2022-09-23T06:58:28.293Z"
   },
   {
    "duration": 10,
    "start_time": "2022-09-23T06:58:28.300Z"
   },
   {
    "duration": 49,
    "start_time": "2022-09-23T06:58:28.312Z"
   },
   {
    "duration": 203,
    "start_time": "2022-09-23T06:58:28.362Z"
   },
   {
    "duration": 18,
    "start_time": "2022-09-23T06:58:28.567Z"
   },
   {
    "duration": 526,
    "start_time": "2022-09-23T06:58:28.586Z"
   },
   {
    "duration": 505,
    "start_time": "2022-09-23T06:58:29.114Z"
   },
   {
    "duration": 20,
    "start_time": "2022-09-23T06:58:29.620Z"
   },
   {
    "duration": 187,
    "start_time": "2022-09-23T06:58:29.642Z"
   },
   {
    "duration": 189,
    "start_time": "2022-09-23T06:58:29.832Z"
   },
   {
    "duration": 182,
    "start_time": "2022-09-23T06:58:30.023Z"
   },
   {
    "duration": 191,
    "start_time": "2022-09-23T06:58:30.207Z"
   },
   {
    "duration": 285,
    "start_time": "2022-09-23T06:58:30.400Z"
   },
   {
    "duration": 192,
    "start_time": "2022-09-23T06:58:30.686Z"
   },
   {
    "duration": 193,
    "start_time": "2022-09-23T06:58:30.880Z"
   },
   {
    "duration": 188,
    "start_time": "2022-09-23T06:58:31.075Z"
   },
   {
    "duration": 202,
    "start_time": "2022-09-23T06:58:31.265Z"
   },
   {
    "duration": 228,
    "start_time": "2022-09-23T06:58:31.470Z"
   },
   {
    "duration": 132,
    "start_time": "2022-09-23T06:58:31.700Z"
   },
   {
    "duration": 144,
    "start_time": "2022-09-23T06:58:31.834Z"
   },
   {
    "duration": 136,
    "start_time": "2022-09-23T06:58:31.980Z"
   },
   {
    "duration": 114,
    "start_time": "2022-09-23T06:58:32.118Z"
   },
   {
    "duration": 130,
    "start_time": "2022-09-23T06:58:32.234Z"
   },
   {
    "duration": 136,
    "start_time": "2022-09-23T06:58:32.366Z"
   },
   {
    "duration": 120,
    "start_time": "2022-09-23T06:58:32.503Z"
   },
   {
    "duration": 148,
    "start_time": "2022-09-23T06:58:32.625Z"
   },
   {
    "duration": 236,
    "start_time": "2022-09-23T06:58:32.775Z"
   },
   {
    "duration": 171,
    "start_time": "2022-09-23T06:58:33.013Z"
   },
   {
    "duration": 161,
    "start_time": "2022-09-23T06:58:33.186Z"
   },
   {
    "duration": 9,
    "start_time": "2022-09-23T06:58:33.349Z"
   },
   {
    "duration": 7,
    "start_time": "2022-09-23T06:58:33.360Z"
   },
   {
    "duration": 20,
    "start_time": "2022-09-23T06:58:33.369Z"
   },
   {
    "duration": 26,
    "start_time": "2022-09-23T06:58:33.391Z"
   },
   {
    "duration": 42,
    "start_time": "2022-09-23T06:58:33.421Z"
   },
   {
    "duration": 15,
    "start_time": "2022-09-23T06:58:33.465Z"
   },
   {
    "duration": 14,
    "start_time": "2022-09-23T06:58:33.482Z"
   },
   {
    "duration": 15,
    "start_time": "2022-09-23T06:58:33.500Z"
   },
   {
    "duration": 44,
    "start_time": "2022-09-23T06:58:33.516Z"
   },
   {
    "duration": 14,
    "start_time": "2022-09-23T06:58:33.562Z"
   },
   {
    "duration": 16,
    "start_time": "2022-09-23T06:58:33.578Z"
   },
   {
    "duration": 20,
    "start_time": "2022-09-23T06:58:33.596Z"
   },
   {
    "duration": 36,
    "start_time": "2022-09-23T06:58:33.618Z"
   },
   {
    "duration": 110,
    "start_time": "2022-09-23T06:58:33.656Z"
   },
   {
    "duration": 16,
    "start_time": "2022-09-23T06:58:36.672Z"
   },
   {
    "duration": 4,
    "start_time": "2022-09-23T06:58:46.794Z"
   },
   {
    "duration": 4,
    "start_time": "2022-09-23T06:58:49.488Z"
   },
   {
    "duration": 5,
    "start_time": "2022-09-23T06:58:57.552Z"
   },
   {
    "duration": 5,
    "start_time": "2022-09-23T06:59:10.417Z"
   },
   {
    "duration": 1512,
    "start_time": "2022-09-23T08:47:02.554Z"
   },
   {
    "duration": 19,
    "start_time": "2022-09-23T08:47:04.068Z"
   },
   {
    "duration": 17,
    "start_time": "2022-09-23T08:47:04.089Z"
   },
   {
    "duration": 15,
    "start_time": "2022-09-23T08:47:04.108Z"
   },
   {
    "duration": 5,
    "start_time": "2022-09-23T08:47:04.125Z"
   },
   {
    "duration": 10,
    "start_time": "2022-09-23T08:47:04.132Z"
   },
   {
    "duration": 26,
    "start_time": "2022-09-23T08:47:04.144Z"
   },
   {
    "duration": 201,
    "start_time": "2022-09-23T08:47:04.172Z"
   },
   {
    "duration": 20,
    "start_time": "2022-09-23T08:47:04.375Z"
   },
   {
    "duration": 500,
    "start_time": "2022-09-23T08:47:04.397Z"
   },
   {
    "duration": 477,
    "start_time": "2022-09-23T08:47:04.899Z"
   },
   {
    "duration": 27,
    "start_time": "2022-09-23T08:47:05.379Z"
   },
   {
    "duration": 209,
    "start_time": "2022-09-23T08:47:05.421Z"
   },
   {
    "duration": 222,
    "start_time": "2022-09-23T08:47:05.633Z"
   },
   {
    "duration": 205,
    "start_time": "2022-09-23T08:47:05.857Z"
   },
   {
    "duration": 241,
    "start_time": "2022-09-23T08:47:06.063Z"
   },
   {
    "duration": 303,
    "start_time": "2022-09-23T08:47:06.309Z"
   },
   {
    "duration": 229,
    "start_time": "2022-09-23T08:47:06.618Z"
   },
   {
    "duration": 180,
    "start_time": "2022-09-23T08:47:06.850Z"
   },
   {
    "duration": 180,
    "start_time": "2022-09-23T08:47:07.033Z"
   },
   {
    "duration": 181,
    "start_time": "2022-09-23T08:47:07.215Z"
   },
   {
    "duration": 215,
    "start_time": "2022-09-23T08:47:07.397Z"
   },
   {
    "duration": 111,
    "start_time": "2022-09-23T08:47:07.614Z"
   },
   {
    "duration": 161,
    "start_time": "2022-09-23T08:47:07.726Z"
   },
   {
    "duration": 103,
    "start_time": "2022-09-23T08:47:07.890Z"
   },
   {
    "duration": 95,
    "start_time": "2022-09-23T08:47:07.994Z"
   },
   {
    "duration": 107,
    "start_time": "2022-09-23T08:47:08.091Z"
   },
   {
    "duration": 121,
    "start_time": "2022-09-23T08:47:08.200Z"
   },
   {
    "duration": 112,
    "start_time": "2022-09-23T08:47:08.323Z"
   },
   {
    "duration": 137,
    "start_time": "2022-09-23T08:47:08.437Z"
   },
   {
    "duration": 230,
    "start_time": "2022-09-23T08:47:08.576Z"
   },
   {
    "duration": 165,
    "start_time": "2022-09-23T08:47:08.808Z"
   },
   {
    "duration": 153,
    "start_time": "2022-09-23T08:47:08.975Z"
   },
   {
    "duration": 5,
    "start_time": "2022-09-23T08:47:09.130Z"
   },
   {
    "duration": 16,
    "start_time": "2022-09-23T08:47:09.137Z"
   },
   {
    "duration": 17,
    "start_time": "2022-09-23T08:47:09.154Z"
   },
   {
    "duration": 20,
    "start_time": "2022-09-23T08:47:09.173Z"
   },
   {
    "duration": 20,
    "start_time": "2022-09-23T08:47:09.195Z"
   },
   {
    "duration": 19,
    "start_time": "2022-09-23T08:47:09.217Z"
   },
   {
    "duration": 16,
    "start_time": "2022-09-23T08:47:09.238Z"
   },
   {
    "duration": 20,
    "start_time": "2022-09-23T08:47:09.259Z"
   },
   {
    "duration": 24,
    "start_time": "2022-09-23T08:47:09.280Z"
   },
   {
    "duration": 21,
    "start_time": "2022-09-23T08:47:09.306Z"
   },
   {
    "duration": 20,
    "start_time": "2022-09-23T08:47:09.329Z"
   },
   {
    "duration": 21,
    "start_time": "2022-09-23T08:47:09.350Z"
   },
   {
    "duration": 13,
    "start_time": "2022-09-23T08:47:09.373Z"
   },
   {
    "duration": 14,
    "start_time": "2022-09-23T08:47:09.388Z"
   },
   {
    "duration": 11,
    "start_time": "2022-09-23T08:47:29.815Z"
   },
   {
    "duration": 9,
    "start_time": "2022-09-23T08:52:43.628Z"
   },
   {
    "duration": 24,
    "start_time": "2022-09-23T08:52:48.378Z"
   },
   {
    "duration": 11,
    "start_time": "2022-09-23T08:52:56.556Z"
   },
   {
    "duration": 9,
    "start_time": "2022-09-23T08:53:30.932Z"
   },
   {
    "duration": 94,
    "start_time": "2022-09-23T08:54:37.692Z"
   },
   {
    "duration": 4,
    "start_time": "2022-09-23T08:54:52.489Z"
   },
   {
    "duration": 5,
    "start_time": "2022-09-23T08:54:59.739Z"
   },
   {
    "duration": 4,
    "start_time": "2022-09-23T09:00:19.172Z"
   },
   {
    "duration": 4,
    "start_time": "2022-09-23T09:00:46.508Z"
   },
   {
    "duration": 9,
    "start_time": "2022-09-23T09:01:32.741Z"
   },
   {
    "duration": 14,
    "start_time": "2022-09-23T09:04:53.285Z"
   },
   {
    "duration": 10,
    "start_time": "2022-09-23T09:05:20.958Z"
   },
   {
    "duration": 4,
    "start_time": "2022-09-23T09:05:53.508Z"
   },
   {
    "duration": 5,
    "start_time": "2022-09-23T09:07:11.885Z"
   },
   {
    "duration": 4,
    "start_time": "2022-09-23T09:07:15.613Z"
   },
   {
    "duration": 8,
    "start_time": "2022-09-23T09:17:57.744Z"
   },
   {
    "duration": 3,
    "start_time": "2022-09-23T09:18:11.263Z"
   },
   {
    "duration": 5,
    "start_time": "2022-09-23T09:18:42.005Z"
   },
   {
    "duration": 5,
    "start_time": "2022-09-23T09:19:01.696Z"
   },
   {
    "duration": 1253,
    "start_time": "2022-09-23T09:19:15.273Z"
   },
   {
    "duration": 16,
    "start_time": "2022-09-23T09:19:16.528Z"
   },
   {
    "duration": 14,
    "start_time": "2022-09-23T09:19:16.545Z"
   },
   {
    "duration": 12,
    "start_time": "2022-09-23T09:19:16.561Z"
   },
   {
    "duration": 4,
    "start_time": "2022-09-23T09:19:16.575Z"
   },
   {
    "duration": 7,
    "start_time": "2022-09-23T09:19:16.581Z"
   },
   {
    "duration": 36,
    "start_time": "2022-09-23T09:19:16.589Z"
   },
   {
    "duration": 172,
    "start_time": "2022-09-23T09:19:16.627Z"
   },
   {
    "duration": 21,
    "start_time": "2022-09-23T09:19:16.801Z"
   },
   {
    "duration": 465,
    "start_time": "2022-09-23T09:19:16.824Z"
   },
   {
    "duration": 451,
    "start_time": "2022-09-23T09:19:17.290Z"
   },
   {
    "duration": 24,
    "start_time": "2022-09-23T09:19:17.744Z"
   },
   {
    "duration": 171,
    "start_time": "2022-09-23T09:19:17.769Z"
   },
   {
    "duration": 159,
    "start_time": "2022-09-23T09:19:17.943Z"
   },
   {
    "duration": 171,
    "start_time": "2022-09-23T09:19:18.104Z"
   },
   {
    "duration": 167,
    "start_time": "2022-09-23T09:19:18.276Z"
   },
   {
    "duration": 216,
    "start_time": "2022-09-23T09:19:18.444Z"
   },
   {
    "duration": 157,
    "start_time": "2022-09-23T09:19:18.661Z"
   },
   {
    "duration": 150,
    "start_time": "2022-09-23T09:19:18.822Z"
   },
   {
    "duration": 149,
    "start_time": "2022-09-23T09:19:18.974Z"
   },
   {
    "duration": 178,
    "start_time": "2022-09-23T09:19:19.125Z"
   },
   {
    "duration": 165,
    "start_time": "2022-09-23T09:19:19.304Z"
   },
   {
    "duration": 107,
    "start_time": "2022-09-23T09:19:19.470Z"
   },
   {
    "duration": 106,
    "start_time": "2022-09-23T09:19:19.579Z"
   },
   {
    "duration": 100,
    "start_time": "2022-09-23T09:19:19.686Z"
   },
   {
    "duration": 101,
    "start_time": "2022-09-23T09:19:19.788Z"
   },
   {
    "duration": 107,
    "start_time": "2022-09-23T09:19:19.890Z"
   },
   {
    "duration": 105,
    "start_time": "2022-09-23T09:19:19.999Z"
   },
   {
    "duration": 107,
    "start_time": "2022-09-23T09:19:20.105Z"
   },
   {
    "duration": 114,
    "start_time": "2022-09-23T09:19:20.225Z"
   },
   {
    "duration": 183,
    "start_time": "2022-09-23T09:19:20.341Z"
   },
   {
    "duration": 136,
    "start_time": "2022-09-23T09:19:20.526Z"
   },
   {
    "duration": 158,
    "start_time": "2022-09-23T09:19:20.663Z"
   },
   {
    "duration": 5,
    "start_time": "2022-09-23T09:19:20.823Z"
   },
   {
    "duration": 7,
    "start_time": "2022-09-23T09:19:20.830Z"
   },
   {
    "duration": 15,
    "start_time": "2022-09-23T09:19:20.838Z"
   },
   {
    "duration": 12,
    "start_time": "2022-09-23T09:19:20.855Z"
   },
   {
    "duration": 26,
    "start_time": "2022-09-23T09:19:20.869Z"
   },
   {
    "duration": 30,
    "start_time": "2022-09-23T09:19:20.896Z"
   },
   {
    "duration": 12,
    "start_time": "2022-09-23T09:19:20.928Z"
   },
   {
    "duration": 26,
    "start_time": "2022-09-23T09:19:20.944Z"
   },
   {
    "duration": 17,
    "start_time": "2022-09-23T09:19:20.972Z"
   },
   {
    "duration": 24,
    "start_time": "2022-09-23T09:19:20.990Z"
   },
   {
    "duration": 19,
    "start_time": "2022-09-23T09:19:21.016Z"
   },
   {
    "duration": 21,
    "start_time": "2022-09-23T09:19:21.037Z"
   },
   {
    "duration": 10,
    "start_time": "2022-09-23T09:19:21.060Z"
   },
   {
    "duration": 16,
    "start_time": "2022-09-23T09:19:21.071Z"
   },
   {
    "duration": 10,
    "start_time": "2022-09-23T09:19:21.089Z"
   },
   {
    "duration": 9,
    "start_time": "2022-09-23T09:19:21.101Z"
   },
   {
    "duration": 455,
    "start_time": "2022-09-23T09:20:08.688Z"
   },
   {
    "duration": 5,
    "start_time": "2022-09-23T09:20:18.162Z"
   },
   {
    "duration": 5,
    "start_time": "2022-09-23T09:20:29.632Z"
   },
   {
    "duration": 4,
    "start_time": "2022-09-23T09:20:39.963Z"
   },
   {
    "duration": 79,
    "start_time": "2022-09-23T09:28:17.523Z"
   },
   {
    "duration": 86,
    "start_time": "2022-09-23T11:33:01.952Z"
   },
   {
    "duration": 61,
    "start_time": "2022-09-23T11:47:21.929Z"
   },
   {
    "duration": 38,
    "start_time": "2022-09-23T12:07:48.988Z"
   },
   {
    "duration": 1303,
    "start_time": "2022-09-23T12:07:57.932Z"
   },
   {
    "duration": 15,
    "start_time": "2022-09-23T12:07:59.237Z"
   },
   {
    "duration": 11,
    "start_time": "2022-09-23T12:07:59.253Z"
   },
   {
    "duration": 12,
    "start_time": "2022-09-23T12:07:59.266Z"
   },
   {
    "duration": 4,
    "start_time": "2022-09-23T12:07:59.279Z"
   },
   {
    "duration": 17,
    "start_time": "2022-09-23T12:07:59.285Z"
   },
   {
    "duration": 18,
    "start_time": "2022-09-23T12:07:59.303Z"
   },
   {
    "duration": 167,
    "start_time": "2022-09-23T12:07:59.322Z"
   },
   {
    "duration": 19,
    "start_time": "2022-09-23T12:07:59.490Z"
   },
   {
    "duration": 426,
    "start_time": "2022-09-23T12:07:59.512Z"
   },
   {
    "duration": 409,
    "start_time": "2022-09-23T12:07:59.940Z"
   },
   {
    "duration": 16,
    "start_time": "2022-09-23T12:08:00.351Z"
   },
   {
    "duration": 163,
    "start_time": "2022-09-23T12:08:00.369Z"
   },
   {
    "duration": 171,
    "start_time": "2022-09-23T12:08:00.534Z"
   },
   {
    "duration": 153,
    "start_time": "2022-09-23T12:08:00.706Z"
   },
   {
    "duration": 163,
    "start_time": "2022-09-23T12:08:00.861Z"
   },
   {
    "duration": 222,
    "start_time": "2022-09-23T12:08:01.025Z"
   },
   {
    "duration": 153,
    "start_time": "2022-09-23T12:08:01.248Z"
   },
   {
    "duration": 168,
    "start_time": "2022-09-23T12:08:01.403Z"
   },
   {
    "duration": 147,
    "start_time": "2022-09-23T12:08:01.573Z"
   },
   {
    "duration": 149,
    "start_time": "2022-09-23T12:08:01.721Z"
   },
   {
    "duration": 152,
    "start_time": "2022-09-23T12:08:01.872Z"
   },
   {
    "duration": 103,
    "start_time": "2022-09-23T12:08:02.025Z"
   },
   {
    "duration": 103,
    "start_time": "2022-09-23T12:08:02.129Z"
   },
   {
    "duration": 106,
    "start_time": "2022-09-23T12:08:02.233Z"
   },
   {
    "duration": 98,
    "start_time": "2022-09-23T12:08:02.341Z"
   },
   {
    "duration": 106,
    "start_time": "2022-09-23T12:08:02.440Z"
   },
   {
    "duration": 103,
    "start_time": "2022-09-23T12:08:02.549Z"
   },
   {
    "duration": 101,
    "start_time": "2022-09-23T12:08:02.654Z"
   },
   {
    "duration": 295,
    "start_time": "2022-09-23T12:08:02.756Z"
   },
   {
    "duration": 121,
    "start_time": "2022-09-23T12:08:03.052Z"
   },
   {
    "duration": 113,
    "start_time": "2022-09-23T12:08:03.174Z"
   },
   {
    "duration": 151,
    "start_time": "2022-09-23T12:08:03.289Z"
   },
   {
    "duration": 142,
    "start_time": "2022-09-23T12:08:03.442Z"
   },
   {
    "duration": 14,
    "start_time": "2022-09-23T12:08:03.586Z"
   },
   {
    "duration": 4,
    "start_time": "2022-09-23T12:08:03.601Z"
   },
   {
    "duration": 13,
    "start_time": "2022-09-23T12:08:03.607Z"
   },
   {
    "duration": 10,
    "start_time": "2022-09-23T12:08:03.621Z"
   },
   {
    "duration": 12,
    "start_time": "2022-09-23T12:08:03.633Z"
   },
   {
    "duration": 11,
    "start_time": "2022-09-23T12:08:03.646Z"
   },
   {
    "duration": 14,
    "start_time": "2022-09-23T12:08:03.659Z"
   },
   {
    "duration": 13,
    "start_time": "2022-09-23T12:08:03.700Z"
   },
   {
    "duration": 17,
    "start_time": "2022-09-23T12:08:03.715Z"
   },
   {
    "duration": 11,
    "start_time": "2022-09-23T12:08:03.734Z"
   },
   {
    "duration": 12,
    "start_time": "2022-09-23T12:08:03.746Z"
   },
   {
    "duration": 11,
    "start_time": "2022-09-23T12:08:03.759Z"
   },
   {
    "duration": 33,
    "start_time": "2022-09-23T12:08:03.771Z"
   },
   {
    "duration": 7,
    "start_time": "2022-09-23T12:08:03.806Z"
   },
   {
    "duration": 9,
    "start_time": "2022-09-23T12:08:03.814Z"
   },
   {
    "duration": 5,
    "start_time": "2022-09-23T12:08:03.825Z"
   },
   {
    "duration": 68,
    "start_time": "2022-09-23T12:20:31.451Z"
   },
   {
    "duration": 5,
    "start_time": "2022-09-23T12:24:39.058Z"
   },
   {
    "duration": 11,
    "start_time": "2022-09-23T12:24:41.799Z"
   },
   {
    "duration": 4,
    "start_time": "2022-09-23T12:24:44.216Z"
   },
   {
    "duration": 8,
    "start_time": "2022-09-23T12:24:47.177Z"
   },
   {
    "duration": 6,
    "start_time": "2022-09-23T12:24:49.465Z"
   },
   {
    "duration": 5,
    "start_time": "2022-09-23T12:25:01.025Z"
   },
   {
    "duration": 4,
    "start_time": "2022-09-23T12:25:05.337Z"
   },
   {
    "duration": 4,
    "start_time": "2022-09-23T12:25:08.369Z"
   },
   {
    "duration": 5,
    "start_time": "2022-09-23T12:25:46.696Z"
   },
   {
    "duration": 5,
    "start_time": "2022-09-23T12:25:52.408Z"
   },
   {
    "duration": 76,
    "start_time": "2022-09-23T12:26:34.840Z"
   },
   {
    "duration": 5,
    "start_time": "2022-09-23T12:31:29.405Z"
   },
   {
    "duration": 6,
    "start_time": "2022-09-23T12:31:33.708Z"
   },
   {
    "duration": 5,
    "start_time": "2022-09-23T12:31:51.301Z"
   },
   {
    "duration": 88,
    "start_time": "2022-09-23T12:32:00.132Z"
   },
   {
    "duration": 5,
    "start_time": "2022-09-23T12:32:09.420Z"
   },
   {
    "duration": 5,
    "start_time": "2022-09-23T12:32:36.396Z"
   },
   {
    "duration": 10,
    "start_time": "2022-09-23T12:32:40.084Z"
   },
   {
    "duration": 6,
    "start_time": "2022-09-23T12:32:42.076Z"
   },
   {
    "duration": 8,
    "start_time": "2022-09-23T12:38:59.768Z"
   },
   {
    "duration": 7,
    "start_time": "2022-09-23T12:39:09.359Z"
   },
   {
    "duration": 8,
    "start_time": "2022-09-23T12:39:45.792Z"
   },
   {
    "duration": 7,
    "start_time": "2022-09-23T12:40:03.032Z"
   },
   {
    "duration": 2,
    "start_time": "2022-09-23T12:40:43.215Z"
   },
   {
    "duration": 4,
    "start_time": "2022-09-23T12:40:45.135Z"
   },
   {
    "duration": 5,
    "start_time": "2022-09-23T12:41:00.262Z"
   },
   {
    "duration": 7,
    "start_time": "2022-09-23T12:41:09.615Z"
   },
   {
    "duration": 9,
    "start_time": "2022-09-23T12:41:30.287Z"
   },
   {
    "duration": 5,
    "start_time": "2022-09-23T12:41:36.887Z"
   },
   {
    "duration": 5,
    "start_time": "2022-09-23T12:42:03.543Z"
   },
   {
    "duration": 5,
    "start_time": "2022-09-23T12:42:16.062Z"
   },
   {
    "duration": 5,
    "start_time": "2022-09-23T12:42:53.407Z"
   },
   {
    "duration": 64,
    "start_time": "2022-09-23T12:46:57.755Z"
   },
   {
    "duration": 11,
    "start_time": "2022-09-23T13:06:31.998Z"
   },
   {
    "duration": 5,
    "start_time": "2022-09-23T13:06:34.590Z"
   },
   {
    "duration": 1568,
    "start_time": "2022-09-24T03:28:22.862Z"
   },
   {
    "duration": 105,
    "start_time": "2022-09-24T03:29:04.106Z"
   },
   {
    "duration": 18,
    "start_time": "2022-09-24T03:30:36.579Z"
   },
   {
    "duration": 16,
    "start_time": "2022-09-24T03:30:42.416Z"
   },
   {
    "duration": 101,
    "start_time": "2022-09-24T03:31:00.688Z"
   },
   {
    "duration": 8,
    "start_time": "2022-09-24T03:31:08.979Z"
   },
   {
    "duration": 14,
    "start_time": "2022-09-24T03:41:43.929Z"
   },
   {
    "duration": 1140,
    "start_time": "2022-09-24T03:41:56.050Z"
   },
   {
    "duration": 63,
    "start_time": "2022-09-24T03:41:57.192Z"
   },
   {
    "duration": 20,
    "start_time": "2022-09-24T03:41:57.257Z"
   },
   {
    "duration": 16,
    "start_time": "2022-09-24T03:41:57.280Z"
   },
   {
    "duration": 16,
    "start_time": "2022-09-24T03:41:57.298Z"
   },
   {
    "duration": 5,
    "start_time": "2022-09-24T03:41:57.316Z"
   },
   {
    "duration": 35,
    "start_time": "2022-09-24T03:41:57.322Z"
   },
   {
    "duration": 23,
    "start_time": "2022-09-24T03:41:57.359Z"
   },
   {
    "duration": 198,
    "start_time": "2022-09-24T03:41:57.384Z"
   },
   {
    "duration": 16,
    "start_time": "2022-09-24T03:41:57.584Z"
   },
   {
    "duration": 484,
    "start_time": "2022-09-24T03:41:57.602Z"
   },
   {
    "duration": 477,
    "start_time": "2022-09-24T03:41:58.088Z"
   },
   {
    "duration": 21,
    "start_time": "2022-09-24T03:41:58.567Z"
   },
   {
    "duration": 195,
    "start_time": "2022-09-24T03:41:58.590Z"
   },
   {
    "duration": 183,
    "start_time": "2022-09-24T03:41:58.787Z"
   },
   {
    "duration": 189,
    "start_time": "2022-09-24T03:41:58.972Z"
   },
   {
    "duration": 223,
    "start_time": "2022-09-24T03:41:59.163Z"
   },
   {
    "duration": 326,
    "start_time": "2022-09-24T03:41:59.387Z"
   },
   {
    "duration": 221,
    "start_time": "2022-09-24T03:41:59.715Z"
   },
   {
    "duration": 174,
    "start_time": "2022-09-24T03:41:59.938Z"
   },
   {
    "duration": 183,
    "start_time": "2022-09-24T03:42:00.114Z"
   },
   {
    "duration": 187,
    "start_time": "2022-09-24T03:42:00.299Z"
   },
   {
    "duration": 182,
    "start_time": "2022-09-24T03:42:00.488Z"
   },
   {
    "duration": 125,
    "start_time": "2022-09-24T03:42:00.672Z"
   },
   {
    "duration": 116,
    "start_time": "2022-09-24T03:42:00.799Z"
   },
   {
    "duration": 125,
    "start_time": "2022-09-24T03:42:00.917Z"
   },
   {
    "duration": 110,
    "start_time": "2022-09-24T03:42:01.054Z"
   },
   {
    "duration": 125,
    "start_time": "2022-09-24T03:42:01.168Z"
   },
   {
    "duration": 129,
    "start_time": "2022-09-24T03:42:01.295Z"
   },
   {
    "duration": 143,
    "start_time": "2022-09-24T03:42:01.425Z"
   },
   {
    "duration": 262,
    "start_time": "2022-09-24T03:42:01.570Z"
   },
   {
    "duration": 132,
    "start_time": "2022-09-24T03:42:01.833Z"
   },
   {
    "duration": 159,
    "start_time": "2022-09-24T03:42:01.967Z"
   },
   {
    "duration": 162,
    "start_time": "2022-09-24T03:42:02.128Z"
   },
   {
    "duration": 6,
    "start_time": "2022-09-24T03:42:02.291Z"
   },
   {
    "duration": 14,
    "start_time": "2022-09-24T03:42:02.299Z"
   },
   {
    "duration": 20,
    "start_time": "2022-09-24T03:42:02.314Z"
   },
   {
    "duration": 26,
    "start_time": "2022-09-24T03:42:02.336Z"
   },
   {
    "duration": 13,
    "start_time": "2022-09-24T03:42:02.364Z"
   },
   {
    "duration": 46,
    "start_time": "2022-09-24T03:42:02.379Z"
   },
   {
    "duration": 16,
    "start_time": "2022-09-24T03:42:02.426Z"
   },
   {
    "duration": 13,
    "start_time": "2022-09-24T03:42:02.444Z"
   },
   {
    "duration": 17,
    "start_time": "2022-09-24T03:42:02.459Z"
   },
   {
    "duration": 13,
    "start_time": "2022-09-24T03:42:02.477Z"
   },
   {
    "duration": 18,
    "start_time": "2022-09-24T03:42:02.492Z"
   },
   {
    "duration": 13,
    "start_time": "2022-09-24T03:42:02.511Z"
   },
   {
    "duration": 32,
    "start_time": "2022-09-24T03:42:02.525Z"
   },
   {
    "duration": 6,
    "start_time": "2022-09-24T03:42:02.559Z"
   },
   {
    "duration": 12,
    "start_time": "2022-09-24T03:42:02.567Z"
   },
   {
    "duration": 9,
    "start_time": "2022-09-24T03:42:02.580Z"
   },
   {
    "duration": 292,
    "start_time": "2022-09-24T03:43:29.911Z"
   },
   {
    "duration": 269,
    "start_time": "2022-09-24T03:43:57.280Z"
   },
   {
    "duration": 308,
    "start_time": "2022-09-24T03:44:20.999Z"
   },
   {
    "duration": 269,
    "start_time": "2022-09-24T03:46:19.865Z"
   },
   {
    "duration": 260,
    "start_time": "2022-09-24T03:46:43.129Z"
   },
   {
    "duration": 1106,
    "start_time": "2022-09-24T03:56:32.806Z"
   },
   {
    "duration": 66,
    "start_time": "2022-09-24T03:56:33.914Z"
   },
   {
    "duration": 20,
    "start_time": "2022-09-24T03:56:33.981Z"
   },
   {
    "duration": 15,
    "start_time": "2022-09-24T03:56:34.002Z"
   },
   {
    "duration": 14,
    "start_time": "2022-09-24T03:56:34.020Z"
   },
   {
    "duration": 5,
    "start_time": "2022-09-24T03:56:34.054Z"
   },
   {
    "duration": 11,
    "start_time": "2022-09-24T03:56:34.060Z"
   },
   {
    "duration": 21,
    "start_time": "2022-09-24T03:56:34.072Z"
   },
   {
    "duration": 311,
    "start_time": "2022-09-24T03:56:34.094Z"
   },
   {
    "duration": 16,
    "start_time": "2022-09-24T03:56:34.407Z"
   },
   {
    "duration": 499,
    "start_time": "2022-09-24T03:56:34.425Z"
   },
   {
    "duration": 486,
    "start_time": "2022-09-24T03:56:34.925Z"
   },
   {
    "duration": 18,
    "start_time": "2022-09-24T03:56:35.413Z"
   },
   {
    "duration": 192,
    "start_time": "2022-09-24T03:56:35.435Z"
   },
   {
    "duration": 188,
    "start_time": "2022-09-24T03:56:35.629Z"
   },
   {
    "duration": 178,
    "start_time": "2022-09-24T03:56:35.818Z"
   },
   {
    "duration": 269,
    "start_time": "2022-09-24T03:56:35.999Z"
   },
   {
    "duration": 171,
    "start_time": "2022-09-24T03:56:36.270Z"
   },
   {
    "duration": 179,
    "start_time": "2022-09-24T03:56:36.443Z"
   },
   {
    "duration": 173,
    "start_time": "2022-09-24T03:56:36.624Z"
   },
   {
    "duration": 173,
    "start_time": "2022-09-24T03:56:36.799Z"
   },
   {
    "duration": 171,
    "start_time": "2022-09-24T03:56:36.974Z"
   },
   {
    "duration": 169,
    "start_time": "2022-09-24T03:56:37.146Z"
   },
   {
    "duration": 122,
    "start_time": "2022-09-24T03:56:37.316Z"
   },
   {
    "duration": 120,
    "start_time": "2022-09-24T03:56:37.440Z"
   },
   {
    "duration": 118,
    "start_time": "2022-09-24T03:56:37.561Z"
   },
   {
    "duration": 106,
    "start_time": "2022-09-24T03:56:37.681Z"
   },
   {
    "duration": 130,
    "start_time": "2022-09-24T03:56:37.789Z"
   },
   {
    "duration": 121,
    "start_time": "2022-09-24T03:56:37.921Z"
   },
   {
    "duration": 220,
    "start_time": "2022-09-24T03:56:38.043Z"
   },
   {
    "duration": 138,
    "start_time": "2022-09-24T03:56:38.264Z"
   },
   {
    "duration": 131,
    "start_time": "2022-09-24T03:56:38.404Z"
   },
   {
    "duration": 172,
    "start_time": "2022-09-24T03:56:38.537Z"
   },
   {
    "duration": 152,
    "start_time": "2022-09-24T03:56:38.711Z"
   },
   {
    "duration": 5,
    "start_time": "2022-09-24T03:56:38.865Z"
   },
   {
    "duration": 6,
    "start_time": "2022-09-24T03:56:38.872Z"
   },
   {
    "duration": 13,
    "start_time": "2022-09-24T03:56:38.880Z"
   },
   {
    "duration": 13,
    "start_time": "2022-09-24T03:56:38.894Z"
   },
   {
    "duration": 46,
    "start_time": "2022-09-24T03:56:38.909Z"
   },
   {
    "duration": 19,
    "start_time": "2022-09-24T03:56:38.957Z"
   },
   {
    "duration": 24,
    "start_time": "2022-09-24T03:56:38.981Z"
   },
   {
    "duration": 15,
    "start_time": "2022-09-24T03:56:39.007Z"
   },
   {
    "duration": 31,
    "start_time": "2022-09-24T03:56:39.024Z"
   },
   {
    "duration": 14,
    "start_time": "2022-09-24T03:56:39.057Z"
   },
   {
    "duration": 15,
    "start_time": "2022-09-24T03:56:39.073Z"
   },
   {
    "duration": 16,
    "start_time": "2022-09-24T03:56:39.089Z"
   },
   {
    "duration": 13,
    "start_time": "2022-09-24T03:56:39.107Z"
   },
   {
    "duration": 5,
    "start_time": "2022-09-24T03:56:39.153Z"
   },
   {
    "duration": 10,
    "start_time": "2022-09-24T03:56:39.160Z"
   },
   {
    "duration": 5,
    "start_time": "2022-09-24T03:56:39.171Z"
   },
   {
    "duration": 1131,
    "start_time": "2022-09-24T04:03:28.286Z"
   },
   {
    "duration": 85,
    "start_time": "2022-09-24T04:03:29.419Z"
   },
   {
    "duration": 14,
    "start_time": "2022-09-24T04:03:29.506Z"
   },
   {
    "duration": 15,
    "start_time": "2022-09-24T04:03:29.522Z"
   },
   {
    "duration": 19,
    "start_time": "2022-09-24T04:03:29.538Z"
   },
   {
    "duration": 9,
    "start_time": "2022-09-24T04:03:29.559Z"
   },
   {
    "duration": 22,
    "start_time": "2022-09-24T04:03:29.569Z"
   },
   {
    "duration": 288,
    "start_time": "2022-09-24T04:03:29.593Z"
   },
   {
    "duration": 17,
    "start_time": "2022-09-24T04:03:29.883Z"
   },
   {
    "duration": 523,
    "start_time": "2022-09-24T04:03:29.902Z"
   },
   {
    "duration": 500,
    "start_time": "2022-09-24T04:03:30.426Z"
   },
   {
    "duration": 28,
    "start_time": "2022-09-24T04:03:30.927Z"
   },
   {
    "duration": 179,
    "start_time": "2022-09-24T04:03:30.956Z"
   },
   {
    "duration": 194,
    "start_time": "2022-09-24T04:03:31.137Z"
   },
   {
    "duration": 220,
    "start_time": "2022-09-24T04:03:31.333Z"
   },
   {
    "duration": 334,
    "start_time": "2022-09-24T04:03:31.554Z"
   },
   {
    "duration": 171,
    "start_time": "2022-09-24T04:03:31.890Z"
   },
   {
    "duration": 184,
    "start_time": "2022-09-24T04:03:32.063Z"
   },
   {
    "duration": 191,
    "start_time": "2022-09-24T04:03:32.249Z"
   },
   {
    "duration": 176,
    "start_time": "2022-09-24T04:03:32.441Z"
   },
   {
    "duration": 201,
    "start_time": "2022-09-24T04:03:32.619Z"
   },
   {
    "duration": 188,
    "start_time": "2022-09-24T04:03:32.822Z"
   },
   {
    "duration": 112,
    "start_time": "2022-09-24T04:03:33.012Z"
   },
   {
    "duration": 115,
    "start_time": "2022-09-24T04:03:33.126Z"
   },
   {
    "duration": 128,
    "start_time": "2022-09-24T04:03:33.242Z"
   },
   {
    "duration": 113,
    "start_time": "2022-09-24T04:03:33.372Z"
   },
   {
    "duration": 128,
    "start_time": "2022-09-24T04:03:33.487Z"
   },
   {
    "duration": 116,
    "start_time": "2022-09-24T04:03:33.618Z"
   },
   {
    "duration": 220,
    "start_time": "2022-09-24T04:03:33.735Z"
   },
   {
    "duration": 138,
    "start_time": "2022-09-24T04:03:33.957Z"
   },
   {
    "duration": 128,
    "start_time": "2022-09-24T04:03:34.096Z"
   },
   {
    "duration": 161,
    "start_time": "2022-09-24T04:03:34.225Z"
   },
   {
    "duration": 160,
    "start_time": "2022-09-24T04:03:34.387Z"
   },
   {
    "duration": 9,
    "start_time": "2022-09-24T04:03:34.548Z"
   },
   {
    "duration": 7,
    "start_time": "2022-09-24T04:03:34.559Z"
   },
   {
    "duration": 17,
    "start_time": "2022-09-24T04:03:34.567Z"
   },
   {
    "duration": 18,
    "start_time": "2022-09-24T04:03:34.586Z"
   },
   {
    "duration": 16,
    "start_time": "2022-09-24T04:03:34.606Z"
   },
   {
    "duration": 46,
    "start_time": "2022-09-24T04:03:34.624Z"
   },
   {
    "duration": 27,
    "start_time": "2022-09-24T04:03:34.671Z"
   },
   {
    "duration": 13,
    "start_time": "2022-09-24T04:03:34.699Z"
   },
   {
    "duration": 13,
    "start_time": "2022-09-24T04:03:34.714Z"
   },
   {
    "duration": 26,
    "start_time": "2022-09-24T04:03:34.728Z"
   },
   {
    "duration": 33,
    "start_time": "2022-09-24T04:03:34.756Z"
   },
   {
    "duration": 13,
    "start_time": "2022-09-24T04:03:34.790Z"
   },
   {
    "duration": 12,
    "start_time": "2022-09-24T04:03:34.804Z"
   },
   {
    "duration": 5,
    "start_time": "2022-09-24T04:03:34.817Z"
   },
   {
    "duration": 12,
    "start_time": "2022-09-24T04:03:34.824Z"
   },
   {
    "duration": 4,
    "start_time": "2022-09-24T04:03:34.838Z"
   },
   {
    "duration": 8,
    "start_time": "2022-09-24T04:12:56.248Z"
   },
   {
    "duration": 156,
    "start_time": "2022-09-24T04:25:52.832Z"
   },
   {
    "duration": 506,
    "start_time": "2022-09-24T04:28:00.157Z"
   },
   {
    "duration": 466,
    "start_time": "2022-09-24T04:28:36.541Z"
   },
   {
    "duration": 17,
    "start_time": "2022-09-24T04:29:42.511Z"
   },
   {
    "duration": 14,
    "start_time": "2022-09-24T04:30:05.855Z"
   },
   {
    "duration": 21,
    "start_time": "2022-09-24T04:32:49.481Z"
   },
   {
    "duration": 160,
    "start_time": "2022-09-24T04:33:08.304Z"
   },
   {
    "duration": 178,
    "start_time": "2022-09-24T04:33:18.656Z"
   },
   {
    "duration": 160,
    "start_time": "2022-09-24T04:33:22.313Z"
   },
   {
    "duration": 160,
    "start_time": "2022-09-24T04:33:26.090Z"
   },
   {
    "duration": 296,
    "start_time": "2022-09-24T04:33:30.561Z"
   },
   {
    "duration": 162,
    "start_time": "2022-09-24T04:33:35.584Z"
   },
   {
    "duration": 158,
    "start_time": "2022-09-24T04:33:41.089Z"
   },
   {
    "duration": 152,
    "start_time": "2022-09-24T04:33:47.399Z"
   },
   {
    "duration": 167,
    "start_time": "2022-09-24T04:33:51.736Z"
   },
   {
    "duration": 148,
    "start_time": "2022-09-24T04:33:56.865Z"
   },
   {
    "duration": 243,
    "start_time": "2022-09-24T04:38:01.732Z"
   },
   {
    "duration": 157,
    "start_time": "2022-09-24T04:38:08.141Z"
   },
   {
    "duration": 232,
    "start_time": "2022-09-24T04:44:53.152Z"
   },
   {
    "duration": 301,
    "start_time": "2022-09-24T04:45:19.883Z"
   },
   {
    "duration": 299,
    "start_time": "2022-09-24T04:46:19.418Z"
   },
   {
    "duration": 312,
    "start_time": "2022-09-24T04:46:48.571Z"
   },
   {
    "duration": 176,
    "start_time": "2022-09-24T04:47:11.211Z"
   },
   {
    "duration": 306,
    "start_time": "2022-09-24T04:47:58.316Z"
   },
   {
    "duration": 296,
    "start_time": "2022-09-24T04:48:09.171Z"
   },
   {
    "duration": 297,
    "start_time": "2022-09-24T04:48:18.332Z"
   },
   {
    "duration": 321,
    "start_time": "2022-09-24T04:48:25.412Z"
   },
   {
    "duration": 171,
    "start_time": "2022-09-24T05:06:32.866Z"
   },
   {
    "duration": 58,
    "start_time": "2022-09-24T05:06:51.818Z"
   },
   {
    "duration": 183,
    "start_time": "2022-09-24T05:07:01.784Z"
   },
   {
    "duration": 199,
    "start_time": "2022-09-24T05:08:01.379Z"
   },
   {
    "duration": 162,
    "start_time": "2022-09-24T05:08:15.578Z"
   },
   {
    "duration": 316,
    "start_time": "2022-09-24T05:08:52.651Z"
   },
   {
    "duration": 310,
    "start_time": "2022-09-24T05:09:07.419Z"
   },
   {
    "duration": 472,
    "start_time": "2022-09-24T05:09:28.484Z"
   },
   {
    "duration": 303,
    "start_time": "2022-09-24T05:09:50.882Z"
   },
   {
    "duration": 321,
    "start_time": "2022-09-24T05:10:12.418Z"
   },
   {
    "duration": 324,
    "start_time": "2022-09-24T05:11:02.147Z"
   },
   {
    "duration": 336,
    "start_time": "2022-09-24T05:12:27.222Z"
   },
   {
    "duration": 308,
    "start_time": "2022-09-24T05:13:17.703Z"
   },
   {
    "duration": 283,
    "start_time": "2022-09-24T05:14:27.752Z"
   },
   {
    "duration": 309,
    "start_time": "2022-09-24T05:14:53.748Z"
   },
   {
    "duration": 306,
    "start_time": "2022-09-24T05:15:05.938Z"
   },
   {
    "duration": 266,
    "start_time": "2022-09-24T05:15:44.473Z"
   },
   {
    "duration": 289,
    "start_time": "2022-09-24T05:16:15.458Z"
   },
   {
    "duration": 265,
    "start_time": "2022-09-24T05:16:33.122Z"
   },
   {
    "duration": 295,
    "start_time": "2022-09-24T05:16:40.625Z"
   },
   {
    "duration": 344,
    "start_time": "2022-09-24T05:18:19.492Z"
   },
   {
    "duration": 315,
    "start_time": "2022-09-24T05:18:42.218Z"
   },
   {
    "duration": 306,
    "start_time": "2022-09-24T05:19:02.820Z"
   },
   {
    "duration": 365,
    "start_time": "2022-09-24T05:19:14.915Z"
   },
   {
    "duration": 15,
    "start_time": "2022-09-24T05:23:16.015Z"
   },
   {
    "duration": 59,
    "start_time": "2022-09-24T05:23:25.422Z"
   },
   {
    "duration": 52,
    "start_time": "2022-09-24T05:23:39.670Z"
   },
   {
    "duration": 14,
    "start_time": "2022-09-24T05:23:46.967Z"
   },
   {
    "duration": 15,
    "start_time": "2022-09-24T05:23:52.807Z"
   },
   {
    "duration": 16,
    "start_time": "2022-09-24T05:24:04.463Z"
   },
   {
    "duration": 14,
    "start_time": "2022-09-24T05:24:55.744Z"
   },
   {
    "duration": 13,
    "start_time": "2022-09-24T05:31:29.756Z"
   },
   {
    "duration": 5,
    "start_time": "2022-09-24T05:35:42.432Z"
   },
   {
    "duration": 1146,
    "start_time": "2022-09-24T05:36:47.071Z"
   },
   {
    "duration": 79,
    "start_time": "2022-09-24T05:36:48.218Z"
   },
   {
    "duration": 4,
    "start_time": "2022-09-24T05:36:48.298Z"
   },
   {
    "duration": 18,
    "start_time": "2022-09-24T05:36:48.304Z"
   },
   {
    "duration": 31,
    "start_time": "2022-09-24T05:36:48.323Z"
   },
   {
    "duration": 5,
    "start_time": "2022-09-24T05:36:48.356Z"
   },
   {
    "duration": 22,
    "start_time": "2022-09-24T05:36:48.362Z"
   },
   {
    "duration": 34,
    "start_time": "2022-09-24T05:36:48.386Z"
   },
   {
    "duration": 177,
    "start_time": "2022-09-24T05:36:48.421Z"
   },
   {
    "duration": 15,
    "start_time": "2022-09-24T05:36:48.601Z"
   },
   {
    "duration": 514,
    "start_time": "2022-09-24T05:36:48.618Z"
   },
   {
    "duration": 489,
    "start_time": "2022-09-24T05:36:49.134Z"
   },
   {
    "duration": 21,
    "start_time": "2022-09-24T05:36:49.624Z"
   },
   {
    "duration": 173,
    "start_time": "2022-09-24T05:36:49.654Z"
   },
   {
    "duration": 174,
    "start_time": "2022-09-24T05:36:49.829Z"
   },
   {
    "duration": 256,
    "start_time": "2022-09-24T05:36:50.005Z"
   },
   {
    "duration": 176,
    "start_time": "2022-09-24T05:36:50.262Z"
   },
   {
    "duration": 174,
    "start_time": "2022-09-24T05:36:50.439Z"
   },
   {
    "duration": 174,
    "start_time": "2022-09-24T05:36:50.615Z"
   },
   {
    "duration": 170,
    "start_time": "2022-09-24T05:36:50.791Z"
   },
   {
    "duration": 164,
    "start_time": "2022-09-24T05:36:50.962Z"
   },
   {
    "duration": 168,
    "start_time": "2022-09-24T05:36:51.128Z"
   },
   {
    "duration": 189,
    "start_time": "2022-09-24T05:36:51.298Z"
   },
   {
    "duration": 151,
    "start_time": "2022-09-24T05:36:51.489Z"
   },
   {
    "duration": 138,
    "start_time": "2022-09-24T05:36:51.642Z"
   },
   {
    "duration": 139,
    "start_time": "2022-09-24T05:36:51.782Z"
   },
   {
    "duration": 111,
    "start_time": "2022-09-24T05:36:51.923Z"
   },
   {
    "duration": 217,
    "start_time": "2022-09-24T05:36:52.039Z"
   },
   {
    "duration": 124,
    "start_time": "2022-09-24T05:36:52.258Z"
   },
   {
    "duration": 131,
    "start_time": "2022-09-24T05:36:52.384Z"
   },
   {
    "duration": 315,
    "start_time": "2022-09-24T05:36:52.517Z"
   },
   {
    "duration": 318,
    "start_time": "2022-09-24T05:36:52.834Z"
   },
   {
    "duration": 318,
    "start_time": "2022-09-24T05:36:53.154Z"
   },
   {
    "duration": 351,
    "start_time": "2022-09-24T05:36:53.474Z"
   },
   {
    "duration": 423,
    "start_time": "2022-09-24T05:36:53.827Z"
   },
   {
    "duration": 341,
    "start_time": "2022-09-24T05:36:54.254Z"
   },
   {
    "duration": 271,
    "start_time": "2022-09-24T05:36:54.597Z"
   },
   {
    "duration": 14,
    "start_time": "2022-09-24T05:36:54.870Z"
   },
   {
    "duration": 27,
    "start_time": "2022-09-24T05:36:54.885Z"
   },
   {
    "duration": 16,
    "start_time": "2022-09-24T05:36:54.913Z"
   },
   {
    "duration": 34,
    "start_time": "2022-09-24T05:36:54.930Z"
   },
   {
    "duration": 13,
    "start_time": "2022-09-24T05:36:54.965Z"
   },
   {
    "duration": 13,
    "start_time": "2022-09-24T05:36:54.980Z"
   },
   {
    "duration": 15,
    "start_time": "2022-09-24T05:36:54.995Z"
   },
   {
    "duration": 4,
    "start_time": "2022-09-24T05:36:55.011Z"
   },
   {
    "duration": 39,
    "start_time": "2022-09-24T05:36:55.017Z"
   },
   {
    "duration": 14,
    "start_time": "2022-09-24T05:36:55.058Z"
   },
   {
    "duration": 15,
    "start_time": "2022-09-24T05:36:55.073Z"
   },
   {
    "duration": 11,
    "start_time": "2022-09-24T05:36:55.090Z"
   },
   {
    "duration": 6,
    "start_time": "2022-09-24T05:36:55.103Z"
   },
   {
    "duration": 25,
    "start_time": "2022-09-24T05:36:55.110Z"
   },
   {
    "duration": 8,
    "start_time": "2022-09-24T05:36:55.153Z"
   },
   {
    "duration": 4,
    "start_time": "2022-09-24T05:38:16.682Z"
   },
   {
    "duration": 14,
    "start_time": "2022-09-24T05:38:29.547Z"
   },
   {
    "duration": 9,
    "start_time": "2022-09-24T05:39:28.846Z"
   },
   {
    "duration": 1132,
    "start_time": "2022-09-24T05:39:35.672Z"
   },
   {
    "duration": 80,
    "start_time": "2022-09-24T05:39:36.806Z"
   },
   {
    "duration": 3,
    "start_time": "2022-09-24T05:39:36.888Z"
   },
   {
    "duration": 19,
    "start_time": "2022-09-24T05:39:36.893Z"
   },
   {
    "duration": 16,
    "start_time": "2022-09-24T05:39:36.913Z"
   },
   {
    "duration": 25,
    "start_time": "2022-09-24T05:39:36.930Z"
   },
   {
    "duration": 9,
    "start_time": "2022-09-24T05:39:36.956Z"
   },
   {
    "duration": 23,
    "start_time": "2022-09-24T05:39:36.966Z"
   },
   {
    "duration": 199,
    "start_time": "2022-09-24T05:39:36.990Z"
   },
   {
    "duration": 16,
    "start_time": "2022-09-24T05:39:37.193Z"
   },
   {
    "duration": 521,
    "start_time": "2022-09-24T05:39:37.211Z"
   },
   {
    "duration": 498,
    "start_time": "2022-09-24T05:39:37.734Z"
   },
   {
    "duration": 32,
    "start_time": "2022-09-24T05:39:38.234Z"
   },
   {
    "duration": 165,
    "start_time": "2022-09-24T05:39:38.268Z"
   },
   {
    "duration": 174,
    "start_time": "2022-09-24T05:39:38.435Z"
   },
   {
    "duration": 252,
    "start_time": "2022-09-24T05:39:38.611Z"
   },
   {
    "duration": 188,
    "start_time": "2022-09-24T05:39:38.866Z"
   },
   {
    "duration": 167,
    "start_time": "2022-09-24T05:39:39.056Z"
   },
   {
    "duration": 171,
    "start_time": "2022-09-24T05:39:39.225Z"
   },
   {
    "duration": 169,
    "start_time": "2022-09-24T05:39:39.398Z"
   },
   {
    "duration": 160,
    "start_time": "2022-09-24T05:39:39.569Z"
   },
   {
    "duration": 165,
    "start_time": "2022-09-24T05:39:39.732Z"
   },
   {
    "duration": 164,
    "start_time": "2022-09-24T05:39:39.899Z"
   },
   {
    "duration": 129,
    "start_time": "2022-09-24T05:39:40.065Z"
   },
   {
    "duration": 116,
    "start_time": "2022-09-24T05:39:40.197Z"
   },
   {
    "duration": 116,
    "start_time": "2022-09-24T05:39:40.316Z"
   },
   {
    "duration": 120,
    "start_time": "2022-09-24T05:39:40.434Z"
   },
   {
    "duration": 219,
    "start_time": "2022-09-24T05:39:40.558Z"
   },
   {
    "duration": 129,
    "start_time": "2022-09-24T05:39:40.779Z"
   },
   {
    "duration": 115,
    "start_time": "2022-09-24T05:39:40.910Z"
   },
   {
    "duration": 314,
    "start_time": "2022-09-24T05:39:41.027Z"
   },
   {
    "duration": 380,
    "start_time": "2022-09-24T05:39:41.344Z"
   },
   {
    "duration": 318,
    "start_time": "2022-09-24T05:39:41.726Z"
   },
   {
    "duration": 339,
    "start_time": "2022-09-24T05:39:42.046Z"
   },
   {
    "duration": 332,
    "start_time": "2022-09-24T05:39:42.388Z"
   },
   {
    "duration": 390,
    "start_time": "2022-09-24T05:39:42.722Z"
   },
   {
    "duration": 277,
    "start_time": "2022-09-24T05:39:43.114Z"
   },
   {
    "duration": 14,
    "start_time": "2022-09-24T05:39:43.393Z"
   },
   {
    "duration": 12,
    "start_time": "2022-09-24T05:39:43.409Z"
   },
   {
    "duration": 32,
    "start_time": "2022-09-24T05:39:43.423Z"
   },
   {
    "duration": 15,
    "start_time": "2022-09-24T05:39:43.456Z"
   },
   {
    "duration": 14,
    "start_time": "2022-09-24T05:39:43.473Z"
   },
   {
    "duration": 14,
    "start_time": "2022-09-24T05:39:43.489Z"
   },
   {
    "duration": 13,
    "start_time": "2022-09-24T05:39:43.505Z"
   },
   {
    "duration": 15,
    "start_time": "2022-09-24T05:39:43.553Z"
   },
   {
    "duration": 14,
    "start_time": "2022-09-24T05:39:43.571Z"
   },
   {
    "duration": 14,
    "start_time": "2022-09-24T05:39:43.586Z"
   },
   {
    "duration": 21,
    "start_time": "2022-09-24T05:39:43.602Z"
   },
   {
    "duration": 29,
    "start_time": "2022-09-24T05:39:43.625Z"
   },
   {
    "duration": 24,
    "start_time": "2022-09-24T05:39:43.656Z"
   },
   {
    "duration": 8,
    "start_time": "2022-09-24T05:39:43.682Z"
   },
   {
    "duration": 5,
    "start_time": "2022-09-24T05:48:12.455Z"
   },
   {
    "duration": 6,
    "start_time": "2022-09-24T05:51:46.851Z"
   },
   {
    "duration": 6,
    "start_time": "2022-09-24T05:51:58.682Z"
   },
   {
    "duration": 182,
    "start_time": "2022-09-24T05:59:42.870Z"
   },
   {
    "duration": 289,
    "start_time": "2022-09-24T06:01:36.496Z"
   },
   {
    "duration": 103,
    "start_time": "2022-09-24T06:01:50.920Z"
   },
   {
    "duration": 297,
    "start_time": "2022-09-24T06:01:58.457Z"
   },
   {
    "duration": 296,
    "start_time": "2022-09-24T06:02:07.008Z"
   },
   {
    "duration": 181,
    "start_time": "2022-09-24T06:02:21.225Z"
   },
   {
    "duration": 187,
    "start_time": "2022-09-24T06:03:06.456Z"
   },
   {
    "duration": 1137,
    "start_time": "2022-09-24T06:06:34.591Z"
   },
   {
    "duration": 77,
    "start_time": "2022-09-24T06:06:35.730Z"
   },
   {
    "duration": 3,
    "start_time": "2022-09-24T06:06:35.809Z"
   },
   {
    "duration": 18,
    "start_time": "2022-09-24T06:06:35.814Z"
   },
   {
    "duration": 31,
    "start_time": "2022-09-24T06:06:35.833Z"
   },
   {
    "duration": 6,
    "start_time": "2022-09-24T06:06:35.866Z"
   },
   {
    "duration": 15,
    "start_time": "2022-09-24T06:06:35.874Z"
   },
   {
    "duration": 20,
    "start_time": "2022-09-24T06:06:35.891Z"
   },
   {
    "duration": 207,
    "start_time": "2022-09-24T06:06:35.913Z"
   },
   {
    "duration": 15,
    "start_time": "2022-09-24T06:06:36.124Z"
   },
   {
    "duration": 532,
    "start_time": "2022-09-24T06:06:36.141Z"
   },
   {
    "duration": 522,
    "start_time": "2022-09-24T06:06:36.675Z"
   },
   {
    "duration": 21,
    "start_time": "2022-09-24T06:06:37.200Z"
   },
   {
    "duration": 190,
    "start_time": "2022-09-24T06:06:37.223Z"
   },
   {
    "duration": 193,
    "start_time": "2022-09-24T06:06:37.414Z"
   },
   {
    "duration": 273,
    "start_time": "2022-09-24T06:06:37.608Z"
   },
   {
    "duration": 191,
    "start_time": "2022-09-24T06:06:37.882Z"
   },
   {
    "duration": 184,
    "start_time": "2022-09-24T06:06:38.074Z"
   },
   {
    "duration": 182,
    "start_time": "2022-09-24T06:06:38.260Z"
   },
   {
    "duration": 177,
    "start_time": "2022-09-24T06:06:38.444Z"
   },
   {
    "duration": 184,
    "start_time": "2022-09-24T06:06:38.623Z"
   },
   {
    "duration": 181,
    "start_time": "2022-09-24T06:06:38.809Z"
   },
   {
    "duration": 174,
    "start_time": "2022-09-24T06:06:38.992Z"
   },
   {
    "duration": 125,
    "start_time": "2022-09-24T06:06:39.168Z"
   },
   {
    "duration": 125,
    "start_time": "2022-09-24T06:06:39.295Z"
   },
   {
    "duration": 134,
    "start_time": "2022-09-24T06:06:39.422Z"
   },
   {
    "duration": 118,
    "start_time": "2022-09-24T06:06:39.558Z"
   },
   {
    "duration": 218,
    "start_time": "2022-09-24T06:06:39.680Z"
   },
   {
    "duration": 122,
    "start_time": "2022-09-24T06:06:39.899Z"
   },
   {
    "duration": 120,
    "start_time": "2022-09-24T06:06:40.023Z"
   },
   {
    "duration": 307,
    "start_time": "2022-09-24T06:06:40.153Z"
   },
   {
    "duration": 318,
    "start_time": "2022-09-24T06:06:40.462Z"
   },
   {
    "duration": 313,
    "start_time": "2022-09-24T06:06:40.782Z"
   },
   {
    "duration": 350,
    "start_time": "2022-09-24T06:06:41.097Z"
   },
   {
    "duration": 477,
    "start_time": "2022-09-24T06:06:41.455Z"
   },
   {
    "duration": 306,
    "start_time": "2022-09-24T06:06:41.934Z"
   },
   {
    "duration": 270,
    "start_time": "2022-09-24T06:06:42.242Z"
   },
   {
    "duration": 14,
    "start_time": "2022-09-24T06:06:42.514Z"
   },
   {
    "duration": 30,
    "start_time": "2022-09-24T06:06:42.530Z"
   },
   {
    "duration": 15,
    "start_time": "2022-09-24T06:06:42.561Z"
   },
   {
    "duration": 22,
    "start_time": "2022-09-24T06:06:42.578Z"
   },
   {
    "duration": 17,
    "start_time": "2022-09-24T06:06:42.601Z"
   },
   {
    "duration": 34,
    "start_time": "2022-09-24T06:06:42.620Z"
   },
   {
    "duration": 17,
    "start_time": "2022-09-24T06:06:42.656Z"
   },
   {
    "duration": 21,
    "start_time": "2022-09-24T06:06:42.675Z"
   },
   {
    "duration": 26,
    "start_time": "2022-09-24T06:06:42.698Z"
   },
   {
    "duration": 30,
    "start_time": "2022-09-24T06:06:42.725Z"
   },
   {
    "duration": 21,
    "start_time": "2022-09-24T06:06:42.756Z"
   },
   {
    "duration": 13,
    "start_time": "2022-09-24T06:06:42.778Z"
   },
   {
    "duration": 20,
    "start_time": "2022-09-24T06:06:42.792Z"
   },
   {
    "duration": 11,
    "start_time": "2022-09-24T06:06:42.814Z"
   },
   {
    "duration": 1232,
    "start_time": "2022-09-24T07:30:36.971Z"
   },
   {
    "duration": 117,
    "start_time": "2022-09-24T07:30:38.205Z"
   },
   {
    "duration": 3,
    "start_time": "2022-09-24T07:30:38.324Z"
   },
   {
    "duration": 14,
    "start_time": "2022-09-24T07:30:38.329Z"
   },
   {
    "duration": 13,
    "start_time": "2022-09-24T07:30:38.345Z"
   },
   {
    "duration": 5,
    "start_time": "2022-09-24T07:30:38.359Z"
   },
   {
    "duration": 10,
    "start_time": "2022-09-24T07:30:38.365Z"
   },
   {
    "duration": 18,
    "start_time": "2022-09-24T07:30:38.376Z"
   },
   {
    "duration": 186,
    "start_time": "2022-09-24T07:30:38.396Z"
   },
   {
    "duration": 13,
    "start_time": "2022-09-24T07:30:38.586Z"
   },
   {
    "duration": 484,
    "start_time": "2022-09-24T07:30:38.601Z"
   },
   {
    "duration": 455,
    "start_time": "2022-09-24T07:30:39.086Z"
   },
   {
    "duration": 17,
    "start_time": "2022-09-24T07:30:39.543Z"
   },
   {
    "duration": 169,
    "start_time": "2022-09-24T07:30:39.561Z"
   },
   {
    "duration": 162,
    "start_time": "2022-09-24T07:30:39.733Z"
   },
   {
    "duration": 217,
    "start_time": "2022-09-24T07:30:39.897Z"
   },
   {
    "duration": 166,
    "start_time": "2022-09-24T07:30:40.115Z"
   },
   {
    "duration": 153,
    "start_time": "2022-09-24T07:30:40.282Z"
   },
   {
    "duration": 160,
    "start_time": "2022-09-24T07:30:40.437Z"
   },
   {
    "duration": 145,
    "start_time": "2022-09-24T07:30:40.599Z"
   },
   {
    "duration": 160,
    "start_time": "2022-09-24T07:30:40.747Z"
   },
   {
    "duration": 157,
    "start_time": "2022-09-24T07:30:40.909Z"
   },
   {
    "duration": 159,
    "start_time": "2022-09-24T07:30:41.067Z"
   },
   {
    "duration": 92,
    "start_time": "2022-09-24T07:30:41.232Z"
   },
   {
    "duration": 87,
    "start_time": "2022-09-24T07:30:41.333Z"
   },
   {
    "duration": 103,
    "start_time": "2022-09-24T07:30:41.434Z"
   },
   {
    "duration": 110,
    "start_time": "2022-09-24T07:30:41.538Z"
   },
   {
    "duration": 182,
    "start_time": "2022-09-24T07:30:41.651Z"
   },
   {
    "duration": 103,
    "start_time": "2022-09-24T07:30:41.835Z"
   },
   {
    "duration": 102,
    "start_time": "2022-09-24T07:30:41.940Z"
   },
   {
    "duration": 290,
    "start_time": "2022-09-24T07:30:42.043Z"
   },
   {
    "duration": 283,
    "start_time": "2022-09-24T07:30:42.335Z"
   },
   {
    "duration": 271,
    "start_time": "2022-09-24T07:30:42.620Z"
   },
   {
    "duration": 296,
    "start_time": "2022-09-24T07:30:42.893Z"
   },
   {
    "duration": 264,
    "start_time": "2022-09-24T07:30:43.191Z"
   },
   {
    "duration": 341,
    "start_time": "2022-09-24T07:30:43.457Z"
   },
   {
    "duration": 241,
    "start_time": "2022-09-24T07:30:43.800Z"
   },
   {
    "duration": 12,
    "start_time": "2022-09-24T07:30:44.042Z"
   },
   {
    "duration": 13,
    "start_time": "2022-09-24T07:30:44.056Z"
   },
   {
    "duration": 12,
    "start_time": "2022-09-24T07:30:44.071Z"
   },
   {
    "duration": 13,
    "start_time": "2022-09-24T07:30:44.084Z"
   },
   {
    "duration": 35,
    "start_time": "2022-09-24T07:30:44.099Z"
   },
   {
    "duration": 11,
    "start_time": "2022-09-24T07:30:44.135Z"
   },
   {
    "duration": 12,
    "start_time": "2022-09-24T07:30:44.147Z"
   },
   {
    "duration": 15,
    "start_time": "2022-09-24T07:30:44.161Z"
   },
   {
    "duration": 15,
    "start_time": "2022-09-24T07:30:44.178Z"
   },
   {
    "duration": 40,
    "start_time": "2022-09-24T07:30:44.194Z"
   },
   {
    "duration": 10,
    "start_time": "2022-09-24T07:30:44.236Z"
   },
   {
    "duration": 7,
    "start_time": "2022-09-24T07:30:44.248Z"
   },
   {
    "duration": 11,
    "start_time": "2022-09-24T07:30:44.256Z"
   },
   {
    "duration": 5,
    "start_time": "2022-09-24T07:30:44.269Z"
   },
   {
    "duration": 1237,
    "start_time": "2022-09-24T13:13:14.650Z"
   },
   {
    "duration": 82,
    "start_time": "2022-09-24T13:13:15.889Z"
   },
   {
    "duration": 3,
    "start_time": "2022-09-24T13:13:15.973Z"
   },
   {
    "duration": 20,
    "start_time": "2022-09-24T13:13:15.978Z"
   },
   {
    "duration": 22,
    "start_time": "2022-09-24T13:13:16.000Z"
   },
   {
    "duration": 18,
    "start_time": "2022-09-24T13:13:16.024Z"
   },
   {
    "duration": 11,
    "start_time": "2022-09-24T13:13:16.047Z"
   },
   {
    "duration": 17,
    "start_time": "2022-09-24T13:13:16.060Z"
   },
   {
    "duration": 199,
    "start_time": "2022-09-24T13:13:16.079Z"
   },
   {
    "duration": 18,
    "start_time": "2022-09-24T13:13:16.281Z"
   },
   {
    "duration": 666,
    "start_time": "2022-09-24T13:13:16.303Z"
   },
   {
    "duration": 549,
    "start_time": "2022-09-24T13:13:16.972Z"
   },
   {
    "duration": 36,
    "start_time": "2022-09-24T13:13:17.523Z"
   },
   {
    "duration": 192,
    "start_time": "2022-09-24T13:13:17.561Z"
   },
   {
    "duration": 195,
    "start_time": "2022-09-24T13:13:17.755Z"
   },
   {
    "duration": 240,
    "start_time": "2022-09-24T13:13:17.959Z"
   },
   {
    "duration": 185,
    "start_time": "2022-09-24T13:13:18.202Z"
   },
   {
    "duration": 196,
    "start_time": "2022-09-24T13:13:18.389Z"
   },
   {
    "duration": 194,
    "start_time": "2022-09-24T13:13:18.587Z"
   },
   {
    "duration": 181,
    "start_time": "2022-09-24T13:13:18.782Z"
   },
   {
    "duration": 174,
    "start_time": "2022-09-24T13:13:18.965Z"
   },
   {
    "duration": 181,
    "start_time": "2022-09-24T13:13:19.148Z"
   },
   {
    "duration": 189,
    "start_time": "2022-09-24T13:13:19.331Z"
   },
   {
    "duration": 127,
    "start_time": "2022-09-24T13:13:19.522Z"
   },
   {
    "duration": 113,
    "start_time": "2022-09-24T13:13:19.652Z"
   },
   {
    "duration": 120,
    "start_time": "2022-09-24T13:13:19.767Z"
   },
   {
    "duration": 110,
    "start_time": "2022-09-24T13:13:19.889Z"
   },
   {
    "duration": 205,
    "start_time": "2022-09-24T13:13:20.003Z"
   },
   {
    "duration": 140,
    "start_time": "2022-09-24T13:13:20.210Z"
   },
   {
    "duration": 113,
    "start_time": "2022-09-24T13:13:20.352Z"
   },
   {
    "duration": 301,
    "start_time": "2022-09-24T13:13:20.467Z"
   },
   {
    "duration": 298,
    "start_time": "2022-09-24T13:13:20.770Z"
   },
   {
    "duration": 305,
    "start_time": "2022-09-24T13:13:21.070Z"
   },
   {
    "duration": 318,
    "start_time": "2022-09-24T13:13:21.376Z"
   },
   {
    "duration": 292,
    "start_time": "2022-09-24T13:13:21.695Z"
   },
   {
    "duration": 388,
    "start_time": "2022-09-24T13:13:21.989Z"
   },
   {
    "duration": 245,
    "start_time": "2022-09-24T13:13:22.378Z"
   },
   {
    "duration": 18,
    "start_time": "2022-09-24T13:13:22.633Z"
   },
   {
    "duration": 14,
    "start_time": "2022-09-24T13:13:22.653Z"
   },
   {
    "duration": 17,
    "start_time": "2022-09-24T13:13:22.668Z"
   },
   {
    "duration": 18,
    "start_time": "2022-09-24T13:13:22.687Z"
   },
   {
    "duration": 36,
    "start_time": "2022-09-24T13:13:22.706Z"
   },
   {
    "duration": 22,
    "start_time": "2022-09-24T13:13:22.747Z"
   },
   {
    "duration": 23,
    "start_time": "2022-09-24T13:13:22.770Z"
   },
   {
    "duration": 34,
    "start_time": "2022-09-24T13:13:22.794Z"
   },
   {
    "duration": 50,
    "start_time": "2022-09-24T13:13:22.829Z"
   },
   {
    "duration": 24,
    "start_time": "2022-09-24T13:13:22.881Z"
   },
   {
    "duration": 45,
    "start_time": "2022-09-24T13:13:22.907Z"
   },
   {
    "duration": 11,
    "start_time": "2022-09-24T13:13:22.954Z"
   },
   {
    "duration": 24,
    "start_time": "2022-09-24T13:13:22.967Z"
   },
   {
    "duration": 25,
    "start_time": "2022-09-24T13:13:22.992Z"
   },
   {
    "duration": 14,
    "start_time": "2022-09-24T13:48:10.350Z"
   },
   {
    "duration": 1064,
    "start_time": "2022-09-24T14:02:18.098Z"
   },
   {
    "duration": 82,
    "start_time": "2022-09-24T14:02:19.165Z"
   },
   {
    "duration": 3,
    "start_time": "2022-09-24T14:02:19.249Z"
   },
   {
    "duration": 22,
    "start_time": "2022-09-24T14:02:19.255Z"
   },
   {
    "duration": 13,
    "start_time": "2022-09-24T14:02:19.278Z"
   },
   {
    "duration": 5,
    "start_time": "2022-09-24T14:02:19.293Z"
   },
   {
    "duration": 14,
    "start_time": "2022-09-24T14:02:19.299Z"
   },
   {
    "duration": 27,
    "start_time": "2022-09-24T14:02:19.315Z"
   },
   {
    "duration": 196,
    "start_time": "2022-09-24T14:02:19.343Z"
   },
   {
    "duration": 14,
    "start_time": "2022-09-24T14:02:19.541Z"
   },
   {
    "duration": 522,
    "start_time": "2022-09-24T14:02:19.556Z"
   },
   {
    "duration": 470,
    "start_time": "2022-09-24T14:02:20.080Z"
   },
   {
    "duration": 17,
    "start_time": "2022-09-24T14:02:20.552Z"
   },
   {
    "duration": 164,
    "start_time": "2022-09-24T14:02:20.570Z"
   },
   {
    "duration": 162,
    "start_time": "2022-09-24T14:02:20.735Z"
   },
   {
    "duration": 224,
    "start_time": "2022-09-24T14:02:20.898Z"
   },
   {
    "duration": 164,
    "start_time": "2022-09-24T14:02:21.124Z"
   },
   {
    "duration": 163,
    "start_time": "2022-09-24T14:02:21.290Z"
   },
   {
    "duration": 160,
    "start_time": "2022-09-24T14:02:21.455Z"
   },
   {
    "duration": 151,
    "start_time": "2022-09-24T14:02:21.617Z"
   },
   {
    "duration": 159,
    "start_time": "2022-09-24T14:02:21.769Z"
   },
   {
    "duration": 163,
    "start_time": "2022-09-24T14:02:21.929Z"
   },
   {
    "duration": 163,
    "start_time": "2022-09-24T14:02:22.093Z"
   },
   {
    "duration": 114,
    "start_time": "2022-09-24T14:02:22.258Z"
   },
   {
    "duration": 109,
    "start_time": "2022-09-24T14:02:22.373Z"
   },
   {
    "duration": 101,
    "start_time": "2022-09-24T14:02:22.484Z"
   },
   {
    "duration": 93,
    "start_time": "2022-09-24T14:02:22.586Z"
   },
   {
    "duration": 179,
    "start_time": "2022-09-24T14:02:22.683Z"
   },
   {
    "duration": 111,
    "start_time": "2022-09-24T14:02:22.863Z"
   },
   {
    "duration": 106,
    "start_time": "2022-09-24T14:02:22.975Z"
   },
   {
    "duration": 291,
    "start_time": "2022-09-24T14:02:23.082Z"
   },
   {
    "duration": 280,
    "start_time": "2022-09-24T14:02:23.375Z"
   },
   {
    "duration": 281,
    "start_time": "2022-09-24T14:02:23.656Z"
   },
   {
    "duration": 311,
    "start_time": "2022-09-24T14:02:23.938Z"
   },
   {
    "duration": 273,
    "start_time": "2022-09-24T14:02:24.251Z"
   },
   {
    "duration": 346,
    "start_time": "2022-09-24T14:02:24.526Z"
   },
   {
    "duration": 244,
    "start_time": "2022-09-24T14:02:24.874Z"
   },
   {
    "duration": 23,
    "start_time": "2022-09-24T14:02:25.120Z"
   },
   {
    "duration": 17,
    "start_time": "2022-09-24T14:02:25.144Z"
   },
   {
    "duration": 12,
    "start_time": "2022-09-24T14:02:25.162Z"
   },
   {
    "duration": 18,
    "start_time": "2022-09-24T14:02:25.176Z"
   },
   {
    "duration": 16,
    "start_time": "2022-09-24T14:02:25.196Z"
   },
   {
    "duration": 33,
    "start_time": "2022-09-24T14:02:25.214Z"
   },
   {
    "duration": 16,
    "start_time": "2022-09-24T14:02:25.248Z"
   },
   {
    "duration": 13,
    "start_time": "2022-09-24T14:02:25.266Z"
   },
   {
    "duration": 26,
    "start_time": "2022-09-24T14:02:25.281Z"
   },
   {
    "duration": 26,
    "start_time": "2022-09-24T14:02:25.309Z"
   },
   {
    "duration": 19,
    "start_time": "2022-09-24T14:02:25.336Z"
   },
   {
    "duration": 10,
    "start_time": "2022-09-24T14:02:25.357Z"
   },
   {
    "duration": 14,
    "start_time": "2022-09-24T14:02:25.369Z"
   },
   {
    "duration": 10,
    "start_time": "2022-09-24T14:02:25.384Z"
   },
   {
    "duration": 81,
    "start_time": "2022-09-24T14:03:41.081Z"
   },
   {
    "duration": 23,
    "start_time": "2022-09-24T14:03:46.042Z"
   },
   {
    "duration": 144,
    "start_time": "2022-09-24T14:04:38.346Z"
   },
   {
    "duration": 95,
    "start_time": "2022-09-24T14:04:54.505Z"
   },
   {
    "duration": 144,
    "start_time": "2022-09-24T14:05:02.658Z"
   },
   {
    "duration": 153,
    "start_time": "2022-09-24T14:05:43.521Z"
   },
   {
    "duration": 150,
    "start_time": "2022-09-24T14:05:51.057Z"
   },
   {
    "duration": 169,
    "start_time": "2022-09-24T14:06:00.809Z"
   },
   {
    "duration": 3,
    "start_time": "2022-09-24T14:06:26.745Z"
   },
   {
    "duration": 165,
    "start_time": "2022-09-24T14:06:28.529Z"
   },
   {
    "duration": 3,
    "start_time": "2022-09-24T14:06:52.049Z"
   },
   {
    "duration": 157,
    "start_time": "2022-09-24T14:06:53.617Z"
   },
   {
    "duration": 157,
    "start_time": "2022-09-24T14:08:28.471Z"
   },
   {
    "duration": 3,
    "start_time": "2022-09-24T14:10:16.510Z"
   },
   {
    "duration": 151,
    "start_time": "2022-09-24T14:10:32.055Z"
   },
   {
    "duration": 2,
    "start_time": "2022-09-24T14:10:49.191Z"
   },
   {
    "duration": 151,
    "start_time": "2022-09-24T14:10:50.990Z"
   },
   {
    "duration": 53,
    "start_time": "2022-09-24T14:11:23.702Z"
   },
   {
    "duration": 55,
    "start_time": "2022-09-24T14:11:30.262Z"
   },
   {
    "duration": 69,
    "start_time": "2022-09-24T14:12:06.310Z"
   },
   {
    "duration": 67,
    "start_time": "2022-09-24T14:13:01.134Z"
   },
   {
    "duration": 46,
    "start_time": "2022-09-24T14:13:46.469Z"
   },
   {
    "duration": 51,
    "start_time": "2022-09-24T14:13:52.684Z"
   },
   {
    "duration": 56,
    "start_time": "2022-09-24T14:13:59.948Z"
   },
   {
    "duration": 155,
    "start_time": "2022-09-24T14:14:17.821Z"
   },
   {
    "duration": 61,
    "start_time": "2022-09-24T14:14:42.533Z"
   },
   {
    "duration": 55,
    "start_time": "2022-09-24T14:14:49.924Z"
   },
   {
    "duration": 152,
    "start_time": "2022-09-24T14:14:59.748Z"
   },
   {
    "duration": 218,
    "start_time": "2022-09-24T14:15:55.844Z"
   },
   {
    "duration": 157,
    "start_time": "2022-09-24T14:16:33.227Z"
   },
   {
    "duration": 126,
    "start_time": "2022-09-24T14:16:41.820Z"
   },
   {
    "duration": 151,
    "start_time": "2022-09-24T14:17:03.187Z"
   },
   {
    "duration": 157,
    "start_time": "2022-09-24T14:18:42.665Z"
   },
   {
    "duration": 148,
    "start_time": "2022-09-24T14:18:49.170Z"
   },
   {
    "duration": 170,
    "start_time": "2022-09-24T14:18:54.138Z"
   },
   {
    "duration": 142,
    "start_time": "2022-09-24T14:19:02.162Z"
   }
  ],
  "kernelspec": {
   "display_name": "Python 3 (ipykernel)",
   "language": "python",
   "name": "python3"
  },
  "language_info": {
   "codemirror_mode": {
    "name": "ipython",
    "version": 3
   },
   "file_extension": ".py",
   "mimetype": "text/x-python",
   "name": "python",
   "nbconvert_exporter": "python",
   "pygments_lexer": "ipython3",
   "version": "3.9.5"
  },
  "toc": {
   "base_numbering": 1,
   "nav_menu": {
    "height": "163px",
    "width": "168px"
   },
   "number_sections": true,
   "sideBar": true,
   "skip_h1_title": true,
   "title_cell": "Содержание",
   "title_sidebar": "Contents",
   "toc_cell": true,
   "toc_position": {
    "height": "calc(100% - 180px)",
    "left": "10px",
    "top": "150px",
    "width": "366.188px"
   },
   "toc_section_display": true,
   "toc_window_display": true
  }
 },
 "nbformat": 4,
 "nbformat_minor": 2
}
